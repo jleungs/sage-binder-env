{
 "cells": [
  {
   "cell_type": "code",
   "execution_count": 1,
   "id": "d9b2a9ab-7999-45c7-8e17-f5ad3f3429f8",
   "metadata": {},
   "outputs": [],
   "source": [
    "from sage.manifolds.operators import laplacian, grad"
   ]
  },
  {
   "cell_type": "code",
   "execution_count": 323,
   "id": "2e014e7c-bf67-49ce-ac57-6d7c17513f1b",
   "metadata": {
    "scrolled": true
   },
   "outputs": [
    {
     "data": {
      "text/html": [
       "<html>\\(\\displaystyle \\begin{array}{llcl} f:& \\mathbb{E}^{4} & \\longrightarrow & \\mathbb{R} \\\\ & \\left(x_{0}, x_{1}, x_{2}, x_{3}\\right) & \\longmapsto & \\frac{x_{0}^{3} + {\\left(x_{1}^{2} + x_{2}^{2} + x_{3}^{2}\\right)} x_{0}}{{\\left(x_{0}^{2} + x_{1}^{2} + x_{2}^{2} + x_{3}^{2}\\right)}^{4}} \\end{array}\\)</html>"
      ],
      "text/latex": [
       "$\\displaystyle \\begin{array}{llcl} f:& \\mathbb{E}^{4} & \\longrightarrow & \\mathbb{R} \\\\ & \\left(x_{0}, x_{1}, x_{2}, x_{3}\\right) & \\longmapsto & \\frac{x_{0}^{3} + {\\left(x_{1}^{2} + x_{2}^{2} + x_{3}^{2}\\right)} x_{0}}{{\\left(x_{0}^{2} + x_{1}^{2} + x_{2}^{2} + x_{3}^{2}\\right)}^{4}} \\end{array}$"
      ],
      "text/plain": [
       "f: E^4 → ℝ\n",
       "   (x0, x1, x2, x3) ↦ (x0^3 + (x1^2 + x2^2 + x3^2)*x0)/(x0^2 + x1^2 + x2^2 + x3^2)^4"
      ]
     },
     "metadata": {},
     "output_type": "display_data"
    },
    {
     "data": {
      "text/html": [
       "<html>\\(\\displaystyle \\begin{array}{llcl} \\Delta\\left(f\\right):& \\mathbb{E}^{4} & \\longrightarrow & \\mathbb{R} \\\\ & \\left(x_{0}, x_{1}, x_{2}, x_{3}\\right) & \\longmapsto & \\frac{12 \\, x_{0}}{x_{0}^{8} + 4 \\, x_{0}^{6} x_{1}^{2} + 6 \\, x_{0}^{4} x_{1}^{4} + 4 \\, x_{0}^{2} x_{1}^{6} + x_{1}^{8} + x_{2}^{8} + x_{3}^{8} + 4 \\, {\\left(x_{0}^{2} + x_{1}^{2}\\right)} x_{2}^{6} + 4 \\, {\\left(x_{0}^{2} + x_{1}^{2} + x_{2}^{2}\\right)} x_{3}^{6} + 6 \\, {\\left(x_{0}^{4} + 2 \\, x_{0}^{2} x_{1}^{2} + x_{1}^{4}\\right)} x_{2}^{4} + 6 \\, {\\left(x_{0}^{4} + 2 \\, x_{0}^{2} x_{1}^{2} + x_{1}^{4} + x_{2}^{4} + 2 \\, {\\left(x_{0}^{2} + x_{1}^{2}\\right)} x_{2}^{2}\\right)} x_{3}^{4} + 4 \\, {\\left(x_{0}^{6} + 3 \\, x_{0}^{4} x_{1}^{2} + 3 \\, x_{0}^{2} x_{1}^{4} + x_{1}^{6}\\right)} x_{2}^{2} + 4 \\, {\\left(x_{0}^{6} + 3 \\, x_{0}^{4} x_{1}^{2} + 3 \\, x_{0}^{2} x_{1}^{4} + x_{1}^{6} + x_{2}^{6} + 3 \\, {\\left(x_{0}^{2} + x_{1}^{2}\\right)} x_{2}^{4} + 3 \\, {\\left(x_{0}^{4} + 2 \\, x_{0}^{2} x_{1}^{2} + x_{1}^{4}\\right)} x_{2}^{2}\\right)} x_{3}^{2}} \\end{array}\\)</html>"
      ],
      "text/latex": [
       "$\\displaystyle \\begin{array}{llcl} \\Delta\\left(f\\right):& \\mathbb{E}^{4} & \\longrightarrow & \\mathbb{R} \\\\ & \\left(x_{0}, x_{1}, x_{2}, x_{3}\\right) & \\longmapsto & \\frac{12 \\, x_{0}}{x_{0}^{8} + 4 \\, x_{0}^{6} x_{1}^{2} + 6 \\, x_{0}^{4} x_{1}^{4} + 4 \\, x_{0}^{2} x_{1}^{6} + x_{1}^{8} + x_{2}^{8} + x_{3}^{8} + 4 \\, {\\left(x_{0}^{2} + x_{1}^{2}\\right)} x_{2}^{6} + 4 \\, {\\left(x_{0}^{2} + x_{1}^{2} + x_{2}^{2}\\right)} x_{3}^{6} + 6 \\, {\\left(x_{0}^{4} + 2 \\, x_{0}^{2} x_{1}^{2} + x_{1}^{4}\\right)} x_{2}^{4} + 6 \\, {\\left(x_{0}^{4} + 2 \\, x_{0}^{2} x_{1}^{2} + x_{1}^{4} + x_{2}^{4} + 2 \\, {\\left(x_{0}^{2} + x_{1}^{2}\\right)} x_{2}^{2}\\right)} x_{3}^{4} + 4 \\, {\\left(x_{0}^{6} + 3 \\, x_{0}^{4} x_{1}^{2} + 3 \\, x_{0}^{2} x_{1}^{4} + x_{1}^{6}\\right)} x_{2}^{2} + 4 \\, {\\left(x_{0}^{6} + 3 \\, x_{0}^{4} x_{1}^{2} + 3 \\, x_{0}^{2} x_{1}^{4} + x_{1}^{6} + x_{2}^{6} + 3 \\, {\\left(x_{0}^{2} + x_{1}^{2}\\right)} x_{2}^{4} + 3 \\, {\\left(x_{0}^{4} + 2 \\, x_{0}^{2} x_{1}^{2} + x_{1}^{4}\\right)} x_{2}^{2}\\right)} x_{3}^{2}} \\end{array}$"
      ],
      "text/plain": [
       "Delta(f): E^4 → ℝ\n",
       "   (x0, x1, x2, x3) ↦ 12*x0/(x0^8 + 4*x0^6*x1^2 + 6*x0^4*x1^4 + 4*x0^2*x1^6 + x1^8 + x2^8 + x3^8 + 4*(x0^2 + x1^2)*x2^6 + 4*(x0^2 + x1^2 + x2^2)*x3^6 + 6*(x0^4 + 2*x0^2*x1^2 + x1^4)*x2^4 + 6*(x0^4 + 2*x0^2*x1^2 + x1^4 + x2^4 + 2*(x0^2 + x1^2)*x2^2)*x3^4 + 4*(x0^6 + 3*x0^4*x1^2 + 3*x0^2*x1^4 + x1^6)*x2^2 + 4*(x0^6 + 3*x0^4*x1^2 + 3*x0^2*x1^4 + x1^6 + x2^6 + 3*(x0^2 + x1^2)*x2^4 + 3*(x0^4 + 2*x0^2*x1^2 + x1^4)*x2^2)*x3^2)"
      ]
     },
     "metadata": {},
     "output_type": "display_data"
    },
    {
     "data": {
      "text/html": [
       "<html>\\(\\displaystyle \\frac{3 \\, {\\left(x_{0}^{4} - 14 \\, x_{0}^{2} x_{1}^{2} + x_{1}^{4} + x_{2}^{4} + x_{3}^{4} - 2 \\, {\\left(7 \\, x_{0}^{2} - x_{1}^{2}\\right)} x_{2}^{2} - 2 \\, {\\left(7 \\, x_{0}^{2} - x_{1}^{2} - x_{2}^{2}\\right)} x_{3}^{2}\\right)}}{x_{0}^{16} + 8 \\, x_{0}^{14} x_{1}^{2} + 28 \\, x_{0}^{12} x_{1}^{4} + 56 \\, x_{0}^{10} x_{1}^{6} + 70 \\, x_{0}^{8} x_{1}^{8} + 56 \\, x_{0}^{6} x_{1}^{10} + 28 \\, x_{0}^{4} x_{1}^{12} + 8 \\, x_{0}^{2} x_{1}^{14} + x_{1}^{16} + x_{2}^{16} + x_{3}^{16} + 8 \\, {\\left(x_{0}^{2} + x_{1}^{2}\\right)} x_{2}^{14} + 8 \\, {\\left(x_{0}^{2} + x_{1}^{2} + x_{2}^{2}\\right)} x_{3}^{14} + 28 \\, {\\left(x_{0}^{4} + 2 \\, x_{0}^{2} x_{1}^{2} + x_{1}^{4}\\right)} x_{2}^{12} + 28 \\, {\\left(x_{0}^{4} + 2 \\, x_{0}^{2} x_{1}^{2} + x_{1}^{4} + x_{2}^{4} + 2 \\, {\\left(x_{0}^{2} + x_{1}^{2}\\right)} x_{2}^{2}\\right)} x_{3}^{12} + 56 \\, {\\left(x_{0}^{6} + 3 \\, x_{0}^{4} x_{1}^{2} + 3 \\, x_{0}^{2} x_{1}^{4} + x_{1}^{6}\\right)} x_{2}^{10} + 56 \\, {\\left(x_{0}^{6} + 3 \\, x_{0}^{4} x_{1}^{2} + 3 \\, x_{0}^{2} x_{1}^{4} + x_{1}^{6} + x_{2}^{6} + 3 \\, {\\left(x_{0}^{2} + x_{1}^{2}\\right)} x_{2}^{4} + 3 \\, {\\left(x_{0}^{4} + 2 \\, x_{0}^{2} x_{1}^{2} + x_{1}^{4}\\right)} x_{2}^{2}\\right)} x_{3}^{10} + 70 \\, {\\left(x_{0}^{8} + 4 \\, x_{0}^{6} x_{1}^{2} + 6 \\, x_{0}^{4} x_{1}^{4} + 4 \\, x_{0}^{2} x_{1}^{6} + x_{1}^{8}\\right)} x_{2}^{8} + 70 \\, {\\left(x_{0}^{8} + 4 \\, x_{0}^{6} x_{1}^{2} + 6 \\, x_{0}^{4} x_{1}^{4} + 4 \\, x_{0}^{2} x_{1}^{6} + x_{1}^{8} + x_{2}^{8} + 4 \\, {\\left(x_{0}^{2} + x_{1}^{2}\\right)} x_{2}^{6} + 6 \\, {\\left(x_{0}^{4} + 2 \\, x_{0}^{2} x_{1}^{2} + x_{1}^{4}\\right)} x_{2}^{4} + 4 \\, {\\left(x_{0}^{6} + 3 \\, x_{0}^{4} x_{1}^{2} + 3 \\, x_{0}^{2} x_{1}^{4} + x_{1}^{6}\\right)} x_{2}^{2}\\right)} x_{3}^{8} + 56 \\, {\\left(x_{0}^{10} + 5 \\, x_{0}^{8} x_{1}^{2} + 10 \\, x_{0}^{6} x_{1}^{4} + 10 \\, x_{0}^{4} x_{1}^{6} + 5 \\, x_{0}^{2} x_{1}^{8} + x_{1}^{10}\\right)} x_{2}^{6} + 56 \\, {\\left(x_{0}^{10} + 5 \\, x_{0}^{8} x_{1}^{2} + 10 \\, x_{0}^{6} x_{1}^{4} + 10 \\, x_{0}^{4} x_{1}^{6} + 5 \\, x_{0}^{2} x_{1}^{8} + x_{1}^{10} + x_{2}^{10} + 5 \\, {\\left(x_{0}^{2} + x_{1}^{2}\\right)} x_{2}^{8} + 10 \\, {\\left(x_{0}^{4} + 2 \\, x_{0}^{2} x_{1}^{2} + x_{1}^{4}\\right)} x_{2}^{6} + 10 \\, {\\left(x_{0}^{6} + 3 \\, x_{0}^{4} x_{1}^{2} + 3 \\, x_{0}^{2} x_{1}^{4} + x_{1}^{6}\\right)} x_{2}^{4} + 5 \\, {\\left(x_{0}^{8} + 4 \\, x_{0}^{6} x_{1}^{2} + 6 \\, x_{0}^{4} x_{1}^{4} + 4 \\, x_{0}^{2} x_{1}^{6} + x_{1}^{8}\\right)} x_{2}^{2}\\right)} x_{3}^{6} + 28 \\, {\\left(x_{0}^{12} + 6 \\, x_{0}^{10} x_{1}^{2} + 15 \\, x_{0}^{8} x_{1}^{4} + 20 \\, x_{0}^{6} x_{1}^{6} + 15 \\, x_{0}^{4} x_{1}^{8} + 6 \\, x_{0}^{2} x_{1}^{10} + x_{1}^{12}\\right)} x_{2}^{4} + 28 \\, {\\left(x_{0}^{12} + 6 \\, x_{0}^{10} x_{1}^{2} + 15 \\, x_{0}^{8} x_{1}^{4} + 20 \\, x_{0}^{6} x_{1}^{6} + 15 \\, x_{0}^{4} x_{1}^{8} + 6 \\, x_{0}^{2} x_{1}^{10} + x_{1}^{12} + x_{2}^{12} + 6 \\, {\\left(x_{0}^{2} + x_{1}^{2}\\right)} x_{2}^{10} + 15 \\, {\\left(x_{0}^{4} + 2 \\, x_{0}^{2} x_{1}^{2} + x_{1}^{4}\\right)} x_{2}^{8} + 20 \\, {\\left(x_{0}^{6} + 3 \\, x_{0}^{4} x_{1}^{2} + 3 \\, x_{0}^{2} x_{1}^{4} + x_{1}^{6}\\right)} x_{2}^{6} + 15 \\, {\\left(x_{0}^{8} + 4 \\, x_{0}^{6} x_{1}^{2} + 6 \\, x_{0}^{4} x_{1}^{4} + 4 \\, x_{0}^{2} x_{1}^{6} + x_{1}^{8}\\right)} x_{2}^{4} + 6 \\, {\\left(x_{0}^{10} + 5 \\, x_{0}^{8} x_{1}^{2} + 10 \\, x_{0}^{6} x_{1}^{4} + 10 \\, x_{0}^{4} x_{1}^{6} + 5 \\, x_{0}^{2} x_{1}^{8} + x_{1}^{10}\\right)} x_{2}^{2}\\right)} x_{3}^{4} + 8 \\, {\\left(x_{0}^{14} + 7 \\, x_{0}^{12} x_{1}^{2} + 21 \\, x_{0}^{10} x_{1}^{4} + 35 \\, x_{0}^{8} x_{1}^{6} + 35 \\, x_{0}^{6} x_{1}^{8} + 21 \\, x_{0}^{4} x_{1}^{10} + 7 \\, x_{0}^{2} x_{1}^{12} + x_{1}^{14}\\right)} x_{2}^{2} + 8 \\, {\\left(x_{0}^{14} + 7 \\, x_{0}^{12} x_{1}^{2} + 21 \\, x_{0}^{10} x_{1}^{4} + 35 \\, x_{0}^{8} x_{1}^{6} + 35 \\, x_{0}^{6} x_{1}^{8} + 21 \\, x_{0}^{4} x_{1}^{10} + 7 \\, x_{0}^{2} x_{1}^{12} + x_{1}^{14} + x_{2}^{14} + 7 \\, {\\left(x_{0}^{2} + x_{1}^{2}\\right)} x_{2}^{12} + 21 \\, {\\left(x_{0}^{4} + 2 \\, x_{0}^{2} x_{1}^{2} + x_{1}^{4}\\right)} x_{2}^{10} + 35 \\, {\\left(x_{0}^{6} + 3 \\, x_{0}^{4} x_{1}^{2} + 3 \\, x_{0}^{2} x_{1}^{4} + x_{1}^{6}\\right)} x_{2}^{8} + 35 \\, {\\left(x_{0}^{8} + 4 \\, x_{0}^{6} x_{1}^{2} + 6 \\, x_{0}^{4} x_{1}^{4} + 4 \\, x_{0}^{2} x_{1}^{6} + x_{1}^{8}\\right)} x_{2}^{6} + 21 \\, {\\left(x_{0}^{10} + 5 \\, x_{0}^{8} x_{1}^{2} + 10 \\, x_{0}^{6} x_{1}^{4} + 10 \\, x_{0}^{4} x_{1}^{6} + 5 \\, x_{0}^{2} x_{1}^{8} + x_{1}^{10}\\right)} x_{2}^{4} + 7 \\, {\\left(x_{0}^{12} + 6 \\, x_{0}^{10} x_{1}^{2} + 15 \\, x_{0}^{8} x_{1}^{4} + 20 \\, x_{0}^{6} x_{1}^{6} + 15 \\, x_{0}^{4} x_{1}^{8} + 6 \\, x_{0}^{2} x_{1}^{10} + x_{1}^{12}\\right)} x_{2}^{2}\\right)} x_{3}^{2}}\\)</html>"
      ],
      "text/latex": [
       "$\\displaystyle \\frac{3 \\, {\\left(x_{0}^{4} - 14 \\, x_{0}^{2} x_{1}^{2} + x_{1}^{4} + x_{2}^{4} + x_{3}^{4} - 2 \\, {\\left(7 \\, x_{0}^{2} - x_{1}^{2}\\right)} x_{2}^{2} - 2 \\, {\\left(7 \\, x_{0}^{2} - x_{1}^{2} - x_{2}^{2}\\right)} x_{3}^{2}\\right)}}{x_{0}^{16} + 8 \\, x_{0}^{14} x_{1}^{2} + 28 \\, x_{0}^{12} x_{1}^{4} + 56 \\, x_{0}^{10} x_{1}^{6} + 70 \\, x_{0}^{8} x_{1}^{8} + 56 \\, x_{0}^{6} x_{1}^{10} + 28 \\, x_{0}^{4} x_{1}^{12} + 8 \\, x_{0}^{2} x_{1}^{14} + x_{1}^{16} + x_{2}^{16} + x_{3}^{16} + 8 \\, {\\left(x_{0}^{2} + x_{1}^{2}\\right)} x_{2}^{14} + 8 \\, {\\left(x_{0}^{2} + x_{1}^{2} + x_{2}^{2}\\right)} x_{3}^{14} + 28 \\, {\\left(x_{0}^{4} + 2 \\, x_{0}^{2} x_{1}^{2} + x_{1}^{4}\\right)} x_{2}^{12} + 28 \\, {\\left(x_{0}^{4} + 2 \\, x_{0}^{2} x_{1}^{2} + x_{1}^{4} + x_{2}^{4} + 2 \\, {\\left(x_{0}^{2} + x_{1}^{2}\\right)} x_{2}^{2}\\right)} x_{3}^{12} + 56 \\, {\\left(x_{0}^{6} + 3 \\, x_{0}^{4} x_{1}^{2} + 3 \\, x_{0}^{2} x_{1}^{4} + x_{1}^{6}\\right)} x_{2}^{10} + 56 \\, {\\left(x_{0}^{6} + 3 \\, x_{0}^{4} x_{1}^{2} + 3 \\, x_{0}^{2} x_{1}^{4} + x_{1}^{6} + x_{2}^{6} + 3 \\, {\\left(x_{0}^{2} + x_{1}^{2}\\right)} x_{2}^{4} + 3 \\, {\\left(x_{0}^{4} + 2 \\, x_{0}^{2} x_{1}^{2} + x_{1}^{4}\\right)} x_{2}^{2}\\right)} x_{3}^{10} + 70 \\, {\\left(x_{0}^{8} + 4 \\, x_{0}^{6} x_{1}^{2} + 6 \\, x_{0}^{4} x_{1}^{4} + 4 \\, x_{0}^{2} x_{1}^{6} + x_{1}^{8}\\right)} x_{2}^{8} + 70 \\, {\\left(x_{0}^{8} + 4 \\, x_{0}^{6} x_{1}^{2} + 6 \\, x_{0}^{4} x_{1}^{4} + 4 \\, x_{0}^{2} x_{1}^{6} + x_{1}^{8} + x_{2}^{8} + 4 \\, {\\left(x_{0}^{2} + x_{1}^{2}\\right)} x_{2}^{6} + 6 \\, {\\left(x_{0}^{4} + 2 \\, x_{0}^{2} x_{1}^{2} + x_{1}^{4}\\right)} x_{2}^{4} + 4 \\, {\\left(x_{0}^{6} + 3 \\, x_{0}^{4} x_{1}^{2} + 3 \\, x_{0}^{2} x_{1}^{4} + x_{1}^{6}\\right)} x_{2}^{2}\\right)} x_{3}^{8} + 56 \\, {\\left(x_{0}^{10} + 5 \\, x_{0}^{8} x_{1}^{2} + 10 \\, x_{0}^{6} x_{1}^{4} + 10 \\, x_{0}^{4} x_{1}^{6} + 5 \\, x_{0}^{2} x_{1}^{8} + x_{1}^{10}\\right)} x_{2}^{6} + 56 \\, {\\left(x_{0}^{10} + 5 \\, x_{0}^{8} x_{1}^{2} + 10 \\, x_{0}^{6} x_{1}^{4} + 10 \\, x_{0}^{4} x_{1}^{6} + 5 \\, x_{0}^{2} x_{1}^{8} + x_{1}^{10} + x_{2}^{10} + 5 \\, {\\left(x_{0}^{2} + x_{1}^{2}\\right)} x_{2}^{8} + 10 \\, {\\left(x_{0}^{4} + 2 \\, x_{0}^{2} x_{1}^{2} + x_{1}^{4}\\right)} x_{2}^{6} + 10 \\, {\\left(x_{0}^{6} + 3 \\, x_{0}^{4} x_{1}^{2} + 3 \\, x_{0}^{2} x_{1}^{4} + x_{1}^{6}\\right)} x_{2}^{4} + 5 \\, {\\left(x_{0}^{8} + 4 \\, x_{0}^{6} x_{1}^{2} + 6 \\, x_{0}^{4} x_{1}^{4} + 4 \\, x_{0}^{2} x_{1}^{6} + x_{1}^{8}\\right)} x_{2}^{2}\\right)} x_{3}^{6} + 28 \\, {\\left(x_{0}^{12} + 6 \\, x_{0}^{10} x_{1}^{2} + 15 \\, x_{0}^{8} x_{1}^{4} + 20 \\, x_{0}^{6} x_{1}^{6} + 15 \\, x_{0}^{4} x_{1}^{8} + 6 \\, x_{0}^{2} x_{1}^{10} + x_{1}^{12}\\right)} x_{2}^{4} + 28 \\, {\\left(x_{0}^{12} + 6 \\, x_{0}^{10} x_{1}^{2} + 15 \\, x_{0}^{8} x_{1}^{4} + 20 \\, x_{0}^{6} x_{1}^{6} + 15 \\, x_{0}^{4} x_{1}^{8} + 6 \\, x_{0}^{2} x_{1}^{10} + x_{1}^{12} + x_{2}^{12} + 6 \\, {\\left(x_{0}^{2} + x_{1}^{2}\\right)} x_{2}^{10} + 15 \\, {\\left(x_{0}^{4} + 2 \\, x_{0}^{2} x_{1}^{2} + x_{1}^{4}\\right)} x_{2}^{8} + 20 \\, {\\left(x_{0}^{6} + 3 \\, x_{0}^{4} x_{1}^{2} + 3 \\, x_{0}^{2} x_{1}^{4} + x_{1}^{6}\\right)} x_{2}^{6} + 15 \\, {\\left(x_{0}^{8} + 4 \\, x_{0}^{6} x_{1}^{2} + 6 \\, x_{0}^{4} x_{1}^{4} + 4 \\, x_{0}^{2} x_{1}^{6} + x_{1}^{8}\\right)} x_{2}^{4} + 6 \\, {\\left(x_{0}^{10} + 5 \\, x_{0}^{8} x_{1}^{2} + 10 \\, x_{0}^{6} x_{1}^{4} + 10 \\, x_{0}^{4} x_{1}^{6} + 5 \\, x_{0}^{2} x_{1}^{8} + x_{1}^{10}\\right)} x_{2}^{2}\\right)} x_{3}^{4} + 8 \\, {\\left(x_{0}^{14} + 7 \\, x_{0}^{12} x_{1}^{2} + 21 \\, x_{0}^{10} x_{1}^{4} + 35 \\, x_{0}^{8} x_{1}^{6} + 35 \\, x_{0}^{6} x_{1}^{8} + 21 \\, x_{0}^{4} x_{1}^{10} + 7 \\, x_{0}^{2} x_{1}^{12} + x_{1}^{14}\\right)} x_{2}^{2} + 8 \\, {\\left(x_{0}^{14} + 7 \\, x_{0}^{12} x_{1}^{2} + 21 \\, x_{0}^{10} x_{1}^{4} + 35 \\, x_{0}^{8} x_{1}^{6} + 35 \\, x_{0}^{6} x_{1}^{8} + 21 \\, x_{0}^{4} x_{1}^{10} + 7 \\, x_{0}^{2} x_{1}^{12} + x_{1}^{14} + x_{2}^{14} + 7 \\, {\\left(x_{0}^{2} + x_{1}^{2}\\right)} x_{2}^{12} + 21 \\, {\\left(x_{0}^{4} + 2 \\, x_{0}^{2} x_{1}^{2} + x_{1}^{4}\\right)} x_{2}^{10} + 35 \\, {\\left(x_{0}^{6} + 3 \\, x_{0}^{4} x_{1}^{2} + 3 \\, x_{0}^{2} x_{1}^{4} + x_{1}^{6}\\right)} x_{2}^{8} + 35 \\, {\\left(x_{0}^{8} + 4 \\, x_{0}^{6} x_{1}^{2} + 6 \\, x_{0}^{4} x_{1}^{4} + 4 \\, x_{0}^{2} x_{1}^{6} + x_{1}^{8}\\right)} x_{2}^{6} + 21 \\, {\\left(x_{0}^{10} + 5 \\, x_{0}^{8} x_{1}^{2} + 10 \\, x_{0}^{6} x_{1}^{4} + 10 \\, x_{0}^{4} x_{1}^{6} + 5 \\, x_{0}^{2} x_{1}^{8} + x_{1}^{10}\\right)} x_{2}^{4} + 7 \\, {\\left(x_{0}^{12} + 6 \\, x_{0}^{10} x_{1}^{2} + 15 \\, x_{0}^{8} x_{1}^{4} + 20 \\, x_{0}^{6} x_{1}^{6} + 15 \\, x_{0}^{4} x_{1}^{8} + 6 \\, x_{0}^{2} x_{1}^{10} + x_{1}^{12}\\right)} x_{2}^{2}\\right)} x_{3}^{2}}$"
      ],
      "text/plain": [
       "3*(x0^4 - 14*x0^2*x1^2 + x1^4 + x2^4 + x3^4 - 2*(7*x0^2 - x1^2)*x2^2 - 2*(7*x0^2 - x1^2 - x2^2)*x3^2)/(x0^16 + 8*x0^14*x1^2 + 28*x0^12*x1^4 + 56*x0^10*x1^6 + 70*x0^8*x1^8 + 56*x0^6*x1^10 + 28*x0^4*x1^12 + 8*x0^2*x1^14 + x1^16 + x2^16 + x3^16 + 8*(x0^2 + x1^2)*x2^14 + 8*(x0^2 + x1^2 + x2^2)*x3^14 + 28*(x0^4 + 2*x0^2*x1^2 + x1^4)*x2^12 + 28*(x0^4 + 2*x0^2*x1^2 + x1^4 + x2^4 + 2*(x0^2 + x1^2)*x2^2)*x3^12 + 56*(x0^6 + 3*x0^4*x1^2 + 3*x0^2*x1^4 + x1^6)*x2^10 + 56*(x0^6 + 3*x0^4*x1^2 + 3*x0^2*x1^4 + x1^6 + x2^6 + 3*(x0^2 + x1^2)*x2^4 + 3*(x0^4 + 2*x0^2*x1^2 + x1^4)*x2^2)*x3^10 + 70*(x0^8 + 4*x0^6*x1^2 + 6*x0^4*x1^4 + 4*x0^2*x1^6 + x1^8)*x2^8 + 70*(x0^8 + 4*x0^6*x1^2 + 6*x0^4*x1^4 + 4*x0^2*x1^6 + x1^8 + x2^8 + 4*(x0^2 + x1^2)*x2^6 + 6*(x0^4 + 2*x0^2*x1^2 + x1^4)*x2^4 + 4*(x0^6 + 3*x0^4*x1^2 + 3*x0^2*x1^4 + x1^6)*x2^2)*x3^8 + 56*(x0^10 + 5*x0^8*x1^2 + 10*x0^6*x1^4 + 10*x0^4*x1^6 + 5*x0^2*x1^8 + x1^10)*x2^6 + 56*(x0^10 + 5*x0^8*x1^2 + 10*x0^6*x1^4 + 10*x0^4*x1^6 + 5*x0^2*x1^8 + x1^10 + x2^10 + 5*(x0^2 + x1^2)*x2^8 + 10*(x0^4 + 2*x0^2*x1^2 + x1^4)*x2^6 + 10*(x0^6 + 3*x0^4*x1^2 + 3*x0^2*x1^4 + x1^6)*x2^4 + 5*(x0^8 + 4*x0^6*x1^2 + 6*x0^4*x1^4 + 4*x0^2*x1^6 + x1^8)*x2^2)*x3^6 + 28*(x0^12 + 6*x0^10*x1^2 + 15*x0^8*x1^4 + 20*x0^6*x1^6 + 15*x0^4*x1^8 + 6*x0^2*x1^10 + x1^12)*x2^4 + 28*(x0^12 + 6*x0^10*x1^2 + 15*x0^8*x1^4 + 20*x0^6*x1^6 + 15*x0^4*x1^8 + 6*x0^2*x1^10 + x1^12 + x2^12 + 6*(x0^2 + x1^2)*x2^10 + 15*(x0^4 + 2*x0^2*x1^2 + x1^4)*x2^8 + 20*(x0^6 + 3*x0^4*x1^2 + 3*x0^2*x1^4 + x1^6)*x2^6 + 15*(x0^8 + 4*x0^6*x1^2 + 6*x0^4*x1^4 + 4*x0^2*x1^6 + x1^8)*x2^4 + 6*(x0^10 + 5*x0^8*x1^2 + 10*x0^6*x1^4 + 10*x0^4*x1^6 + 5*x0^2*x1^8 + x1^10)*x2^2)*x3^4 + 8*(x0^14 + 7*x0^12*x1^2 + 21*x0^10*x1^4 + 35*x0^8*x1^6 + 35*x0^6*x1^8 + 21*x0^4*x1^10 + 7*x0^2*x1^12 + x1^14)*x2^2 + 8*(x0^14 + 7*x0^12*x1^2 + 21*x0^10*x1^4 + 35*x0^8*x1^6 + 35*x0^6*x1^8 + 21*x0^4*x1^10 + 7*x0^2*x1^12 + x1^14 + x2^14 + 7*(x0^2 + x1^2)*x2^12 + 21*(x0^4 + 2*x0^2*x1^2 + x1^4)*x2^10 + 35*(x0^6 + 3*x0^4*x1^2 + 3*x0^2*x1^4 + x1^6)*x2^8 + 35*(x0^8 + 4*x0^6*x1^2 + 6*x0^4*x1^4 + 4*x0^2*x1^6 + x1^8)*x2^6 + 21*(x0^10 + 5*x0^8*x1^2 + 10*x0^6*x1^4 + 10*x0^4*x1^6 + 5*x0^2*x1^8 + x1^10)*x2^4 + 7*(x0^12 + 6*x0^10*x1^2 + 15*x0^8*x1^4 + 20*x0^6*x1^6 + 15*x0^4*x1^8 + 6*x0^2*x1^10 + x1^12)*x2^2)*x3^2)"
      ]
     },
     "metadata": {},
     "output_type": "display_data"
    }
   ],
   "source": [
    "# Computing the Laplacian\n",
    "E = EuclideanSpace(names=('x0', 'x1','x2', 'x3',)); (x0, x1, x2, x3,) = E._first_ngens(4)\n",
    "#f = E.scalar_field(4/(x0**2 + x1**2 + x2**2 + x3**2), name='f')\n",
    "#f = E.scalar_field(((1+sqrt(5)) * (x[0] + x[1] + x[2] + x[3])**3)/24, name='f')\n",
    "r2 = x0**2 + x1**2 + x2**2 + x3**2\n",
    "f = E.scalar_field((x0**3+x0*(x1**2+x2**2+x3**2))/r2**(8/2), name='f')\n",
    "#f = E.scalar_field(function('f')(x0,x1,x2,x3), name='f')\n",
    "\n",
    "grad_f = grad(f)\n",
    "lapl_f = laplacian(f)\n",
    "\n",
    "display(f.display())\n",
    "#display(grad_f.display())\n",
    "display(lapl_f.display())\n",
    "\n",
    "#display((3*f.expr().diff(x0)**2 - f.expr().diff(x1)**2 - f.expr().diff(x2)**2 - f.expr().diff(x3)**2))\n",
    "#display((f.expr().diff(x0).diff(x0) + f.expr().diff(x1).diff(x1) + f.expr().diff(x2).diff(x2) + f.expr().diff(x3).diff(x3)).full_simplify())\n",
    "display((3*f.expr().diff(x0)**2 - f.expr().diff(x1)**2 - f.expr().diff(x2)**2 - f.expr().diff(x3)**2 - f.expr()*(3*f.expr().diff(x0).diff(x0) + f.expr().diff(x1).diff(x1) + \\\n",
    "        f.expr().diff(x2).diff(x2) + f.expr().diff(x3).diff(x3))).full_simplify())\n",
    "#display((f.expr()*f.expr().diff(x0).diff(x1) + 2*f.expr().diff(x0)*f.expr().diff(x1)).full_simplify())"
   ]
  },
  {
   "cell_type": "code",
   "execution_count": null,
   "id": "cd283260-5c5b-472a-9108-c69eb7ae94f5",
   "metadata": {},
   "outputs": [],
   "source": []
  },
  {
   "cell_type": "code",
   "execution_count": 1,
   "id": "0e550ef1-7842-45b8-a344-4154d0ebb18d",
   "metadata": {},
   "outputs": [],
   "source": [
    "from sage.all import *\n",
    "from sage.manifolds.operators import laplacian, grad\n",
    "\n",
    "%display latex"
   ]
  },
  {
   "cell_type": "code",
   "execution_count": 2,
   "id": "03335599-4602-40e9-b89d-274cf767448b",
   "metadata": {},
   "outputs": [],
   "source": [
    "M = Manifold(Integer(4), 'M', field=\"real\")\n",
    "DIM = M.dim()\n",
    "x = tuple(f\"x{i}\" for i in range(DIM))\n",
    "U = M.chart(names=x)\n",
    "x = U._first_ngens(DIM) # makes M parallelizable\n",
    "\n",
    "norm_sq = x[0]**2 + x[1]**2 + x[2]**2 + x[3]**2 #+ x[4]**2 + x[5]**2\n",
    "\n",
    "frame = M.automorphism_field()\n",
    "#frame[:] = [[1/sqrt(function('f1')(x[0],x[1])),0,0,0], [0,1/sqrt(function('f1')(x[0],x[1])),0,0], [0,0,1/sqrt(function('f2')(x[2],x[3])),0], [0,0,0,1/sqrt(function('f2')(x[2],x[3]))]]\n",
    "#frame[:] = [[sqrt(x[0] + x[1])/2,0,0,0], [0,sqrt(x[0] + x[1])/2,0,0], [0,0,sqrt(x[2] + x[3])/2,0], [0,0,0,sqrt(x[2] + x[3])/2]]\n",
    "for i in range(DIM):\n",
    "    #frame[i,i] = 1/(sqrt(function('f')(x[0],x[1],x[2],x[3])))\n",
    "    frame[i,i] = sqrt(norm_sq)/2\n",
    "ed = M.default_frame().new_frame(frame, 'e') # orthonormal frame\n",
    "xd = M.frames()[0] # coordinate frame\n",
    "\n",
    "xu = xd.dual_basis()\n",
    "eu = ed.dual_basis()"
   ]
  },
  {
   "cell_type": "code",
   "execution_count": 3,
   "id": "77d27617-0dc9-49bc-94cc-9290efc58f30",
   "metadata": {},
   "outputs": [
    {
     "data": {
      "text/html": [
       "<html>\\(\\displaystyle e^{0} = \\left( \\frac{2}{\\sqrt{x_{0}^{2} + x_{1}^{2} + x_{2}^{2} + x_{3}^{2}}} \\right) \\mathrm{d} x_{0}\\)</html>"
      ],
      "text/latex": [
       "$\\displaystyle e^{0} = \\left( \\frac{2}{\\sqrt{x_{0}^{2} + x_{1}^{2} + x_{2}^{2} + x_{3}^{2}}} \\right) \\mathrm{d} x_{0}$"
      ],
      "text/plain": [
       "e^0 = 2/sqrt(x0^2 + x1^2 + x2^2 + x3^2) dx0"
      ]
     },
     "metadata": {},
     "output_type": "display_data"
    },
    {
     "data": {
      "text/html": [
       "<html>\\(\\displaystyle e^{1} = \\left( \\frac{2}{\\sqrt{x_{0}^{2} + x_{1}^{2} + x_{2}^{2} + x_{3}^{2}}} \\right) \\mathrm{d} x_{1}\\)</html>"
      ],
      "text/latex": [
       "$\\displaystyle e^{1} = \\left( \\frac{2}{\\sqrt{x_{0}^{2} + x_{1}^{2} + x_{2}^{2} + x_{3}^{2}}} \\right) \\mathrm{d} x_{1}$"
      ],
      "text/plain": [
       "e^1 = 2/sqrt(x0^2 + x1^2 + x2^2 + x3^2) dx1"
      ]
     },
     "metadata": {},
     "output_type": "display_data"
    },
    {
     "data": {
      "text/html": [
       "<html>\\(\\displaystyle e^{2} = \\left( \\frac{2}{\\sqrt{x_{0}^{2} + x_{1}^{2} + x_{2}^{2} + x_{3}^{2}}} \\right) \\mathrm{d} x_{2}\\)</html>"
      ],
      "text/latex": [
       "$\\displaystyle e^{2} = \\left( \\frac{2}{\\sqrt{x_{0}^{2} + x_{1}^{2} + x_{2}^{2} + x_{3}^{2}}} \\right) \\mathrm{d} x_{2}$"
      ],
      "text/plain": [
       "e^2 = 2/sqrt(x0^2 + x1^2 + x2^2 + x3^2) dx2"
      ]
     },
     "metadata": {},
     "output_type": "display_data"
    },
    {
     "data": {
      "text/html": [
       "<html>\\(\\displaystyle e^{3} = \\left( \\frac{2}{\\sqrt{x_{0}^{2} + x_{1}^{2} + x_{2}^{2} + x_{3}^{2}}} \\right) \\mathrm{d} x_{3}\\)</html>"
      ],
      "text/latex": [
       "$\\displaystyle e^{3} = \\left( \\frac{2}{\\sqrt{x_{0}^{2} + x_{1}^{2} + x_{2}^{2} + x_{3}^{2}}} \\right) \\mathrm{d} x_{3}$"
      ],
      "text/plain": [
       "e^3 = 2/sqrt(x0^2 + x1^2 + x2^2 + x3^2) dx3"
      ]
     },
     "metadata": {},
     "output_type": "display_data"
    }
   ],
   "source": [
    "for i in range(DIM):\n",
    "    display(eu[i].display())"
   ]
  },
  {
   "cell_type": "code",
   "execution_count": 4,
   "id": "560ce913-7a4b-418a-9c11-6cdebee4b676",
   "metadata": {},
   "outputs": [],
   "source": [
    "#print(ed.structure_coeff()[:])"
   ]
  },
  {
   "cell_type": "code",
   "execution_count": 5,
   "id": "6f0931c7-d6ed-436e-b6d3-b5efe863e343",
   "metadata": {},
   "outputs": [],
   "source": [
    "#from sage.manifolds.differentiable.all import *\n",
    "\n",
    "#xu = xd.dual_basis()\n",
    "#f = M.scalar_field(function('f')(x[0],x[1],x[2],x[3]), name='f')\n",
    "#F = f * (xu[0].wedge(xu[1]) + xu[2].wedge(xu[3]))\n",
    "#dF = F.derivative()\n",
    "#dF.display()"
   ]
  },
  {
   "cell_type": "code",
   "execution_count": 6,
   "id": "debe6ae5-98d9-4584-82db-2bd801a70ea7",
   "metadata": {},
   "outputs": [],
   "source": [
    "#F = M.diff_form(Integer(2), name=\"F\")\n",
    "#F[0,1], F[2,3] = 1/norm_sq, 1/norm_sq\n",
    "#F.display()"
   ]
  },
  {
   "cell_type": "code",
   "execution_count": 7,
   "id": "14ca9ce5-a55a-4c8c-9ebb-09840cbe2899",
   "metadata": {},
   "outputs": [],
   "source": [
    "#dF = F.derivative()\n",
    "#dF.display(ed)"
   ]
  },
  {
   "cell_type": "code",
   "execution_count": 8,
   "id": "ad4fb0a8-e8b9-4647-a07e-fff67adeb09a",
   "metadata": {},
   "outputs": [
    {
     "data": {
      "text/html": [
       "<html>\\(\\displaystyle J = \\frac{\\partial}{\\partial x_{0} }\\otimes \\mathrm{d} x_{1}-\\frac{\\partial}{\\partial x_{1} }\\otimes \\mathrm{d} x_{0}+\\frac{\\partial}{\\partial x_{2} }\\otimes \\mathrm{d} x_{3}-\\frac{\\partial}{\\partial x_{3} }\\otimes \\mathrm{d} x_{2}\\)</html>"
      ],
      "text/latex": [
       "$\\displaystyle J = \\frac{\\partial}{\\partial x_{0} }\\otimes \\mathrm{d} x_{1}-\\frac{\\partial}{\\partial x_{1} }\\otimes \\mathrm{d} x_{0}+\\frac{\\partial}{\\partial x_{2} }\\otimes \\mathrm{d} x_{3}-\\frac{\\partial}{\\partial x_{3} }\\otimes \\mathrm{d} x_{2}$"
      ],
      "text/plain": [
       "J = ∂/∂x0⊗dx1 - ∂/∂x1⊗dx0 + ∂/∂x2⊗dx3 - ∂/∂x3⊗dx2"
      ]
     },
     "execution_count": 8,
     "metadata": {},
     "output_type": "execute_result"
    }
   ],
   "source": [
    "J = M.tensor_field(1, 1, name='J')\n",
    "\n",
    "for i in range(DIM//2):\n",
    "    J[2*i, 2*i+1] = 1\n",
    "    J[2*i+1, 2*i] = -1\n",
    "\n",
    "J.display()"
   ]
  },
  {
   "cell_type": "code",
   "execution_count": 9,
   "id": "90fc32aa-b500-4b64-b94b-f8b856d3790a",
   "metadata": {},
   "outputs": [
    {
     "name": "stdout",
     "output_type": "stream",
     "text": [
      "J integrable: True\n"
     ]
    }
   ],
   "source": [
    "NJ = lambda X,Y: X.bracket(Y) + J(J(X).bracket(Y) + X.bracket(J(Y))) - J(X).bracket(Y)\n",
    "\n",
    "print(\"J integrable:\", all([NJ(xd[i],xd[j]).contract(xu[k]) == 0 for i in range(DIM) for j in range(DIM) for k in range(DIM)]))"
   ]
  },
  {
   "cell_type": "code",
   "execution_count": 10,
   "id": "3fc0dfb1-18ce-49fd-bd0a-6623006d5e1c",
   "metadata": {},
   "outputs": [
    {
     "data": {
      "text/html": [
       "<html>\\(\\displaystyle \\left(g = e^{0}\\otimes e^{0}+e^{1}\\otimes e^{1}+e^{2}\\otimes e^{2}+e^{3}\\otimes e^{3}, g = \\left( \\frac{4}{x_{0}^{2} + x_{1}^{2} + x_{2}^{2} + x_{3}^{2}} \\right) \\mathrm{d} x_{0}\\otimes \\mathrm{d} x_{0} + \\left( \\frac{4}{x_{0}^{2} + x_{1}^{2} + x_{2}^{2} + x_{3}^{2}} \\right) \\mathrm{d} x_{1}\\otimes \\mathrm{d} x_{1} + \\left( \\frac{4}{x_{0}^{2} + x_{1}^{2} + x_{2}^{2} + x_{3}^{2}} \\right) \\mathrm{d} x_{2}\\otimes \\mathrm{d} x_{2} + \\left( \\frac{4}{x_{0}^{2} + x_{1}^{2} + x_{2}^{2} + x_{3}^{2}} \\right) \\mathrm{d} x_{3}\\otimes \\mathrm{d} x_{3}\\right)\\)</html>"
      ],
      "text/latex": [
       "$\\displaystyle \\left(g = e^{0}\\otimes e^{0}+e^{1}\\otimes e^{1}+e^{2}\\otimes e^{2}+e^{3}\\otimes e^{3}, g = \\left( \\frac{4}{x_{0}^{2} + x_{1}^{2} + x_{2}^{2} + x_{3}^{2}} \\right) \\mathrm{d} x_{0}\\otimes \\mathrm{d} x_{0} + \\left( \\frac{4}{x_{0}^{2} + x_{1}^{2} + x_{2}^{2} + x_{3}^{2}} \\right) \\mathrm{d} x_{1}\\otimes \\mathrm{d} x_{1} + \\left( \\frac{4}{x_{0}^{2} + x_{1}^{2} + x_{2}^{2} + x_{3}^{2}} \\right) \\mathrm{d} x_{2}\\otimes \\mathrm{d} x_{2} + \\left( \\frac{4}{x_{0}^{2} + x_{1}^{2} + x_{2}^{2} + x_{3}^{2}} \\right) \\mathrm{d} x_{3}\\otimes \\mathrm{d} x_{3}\\right)$"
      ],
      "text/plain": [
       "(g = e^0⊗e^0 + e^1⊗e^1 + e^2⊗e^2 + e^3⊗e^3,\n",
       " g = 4/(x0^2 + x1^2 + x2^2 + x3^2) dx0⊗dx0 + 4/(x0^2 + x1^2 + x2^2 + x3^2) dx1⊗dx1 + 4/(x0^2 + x1^2 + x2^2 + x3^2) dx2⊗dx2 + 4/(x0^2 + x1^2 + x2^2 + x3^2) dx3⊗dx3)"
      ]
     },
     "execution_count": 10,
     "metadata": {},
     "output_type": "execute_result"
    }
   ],
   "source": [
    "g = M.metric(name='g')\n",
    "g[ed,:] = identity_matrix(DIM)\n",
    "g.display(ed), g.display()"
   ]
  },
  {
   "cell_type": "code",
   "execution_count": 11,
   "id": "e09fa6dc-135a-42eb-b1cd-c8247dd8c67e",
   "metadata": {},
   "outputs": [
    {
     "data": {
      "text/html": [
       "<html>\\(\\displaystyle F = \\left( -\\frac{4}{x_{0}^{2} + x_{1}^{2} + x_{2}^{2} + x_{3}^{2}} \\right) \\mathrm{d} x_{0}\\wedge \\mathrm{d} x_{1} + \\left( -\\frac{4}{x_{0}^{2} + x_{1}^{2} + x_{2}^{2} + x_{3}^{2}} \\right) \\mathrm{d} x_{2}\\wedge \\mathrm{d} x_{3}\\)</html>"
      ],
      "text/latex": [
       "$\\displaystyle F = \\left( -\\frac{4}{x_{0}^{2} + x_{1}^{2} + x_{2}^{2} + x_{3}^{2}} \\right) \\mathrm{d} x_{0}\\wedge \\mathrm{d} x_{1} + \\left( -\\frac{4}{x_{0}^{2} + x_{1}^{2} + x_{2}^{2} + x_{3}^{2}} \\right) \\mathrm{d} x_{2}\\wedge \\mathrm{d} x_{3}$"
      ],
      "text/plain": [
       "F = -4/(x0^2 + x1^2 + x2^2 + x3^2) dx0∧dx1 - 4/(x0^2 + x1^2 + x2^2 + x3^2) dx2∧dx3"
      ]
     },
     "metadata": {},
     "output_type": "display_data"
    },
    {
     "data": {
      "text/html": [
       "<html>\\(\\displaystyle F = -e^{0}\\wedge e^{1}-e^{2}\\wedge e^{3}\\)</html>"
      ],
      "text/latex": [
       "$\\displaystyle F = -e^{0}\\wedge e^{1}-e^{2}\\wedge e^{3}$"
      ],
      "text/plain": [
       "F = -e^0∧e^1 - e^2∧e^3"
      ]
     },
     "metadata": {},
     "output_type": "display_data"
    },
    {
     "data": {
      "text/html": [
       "<html>\\(\\displaystyle \\mathrm{d}F = \\left( \\frac{x_{2}}{\\sqrt{x_{0}^{2} + x_{1}^{2} + x_{2}^{2} + x_{3}^{2}}} \\right) e^{0}\\wedge e^{1}\\wedge e^{2} + \\left( \\frac{x_{3}}{\\sqrt{x_{0}^{2} + x_{1}^{2} + x_{2}^{2} + x_{3}^{2}}} \\right) e^{0}\\wedge e^{1}\\wedge e^{3} + \\left( \\frac{x_{0}}{\\sqrt{x_{0}^{2} + x_{1}^{2} + x_{2}^{2} + x_{3}^{2}}} \\right) e^{0}\\wedge e^{2}\\wedge e^{3} + \\left( \\frac{x_{1}}{\\sqrt{x_{0}^{2} + x_{1}^{2} + x_{2}^{2} + x_{3}^{2}}} \\right) e^{1}\\wedge e^{2}\\wedge e^{3}\\)</html>"
      ],
      "text/latex": [
       "$\\displaystyle \\mathrm{d}F = \\left( \\frac{x_{2}}{\\sqrt{x_{0}^{2} + x_{1}^{2} + x_{2}^{2} + x_{3}^{2}}} \\right) e^{0}\\wedge e^{1}\\wedge e^{2} + \\left( \\frac{x_{3}}{\\sqrt{x_{0}^{2} + x_{1}^{2} + x_{2}^{2} + x_{3}^{2}}} \\right) e^{0}\\wedge e^{1}\\wedge e^{3} + \\left( \\frac{x_{0}}{\\sqrt{x_{0}^{2} + x_{1}^{2} + x_{2}^{2} + x_{3}^{2}}} \\right) e^{0}\\wedge e^{2}\\wedge e^{3} + \\left( \\frac{x_{1}}{\\sqrt{x_{0}^{2} + x_{1}^{2} + x_{2}^{2} + x_{3}^{2}}} \\right) e^{1}\\wedge e^{2}\\wedge e^{3}$"
      ],
      "text/plain": [
       "dF = x2/sqrt(x0^2 + x1^2 + x2^2 + x3^2) e^0∧e^1∧e^2 + x3/sqrt(x0^2 + x1^2 + x2^2 + x3^2) e^0∧e^1∧e^3 + x0/sqrt(x0^2 + x1^2 + x2^2 + x3^2) e^0∧e^2∧e^3 + x1/sqrt(x0^2 + x1^2 + x2^2 + x3^2) e^1∧e^2∧e^3"
      ]
     },
     "metadata": {},
     "output_type": "display_data"
    }
   ],
   "source": [
    "F = M.diff_form(Integer(2), name=\"F\")\n",
    "for i in range(DIM):\n",
    "    for j in range(DIM):\n",
    "        F[ed, i, j] = g(J(ed[i]), ed[j])\n",
    "display(F.display())\n",
    "display(F.display(ed))\n",
    "dF = F.derivative()\n",
    "display(dF.display(ed))"
   ]
  },
  {
   "cell_type": "code",
   "execution_count": 12,
   "id": "ce8c42cd-e1a9-44a6-8919-4f773656b7d2",
   "metadata": {},
   "outputs": [
    {
     "name": "stdout",
     "output_type": "stream",
     "text": [
      "Kahler: False\n"
     ]
    }
   ],
   "source": [
    "print(\"Kahler:\", dF == 0)"
   ]
  },
  {
   "cell_type": "code",
   "execution_count": 13,
   "id": "6db5ba52-4ae9-4c51-bca7-ccf91f53299b",
   "metadata": {},
   "outputs": [
    {
     "data": {
      "text/html": [
       "<html>\\(\\displaystyle JdF = \\left( -\\frac{8 \\, x_{3}}{x_{0}^{4} + 2 \\, x_{0}^{2} x_{1}^{2} + x_{1}^{4} + x_{2}^{4} + x_{3}^{4} + 2 \\, {\\left(x_{0}^{2} + x_{1}^{2}\\right)} x_{2}^{2} + 2 \\, {\\left(x_{0}^{2} + x_{1}^{2} + x_{2}^{2}\\right)} x_{3}^{2}} \\right) \\mathrm{d} x_{0}\\wedge \\mathrm{d} x_{1}\\wedge \\mathrm{d} x_{2} + \\left( \\frac{8 \\, x_{2}}{x_{0}^{4} + 2 \\, x_{0}^{2} x_{1}^{2} + x_{1}^{4} + x_{2}^{4} + x_{3}^{4} + 2 \\, {\\left(x_{0}^{2} + x_{1}^{2}\\right)} x_{2}^{2} + 2 \\, {\\left(x_{0}^{2} + x_{1}^{2} + x_{2}^{2}\\right)} x_{3}^{2}} \\right) \\mathrm{d} x_{0}\\wedge \\mathrm{d} x_{1}\\wedge \\mathrm{d} x_{3} + \\left( -\\frac{8 \\, x_{1}}{x_{0}^{4} + 2 \\, x_{0}^{2} x_{1}^{2} + x_{1}^{4} + x_{2}^{4} + x_{3}^{4} + 2 \\, {\\left(x_{0}^{2} + x_{1}^{2}\\right)} x_{2}^{2} + 2 \\, {\\left(x_{0}^{2} + x_{1}^{2} + x_{2}^{2}\\right)} x_{3}^{2}} \\right) \\mathrm{d} x_{0}\\wedge \\mathrm{d} x_{2}\\wedge \\mathrm{d} x_{3} + \\left( \\frac{8 \\, x_{0}}{x_{0}^{4} + 2 \\, x_{0}^{2} x_{1}^{2} + x_{1}^{4} + x_{2}^{4} + x_{3}^{4} + 2 \\, {\\left(x_{0}^{2} + x_{1}^{2}\\right)} x_{2}^{2} + 2 \\, {\\left(x_{0}^{2} + x_{1}^{2} + x_{2}^{2}\\right)} x_{3}^{2}} \\right) \\mathrm{d} x_{1}\\wedge \\mathrm{d} x_{2}\\wedge \\mathrm{d} x_{3}\\)</html>"
      ],
      "text/latex": [
       "$\\displaystyle JdF = \\left( -\\frac{8 \\, x_{3}}{x_{0}^{4} + 2 \\, x_{0}^{2} x_{1}^{2} + x_{1}^{4} + x_{2}^{4} + x_{3}^{4} + 2 \\, {\\left(x_{0}^{2} + x_{1}^{2}\\right)} x_{2}^{2} + 2 \\, {\\left(x_{0}^{2} + x_{1}^{2} + x_{2}^{2}\\right)} x_{3}^{2}} \\right) \\mathrm{d} x_{0}\\wedge \\mathrm{d} x_{1}\\wedge \\mathrm{d} x_{2} + \\left( \\frac{8 \\, x_{2}}{x_{0}^{4} + 2 \\, x_{0}^{2} x_{1}^{2} + x_{1}^{4} + x_{2}^{4} + x_{3}^{4} + 2 \\, {\\left(x_{0}^{2} + x_{1}^{2}\\right)} x_{2}^{2} + 2 \\, {\\left(x_{0}^{2} + x_{1}^{2} + x_{2}^{2}\\right)} x_{3}^{2}} \\right) \\mathrm{d} x_{0}\\wedge \\mathrm{d} x_{1}\\wedge \\mathrm{d} x_{3} + \\left( -\\frac{8 \\, x_{1}}{x_{0}^{4} + 2 \\, x_{0}^{2} x_{1}^{2} + x_{1}^{4} + x_{2}^{4} + x_{3}^{4} + 2 \\, {\\left(x_{0}^{2} + x_{1}^{2}\\right)} x_{2}^{2} + 2 \\, {\\left(x_{0}^{2} + x_{1}^{2} + x_{2}^{2}\\right)} x_{3}^{2}} \\right) \\mathrm{d} x_{0}\\wedge \\mathrm{d} x_{2}\\wedge \\mathrm{d} x_{3} + \\left( \\frac{8 \\, x_{0}}{x_{0}^{4} + 2 \\, x_{0}^{2} x_{1}^{2} + x_{1}^{4} + x_{2}^{4} + x_{3}^{4} + 2 \\, {\\left(x_{0}^{2} + x_{1}^{2}\\right)} x_{2}^{2} + 2 \\, {\\left(x_{0}^{2} + x_{1}^{2} + x_{2}^{2}\\right)} x_{3}^{2}} \\right) \\mathrm{d} x_{1}\\wedge \\mathrm{d} x_{2}\\wedge \\mathrm{d} x_{3}$"
      ],
      "text/plain": [
       "JdF = -8*x3/(x0^4 + 2*x0^2*x1^2 + x1^4 + x2^4 + x3^4 + 2*(x0^2 + x1^2)*x2^2 + 2*(x0^2 + x1^2 + x2^2)*x3^2) dx0∧dx1∧dx2 + 8*x2/(x0^4 + 2*x0^2*x1^2 + x1^4 + x2^4 + x3^4 + 2*(x0^2 + x1^2)*x2^2 + 2*(x0^2 + x1^2 + x2^2)*x3^2) dx0∧dx1∧dx3 - 8*x1/(x0^4 + 2*x0^2*x1^2 + x1^4 + x2^4 + x3^4 + 2*(x0^2 + x1^2)*x2^2 + 2*(x0^2 + x1^2 + x2^2)*x3^2) dx0∧dx2∧dx3 + 8*x0/(x0^4 + 2*x0^2*x1^2 + x1^4 + x2^4 + x3^4 + 2*(x0^2 + x1^2)*x2^2 + 2*(x0^2 + x1^2 + x2^2)*x3^2) dx1∧dx2∧dx3"
      ]
     },
     "metadata": {},
     "output_type": "display_data"
    },
    {
     "name": "stdout",
     "output_type": "stream",
     "text": [
      "SKT: True\n"
     ]
    }
   ],
   "source": [
    "# check if SKT\n",
    "JdF = M.diff_form(Integer(3), name=\"JdF\")\n",
    "for i in range(DIM):\n",
    "    for j in range(i+1, DIM):\n",
    "        for k in range(j+1, DIM):\n",
    "            JdF[ed, i, j, k] = dF(J(ed[i]), J(ed[j]), J(ed[k]))\n",
    "display(JdF.display())\n",
    "print(\"SKT:\",JdF.derivative() == 0)"
   ]
  },
  {
   "cell_type": "code",
   "execution_count": 14,
   "id": "11645fd7-fe26-4fe9-bf02-edf5a4bac364",
   "metadata": {},
   "outputs": [
    {
     "data": {
      "text/html": [
       "<html>\\(\\displaystyle \\mathrm{d}JdF = 0\\)</html>"
      ],
      "text/latex": [
       "$\\displaystyle \\mathrm{d}JdF = 0$"
      ],
      "text/plain": [
       "dJdF = 0"
      ]
     },
     "execution_count": 14,
     "metadata": {},
     "output_type": "execute_result"
    }
   ],
   "source": [
    "JdF.derivative().display()"
   ]
  },
  {
   "cell_type": "code",
   "execution_count": 15,
   "id": "9d6abecd-6f72-4ecb-b803-b1ba6edf301f",
   "metadata": {},
   "outputs": [],
   "source": [
    "# levi-civita connection\n",
    "nab = g.connection()\n",
    "#nab.display(ed)"
   ]
  },
  {
   "cell_type": "code",
   "execution_count": 16,
   "id": "b549d425-a316-45f2-9941-740ec94f5d3a",
   "metadata": {},
   "outputs": [
    {
     "name": "stdout",
     "output_type": "stream",
     "text": [
      "nabla_g connection 1-form (0,0) = 0\n",
      "nabla_g connection 1-form (0,1) = -1/2*x1/sqrt(x0^2 + x1^2 + x2^2 + x3^2) e^0 + 1/2*x0/sqrt(x0^2 + x1^2 + x2^2 + x3^2) e^1\n",
      "nabla_g connection 1-form (0,2) = -1/2*x2/sqrt(x0^2 + x1^2 + x2^2 + x3^2) e^0 + 1/2*x0/sqrt(x0^2 + x1^2 + x2^2 + x3^2) e^2\n",
      "nabla_g connection 1-form (0,3) = -1/2*x3/sqrt(x0^2 + x1^2 + x2^2 + x3^2) e^0 + 1/2*x0/sqrt(x0^2 + x1^2 + x2^2 + x3^2) e^3\n",
      "nabla_g connection 1-form (1,0) = 1/2*x1/sqrt(x0^2 + x1^2 + x2^2 + x3^2) e^0 - 1/2*x0/sqrt(x0^2 + x1^2 + x2^2 + x3^2) e^1\n",
      "nabla_g connection 1-form (1,1) = 0\n",
      "nabla_g connection 1-form (1,2) = -1/2*x2/sqrt(x0^2 + x1^2 + x2^2 + x3^2) e^1 + 1/2*x1/sqrt(x0^2 + x1^2 + x2^2 + x3^2) e^2\n",
      "nabla_g connection 1-form (1,3) = -1/2*x3/sqrt(x0^2 + x1^2 + x2^2 + x3^2) e^1 + 1/2*x1/sqrt(x0^2 + x1^2 + x2^2 + x3^2) e^3\n",
      "nabla_g connection 1-form (2,0) = 1/2*x2/sqrt(x0^2 + x1^2 + x2^2 + x3^2) e^0 - 1/2*x0/sqrt(x0^2 + x1^2 + x2^2 + x3^2) e^2\n",
      "nabla_g connection 1-form (2,1) = 1/2*x2/sqrt(x0^2 + x1^2 + x2^2 + x3^2) e^1 - 1/2*x1/sqrt(x0^2 + x1^2 + x2^2 + x3^2) e^2\n",
      "nabla_g connection 1-form (2,2) = 0\n",
      "nabla_g connection 1-form (2,3) = -1/2*x3/sqrt(x0^2 + x1^2 + x2^2 + x3^2) e^2 + 1/2*x2/sqrt(x0^2 + x1^2 + x2^2 + x3^2) e^3\n",
      "nabla_g connection 1-form (3,0) = 1/2*x3/sqrt(x0^2 + x1^2 + x2^2 + x3^2) e^0 - 1/2*x0/sqrt(x0^2 + x1^2 + x2^2 + x3^2) e^3\n",
      "nabla_g connection 1-form (3,1) = 1/2*x3/sqrt(x0^2 + x1^2 + x2^2 + x3^2) e^1 - 1/2*x1/sqrt(x0^2 + x1^2 + x2^2 + x3^2) e^3\n",
      "nabla_g connection 1-form (3,2) = 1/2*x3/sqrt(x0^2 + x1^2 + x2^2 + x3^2) e^2 - 1/2*x2/sqrt(x0^2 + x1^2 + x2^2 + x3^2) e^3\n",
      "nabla_g connection 1-form (3,3) = 0\n"
     ]
    }
   ],
   "source": [
    "for i in range(DIM):\n",
    "    for j in range(DIM):\n",
    "        print(nab.connection_form(i,j,ed).display(ed))"
   ]
  },
  {
   "cell_type": "code",
   "execution_count": 17,
   "id": "f6a48ec1-da11-424c-bdcf-54c886243012",
   "metadata": {},
   "outputs": [],
   "source": [
    "#nab_B = M.affine_connection(\"nab_B\")\n",
    "\n",
    "#for i in range(DIM):\n",
    "#    for j in range(DIM):\n",
    "#        for k in range(DIM):\n",
    "#            nab_B[ed,i,j,k] = nab[ed,i,j,k] + (1/2) * dF(J(ed[i]),J(ed[j]),J(ed[k]))"
   ]
  },
  {
   "cell_type": "code",
   "execution_count": 18,
   "id": "7879b603-46f6-4c91-9e2c-70b18938013d",
   "metadata": {},
   "outputs": [],
   "source": [
    "nab_t = M.affine_connection(\"nab_t\")\n",
    "#t = 1 # Chern\n",
    "#t = 0 # first canonical\n",
    "t = -1 # Bismut\n",
    "\n",
    "for i in range(DIM):\n",
    "    for j in range(DIM):\n",
    "        for k in range(DIM):\n",
    "            nab_t[ed,i,j,k] = nab[ed,i,j,k] - ((1-t)/4)*dF(J(ed[i]),J(ed[j]),J(ed[k])) + ((1+t)/4)*dF(J(ed[i]),ed[j],ed[k]) #- (1/2)*NJ(xd[i],xd[j]).contract(xu[k])"
   ]
  },
  {
   "cell_type": "code",
   "execution_count": 19,
   "id": "1146fec4-a8ac-4663-a9d9-a9959980efc3",
   "metadata": {},
   "outputs": [],
   "source": [
    "#for i in range(DIM):\n",
    "#    for j in range(DIM):\n",
    "#        print(nab_B.connection_form(i,j,ed).display(ed))"
   ]
  },
  {
   "cell_type": "code",
   "execution_count": 20,
   "id": "fbc4d373-b83e-4122-94d0-7d67ccf2f971",
   "metadata": {},
   "outputs": [
    {
     "name": "stdout",
     "output_type": "stream",
     "text": [
      "nab_t connection 1-form (0,0) = 0\n",
      "nab_t connection 1-form (0,1) = -1/2*x1/sqrt(x0^2 + x1^2 + x2^2 + x3^2) e^0 + 1/2*x0/sqrt(x0^2 + x1^2 + x2^2 + x3^2) e^1 + 1/2*x3/sqrt(x0^2 + x1^2 + x2^2 + x3^2) e^2 - 1/2*x2/sqrt(x0^2 + x1^2 + x2^2 + x3^2) e^3\n",
      "nab_t connection 1-form (0,2) = -1/2*x2/sqrt(x0^2 + x1^2 + x2^2 + x3^2) e^0 - 1/2*x3/sqrt(x0^2 + x1^2 + x2^2 + x3^2) e^1 + 1/2*x0/sqrt(x0^2 + x1^2 + x2^2 + x3^2) e^2 + 1/2*x1/sqrt(x0^2 + x1^2 + x2^2 + x3^2) e^3\n",
      "nab_t connection 1-form (0,3) = -1/2*x3/sqrt(x0^2 + x1^2 + x2^2 + x3^2) e^0 + 1/2*x2/sqrt(x0^2 + x1^2 + x2^2 + x3^2) e^1 - 1/2*x1/sqrt(x0^2 + x1^2 + x2^2 + x3^2) e^2 + 1/2*x0/sqrt(x0^2 + x1^2 + x2^2 + x3^2) e^3\n",
      "nab_t connection 1-form (1,0) = 1/2*x1/sqrt(x0^2 + x1^2 + x2^2 + x3^2) e^0 - 1/2*x0/sqrt(x0^2 + x1^2 + x2^2 + x3^2) e^1 - 1/2*x3/sqrt(x0^2 + x1^2 + x2^2 + x3^2) e^2 + 1/2*x2/sqrt(x0^2 + x1^2 + x2^2 + x3^2) e^3\n",
      "nab_t connection 1-form (1,1) = 0\n",
      "nab_t connection 1-form (1,2) = 1/2*x3/sqrt(x0^2 + x1^2 + x2^2 + x3^2) e^0 - 1/2*x2/sqrt(x0^2 + x1^2 + x2^2 + x3^2) e^1 + 1/2*x1/sqrt(x0^2 + x1^2 + x2^2 + x3^2) e^2 - 1/2*x0/sqrt(x0^2 + x1^2 + x2^2 + x3^2) e^3\n",
      "nab_t connection 1-form (1,3) = -1/2*x2/sqrt(x0^2 + x1^2 + x2^2 + x3^2) e^0 - 1/2*x3/sqrt(x0^2 + x1^2 + x2^2 + x3^2) e^1 + 1/2*x0/sqrt(x0^2 + x1^2 + x2^2 + x3^2) e^2 + 1/2*x1/sqrt(x0^2 + x1^2 + x2^2 + x3^2) e^3\n",
      "nab_t connection 1-form (2,0) = 1/2*x2/sqrt(x0^2 + x1^2 + x2^2 + x3^2) e^0 + 1/2*x3/sqrt(x0^2 + x1^2 + x2^2 + x3^2) e^1 - 1/2*x0/sqrt(x0^2 + x1^2 + x2^2 + x3^2) e^2 - 1/2*x1/sqrt(x0^2 + x1^2 + x2^2 + x3^2) e^3\n",
      "nab_t connection 1-form (2,1) = -1/2*x3/sqrt(x0^2 + x1^2 + x2^2 + x3^2) e^0 + 1/2*x2/sqrt(x0^2 + x1^2 + x2^2 + x3^2) e^1 - 1/2*x1/sqrt(x0^2 + x1^2 + x2^2 + x3^2) e^2 + 1/2*x0/sqrt(x0^2 + x1^2 + x2^2 + x3^2) e^3\n",
      "nab_t connection 1-form (2,2) = 0\n",
      "nab_t connection 1-form (2,3) = 1/2*x1/sqrt(x0^2 + x1^2 + x2^2 + x3^2) e^0 - 1/2*x0/sqrt(x0^2 + x1^2 + x2^2 + x3^2) e^1 - 1/2*x3/sqrt(x0^2 + x1^2 + x2^2 + x3^2) e^2 + 1/2*x2/sqrt(x0^2 + x1^2 + x2^2 + x3^2) e^3\n",
      "nab_t connection 1-form (3,0) = 1/2*x3/sqrt(x0^2 + x1^2 + x2^2 + x3^2) e^0 - 1/2*x2/sqrt(x0^2 + x1^2 + x2^2 + x3^2) e^1 + 1/2*x1/sqrt(x0^2 + x1^2 + x2^2 + x3^2) e^2 - 1/2*x0/sqrt(x0^2 + x1^2 + x2^2 + x3^2) e^3\n",
      "nab_t connection 1-form (3,1) = 1/2*x2/sqrt(x0^2 + x1^2 + x2^2 + x3^2) e^0 + 1/2*x3/sqrt(x0^2 + x1^2 + x2^2 + x3^2) e^1 - 1/2*x0/sqrt(x0^2 + x1^2 + x2^2 + x3^2) e^2 - 1/2*x1/sqrt(x0^2 + x1^2 + x2^2 + x3^2) e^3\n",
      "nab_t connection 1-form (3,2) = -1/2*x1/sqrt(x0^2 + x1^2 + x2^2 + x3^2) e^0 + 1/2*x0/sqrt(x0^2 + x1^2 + x2^2 + x3^2) e^1 + 1/2*x3/sqrt(x0^2 + x1^2 + x2^2 + x3^2) e^2 - 1/2*x2/sqrt(x0^2 + x1^2 + x2^2 + x3^2) e^3\n",
      "nab_t connection 1-form (3,3) = 0\n"
     ]
    }
   ],
   "source": [
    "for i in range(DIM):\n",
    "    for j in range(DIM):\n",
    "        print(nab_t.connection_form(i,j,ed).display(ed))"
   ]
  },
  {
   "cell_type": "code",
   "execution_count": 21,
   "id": "a9f21371-84a8-4e9e-815b-0b4e4bd69996",
   "metadata": {},
   "outputs": [],
   "source": [
    "#nab_B.torsion().symmetries()"
   ]
  },
  {
   "cell_type": "code",
   "execution_count": 22,
   "id": "2174cf27-b86d-43d5-9fe2-f48c0a3dd36e",
   "metadata": {},
   "outputs": [
    {
     "data": {
      "text/html": [
       "<html>\\(\\displaystyle 0\\)</html>"
      ],
      "text/latex": [
       "$\\displaystyle 0$"
      ],
      "text/plain": [
       "0"
      ]
     },
     "execution_count": 22,
     "metadata": {},
     "output_type": "execute_result"
    }
   ],
   "source": [
    "# first Ricci curvature\n",
    "R = nab_t.riemann().down(g,0)\n",
    "first_Ric = 0 #M.tensor_field(0,2, name='first_Ric')\n",
    "\n",
    "for i in range(DIM):\n",
    "    first_Ric += (1/2) * R.contract(ed[i]).contract(J(ed[i]))\n",
    "\n",
    "first_Ric.display()"
   ]
  },
  {
   "cell_type": "code",
   "execution_count": 24,
   "id": "1d53d0dd-bf35-48c9-a399-8031de81c2cb",
   "metadata": {},
   "outputs": [
    {
     "data": {
      "text/html": [
       "<html>\\(\\displaystyle \\begin{array}{llcl} & M & \\longrightarrow & \\mathbb{R} \\\\ & \\left(x_{0}, x_{1}, x_{2}, x_{3}\\right) & \\longmapsto & 0 \\end{array}\\)</html>"
      ],
      "text/latex": [
       "$\\displaystyle \\begin{array}{llcl} & M & \\longrightarrow & \\mathbb{R} \\\\ & \\left(x_{0}, x_{1}, x_{2}, x_{3}\\right) & \\longmapsto & 0 \\end{array}$"
      ],
      "text/plain": [
       "M → ℝ\n",
       "(x0, x1, x2, x3) ↦ 0"
      ]
     },
     "execution_count": 24,
     "metadata": {},
     "output_type": "execute_result"
    }
   ],
   "source": [
    "# Streets scalar curvatures\n",
    "sum(first_Ric(ed[i],J(ed[i])) for i in (0,..,DIM-1)).display()"
   ]
  },
  {
   "cell_type": "code",
   "execution_count": null,
   "id": "48658f3b-fc6d-4d08-899d-20624e175579",
   "metadata": {},
   "outputs": [],
   "source": []
  },
  {
   "cell_type": "code",
   "execution_count": 55,
   "id": "a4510430-1838-453c-92bc-1983068014f3",
   "metadata": {},
   "outputs": [
    {
     "data": {
      "text/html": [
       "<html>\\(\\displaystyle \\left(x_{0}, x_{1}, x_{2}, x_{3}, x_{4}, x_{5}\\right) \\mapsto -\\frac{3 \\, \\left(\\frac{\\partial\\,f}{\\partial x_{0}}\\right)^{2} + 5 \\, f\\left(x_{0}, x_{1}, x_{2}, x_{3}\\right) \\frac{\\partial^2\\,f}{\\partial x_{0} ^ 2} + 3 \\, \\left(\\frac{\\partial\\,f}{\\partial x_{1}}\\right)^{2} + 5 \\, f\\left(x_{0}, x_{1}, x_{2}, x_{3}\\right) \\frac{\\partial^2\\,f}{\\partial x_{1} ^ 2} + 3 \\, \\left(\\frac{\\partial\\,f}{\\partial x_{2}}\\right)^{2} + 5 \\, f\\left(x_{0}, x_{1}, x_{2}, x_{3}\\right) \\frac{\\partial^2\\,f}{\\partial x_{2} ^ 2} + 3 \\, \\left(\\frac{\\partial\\,f}{\\partial x_{3}}\\right)^{2} + 5 \\, f\\left(x_{0}, x_{1}, x_{2}, x_{3}\\right) \\frac{\\partial^2\\,f}{\\partial x_{3} ^ 2}}{f\\left(x_{0}, x_{1}, x_{2}, x_{3}\\right)^{3}}\\)</html>"
      ],
      "text/latex": [
       "$\\displaystyle \\left(x_{0}, x_{1}, x_{2}, x_{3}, x_{4}, x_{5}\\right) \\mapsto -\\frac{3 \\, \\left(\\frac{\\partial\\,f}{\\partial x_{0}}\\right)^{2} + 5 \\, f\\left(x_{0}, x_{1}, x_{2}, x_{3}\\right) \\frac{\\partial^2\\,f}{\\partial x_{0} ^ 2} + 3 \\, \\left(\\frac{\\partial\\,f}{\\partial x_{1}}\\right)^{2} + 5 \\, f\\left(x_{0}, x_{1}, x_{2}, x_{3}\\right) \\frac{\\partial^2\\,f}{\\partial x_{1} ^ 2} + 3 \\, \\left(\\frac{\\partial\\,f}{\\partial x_{2}}\\right)^{2} + 5 \\, f\\left(x_{0}, x_{1}, x_{2}, x_{3}\\right) \\frac{\\partial^2\\,f}{\\partial x_{2} ^ 2} + 3 \\, \\left(\\frac{\\partial\\,f}{\\partial x_{3}}\\right)^{2} + 5 \\, f\\left(x_{0}, x_{1}, x_{2}, x_{3}\\right) \\frac{\\partial^2\\,f}{\\partial x_{3} ^ 2}}{f\\left(x_{0}, x_{1}, x_{2}, x_{3}\\right)^{3}}$"
      ],
      "text/plain": [
       "(x0, x1, x2, x3, x4, x5) ↦ -(3*(d(f)/dx0)^2 + 5*f(x0, x1, x2, x3)*d^2(f)/dx0^2 + 3*(d(f)/dx1)^2 + 5*f(x0, x1, x2, x3)*d^2(f)/dx1^2 + 3*(d(f)/dx2)^2 + 5*f(x0, x1, x2, x3)*d^2(f)/dx2^2 + 3*(d(f)/dx3)^2 + 5*f(x0, x1, x2, x3)*d^2(f)/dx3^2)/f(x0, x1, x2, x3)^3"
      ]
     },
     "execution_count": 55,
     "metadata": {},
     "output_type": "execute_result"
    }
   ],
   "source": [
    "# scalar curvature\n",
    "sum( g.inverse()[i,j]*nab_t.ricci()[i,j] for i in range(DIM) for j in range(DIM) ).display()"
   ]
  },
  {
   "cell_type": "code",
   "execution_count": 56,
   "id": "fb718a08-b85b-45ad-a360-7f5c269057f9",
   "metadata": {},
   "outputs": [
    {
     "data": {
      "text/html": [
       "<html>\\(\\displaystyle \\left( \\frac{5 \\, \\left(\\frac{\\partial\\,f}{\\partial x_{0}}\\right)^{2} - 5 \\, f\\left(x_{0}, x_{1}, x_{2}, x_{3}\\right) \\frac{\\partial^2\\,f}{\\partial x_{0} ^ 2} - 3 \\, \\left(\\frac{\\partial\\,f}{\\partial x_{1}}\\right)^{2} - f\\left(x_{0}, x_{1}, x_{2}, x_{3}\\right) \\frac{\\partial^2\\,f}{\\partial x_{1} ^ 2} - 2 \\, \\left(\\frac{\\partial\\,f}{\\partial x_{2}}\\right)^{2} - f\\left(x_{0}, x_{1}, x_{2}, x_{3}\\right) \\frac{\\partial^2\\,f}{\\partial x_{2} ^ 2} - 2 \\, \\left(\\frac{\\partial\\,f}{\\partial x_{3}}\\right)^{2} - f\\left(x_{0}, x_{1}, x_{2}, x_{3}\\right) \\frac{\\partial^2\\,f}{\\partial x_{3} ^ 2}}{2 \\, f\\left(x_{0}, x_{1}, x_{2}, x_{3}\\right)^{2}} \\right) \\mathrm{d} x_{0}\\otimes \\mathrm{d} x_{0} -\\frac{2 \\, {\\left(f\\left(x_{0}, x_{1}, x_{2}, x_{3}\\right) \\frac{\\partial^2\\,f}{\\partial x_{0}\\partial x_{1}} - 2 \\, \\frac{\\partial\\,f}{\\partial x_{0}} \\frac{\\partial\\,f}{\\partial x_{1}}\\right)}}{f\\left(x_{0}, x_{1}, x_{2}, x_{3}\\right)^{2}} \\mathrm{d} x_{0}\\otimes \\mathrm{d} x_{1} + \\left( -\\frac{4 \\, f\\left(x_{0}, x_{1}, x_{2}, x_{3}\\right) \\frac{\\partial^2\\,f}{\\partial x_{0}\\partial x_{2}} - 7 \\, \\frac{\\partial\\,f}{\\partial x_{0}} \\frac{\\partial\\,f}{\\partial x_{2}} + \\frac{\\partial\\,f}{\\partial x_{1}} \\frac{\\partial\\,f}{\\partial x_{3}}}{2 \\, f\\left(x_{0}, x_{1}, x_{2}, x_{3}\\right)^{2}} \\right) \\mathrm{d} x_{0}\\otimes \\mathrm{d} x_{2} + \\left( -\\frac{4 \\, f\\left(x_{0}, x_{1}, x_{2}, x_{3}\\right) \\frac{\\partial^2\\,f}{\\partial x_{0}\\partial x_{3}} - \\frac{\\partial\\,f}{\\partial x_{1}} \\frac{\\partial\\,f}{\\partial x_{2}} - 7 \\, \\frac{\\partial\\,f}{\\partial x_{0}} \\frac{\\partial\\,f}{\\partial x_{3}}}{2 \\, f\\left(x_{0}, x_{1}, x_{2}, x_{3}\\right)^{2}} \\right) \\mathrm{d} x_{0}\\otimes \\mathrm{d} x_{3} -\\frac{2 \\, {\\left(f\\left(x_{0}, x_{1}, x_{2}, x_{3}\\right) \\frac{\\partial^2\\,f}{\\partial x_{0}\\partial x_{1}} - 2 \\, \\frac{\\partial\\,f}{\\partial x_{0}} \\frac{\\partial\\,f}{\\partial x_{1}}\\right)}}{f\\left(x_{0}, x_{1}, x_{2}, x_{3}\\right)^{2}} \\mathrm{d} x_{1}\\otimes \\mathrm{d} x_{0} + \\left( -\\frac{3 \\, \\left(\\frac{\\partial\\,f}{\\partial x_{0}}\\right)^{2} + f\\left(x_{0}, x_{1}, x_{2}, x_{3}\\right) \\frac{\\partial^2\\,f}{\\partial x_{0} ^ 2} - 5 \\, \\left(\\frac{\\partial\\,f}{\\partial x_{1}}\\right)^{2} + 5 \\, f\\left(x_{0}, x_{1}, x_{2}, x_{3}\\right) \\frac{\\partial^2\\,f}{\\partial x_{1} ^ 2} + 2 \\, \\left(\\frac{\\partial\\,f}{\\partial x_{2}}\\right)^{2} + f\\left(x_{0}, x_{1}, x_{2}, x_{3}\\right) \\frac{\\partial^2\\,f}{\\partial x_{2} ^ 2} + 2 \\, \\left(\\frac{\\partial\\,f}{\\partial x_{3}}\\right)^{2} + f\\left(x_{0}, x_{1}, x_{2}, x_{3}\\right) \\frac{\\partial^2\\,f}{\\partial x_{3} ^ 2}}{2 \\, f\\left(x_{0}, x_{1}, x_{2}, x_{3}\\right)^{2}} \\right) \\mathrm{d} x_{1}\\otimes \\mathrm{d} x_{1} + \\left( -\\frac{4 \\, f\\left(x_{0}, x_{1}, x_{2}, x_{3}\\right) \\frac{\\partial^2\\,f}{\\partial x_{1}\\partial x_{2}} - 7 \\, \\frac{\\partial\\,f}{\\partial x_{1}} \\frac{\\partial\\,f}{\\partial x_{2}} - \\frac{\\partial\\,f}{\\partial x_{0}} \\frac{\\partial\\,f}{\\partial x_{3}}}{2 \\, f\\left(x_{0}, x_{1}, x_{2}, x_{3}\\right)^{2}} \\right) \\mathrm{d} x_{1}\\otimes \\mathrm{d} x_{2} + \\left( -\\frac{4 \\, f\\left(x_{0}, x_{1}, x_{2}, x_{3}\\right) \\frac{\\partial^2\\,f}{\\partial x_{1}\\partial x_{3}} + \\frac{\\partial\\,f}{\\partial x_{0}} \\frac{\\partial\\,f}{\\partial x_{2}} - 7 \\, \\frac{\\partial\\,f}{\\partial x_{1}} \\frac{\\partial\\,f}{\\partial x_{3}}}{2 \\, f\\left(x_{0}, x_{1}, x_{2}, x_{3}\\right)^{2}} \\right) \\mathrm{d} x_{1}\\otimes \\mathrm{d} x_{3} + \\left( -\\frac{4 \\, f\\left(x_{0}, x_{1}, x_{2}, x_{3}\\right) \\frac{\\partial^2\\,f}{\\partial x_{0}\\partial x_{2}} - 7 \\, \\frac{\\partial\\,f}{\\partial x_{0}} \\frac{\\partial\\,f}{\\partial x_{2}} + \\frac{\\partial\\,f}{\\partial x_{1}} \\frac{\\partial\\,f}{\\partial x_{3}}}{2 \\, f\\left(x_{0}, x_{1}, x_{2}, x_{3}\\right)^{2}} \\right) \\mathrm{d} x_{2}\\otimes \\mathrm{d} x_{0} + \\left( -\\frac{4 \\, f\\left(x_{0}, x_{1}, x_{2}, x_{3}\\right) \\frac{\\partial^2\\,f}{\\partial x_{1}\\partial x_{2}} - 7 \\, \\frac{\\partial\\,f}{\\partial x_{1}} \\frac{\\partial\\,f}{\\partial x_{2}} - \\frac{\\partial\\,f}{\\partial x_{0}} \\frac{\\partial\\,f}{\\partial x_{3}}}{2 \\, f\\left(x_{0}, x_{1}, x_{2}, x_{3}\\right)^{2}} \\right) \\mathrm{d} x_{2}\\otimes \\mathrm{d} x_{1} + \\left( -\\frac{2 \\, \\left(\\frac{\\partial\\,f}{\\partial x_{0}}\\right)^{2} + f\\left(x_{0}, x_{1}, x_{2}, x_{3}\\right) \\frac{\\partial^2\\,f}{\\partial x_{0} ^ 2} + 2 \\, \\left(\\frac{\\partial\\,f}{\\partial x_{1}}\\right)^{2} + f\\left(x_{0}, x_{1}, x_{2}, x_{3}\\right) \\frac{\\partial^2\\,f}{\\partial x_{1} ^ 2} - 5 \\, \\left(\\frac{\\partial\\,f}{\\partial x_{2}}\\right)^{2} + 5 \\, f\\left(x_{0}, x_{1}, x_{2}, x_{3}\\right) \\frac{\\partial^2\\,f}{\\partial x_{2} ^ 2} + 3 \\, \\left(\\frac{\\partial\\,f}{\\partial x_{3}}\\right)^{2} + f\\left(x_{0}, x_{1}, x_{2}, x_{3}\\right) \\frac{\\partial^2\\,f}{\\partial x_{3} ^ 2}}{2 \\, f\\left(x_{0}, x_{1}, x_{2}, x_{3}\\right)^{2}} \\right) \\mathrm{d} x_{2}\\otimes \\mathrm{d} x_{2} -\\frac{2 \\, {\\left(f\\left(x_{0}, x_{1}, x_{2}, x_{3}\\right) \\frac{\\partial^2\\,f}{\\partial x_{2}\\partial x_{3}} - 2 \\, \\frac{\\partial\\,f}{\\partial x_{2}} \\frac{\\partial\\,f}{\\partial x_{3}}\\right)}}{f\\left(x_{0}, x_{1}, x_{2}, x_{3}\\right)^{2}} \\mathrm{d} x_{2}\\otimes \\mathrm{d} x_{3} + \\left( -\\frac{4 \\, f\\left(x_{0}, x_{1}, x_{2}, x_{3}\\right) \\frac{\\partial^2\\,f}{\\partial x_{0}\\partial x_{3}} - \\frac{\\partial\\,f}{\\partial x_{1}} \\frac{\\partial\\,f}{\\partial x_{2}} - 7 \\, \\frac{\\partial\\,f}{\\partial x_{0}} \\frac{\\partial\\,f}{\\partial x_{3}}}{2 \\, f\\left(x_{0}, x_{1}, x_{2}, x_{3}\\right)^{2}} \\right) \\mathrm{d} x_{3}\\otimes \\mathrm{d} x_{0} + \\left( -\\frac{4 \\, f\\left(x_{0}, x_{1}, x_{2}, x_{3}\\right) \\frac{\\partial^2\\,f}{\\partial x_{1}\\partial x_{3}} + \\frac{\\partial\\,f}{\\partial x_{0}} \\frac{\\partial\\,f}{\\partial x_{2}} - 7 \\, \\frac{\\partial\\,f}{\\partial x_{1}} \\frac{\\partial\\,f}{\\partial x_{3}}}{2 \\, f\\left(x_{0}, x_{1}, x_{2}, x_{3}\\right)^{2}} \\right) \\mathrm{d} x_{3}\\otimes \\mathrm{d} x_{1} -\\frac{2 \\, {\\left(f\\left(x_{0}, x_{1}, x_{2}, x_{3}\\right) \\frac{\\partial^2\\,f}{\\partial x_{2}\\partial x_{3}} - 2 \\, \\frac{\\partial\\,f}{\\partial x_{2}} \\frac{\\partial\\,f}{\\partial x_{3}}\\right)}}{f\\left(x_{0}, x_{1}, x_{2}, x_{3}\\right)^{2}} \\mathrm{d} x_{3}\\otimes \\mathrm{d} x_{2} + \\left( -\\frac{2 \\, \\left(\\frac{\\partial\\,f}{\\partial x_{0}}\\right)^{2} + f\\left(x_{0}, x_{1}, x_{2}, x_{3}\\right) \\frac{\\partial^2\\,f}{\\partial x_{0} ^ 2} + 2 \\, \\left(\\frac{\\partial\\,f}{\\partial x_{1}}\\right)^{2} + f\\left(x_{0}, x_{1}, x_{2}, x_{3}\\right) \\frac{\\partial^2\\,f}{\\partial x_{1} ^ 2} + 3 \\, \\left(\\frac{\\partial\\,f}{\\partial x_{2}}\\right)^{2} + f\\left(x_{0}, x_{1}, x_{2}, x_{3}\\right) \\frac{\\partial^2\\,f}{\\partial x_{2} ^ 2} - 5 \\, \\left(\\frac{\\partial\\,f}{\\partial x_{3}}\\right)^{2} + 5 \\, f\\left(x_{0}, x_{1}, x_{2}, x_{3}\\right) \\frac{\\partial^2\\,f}{\\partial x_{3} ^ 2}}{2 \\, f\\left(x_{0}, x_{1}, x_{2}, x_{3}\\right)^{2}} \\right) \\mathrm{d} x_{3}\\otimes \\mathrm{d} x_{3} + \\left( -\\frac{2 \\, \\left(\\frac{\\partial\\,f}{\\partial x_{0}}\\right)^{2} + f\\left(x_{0}, x_{1}, x_{2}, x_{3}\\right) \\frac{\\partial^2\\,f}{\\partial x_{0} ^ 2} + 2 \\, \\left(\\frac{\\partial\\,f}{\\partial x_{1}}\\right)^{2} + f\\left(x_{0}, x_{1}, x_{2}, x_{3}\\right) \\frac{\\partial^2\\,f}{\\partial x_{1} ^ 2} + 2 \\, \\left(\\frac{\\partial\\,f}{\\partial x_{2}}\\right)^{2} + f\\left(x_{0}, x_{1}, x_{2}, x_{3}\\right) \\frac{\\partial^2\\,f}{\\partial x_{2} ^ 2} + 2 \\, \\left(\\frac{\\partial\\,f}{\\partial x_{3}}\\right)^{2} + f\\left(x_{0}, x_{1}, x_{2}, x_{3}\\right) \\frac{\\partial^2\\,f}{\\partial x_{3} ^ 2}}{2 \\, f\\left(x_{0}, x_{1}, x_{2}, x_{3}\\right)^{2}} \\right) \\mathrm{d} x_{4}\\otimes \\mathrm{d} x_{4} + \\left( -\\frac{2 \\, \\left(\\frac{\\partial\\,f}{\\partial x_{0}}\\right)^{2} + f\\left(x_{0}, x_{1}, x_{2}, x_{3}\\right) \\frac{\\partial^2\\,f}{\\partial x_{0} ^ 2} + 2 \\, \\left(\\frac{\\partial\\,f}{\\partial x_{1}}\\right)^{2} + f\\left(x_{0}, x_{1}, x_{2}, x_{3}\\right) \\frac{\\partial^2\\,f}{\\partial x_{1} ^ 2} + 2 \\, \\left(\\frac{\\partial\\,f}{\\partial x_{2}}\\right)^{2} + f\\left(x_{0}, x_{1}, x_{2}, x_{3}\\right) \\frac{\\partial^2\\,f}{\\partial x_{2} ^ 2} + 2 \\, \\left(\\frac{\\partial\\,f}{\\partial x_{3}}\\right)^{2} + f\\left(x_{0}, x_{1}, x_{2}, x_{3}\\right) \\frac{\\partial^2\\,f}{\\partial x_{3} ^ 2}}{2 \\, f\\left(x_{0}, x_{1}, x_{2}, x_{3}\\right)^{2}} \\right) \\mathrm{d} x_{5}\\otimes \\mathrm{d} x_{5}\\)</html>"
      ],
      "text/latex": [
       "$\\displaystyle \\left( \\frac{5 \\, \\left(\\frac{\\partial\\,f}{\\partial x_{0}}\\right)^{2} - 5 \\, f\\left(x_{0}, x_{1}, x_{2}, x_{3}\\right) \\frac{\\partial^2\\,f}{\\partial x_{0} ^ 2} - 3 \\, \\left(\\frac{\\partial\\,f}{\\partial x_{1}}\\right)^{2} - f\\left(x_{0}, x_{1}, x_{2}, x_{3}\\right) \\frac{\\partial^2\\,f}{\\partial x_{1} ^ 2} - 2 \\, \\left(\\frac{\\partial\\,f}{\\partial x_{2}}\\right)^{2} - f\\left(x_{0}, x_{1}, x_{2}, x_{3}\\right) \\frac{\\partial^2\\,f}{\\partial x_{2} ^ 2} - 2 \\, \\left(\\frac{\\partial\\,f}{\\partial x_{3}}\\right)^{2} - f\\left(x_{0}, x_{1}, x_{2}, x_{3}\\right) \\frac{\\partial^2\\,f}{\\partial x_{3} ^ 2}}{2 \\, f\\left(x_{0}, x_{1}, x_{2}, x_{3}\\right)^{2}} \\right) \\mathrm{d} x_{0}\\otimes \\mathrm{d} x_{0} -\\frac{2 \\, {\\left(f\\left(x_{0}, x_{1}, x_{2}, x_{3}\\right) \\frac{\\partial^2\\,f}{\\partial x_{0}\\partial x_{1}} - 2 \\, \\frac{\\partial\\,f}{\\partial x_{0}} \\frac{\\partial\\,f}{\\partial x_{1}}\\right)}}{f\\left(x_{0}, x_{1}, x_{2}, x_{3}\\right)^{2}} \\mathrm{d} x_{0}\\otimes \\mathrm{d} x_{1} + \\left( -\\frac{4 \\, f\\left(x_{0}, x_{1}, x_{2}, x_{3}\\right) \\frac{\\partial^2\\,f}{\\partial x_{0}\\partial x_{2}} - 7 \\, \\frac{\\partial\\,f}{\\partial x_{0}} \\frac{\\partial\\,f}{\\partial x_{2}} + \\frac{\\partial\\,f}{\\partial x_{1}} \\frac{\\partial\\,f}{\\partial x_{3}}}{2 \\, f\\left(x_{0}, x_{1}, x_{2}, x_{3}\\right)^{2}} \\right) \\mathrm{d} x_{0}\\otimes \\mathrm{d} x_{2} + \\left( -\\frac{4 \\, f\\left(x_{0}, x_{1}, x_{2}, x_{3}\\right) \\frac{\\partial^2\\,f}{\\partial x_{0}\\partial x_{3}} - \\frac{\\partial\\,f}{\\partial x_{1}} \\frac{\\partial\\,f}{\\partial x_{2}} - 7 \\, \\frac{\\partial\\,f}{\\partial x_{0}} \\frac{\\partial\\,f}{\\partial x_{3}}}{2 \\, f\\left(x_{0}, x_{1}, x_{2}, x_{3}\\right)^{2}} \\right) \\mathrm{d} x_{0}\\otimes \\mathrm{d} x_{3} -\\frac{2 \\, {\\left(f\\left(x_{0}, x_{1}, x_{2}, x_{3}\\right) \\frac{\\partial^2\\,f}{\\partial x_{0}\\partial x_{1}} - 2 \\, \\frac{\\partial\\,f}{\\partial x_{0}} \\frac{\\partial\\,f}{\\partial x_{1}}\\right)}}{f\\left(x_{0}, x_{1}, x_{2}, x_{3}\\right)^{2}} \\mathrm{d} x_{1}\\otimes \\mathrm{d} x_{0} + \\left( -\\frac{3 \\, \\left(\\frac{\\partial\\,f}{\\partial x_{0}}\\right)^{2} + f\\left(x_{0}, x_{1}, x_{2}, x_{3}\\right) \\frac{\\partial^2\\,f}{\\partial x_{0} ^ 2} - 5 \\, \\left(\\frac{\\partial\\,f}{\\partial x_{1}}\\right)^{2} + 5 \\, f\\left(x_{0}, x_{1}, x_{2}, x_{3}\\right) \\frac{\\partial^2\\,f}{\\partial x_{1} ^ 2} + 2 \\, \\left(\\frac{\\partial\\,f}{\\partial x_{2}}\\right)^{2} + f\\left(x_{0}, x_{1}, x_{2}, x_{3}\\right) \\frac{\\partial^2\\,f}{\\partial x_{2} ^ 2} + 2 \\, \\left(\\frac{\\partial\\,f}{\\partial x_{3}}\\right)^{2} + f\\left(x_{0}, x_{1}, x_{2}, x_{3}\\right) \\frac{\\partial^2\\,f}{\\partial x_{3} ^ 2}}{2 \\, f\\left(x_{0}, x_{1}, x_{2}, x_{3}\\right)^{2}} \\right) \\mathrm{d} x_{1}\\otimes \\mathrm{d} x_{1} + \\left( -\\frac{4 \\, f\\left(x_{0}, x_{1}, x_{2}, x_{3}\\right) \\frac{\\partial^2\\,f}{\\partial x_{1}\\partial x_{2}} - 7 \\, \\frac{\\partial\\,f}{\\partial x_{1}} \\frac{\\partial\\,f}{\\partial x_{2}} - \\frac{\\partial\\,f}{\\partial x_{0}} \\frac{\\partial\\,f}{\\partial x_{3}}}{2 \\, f\\left(x_{0}, x_{1}, x_{2}, x_{3}\\right)^{2}} \\right) \\mathrm{d} x_{1}\\otimes \\mathrm{d} x_{2} + \\left( -\\frac{4 \\, f\\left(x_{0}, x_{1}, x_{2}, x_{3}\\right) \\frac{\\partial^2\\,f}{\\partial x_{1}\\partial x_{3}} + \\frac{\\partial\\,f}{\\partial x_{0}} \\frac{\\partial\\,f}{\\partial x_{2}} - 7 \\, \\frac{\\partial\\,f}{\\partial x_{1}} \\frac{\\partial\\,f}{\\partial x_{3}}}{2 \\, f\\left(x_{0}, x_{1}, x_{2}, x_{3}\\right)^{2}} \\right) \\mathrm{d} x_{1}\\otimes \\mathrm{d} x_{3} + \\left( -\\frac{4 \\, f\\left(x_{0}, x_{1}, x_{2}, x_{3}\\right) \\frac{\\partial^2\\,f}{\\partial x_{0}\\partial x_{2}} - 7 \\, \\frac{\\partial\\,f}{\\partial x_{0}} \\frac{\\partial\\,f}{\\partial x_{2}} + \\frac{\\partial\\,f}{\\partial x_{1}} \\frac{\\partial\\,f}{\\partial x_{3}}}{2 \\, f\\left(x_{0}, x_{1}, x_{2}, x_{3}\\right)^{2}} \\right) \\mathrm{d} x_{2}\\otimes \\mathrm{d} x_{0} + \\left( -\\frac{4 \\, f\\left(x_{0}, x_{1}, x_{2}, x_{3}\\right) \\frac{\\partial^2\\,f}{\\partial x_{1}\\partial x_{2}} - 7 \\, \\frac{\\partial\\,f}{\\partial x_{1}} \\frac{\\partial\\,f}{\\partial x_{2}} - \\frac{\\partial\\,f}{\\partial x_{0}} \\frac{\\partial\\,f}{\\partial x_{3}}}{2 \\, f\\left(x_{0}, x_{1}, x_{2}, x_{3}\\right)^{2}} \\right) \\mathrm{d} x_{2}\\otimes \\mathrm{d} x_{1} + \\left( -\\frac{2 \\, \\left(\\frac{\\partial\\,f}{\\partial x_{0}}\\right)^{2} + f\\left(x_{0}, x_{1}, x_{2}, x_{3}\\right) \\frac{\\partial^2\\,f}{\\partial x_{0} ^ 2} + 2 \\, \\left(\\frac{\\partial\\,f}{\\partial x_{1}}\\right)^{2} + f\\left(x_{0}, x_{1}, x_{2}, x_{3}\\right) \\frac{\\partial^2\\,f}{\\partial x_{1} ^ 2} - 5 \\, \\left(\\frac{\\partial\\,f}{\\partial x_{2}}\\right)^{2} + 5 \\, f\\left(x_{0}, x_{1}, x_{2}, x_{3}\\right) \\frac{\\partial^2\\,f}{\\partial x_{2} ^ 2} + 3 \\, \\left(\\frac{\\partial\\,f}{\\partial x_{3}}\\right)^{2} + f\\left(x_{0}, x_{1}, x_{2}, x_{3}\\right) \\frac{\\partial^2\\,f}{\\partial x_{3} ^ 2}}{2 \\, f\\left(x_{0}, x_{1}, x_{2}, x_{3}\\right)^{2}} \\right) \\mathrm{d} x_{2}\\otimes \\mathrm{d} x_{2} -\\frac{2 \\, {\\left(f\\left(x_{0}, x_{1}, x_{2}, x_{3}\\right) \\frac{\\partial^2\\,f}{\\partial x_{2}\\partial x_{3}} - 2 \\, \\frac{\\partial\\,f}{\\partial x_{2}} \\frac{\\partial\\,f}{\\partial x_{3}}\\right)}}{f\\left(x_{0}, x_{1}, x_{2}, x_{3}\\right)^{2}} \\mathrm{d} x_{2}\\otimes \\mathrm{d} x_{3} + \\left( -\\frac{4 \\, f\\left(x_{0}, x_{1}, x_{2}, x_{3}\\right) \\frac{\\partial^2\\,f}{\\partial x_{0}\\partial x_{3}} - \\frac{\\partial\\,f}{\\partial x_{1}} \\frac{\\partial\\,f}{\\partial x_{2}} - 7 \\, \\frac{\\partial\\,f}{\\partial x_{0}} \\frac{\\partial\\,f}{\\partial x_{3}}}{2 \\, f\\left(x_{0}, x_{1}, x_{2}, x_{3}\\right)^{2}} \\right) \\mathrm{d} x_{3}\\otimes \\mathrm{d} x_{0} + \\left( -\\frac{4 \\, f\\left(x_{0}, x_{1}, x_{2}, x_{3}\\right) \\frac{\\partial^2\\,f}{\\partial x_{1}\\partial x_{3}} + \\frac{\\partial\\,f}{\\partial x_{0}} \\frac{\\partial\\,f}{\\partial x_{2}} - 7 \\, \\frac{\\partial\\,f}{\\partial x_{1}} \\frac{\\partial\\,f}{\\partial x_{3}}}{2 \\, f\\left(x_{0}, x_{1}, x_{2}, x_{3}\\right)^{2}} \\right) \\mathrm{d} x_{3}\\otimes \\mathrm{d} x_{1} -\\frac{2 \\, {\\left(f\\left(x_{0}, x_{1}, x_{2}, x_{3}\\right) \\frac{\\partial^2\\,f}{\\partial x_{2}\\partial x_{3}} - 2 \\, \\frac{\\partial\\,f}{\\partial x_{2}} \\frac{\\partial\\,f}{\\partial x_{3}}\\right)}}{f\\left(x_{0}, x_{1}, x_{2}, x_{3}\\right)^{2}} \\mathrm{d} x_{3}\\otimes \\mathrm{d} x_{2} + \\left( -\\frac{2 \\, \\left(\\frac{\\partial\\,f}{\\partial x_{0}}\\right)^{2} + f\\left(x_{0}, x_{1}, x_{2}, x_{3}\\right) \\frac{\\partial^2\\,f}{\\partial x_{0} ^ 2} + 2 \\, \\left(\\frac{\\partial\\,f}{\\partial x_{1}}\\right)^{2} + f\\left(x_{0}, x_{1}, x_{2}, x_{3}\\right) \\frac{\\partial^2\\,f}{\\partial x_{1} ^ 2} + 3 \\, \\left(\\frac{\\partial\\,f}{\\partial x_{2}}\\right)^{2} + f\\left(x_{0}, x_{1}, x_{2}, x_{3}\\right) \\frac{\\partial^2\\,f}{\\partial x_{2} ^ 2} - 5 \\, \\left(\\frac{\\partial\\,f}{\\partial x_{3}}\\right)^{2} + 5 \\, f\\left(x_{0}, x_{1}, x_{2}, x_{3}\\right) \\frac{\\partial^2\\,f}{\\partial x_{3} ^ 2}}{2 \\, f\\left(x_{0}, x_{1}, x_{2}, x_{3}\\right)^{2}} \\right) \\mathrm{d} x_{3}\\otimes \\mathrm{d} x_{3} + \\left( -\\frac{2 \\, \\left(\\frac{\\partial\\,f}{\\partial x_{0}}\\right)^{2} + f\\left(x_{0}, x_{1}, x_{2}, x_{3}\\right) \\frac{\\partial^2\\,f}{\\partial x_{0} ^ 2} + 2 \\, \\left(\\frac{\\partial\\,f}{\\partial x_{1}}\\right)^{2} + f\\left(x_{0}, x_{1}, x_{2}, x_{3}\\right) \\frac{\\partial^2\\,f}{\\partial x_{1} ^ 2} + 2 \\, \\left(\\frac{\\partial\\,f}{\\partial x_{2}}\\right)^{2} + f\\left(x_{0}, x_{1}, x_{2}, x_{3}\\right) \\frac{\\partial^2\\,f}{\\partial x_{2} ^ 2} + 2 \\, \\left(\\frac{\\partial\\,f}{\\partial x_{3}}\\right)^{2} + f\\left(x_{0}, x_{1}, x_{2}, x_{3}\\right) \\frac{\\partial^2\\,f}{\\partial x_{3} ^ 2}}{2 \\, f\\left(x_{0}, x_{1}, x_{2}, x_{3}\\right)^{2}} \\right) \\mathrm{d} x_{4}\\otimes \\mathrm{d} x_{4} + \\left( -\\frac{2 \\, \\left(\\frac{\\partial\\,f}{\\partial x_{0}}\\right)^{2} + f\\left(x_{0}, x_{1}, x_{2}, x_{3}\\right) \\frac{\\partial^2\\,f}{\\partial x_{0} ^ 2} + 2 \\, \\left(\\frac{\\partial\\,f}{\\partial x_{1}}\\right)^{2} + f\\left(x_{0}, x_{1}, x_{2}, x_{3}\\right) \\frac{\\partial^2\\,f}{\\partial x_{1} ^ 2} + 2 \\, \\left(\\frac{\\partial\\,f}{\\partial x_{2}}\\right)^{2} + f\\left(x_{0}, x_{1}, x_{2}, x_{3}\\right) \\frac{\\partial^2\\,f}{\\partial x_{2} ^ 2} + 2 \\, \\left(\\frac{\\partial\\,f}{\\partial x_{3}}\\right)^{2} + f\\left(x_{0}, x_{1}, x_{2}, x_{3}\\right) \\frac{\\partial^2\\,f}{\\partial x_{3} ^ 2}}{2 \\, f\\left(x_{0}, x_{1}, x_{2}, x_{3}\\right)^{2}} \\right) \\mathrm{d} x_{5}\\otimes \\mathrm{d} x_{5}$"
      ],
      "text/plain": [
       "1/2*(5*(d(f)/dx0)^2 - 5*f(x0, x1, x2, x3)*d^2(f)/dx0^2 - 3*(d(f)/dx1)^2 - f(x0, x1, x2, x3)*d^2(f)/dx1^2 - 2*(d(f)/dx2)^2 - f(x0, x1, x2, x3)*d^2(f)/dx2^2 - 2*(d(f)/dx3)^2 - f(x0, x1, x2, x3)*d^2(f)/dx3^2)/f(x0, x1, x2, x3)^2 dx0⊗dx0 - 2*(f(x0, x1, x2, x3)*d^2(f)/dx0dx1 - 2*d(f)/dx0*d(f)/dx1)/f(x0, x1, x2, x3)^2 dx0⊗dx1 - 1/2*(4*f(x0, x1, x2, x3)*d^2(f)/dx0dx2 - 7*d(f)/dx0*d(f)/dx2 + d(f)/dx1*d(f)/dx3)/f(x0, x1, x2, x3)^2 dx0⊗dx2 - 1/2*(4*f(x0, x1, x2, x3)*d^2(f)/dx0dx3 - d(f)/dx1*d(f)/dx2 - 7*d(f)/dx0*d(f)/dx3)/f(x0, x1, x2, x3)^2 dx0⊗dx3 - 2*(f(x0, x1, x2, x3)*d^2(f)/dx0dx1 - 2*d(f)/dx0*d(f)/dx1)/f(x0, x1, x2, x3)^2 dx1⊗dx0 - 1/2*(3*(d(f)/dx0)^2 + f(x0, x1, x2, x3)*d^2(f)/dx0^2 - 5*(d(f)/dx1)^2 + 5*f(x0, x1, x2, x3)*d^2(f)/dx1^2 + 2*(d(f)/dx2)^2 + f(x0, x1, x2, x3)*d^2(f)/dx2^2 + 2*(d(f)/dx3)^2 + f(x0, x1, x2, x3)*d^2(f)/dx3^2)/f(x0, x1, x2, x3)^2 dx1⊗dx1 - 1/2*(4*f(x0, x1, x2, x3)*d^2(f)/dx1dx2 - 7*d(f)/dx1*d(f)/dx2 - d(f)/dx0*d(f)/dx3)/f(x0, x1, x2, x3)^2 dx1⊗dx2 - 1/2*(4*f(x0, x1, x2, x3)*d^2(f)/dx1dx3 + d(f)/dx0*d(f)/dx2 - 7*d(f)/dx1*d(f)/dx3)/f(x0, x1, x2, x3)^2 dx1⊗dx3 - 1/2*(4*f(x0, x1, x2, x3)*d^2(f)/dx0dx2 - 7*d(f)/dx0*d(f)/dx2 + d(f)/dx1*d(f)/dx3)/f(x0, x1, x2, x3)^2 dx2⊗dx0 - 1/2*(4*f(x0, x1, x2, x3)*d^2(f)/dx1dx2 - 7*d(f)/dx1*d(f)/dx2 - d(f)/dx0*d(f)/dx3)/f(x0, x1, x2, x3)^2 dx2⊗dx1 - 1/2*(2*(d(f)/dx0)^2 + f(x0, x1, x2, x3)*d^2(f)/dx0^2 + 2*(d(f)/dx1)^2 + f(x0, x1, x2, x3)*d^2(f)/dx1^2 - 5*(d(f)/dx2)^2 + 5*f(x0, x1, x2, x3)*d^2(f)/dx2^2 + 3*(d(f)/dx3)^2 + f(x0, x1, x2, x3)*d^2(f)/dx3^2)/f(x0, x1, x2, x3)^2 dx2⊗dx2 - 2*(f(x0, x1, x2, x3)*d^2(f)/dx2dx3 - 2*d(f)/dx2*d(f)/dx3)/f(x0, x1, x2, x3)^2 dx2⊗dx3 - 1/2*(4*f(x0, x1, x2, x3)*d^2(f)/dx0dx3 - d(f)/dx1*d(f)/dx2 - 7*d(f)/dx0*d(f)/dx3)/f(x0, x1, x2, x3)^2 dx3⊗dx0 - 1/2*(4*f(x0, x1, x2, x3)*d^2(f)/dx1dx3 + d(f)/dx0*d(f)/dx2 - 7*d(f)/dx1*d(f)/dx3)/f(x0, x1, x2, x3)^2 dx3⊗dx1 - 2*(f(x0, x1, x2, x3)*d^2(f)/dx2dx3 - 2*d(f)/dx2*d(f)/dx3)/f(x0, x1, x2, x3)^2 dx3⊗dx2 - 1/2*(2*(d(f)/dx0)^2 + f(x0, x1, x2, x3)*d^2(f)/dx0^2 + 2*(d(f)/dx1)^2 + f(x0, x1, x2, x3)*d^2(f)/dx1^2 + 3*(d(f)/dx2)^2 + f(x0, x1, x2, x3)*d^2(f)/dx2^2 - 5*(d(f)/dx3)^2 + 5*f(x0, x1, x2, x3)*d^2(f)/dx3^2)/f(x0, x1, x2, x3)^2 dx3⊗dx3 - 1/2*(2*(d(f)/dx0)^2 + f(x0, x1, x2, x3)*d^2(f)/dx0^2 + 2*(d(f)/dx1)^2 + f(x0, x1, x2, x3)*d^2(f)/dx1^2 + 2*(d(f)/dx2)^2 + f(x0, x1, x2, x3)*d^2(f)/dx2^2 + 2*(d(f)/dx3)^2 + f(x0, x1, x2, x3)*d^2(f)/dx3^2)/f(x0, x1, x2, x3)^2 dx4⊗dx4 - 1/2*(2*(d(f)/dx0)^2 + f(x0, x1, x2, x3)*d^2(f)/dx0^2 + 2*(d(f)/dx1)^2 + f(x0, x1, x2, x3)*d^2(f)/dx1^2 + 2*(d(f)/dx2)^2 + f(x0, x1, x2, x3)*d^2(f)/dx2^2 + 2*(d(f)/dx3)^2 + f(x0, x1, x2, x3)*d^2(f)/dx3^2)/f(x0, x1, x2, x3)^2 dx5⊗dx5"
      ]
     },
     "execution_count": 56,
     "metadata": {},
     "output_type": "execute_result"
    }
   ],
   "source": [
    "nab_t.ricci().display()"
   ]
  },
  {
   "cell_type": "code",
   "execution_count": 72,
   "id": "019ab76f-7199-4562-87f6-2a747c2e7bb5",
   "metadata": {},
   "outputs": [
    {
     "data": {
      "text/html": [
       "<html>\\(\\displaystyle \\left( \\frac{\\left(\\frac{\\partial\\,f}{\\partial x_{0}}\\right)^{2} - f\\left(x_{0}\\right) \\frac{\\partial^2\\,f}{\\partial x_{0} ^ 2}}{2 \\, f\\left(x_{0}\\right)^{2}} \\right) \\frac{\\partial}{\\partial x_{0} }\\otimes \\mathrm{d} x_{1}\\otimes \\mathrm{d} x_{0}\\otimes \\mathrm{d} x_{1} + \\left( -\\frac{\\left(\\frac{\\partial\\,f}{\\partial x_{0}}\\right)^{2} - f\\left(x_{0}\\right) \\frac{\\partial^2\\,f}{\\partial x_{0} ^ 2}}{2 \\, f\\left(x_{0}\\right)^{2}} \\right) \\frac{\\partial}{\\partial x_{0} }\\otimes \\mathrm{d} x_{1}\\otimes \\mathrm{d} x_{1}\\otimes \\mathrm{d} x_{0} + \\frac{\\left(\\frac{\\partial\\,f}{\\partial x_{0}}\\right)^{2}}{2 \\, f\\left(x_{0}\\right)^{2}} \\frac{\\partial}{\\partial x_{0} }\\otimes \\mathrm{d} x_{1}\\otimes \\mathrm{d} x_{2}\\otimes \\mathrm{d} x_{3} -\\frac{\\left(\\frac{\\partial\\,f}{\\partial x_{0}}\\right)^{2}}{2 \\, f\\left(x_{0}\\right)^{2}} \\frac{\\partial}{\\partial x_{0} }\\otimes \\mathrm{d} x_{1}\\otimes \\mathrm{d} x_{3}\\otimes \\mathrm{d} x_{2} + \\left( \\frac{\\left(\\frac{\\partial\\,f}{\\partial x_{0}}\\right)^{2} - f\\left(x_{0}\\right) \\frac{\\partial^2\\,f}{\\partial x_{0} ^ 2}}{2 \\, f\\left(x_{0}\\right)^{2}} \\right) \\frac{\\partial}{\\partial x_{0} }\\otimes \\mathrm{d} x_{2}\\otimes \\mathrm{d} x_{0}\\otimes \\mathrm{d} x_{2} -\\frac{\\left(\\frac{\\partial\\,f}{\\partial x_{0}}\\right)^{2}}{2 \\, f\\left(x_{0}\\right)^{2}} \\frac{\\partial}{\\partial x_{0} }\\otimes \\mathrm{d} x_{2}\\otimes \\mathrm{d} x_{1}\\otimes \\mathrm{d} x_{3} + \\left( -\\frac{\\left(\\frac{\\partial\\,f}{\\partial x_{0}}\\right)^{2} - f\\left(x_{0}\\right) \\frac{\\partial^2\\,f}{\\partial x_{0} ^ 2}}{2 \\, f\\left(x_{0}\\right)^{2}} \\right) \\frac{\\partial}{\\partial x_{0} }\\otimes \\mathrm{d} x_{2}\\otimes \\mathrm{d} x_{2}\\otimes \\mathrm{d} x_{0} + \\frac{\\left(\\frac{\\partial\\,f}{\\partial x_{0}}\\right)^{2}}{2 \\, f\\left(x_{0}\\right)^{2}} \\frac{\\partial}{\\partial x_{0} }\\otimes \\mathrm{d} x_{2}\\otimes \\mathrm{d} x_{3}\\otimes \\mathrm{d} x_{1} + \\left( \\frac{\\left(\\frac{\\partial\\,f}{\\partial x_{0}}\\right)^{2} - f\\left(x_{0}\\right) \\frac{\\partial^2\\,f}{\\partial x_{0} ^ 2}}{2 \\, f\\left(x_{0}\\right)^{2}} \\right) \\frac{\\partial}{\\partial x_{0} }\\otimes \\mathrm{d} x_{3}\\otimes \\mathrm{d} x_{0}\\otimes \\mathrm{d} x_{3} + \\frac{\\left(\\frac{\\partial\\,f}{\\partial x_{0}}\\right)^{2}}{2 \\, f\\left(x_{0}\\right)^{2}} \\frac{\\partial}{\\partial x_{0} }\\otimes \\mathrm{d} x_{3}\\otimes \\mathrm{d} x_{1}\\otimes \\mathrm{d} x_{2} -\\frac{\\left(\\frac{\\partial\\,f}{\\partial x_{0}}\\right)^{2}}{2 \\, f\\left(x_{0}\\right)^{2}} \\frac{\\partial}{\\partial x_{0} }\\otimes \\mathrm{d} x_{3}\\otimes \\mathrm{d} x_{2}\\otimes \\mathrm{d} x_{1} + \\left( -\\frac{\\left(\\frac{\\partial\\,f}{\\partial x_{0}}\\right)^{2} - f\\left(x_{0}\\right) \\frac{\\partial^2\\,f}{\\partial x_{0} ^ 2}}{2 \\, f\\left(x_{0}\\right)^{2}} \\right) \\frac{\\partial}{\\partial x_{0} }\\otimes \\mathrm{d} x_{3}\\otimes \\mathrm{d} x_{3}\\otimes \\mathrm{d} x_{0} + \\left( -\\frac{\\left(\\frac{\\partial\\,f}{\\partial x_{0}}\\right)^{2} - f\\left(x_{0}\\right) \\frac{\\partial^2\\,f}{\\partial x_{0} ^ 2}}{2 \\, f\\left(x_{0}\\right)^{2}} \\right) \\frac{\\partial}{\\partial x_{1} }\\otimes \\mathrm{d} x_{0}\\otimes \\mathrm{d} x_{0}\\otimes \\mathrm{d} x_{1} + \\left( \\frac{\\left(\\frac{\\partial\\,f}{\\partial x_{0}}\\right)^{2} - f\\left(x_{0}\\right) \\frac{\\partial^2\\,f}{\\partial x_{0} ^ 2}}{2 \\, f\\left(x_{0}\\right)^{2}} \\right) \\frac{\\partial}{\\partial x_{1} }\\otimes \\mathrm{d} x_{0}\\otimes \\mathrm{d} x_{1}\\otimes \\mathrm{d} x_{0} -\\frac{\\left(\\frac{\\partial\\,f}{\\partial x_{0}}\\right)^{2}}{2 \\, f\\left(x_{0}\\right)^{2}} \\frac{\\partial}{\\partial x_{1} }\\otimes \\mathrm{d} x_{0}\\otimes \\mathrm{d} x_{2}\\otimes \\mathrm{d} x_{3} + \\frac{\\left(\\frac{\\partial\\,f}{\\partial x_{0}}\\right)^{2}}{2 \\, f\\left(x_{0}\\right)^{2}} \\frac{\\partial}{\\partial x_{1} }\\otimes \\mathrm{d} x_{0}\\otimes \\mathrm{d} x_{3}\\otimes \\mathrm{d} x_{2} + \\left( -\\frac{\\left(\\frac{\\partial\\,f}{\\partial x_{0}}\\right)^{2} - f\\left(x_{0}\\right) \\frac{\\partial^2\\,f}{\\partial x_{0} ^ 2}}{2 \\, f\\left(x_{0}\\right)^{2}} \\right) \\frac{\\partial}{\\partial x_{1} }\\otimes \\mathrm{d} x_{2}\\otimes \\mathrm{d} x_{0}\\otimes \\mathrm{d} x_{3} -\\frac{\\left(\\frac{\\partial\\,f}{\\partial x_{0}}\\right)^{2}}{2 \\, f\\left(x_{0}\\right)^{2}} \\frac{\\partial}{\\partial x_{1} }\\otimes \\mathrm{d} x_{2}\\otimes \\mathrm{d} x_{1}\\otimes \\mathrm{d} x_{2} + \\frac{\\left(\\frac{\\partial\\,f}{\\partial x_{0}}\\right)^{2}}{2 \\, f\\left(x_{0}\\right)^{2}} \\frac{\\partial}{\\partial x_{1} }\\otimes \\mathrm{d} x_{2}\\otimes \\mathrm{d} x_{2}\\otimes \\mathrm{d} x_{1} + \\left( \\frac{\\left(\\frac{\\partial\\,f}{\\partial x_{0}}\\right)^{2} - f\\left(x_{0}\\right) \\frac{\\partial^2\\,f}{\\partial x_{0} ^ 2}}{2 \\, f\\left(x_{0}\\right)^{2}} \\right) \\frac{\\partial}{\\partial x_{1} }\\otimes \\mathrm{d} x_{2}\\otimes \\mathrm{d} x_{3}\\otimes \\mathrm{d} x_{0} + \\left( \\frac{\\left(\\frac{\\partial\\,f}{\\partial x_{0}}\\right)^{2} - f\\left(x_{0}\\right) \\frac{\\partial^2\\,f}{\\partial x_{0} ^ 2}}{2 \\, f\\left(x_{0}\\right)^{2}} \\right) \\frac{\\partial}{\\partial x_{1} }\\otimes \\mathrm{d} x_{3}\\otimes \\mathrm{d} x_{0}\\otimes \\mathrm{d} x_{2} -\\frac{\\left(\\frac{\\partial\\,f}{\\partial x_{0}}\\right)^{2}}{2 \\, f\\left(x_{0}\\right)^{2}} \\frac{\\partial}{\\partial x_{1} }\\otimes \\mathrm{d} x_{3}\\otimes \\mathrm{d} x_{1}\\otimes \\mathrm{d} x_{3} + \\left( -\\frac{\\left(\\frac{\\partial\\,f}{\\partial x_{0}}\\right)^{2} - f\\left(x_{0}\\right) \\frac{\\partial^2\\,f}{\\partial x_{0} ^ 2}}{2 \\, f\\left(x_{0}\\right)^{2}} \\right) \\frac{\\partial}{\\partial x_{1} }\\otimes \\mathrm{d} x_{3}\\otimes \\mathrm{d} x_{2}\\otimes \\mathrm{d} x_{0} + \\frac{\\left(\\frac{\\partial\\,f}{\\partial x_{0}}\\right)^{2}}{2 \\, f\\left(x_{0}\\right)^{2}} \\frac{\\partial}{\\partial x_{1} }\\otimes \\mathrm{d} x_{3}\\otimes \\mathrm{d} x_{3}\\otimes \\mathrm{d} x_{1} + \\left( -\\frac{\\left(\\frac{\\partial\\,f}{\\partial x_{0}}\\right)^{2} - f\\left(x_{0}\\right) \\frac{\\partial^2\\,f}{\\partial x_{0} ^ 2}}{2 \\, f\\left(x_{0}\\right)^{2}} \\right) \\frac{\\partial}{\\partial x_{2} }\\otimes \\mathrm{d} x_{0}\\otimes \\mathrm{d} x_{0}\\otimes \\mathrm{d} x_{2} + \\frac{\\left(\\frac{\\partial\\,f}{\\partial x_{0}}\\right)^{2}}{2 \\, f\\left(x_{0}\\right)^{2}} \\frac{\\partial}{\\partial x_{2} }\\otimes \\mathrm{d} x_{0}\\otimes \\mathrm{d} x_{1}\\otimes \\mathrm{d} x_{3} + \\left( \\frac{\\left(\\frac{\\partial\\,f}{\\partial x_{0}}\\right)^{2} - f\\left(x_{0}\\right) \\frac{\\partial^2\\,f}{\\partial x_{0} ^ 2}}{2 \\, f\\left(x_{0}\\right)^{2}} \\right) \\frac{\\partial}{\\partial x_{2} }\\otimes \\mathrm{d} x_{0}\\otimes \\mathrm{d} x_{2}\\otimes \\mathrm{d} x_{0} -\\frac{\\left(\\frac{\\partial\\,f}{\\partial x_{0}}\\right)^{2}}{2 \\, f\\left(x_{0}\\right)^{2}} \\frac{\\partial}{\\partial x_{2} }\\otimes \\mathrm{d} x_{0}\\otimes \\mathrm{d} x_{3}\\otimes \\mathrm{d} x_{1} + \\left( \\frac{\\left(\\frac{\\partial\\,f}{\\partial x_{0}}\\right)^{2} - f\\left(x_{0}\\right) \\frac{\\partial^2\\,f}{\\partial x_{0} ^ 2}}{2 \\, f\\left(x_{0}\\right)^{2}} \\right) \\frac{\\partial}{\\partial x_{2} }\\otimes \\mathrm{d} x_{1}\\otimes \\mathrm{d} x_{0}\\otimes \\mathrm{d} x_{3} + \\frac{\\left(\\frac{\\partial\\,f}{\\partial x_{0}}\\right)^{2}}{2 \\, f\\left(x_{0}\\right)^{2}} \\frac{\\partial}{\\partial x_{2} }\\otimes \\mathrm{d} x_{1}\\otimes \\mathrm{d} x_{1}\\otimes \\mathrm{d} x_{2} -\\frac{\\left(\\frac{\\partial\\,f}{\\partial x_{0}}\\right)^{2}}{2 \\, f\\left(x_{0}\\right)^{2}} \\frac{\\partial}{\\partial x_{2} }\\otimes \\mathrm{d} x_{1}\\otimes \\mathrm{d} x_{2}\\otimes \\mathrm{d} x_{1} + \\left( -\\frac{\\left(\\frac{\\partial\\,f}{\\partial x_{0}}\\right)^{2} - f\\left(x_{0}\\right) \\frac{\\partial^2\\,f}{\\partial x_{0} ^ 2}}{2 \\, f\\left(x_{0}\\right)^{2}} \\right) \\frac{\\partial}{\\partial x_{2} }\\otimes \\mathrm{d} x_{1}\\otimes \\mathrm{d} x_{3}\\otimes \\mathrm{d} x_{0} + \\left( -\\frac{\\left(\\frac{\\partial\\,f}{\\partial x_{0}}\\right)^{2} - f\\left(x_{0}\\right) \\frac{\\partial^2\\,f}{\\partial x_{0} ^ 2}}{2 \\, f\\left(x_{0}\\right)^{2}} \\right) \\frac{\\partial}{\\partial x_{2} }\\otimes \\mathrm{d} x_{3}\\otimes \\mathrm{d} x_{0}\\otimes \\mathrm{d} x_{1} + \\left( \\frac{\\left(\\frac{\\partial\\,f}{\\partial x_{0}}\\right)^{2} - f\\left(x_{0}\\right) \\frac{\\partial^2\\,f}{\\partial x_{0} ^ 2}}{2 \\, f\\left(x_{0}\\right)^{2}} \\right) \\frac{\\partial}{\\partial x_{2} }\\otimes \\mathrm{d} x_{3}\\otimes \\mathrm{d} x_{1}\\otimes \\mathrm{d} x_{0} -\\frac{\\left(\\frac{\\partial\\,f}{\\partial x_{0}}\\right)^{2}}{2 \\, f\\left(x_{0}\\right)^{2}} \\frac{\\partial}{\\partial x_{2} }\\otimes \\mathrm{d} x_{3}\\otimes \\mathrm{d} x_{2}\\otimes \\mathrm{d} x_{3} + \\frac{\\left(\\frac{\\partial\\,f}{\\partial x_{0}}\\right)^{2}}{2 \\, f\\left(x_{0}\\right)^{2}} \\frac{\\partial}{\\partial x_{2} }\\otimes \\mathrm{d} x_{3}\\otimes \\mathrm{d} x_{3}\\otimes \\mathrm{d} x_{2} + \\left( -\\frac{\\left(\\frac{\\partial\\,f}{\\partial x_{0}}\\right)^{2} - f\\left(x_{0}\\right) \\frac{\\partial^2\\,f}{\\partial x_{0} ^ 2}}{2 \\, f\\left(x_{0}\\right)^{2}} \\right) \\frac{\\partial}{\\partial x_{3} }\\otimes \\mathrm{d} x_{0}\\otimes \\mathrm{d} x_{0}\\otimes \\mathrm{d} x_{3} -\\frac{\\left(\\frac{\\partial\\,f}{\\partial x_{0}}\\right)^{2}}{2 \\, f\\left(x_{0}\\right)^{2}} \\frac{\\partial}{\\partial x_{3} }\\otimes \\mathrm{d} x_{0}\\otimes \\mathrm{d} x_{1}\\otimes \\mathrm{d} x_{2} + \\frac{\\left(\\frac{\\partial\\,f}{\\partial x_{0}}\\right)^{2}}{2 \\, f\\left(x_{0}\\right)^{2}} \\frac{\\partial}{\\partial x_{3} }\\otimes \\mathrm{d} x_{0}\\otimes \\mathrm{d} x_{2}\\otimes \\mathrm{d} x_{1} + \\left( \\frac{\\left(\\frac{\\partial\\,f}{\\partial x_{0}}\\right)^{2} - f\\left(x_{0}\\right) \\frac{\\partial^2\\,f}{\\partial x_{0} ^ 2}}{2 \\, f\\left(x_{0}\\right)^{2}} \\right) \\frac{\\partial}{\\partial x_{3} }\\otimes \\mathrm{d} x_{0}\\otimes \\mathrm{d} x_{3}\\otimes \\mathrm{d} x_{0} + \\left( -\\frac{\\left(\\frac{\\partial\\,f}{\\partial x_{0}}\\right)^{2} - f\\left(x_{0}\\right) \\frac{\\partial^2\\,f}{\\partial x_{0} ^ 2}}{2 \\, f\\left(x_{0}\\right)^{2}} \\right) \\frac{\\partial}{\\partial x_{3} }\\otimes \\mathrm{d} x_{1}\\otimes \\mathrm{d} x_{0}\\otimes \\mathrm{d} x_{2} + \\frac{\\left(\\frac{\\partial\\,f}{\\partial x_{0}}\\right)^{2}}{2 \\, f\\left(x_{0}\\right)^{2}} \\frac{\\partial}{\\partial x_{3} }\\otimes \\mathrm{d} x_{1}\\otimes \\mathrm{d} x_{1}\\otimes \\mathrm{d} x_{3} + \\left( \\frac{\\left(\\frac{\\partial\\,f}{\\partial x_{0}}\\right)^{2} - f\\left(x_{0}\\right) \\frac{\\partial^2\\,f}{\\partial x_{0} ^ 2}}{2 \\, f\\left(x_{0}\\right)^{2}} \\right) \\frac{\\partial}{\\partial x_{3} }\\otimes \\mathrm{d} x_{1}\\otimes \\mathrm{d} x_{2}\\otimes \\mathrm{d} x_{0} -\\frac{\\left(\\frac{\\partial\\,f}{\\partial x_{0}}\\right)^{2}}{2 \\, f\\left(x_{0}\\right)^{2}} \\frac{\\partial}{\\partial x_{3} }\\otimes \\mathrm{d} x_{1}\\otimes \\mathrm{d} x_{3}\\otimes \\mathrm{d} x_{1} + \\left( \\frac{\\left(\\frac{\\partial\\,f}{\\partial x_{0}}\\right)^{2} - f\\left(x_{0}\\right) \\frac{\\partial^2\\,f}{\\partial x_{0} ^ 2}}{2 \\, f\\left(x_{0}\\right)^{2}} \\right) \\frac{\\partial}{\\partial x_{3} }\\otimes \\mathrm{d} x_{2}\\otimes \\mathrm{d} x_{0}\\otimes \\mathrm{d} x_{1} + \\left( -\\frac{\\left(\\frac{\\partial\\,f}{\\partial x_{0}}\\right)^{2} - f\\left(x_{0}\\right) \\frac{\\partial^2\\,f}{\\partial x_{0} ^ 2}}{2 \\, f\\left(x_{0}\\right)^{2}} \\right) \\frac{\\partial}{\\partial x_{3} }\\otimes \\mathrm{d} x_{2}\\otimes \\mathrm{d} x_{1}\\otimes \\mathrm{d} x_{0} + \\frac{\\left(\\frac{\\partial\\,f}{\\partial x_{0}}\\right)^{2}}{2 \\, f\\left(x_{0}\\right)^{2}} \\frac{\\partial}{\\partial x_{3} }\\otimes \\mathrm{d} x_{2}\\otimes \\mathrm{d} x_{2}\\otimes \\mathrm{d} x_{3} -\\frac{\\left(\\frac{\\partial\\,f}{\\partial x_{0}}\\right)^{2}}{2 \\, f\\left(x_{0}\\right)^{2}} \\frac{\\partial}{\\partial x_{3} }\\otimes \\mathrm{d} x_{2}\\otimes \\mathrm{d} x_{3}\\otimes \\mathrm{d} x_{2}\\)</html>"
      ],
      "text/latex": [
       "$\\displaystyle \\left( \\frac{\\left(\\frac{\\partial\\,f}{\\partial x_{0}}\\right)^{2} - f\\left(x_{0}\\right) \\frac{\\partial^2\\,f}{\\partial x_{0} ^ 2}}{2 \\, f\\left(x_{0}\\right)^{2}} \\right) \\frac{\\partial}{\\partial x_{0} }\\otimes \\mathrm{d} x_{1}\\otimes \\mathrm{d} x_{0}\\otimes \\mathrm{d} x_{1} + \\left( -\\frac{\\left(\\frac{\\partial\\,f}{\\partial x_{0}}\\right)^{2} - f\\left(x_{0}\\right) \\frac{\\partial^2\\,f}{\\partial x_{0} ^ 2}}{2 \\, f\\left(x_{0}\\right)^{2}} \\right) \\frac{\\partial}{\\partial x_{0} }\\otimes \\mathrm{d} x_{1}\\otimes \\mathrm{d} x_{1}\\otimes \\mathrm{d} x_{0} + \\frac{\\left(\\frac{\\partial\\,f}{\\partial x_{0}}\\right)^{2}}{2 \\, f\\left(x_{0}\\right)^{2}} \\frac{\\partial}{\\partial x_{0} }\\otimes \\mathrm{d} x_{1}\\otimes \\mathrm{d} x_{2}\\otimes \\mathrm{d} x_{3} -\\frac{\\left(\\frac{\\partial\\,f}{\\partial x_{0}}\\right)^{2}}{2 \\, f\\left(x_{0}\\right)^{2}} \\frac{\\partial}{\\partial x_{0} }\\otimes \\mathrm{d} x_{1}\\otimes \\mathrm{d} x_{3}\\otimes \\mathrm{d} x_{2} + \\left( \\frac{\\left(\\frac{\\partial\\,f}{\\partial x_{0}}\\right)^{2} - f\\left(x_{0}\\right) \\frac{\\partial^2\\,f}{\\partial x_{0} ^ 2}}{2 \\, f\\left(x_{0}\\right)^{2}} \\right) \\frac{\\partial}{\\partial x_{0} }\\otimes \\mathrm{d} x_{2}\\otimes \\mathrm{d} x_{0}\\otimes \\mathrm{d} x_{2} -\\frac{\\left(\\frac{\\partial\\,f}{\\partial x_{0}}\\right)^{2}}{2 \\, f\\left(x_{0}\\right)^{2}} \\frac{\\partial}{\\partial x_{0} }\\otimes \\mathrm{d} x_{2}\\otimes \\mathrm{d} x_{1}\\otimes \\mathrm{d} x_{3} + \\left( -\\frac{\\left(\\frac{\\partial\\,f}{\\partial x_{0}}\\right)^{2} - f\\left(x_{0}\\right) \\frac{\\partial^2\\,f}{\\partial x_{0} ^ 2}}{2 \\, f\\left(x_{0}\\right)^{2}} \\right) \\frac{\\partial}{\\partial x_{0} }\\otimes \\mathrm{d} x_{2}\\otimes \\mathrm{d} x_{2}\\otimes \\mathrm{d} x_{0} + \\frac{\\left(\\frac{\\partial\\,f}{\\partial x_{0}}\\right)^{2}}{2 \\, f\\left(x_{0}\\right)^{2}} \\frac{\\partial}{\\partial x_{0} }\\otimes \\mathrm{d} x_{2}\\otimes \\mathrm{d} x_{3}\\otimes \\mathrm{d} x_{1} + \\left( \\frac{\\left(\\frac{\\partial\\,f}{\\partial x_{0}}\\right)^{2} - f\\left(x_{0}\\right) \\frac{\\partial^2\\,f}{\\partial x_{0} ^ 2}}{2 \\, f\\left(x_{0}\\right)^{2}} \\right) \\frac{\\partial}{\\partial x_{0} }\\otimes \\mathrm{d} x_{3}\\otimes \\mathrm{d} x_{0}\\otimes \\mathrm{d} x_{3} + \\frac{\\left(\\frac{\\partial\\,f}{\\partial x_{0}}\\right)^{2}}{2 \\, f\\left(x_{0}\\right)^{2}} \\frac{\\partial}{\\partial x_{0} }\\otimes \\mathrm{d} x_{3}\\otimes \\mathrm{d} x_{1}\\otimes \\mathrm{d} x_{2} -\\frac{\\left(\\frac{\\partial\\,f}{\\partial x_{0}}\\right)^{2}}{2 \\, f\\left(x_{0}\\right)^{2}} \\frac{\\partial}{\\partial x_{0} }\\otimes \\mathrm{d} x_{3}\\otimes \\mathrm{d} x_{2}\\otimes \\mathrm{d} x_{1} + \\left( -\\frac{\\left(\\frac{\\partial\\,f}{\\partial x_{0}}\\right)^{2} - f\\left(x_{0}\\right) \\frac{\\partial^2\\,f}{\\partial x_{0} ^ 2}}{2 \\, f\\left(x_{0}\\right)^{2}} \\right) \\frac{\\partial}{\\partial x_{0} }\\otimes \\mathrm{d} x_{3}\\otimes \\mathrm{d} x_{3}\\otimes \\mathrm{d} x_{0} + \\left( -\\frac{\\left(\\frac{\\partial\\,f}{\\partial x_{0}}\\right)^{2} - f\\left(x_{0}\\right) \\frac{\\partial^2\\,f}{\\partial x_{0} ^ 2}}{2 \\, f\\left(x_{0}\\right)^{2}} \\right) \\frac{\\partial}{\\partial x_{1} }\\otimes \\mathrm{d} x_{0}\\otimes \\mathrm{d} x_{0}\\otimes \\mathrm{d} x_{1} + \\left( \\frac{\\left(\\frac{\\partial\\,f}{\\partial x_{0}}\\right)^{2} - f\\left(x_{0}\\right) \\frac{\\partial^2\\,f}{\\partial x_{0} ^ 2}}{2 \\, f\\left(x_{0}\\right)^{2}} \\right) \\frac{\\partial}{\\partial x_{1} }\\otimes \\mathrm{d} x_{0}\\otimes \\mathrm{d} x_{1}\\otimes \\mathrm{d} x_{0} -\\frac{\\left(\\frac{\\partial\\,f}{\\partial x_{0}}\\right)^{2}}{2 \\, f\\left(x_{0}\\right)^{2}} \\frac{\\partial}{\\partial x_{1} }\\otimes \\mathrm{d} x_{0}\\otimes \\mathrm{d} x_{2}\\otimes \\mathrm{d} x_{3} + \\frac{\\left(\\frac{\\partial\\,f}{\\partial x_{0}}\\right)^{2}}{2 \\, f\\left(x_{0}\\right)^{2}} \\frac{\\partial}{\\partial x_{1} }\\otimes \\mathrm{d} x_{0}\\otimes \\mathrm{d} x_{3}\\otimes \\mathrm{d} x_{2} + \\left( -\\frac{\\left(\\frac{\\partial\\,f}{\\partial x_{0}}\\right)^{2} - f\\left(x_{0}\\right) \\frac{\\partial^2\\,f}{\\partial x_{0} ^ 2}}{2 \\, f\\left(x_{0}\\right)^{2}} \\right) \\frac{\\partial}{\\partial x_{1} }\\otimes \\mathrm{d} x_{2}\\otimes \\mathrm{d} x_{0}\\otimes \\mathrm{d} x_{3} -\\frac{\\left(\\frac{\\partial\\,f}{\\partial x_{0}}\\right)^{2}}{2 \\, f\\left(x_{0}\\right)^{2}} \\frac{\\partial}{\\partial x_{1} }\\otimes \\mathrm{d} x_{2}\\otimes \\mathrm{d} x_{1}\\otimes \\mathrm{d} x_{2} + \\frac{\\left(\\frac{\\partial\\,f}{\\partial x_{0}}\\right)^{2}}{2 \\, f\\left(x_{0}\\right)^{2}} \\frac{\\partial}{\\partial x_{1} }\\otimes \\mathrm{d} x_{2}\\otimes \\mathrm{d} x_{2}\\otimes \\mathrm{d} x_{1} + \\left( \\frac{\\left(\\frac{\\partial\\,f}{\\partial x_{0}}\\right)^{2} - f\\left(x_{0}\\right) \\frac{\\partial^2\\,f}{\\partial x_{0} ^ 2}}{2 \\, f\\left(x_{0}\\right)^{2}} \\right) \\frac{\\partial}{\\partial x_{1} }\\otimes \\mathrm{d} x_{2}\\otimes \\mathrm{d} x_{3}\\otimes \\mathrm{d} x_{0} + \\left( \\frac{\\left(\\frac{\\partial\\,f}{\\partial x_{0}}\\right)^{2} - f\\left(x_{0}\\right) \\frac{\\partial^2\\,f}{\\partial x_{0} ^ 2}}{2 \\, f\\left(x_{0}\\right)^{2}} \\right) \\frac{\\partial}{\\partial x_{1} }\\otimes \\mathrm{d} x_{3}\\otimes \\mathrm{d} x_{0}\\otimes \\mathrm{d} x_{2} -\\frac{\\left(\\frac{\\partial\\,f}{\\partial x_{0}}\\right)^{2}}{2 \\, f\\left(x_{0}\\right)^{2}} \\frac{\\partial}{\\partial x_{1} }\\otimes \\mathrm{d} x_{3}\\otimes \\mathrm{d} x_{1}\\otimes \\mathrm{d} x_{3} + \\left( -\\frac{\\left(\\frac{\\partial\\,f}{\\partial x_{0}}\\right)^{2} - f\\left(x_{0}\\right) \\frac{\\partial^2\\,f}{\\partial x_{0} ^ 2}}{2 \\, f\\left(x_{0}\\right)^{2}} \\right) \\frac{\\partial}{\\partial x_{1} }\\otimes \\mathrm{d} x_{3}\\otimes \\mathrm{d} x_{2}\\otimes \\mathrm{d} x_{0} + \\frac{\\left(\\frac{\\partial\\,f}{\\partial x_{0}}\\right)^{2}}{2 \\, f\\left(x_{0}\\right)^{2}} \\frac{\\partial}{\\partial x_{1} }\\otimes \\mathrm{d} x_{3}\\otimes \\mathrm{d} x_{3}\\otimes \\mathrm{d} x_{1} + \\left( -\\frac{\\left(\\frac{\\partial\\,f}{\\partial x_{0}}\\right)^{2} - f\\left(x_{0}\\right) \\frac{\\partial^2\\,f}{\\partial x_{0} ^ 2}}{2 \\, f\\left(x_{0}\\right)^{2}} \\right) \\frac{\\partial}{\\partial x_{2} }\\otimes \\mathrm{d} x_{0}\\otimes \\mathrm{d} x_{0}\\otimes \\mathrm{d} x_{2} + \\frac{\\left(\\frac{\\partial\\,f}{\\partial x_{0}}\\right)^{2}}{2 \\, f\\left(x_{0}\\right)^{2}} \\frac{\\partial}{\\partial x_{2} }\\otimes \\mathrm{d} x_{0}\\otimes \\mathrm{d} x_{1}\\otimes \\mathrm{d} x_{3} + \\left( \\frac{\\left(\\frac{\\partial\\,f}{\\partial x_{0}}\\right)^{2} - f\\left(x_{0}\\right) \\frac{\\partial^2\\,f}{\\partial x_{0} ^ 2}}{2 \\, f\\left(x_{0}\\right)^{2}} \\right) \\frac{\\partial}{\\partial x_{2} }\\otimes \\mathrm{d} x_{0}\\otimes \\mathrm{d} x_{2}\\otimes \\mathrm{d} x_{0} -\\frac{\\left(\\frac{\\partial\\,f}{\\partial x_{0}}\\right)^{2}}{2 \\, f\\left(x_{0}\\right)^{2}} \\frac{\\partial}{\\partial x_{2} }\\otimes \\mathrm{d} x_{0}\\otimes \\mathrm{d} x_{3}\\otimes \\mathrm{d} x_{1} + \\left( \\frac{\\left(\\frac{\\partial\\,f}{\\partial x_{0}}\\right)^{2} - f\\left(x_{0}\\right) \\frac{\\partial^2\\,f}{\\partial x_{0} ^ 2}}{2 \\, f\\left(x_{0}\\right)^{2}} \\right) \\frac{\\partial}{\\partial x_{2} }\\otimes \\mathrm{d} x_{1}\\otimes \\mathrm{d} x_{0}\\otimes \\mathrm{d} x_{3} + \\frac{\\left(\\frac{\\partial\\,f}{\\partial x_{0}}\\right)^{2}}{2 \\, f\\left(x_{0}\\right)^{2}} \\frac{\\partial}{\\partial x_{2} }\\otimes \\mathrm{d} x_{1}\\otimes \\mathrm{d} x_{1}\\otimes \\mathrm{d} x_{2} -\\frac{\\left(\\frac{\\partial\\,f}{\\partial x_{0}}\\right)^{2}}{2 \\, f\\left(x_{0}\\right)^{2}} \\frac{\\partial}{\\partial x_{2} }\\otimes \\mathrm{d} x_{1}\\otimes \\mathrm{d} x_{2}\\otimes \\mathrm{d} x_{1} + \\left( -\\frac{\\left(\\frac{\\partial\\,f}{\\partial x_{0}}\\right)^{2} - f\\left(x_{0}\\right) \\frac{\\partial^2\\,f}{\\partial x_{0} ^ 2}}{2 \\, f\\left(x_{0}\\right)^{2}} \\right) \\frac{\\partial}{\\partial x_{2} }\\otimes \\mathrm{d} x_{1}\\otimes \\mathrm{d} x_{3}\\otimes \\mathrm{d} x_{0} + \\left( -\\frac{\\left(\\frac{\\partial\\,f}{\\partial x_{0}}\\right)^{2} - f\\left(x_{0}\\right) \\frac{\\partial^2\\,f}{\\partial x_{0} ^ 2}}{2 \\, f\\left(x_{0}\\right)^{2}} \\right) \\frac{\\partial}{\\partial x_{2} }\\otimes \\mathrm{d} x_{3}\\otimes \\mathrm{d} x_{0}\\otimes \\mathrm{d} x_{1} + \\left( \\frac{\\left(\\frac{\\partial\\,f}{\\partial x_{0}}\\right)^{2} - f\\left(x_{0}\\right) \\frac{\\partial^2\\,f}{\\partial x_{0} ^ 2}}{2 \\, f\\left(x_{0}\\right)^{2}} \\right) \\frac{\\partial}{\\partial x_{2} }\\otimes \\mathrm{d} x_{3}\\otimes \\mathrm{d} x_{1}\\otimes \\mathrm{d} x_{0} -\\frac{\\left(\\frac{\\partial\\,f}{\\partial x_{0}}\\right)^{2}}{2 \\, f\\left(x_{0}\\right)^{2}} \\frac{\\partial}{\\partial x_{2} }\\otimes \\mathrm{d} x_{3}\\otimes \\mathrm{d} x_{2}\\otimes \\mathrm{d} x_{3} + \\frac{\\left(\\frac{\\partial\\,f}{\\partial x_{0}}\\right)^{2}}{2 \\, f\\left(x_{0}\\right)^{2}} \\frac{\\partial}{\\partial x_{2} }\\otimes \\mathrm{d} x_{3}\\otimes \\mathrm{d} x_{3}\\otimes \\mathrm{d} x_{2} + \\left( -\\frac{\\left(\\frac{\\partial\\,f}{\\partial x_{0}}\\right)^{2} - f\\left(x_{0}\\right) \\frac{\\partial^2\\,f}{\\partial x_{0} ^ 2}}{2 \\, f\\left(x_{0}\\right)^{2}} \\right) \\frac{\\partial}{\\partial x_{3} }\\otimes \\mathrm{d} x_{0}\\otimes \\mathrm{d} x_{0}\\otimes \\mathrm{d} x_{3} -\\frac{\\left(\\frac{\\partial\\,f}{\\partial x_{0}}\\right)^{2}}{2 \\, f\\left(x_{0}\\right)^{2}} \\frac{\\partial}{\\partial x_{3} }\\otimes \\mathrm{d} x_{0}\\otimes \\mathrm{d} x_{1}\\otimes \\mathrm{d} x_{2} + \\frac{\\left(\\frac{\\partial\\,f}{\\partial x_{0}}\\right)^{2}}{2 \\, f\\left(x_{0}\\right)^{2}} \\frac{\\partial}{\\partial x_{3} }\\otimes \\mathrm{d} x_{0}\\otimes \\mathrm{d} x_{2}\\otimes \\mathrm{d} x_{1} + \\left( \\frac{\\left(\\frac{\\partial\\,f}{\\partial x_{0}}\\right)^{2} - f\\left(x_{0}\\right) \\frac{\\partial^2\\,f}{\\partial x_{0} ^ 2}}{2 \\, f\\left(x_{0}\\right)^{2}} \\right) \\frac{\\partial}{\\partial x_{3} }\\otimes \\mathrm{d} x_{0}\\otimes \\mathrm{d} x_{3}\\otimes \\mathrm{d} x_{0} + \\left( -\\frac{\\left(\\frac{\\partial\\,f}{\\partial x_{0}}\\right)^{2} - f\\left(x_{0}\\right) \\frac{\\partial^2\\,f}{\\partial x_{0} ^ 2}}{2 \\, f\\left(x_{0}\\right)^{2}} \\right) \\frac{\\partial}{\\partial x_{3} }\\otimes \\mathrm{d} x_{1}\\otimes \\mathrm{d} x_{0}\\otimes \\mathrm{d} x_{2} + \\frac{\\left(\\frac{\\partial\\,f}{\\partial x_{0}}\\right)^{2}}{2 \\, f\\left(x_{0}\\right)^{2}} \\frac{\\partial}{\\partial x_{3} }\\otimes \\mathrm{d} x_{1}\\otimes \\mathrm{d} x_{1}\\otimes \\mathrm{d} x_{3} + \\left( \\frac{\\left(\\frac{\\partial\\,f}{\\partial x_{0}}\\right)^{2} - f\\left(x_{0}\\right) \\frac{\\partial^2\\,f}{\\partial x_{0} ^ 2}}{2 \\, f\\left(x_{0}\\right)^{2}} \\right) \\frac{\\partial}{\\partial x_{3} }\\otimes \\mathrm{d} x_{1}\\otimes \\mathrm{d} x_{2}\\otimes \\mathrm{d} x_{0} -\\frac{\\left(\\frac{\\partial\\,f}{\\partial x_{0}}\\right)^{2}}{2 \\, f\\left(x_{0}\\right)^{2}} \\frac{\\partial}{\\partial x_{3} }\\otimes \\mathrm{d} x_{1}\\otimes \\mathrm{d} x_{3}\\otimes \\mathrm{d} x_{1} + \\left( \\frac{\\left(\\frac{\\partial\\,f}{\\partial x_{0}}\\right)^{2} - f\\left(x_{0}\\right) \\frac{\\partial^2\\,f}{\\partial x_{0} ^ 2}}{2 \\, f\\left(x_{0}\\right)^{2}} \\right) \\frac{\\partial}{\\partial x_{3} }\\otimes \\mathrm{d} x_{2}\\otimes \\mathrm{d} x_{0}\\otimes \\mathrm{d} x_{1} + \\left( -\\frac{\\left(\\frac{\\partial\\,f}{\\partial x_{0}}\\right)^{2} - f\\left(x_{0}\\right) \\frac{\\partial^2\\,f}{\\partial x_{0} ^ 2}}{2 \\, f\\left(x_{0}\\right)^{2}} \\right) \\frac{\\partial}{\\partial x_{3} }\\otimes \\mathrm{d} x_{2}\\otimes \\mathrm{d} x_{1}\\otimes \\mathrm{d} x_{0} + \\frac{\\left(\\frac{\\partial\\,f}{\\partial x_{0}}\\right)^{2}}{2 \\, f\\left(x_{0}\\right)^{2}} \\frac{\\partial}{\\partial x_{3} }\\otimes \\mathrm{d} x_{2}\\otimes \\mathrm{d} x_{2}\\otimes \\mathrm{d} x_{3} -\\frac{\\left(\\frac{\\partial\\,f}{\\partial x_{0}}\\right)^{2}}{2 \\, f\\left(x_{0}\\right)^{2}} \\frac{\\partial}{\\partial x_{3} }\\otimes \\mathrm{d} x_{2}\\otimes \\mathrm{d} x_{3}\\otimes \\mathrm{d} x_{2}$"
      ],
      "text/plain": [
       "1/2*((d(f)/dx0)^2 - f(x0)*d^2(f)/dx0^2)/f(x0)^2 ∂/∂x0⊗dx1⊗dx0⊗dx1 - 1/2*((d(f)/dx0)^2 - f(x0)*d^2(f)/dx0^2)/f(x0)^2 ∂/∂x0⊗dx1⊗dx1⊗dx0 + 1/2*(d(f)/dx0)^2/f(x0)^2 ∂/∂x0⊗dx1⊗dx2⊗dx3 - 1/2*(d(f)/dx0)^2/f(x0)^2 ∂/∂x0⊗dx1⊗dx3⊗dx2 + 1/2*((d(f)/dx0)^2 - f(x0)*d^2(f)/dx0^2)/f(x0)^2 ∂/∂x0⊗dx2⊗dx0⊗dx2 - 1/2*(d(f)/dx0)^2/f(x0)^2 ∂/∂x0⊗dx2⊗dx1⊗dx3 - 1/2*((d(f)/dx0)^2 - f(x0)*d^2(f)/dx0^2)/f(x0)^2 ∂/∂x0⊗dx2⊗dx2⊗dx0 + 1/2*(d(f)/dx0)^2/f(x0)^2 ∂/∂x0⊗dx2⊗dx3⊗dx1 + 1/2*((d(f)/dx0)^2 - f(x0)*d^2(f)/dx0^2)/f(x0)^2 ∂/∂x0⊗dx3⊗dx0⊗dx3 + 1/2*(d(f)/dx0)^2/f(x0)^2 ∂/∂x0⊗dx3⊗dx1⊗dx2 - 1/2*(d(f)/dx0)^2/f(x0)^2 ∂/∂x0⊗dx3⊗dx2⊗dx1 - 1/2*((d(f)/dx0)^2 - f(x0)*d^2(f)/dx0^2)/f(x0)^2 ∂/∂x0⊗dx3⊗dx3⊗dx0 - 1/2*((d(f)/dx0)^2 - f(x0)*d^2(f)/dx0^2)/f(x0)^2 ∂/∂x1⊗dx0⊗dx0⊗dx1 + 1/2*((d(f)/dx0)^2 - f(x0)*d^2(f)/dx0^2)/f(x0)^2 ∂/∂x1⊗dx0⊗dx1⊗dx0 - 1/2*(d(f)/dx0)^2/f(x0)^2 ∂/∂x1⊗dx0⊗dx2⊗dx3 + 1/2*(d(f)/dx0)^2/f(x0)^2 ∂/∂x1⊗dx0⊗dx3⊗dx2 - 1/2*((d(f)/dx0)^2 - f(x0)*d^2(f)/dx0^2)/f(x0)^2 ∂/∂x1⊗dx2⊗dx0⊗dx3 - 1/2*(d(f)/dx0)^2/f(x0)^2 ∂/∂x1⊗dx2⊗dx1⊗dx2 + 1/2*(d(f)/dx0)^2/f(x0)^2 ∂/∂x1⊗dx2⊗dx2⊗dx1 + 1/2*((d(f)/dx0)^2 - f(x0)*d^2(f)/dx0^2)/f(x0)^2 ∂/∂x1⊗dx2⊗dx3⊗dx0 + 1/2*((d(f)/dx0)^2 - f(x0)*d^2(f)/dx0^2)/f(x0)^2 ∂/∂x1⊗dx3⊗dx0⊗dx2 - 1/2*(d(f)/dx0)^2/f(x0)^2 ∂/∂x1⊗dx3⊗dx1⊗dx3 - 1/2*((d(f)/dx0)^2 - f(x0)*d^2(f)/dx0^2)/f(x0)^2 ∂/∂x1⊗dx3⊗dx2⊗dx0 + 1/2*(d(f)/dx0)^2/f(x0)^2 ∂/∂x1⊗dx3⊗dx3⊗dx1 - 1/2*((d(f)/dx0)^2 - f(x0)*d^2(f)/dx0^2)/f(x0)^2 ∂/∂x2⊗dx0⊗dx0⊗dx2 + 1/2*(d(f)/dx0)^2/f(x0)^2 ∂/∂x2⊗dx0⊗dx1⊗dx3 + 1/2*((d(f)/dx0)^2 - f(x0)*d^2(f)/dx0^2)/f(x0)^2 ∂/∂x2⊗dx0⊗dx2⊗dx0 - 1/2*(d(f)/dx0)^2/f(x0)^2 ∂/∂x2⊗dx0⊗dx3⊗dx1 + 1/2*((d(f)/dx0)^2 - f(x0)*d^2(f)/dx0^2)/f(x0)^2 ∂/∂x2⊗dx1⊗dx0⊗dx3 + 1/2*(d(f)/dx0)^2/f(x0)^2 ∂/∂x2⊗dx1⊗dx1⊗dx2 - 1/2*(d(f)/dx0)^2/f(x0)^2 ∂/∂x2⊗dx1⊗dx2⊗dx1 - 1/2*((d(f)/dx0)^2 - f(x0)*d^2(f)/dx0^2)/f(x0)^2 ∂/∂x2⊗dx1⊗dx3⊗dx0 - 1/2*((d(f)/dx0)^2 - f(x0)*d^2(f)/dx0^2)/f(x0)^2 ∂/∂x2⊗dx3⊗dx0⊗dx1 + 1/2*((d(f)/dx0)^2 - f(x0)*d^2(f)/dx0^2)/f(x0)^2 ∂/∂x2⊗dx3⊗dx1⊗dx0 - 1/2*(d(f)/dx0)^2/f(x0)^2 ∂/∂x2⊗dx3⊗dx2⊗dx3 + 1/2*(d(f)/dx0)^2/f(x0)^2 ∂/∂x2⊗dx3⊗dx3⊗dx2 - 1/2*((d(f)/dx0)^2 - f(x0)*d^2(f)/dx0^2)/f(x0)^2 ∂/∂x3⊗dx0⊗dx0⊗dx3 - 1/2*(d(f)/dx0)^2/f(x0)^2 ∂/∂x3⊗dx0⊗dx1⊗dx2 + 1/2*(d(f)/dx0)^2/f(x0)^2 ∂/∂x3⊗dx0⊗dx2⊗dx1 + 1/2*((d(f)/dx0)^2 - f(x0)*d^2(f)/dx0^2)/f(x0)^2 ∂/∂x3⊗dx0⊗dx3⊗dx0 - 1/2*((d(f)/dx0)^2 - f(x0)*d^2(f)/dx0^2)/f(x0)^2 ∂/∂x3⊗dx1⊗dx0⊗dx2 + 1/2*(d(f)/dx0)^2/f(x0)^2 ∂/∂x3⊗dx1⊗dx1⊗dx3 + 1/2*((d(f)/dx0)^2 - f(x0)*d^2(f)/dx0^2)/f(x0)^2 ∂/∂x3⊗dx1⊗dx2⊗dx0 - 1/2*(d(f)/dx0)^2/f(x0)^2 ∂/∂x3⊗dx1⊗dx3⊗dx1 + 1/2*((d(f)/dx0)^2 - f(x0)*d^2(f)/dx0^2)/f(x0)^2 ∂/∂x3⊗dx2⊗dx0⊗dx1 - 1/2*((d(f)/dx0)^2 - f(x0)*d^2(f)/dx0^2)/f(x0)^2 ∂/∂x3⊗dx2⊗dx1⊗dx0 + 1/2*(d(f)/dx0)^2/f(x0)^2 ∂/∂x3⊗dx2⊗dx2⊗dx3 - 1/2*(d(f)/dx0)^2/f(x0)^2 ∂/∂x3⊗dx2⊗dx3⊗dx2"
      ]
     },
     "execution_count": 72,
     "metadata": {},
     "output_type": "execute_result"
    }
   ],
   "source": [
    "nab_t.riemann().display()"
   ]
  },
  {
   "cell_type": "code",
   "execution_count": null,
   "id": "470f0b31-a312-452e-9503-df75e75956ac",
   "metadata": {},
   "outputs": [],
   "source": []
  },
  {
   "cell_type": "code",
   "execution_count": 21,
   "id": "9176a6c6-71ba-4a58-abb1-6903a5c9704a",
   "metadata": {},
   "outputs": [],
   "source": [
    "# dd^*F\n",
    "d_star = lambda a: -g.hodge_star(g.hodge_star(a).derivative())"
   ]
  },
  {
   "cell_type": "code",
   "execution_count": null,
   "id": "19268639-21d2-49da-8ff9-f5c590fa5acd",
   "metadata": {},
   "outputs": [],
   "source": [
    "(d_star(F).derivative() + first_Ric).display()"
   ]
  },
  {
   "cell_type": "code",
   "execution_count": null,
   "id": "461eb40c-c1e8-4477-9238-523db17762af",
   "metadata": {},
   "outputs": [],
   "source": [
    "# sectional curvature\n",
    "for i in range(DIM):\n",
    "    for j in range(i+1, DIM):\n",
    "        display(nab_t.riemann()[i,j,j,i] / (g[i,i]*g[j,j] - g[i,j]**2))"
   ]
  },
  {
   "cell_type": "code",
   "execution_count": null,
   "id": "86083ea6-7b25-4108-a198-ac8e794f3af9",
   "metadata": {},
   "outputs": [],
   "source": []
  },
  {
   "cell_type": "code",
   "execution_count": 74,
   "id": "d1cb24eb-da70-454a-9915-0ff7d34f9bcd",
   "metadata": {},
   "outputs": [],
   "source": [
    "#for i in range(DIM):\n",
    "#    for j in range(DIM):\n",
    "#        print(nab_B.curvature_form(i,j).display())\n",
    "# trace curvature 2-form to obtain Ricci curvature\n",
    "#sum( nab_B.curvature_form(k, 0)(ed[k], ed[0]) for k in range(DIM) ).display()"
   ]
  },
  {
   "cell_type": "code",
   "execution_count": 34,
   "id": "b5d3ccd3-ea51-49c4-82c9-7f5ebf8568de",
   "metadata": {},
   "outputs": [
    {
     "data": {
      "text/html": [
       "<html>\\(\\displaystyle \\verb|Vector|\\verb| |\\verb|Fields:|\\)</html>"
      ],
      "text/latex": [
       "$\\displaystyle \\verb|Vector|\\verb| |\\verb|Fields:|$"
      ],
      "text/plain": [
       "'Vector Fields:'"
      ]
     },
     "metadata": {},
     "output_type": "display_data"
    },
    {
     "data": {
      "text/html": [
       "<html>\\(\\displaystyle x_{1} \\frac{\\partial}{\\partial x_{0} } -x_{0} \\frac{\\partial}{\\partial x_{1} }\\)</html>"
      ],
      "text/latex": [
       "$\\displaystyle x_{1} \\frac{\\partial}{\\partial x_{0} } -x_{0} \\frac{\\partial}{\\partial x_{1} }$"
      ],
      "text/plain": [
       "x1 ∂/∂x0 - x0 ∂/∂x1"
      ]
     },
     "metadata": {},
     "output_type": "display_data"
    },
    {
     "data": {
      "text/html": [
       "<html>\\(\\displaystyle x_{3} \\frac{\\partial}{\\partial x_{2} } -x_{2} \\frac{\\partial}{\\partial x_{3} }\\)</html>"
      ],
      "text/latex": [
       "$\\displaystyle x_{3} \\frac{\\partial}{\\partial x_{2} } -x_{2} \\frac{\\partial}{\\partial x_{3} }$"
      ],
      "text/plain": [
       "x3 ∂/∂x2 - x2 ∂/∂x3"
      ]
     },
     "metadata": {},
     "output_type": "display_data"
    },
    {
     "data": {
      "text/html": [
       "<html>\\(\\displaystyle \\verb|F|\\verb| |\\verb|contractions:|\\)</html>"
      ],
      "text/latex": [
       "$\\displaystyle \\verb|F|\\verb| |\\verb|contractions:|$"
      ],
      "text/plain": [
       "'F contractions:'"
      ]
     },
     "metadata": {},
     "output_type": "display_data"
    },
    {
     "data": {
      "text/html": [
       "<html>\\(\\displaystyle \\begin{array}{llcl} \\mathrm{d}\\mathrm{d}F\\left(J\\left(e_{5}\\right),J\\left(e_{6}\\right),J\\left(e_{7}\\right)\\right)\\left(e_{7}\\right):& M & \\longrightarrow & \\mathbb{R} \\\\ & \\left(x_{0}, x_{1}, x_{2}, x_{3}, x_{4}, x_{5}, x_{6}, x_{7}\\right) & \\longmapsto & 0 \\end{array}\\)</html>"
      ],
      "text/latex": [
       "$\\displaystyle \\begin{array}{llcl} \\mathrm{d}\\mathrm{d}F\\left(J\\left(e_{5}\\right),J\\left(e_{6}\\right),J\\left(e_{7}\\right)\\right)\\left(e_{7}\\right):& M & \\longrightarrow & \\mathbb{R} \\\\ & \\left(x_{0}, x_{1}, x_{2}, x_{3}, x_{4}, x_{5}, x_{6}, x_{7}\\right) & \\longmapsto & 0 \\end{array}$"
      ],
      "text/plain": [
       "ddF(J(e_5),J(e_6),J(e_7))(e_7): M → ℝ\n",
       "   (x0, x1, x2, x3, x4, x5, x6, x7) ↦ 0"
      ]
     },
     "metadata": {},
     "output_type": "display_data"
    },
    {
     "data": {
      "text/html": [
       "<html>\\(\\displaystyle \\verb|dF|\\verb| |\\verb|contractions:|\\)</html>"
      ],
      "text/latex": [
       "$\\displaystyle \\verb|dF|\\verb| |\\verb|contractions:|$"
      ],
      "text/plain": [
       "'dF contractions:'"
      ]
     },
     "metadata": {},
     "output_type": "display_data"
    },
    {
     "data": {
      "text/html": [
       "<html>\\(\\displaystyle \\left( -x_{0} x_{3} \\frac{\\partial\\,f}{\\partial x_{2}} + x_{0} x_{2} \\frac{\\partial\\,f}{\\partial x_{3}} \\right) \\mathrm{d} x_{0} + \\left( -x_{1} x_{3} \\frac{\\partial\\,f}{\\partial x_{2}} + x_{1} x_{2} \\frac{\\partial\\,f}{\\partial x_{3}} \\right) \\mathrm{d} x_{1} + {\\left(x_{1} \\frac{\\partial\\,f}{\\partial x_{0}} - x_{0} \\frac{\\partial\\,f}{\\partial x_{1}}\\right)} x_{2} \\mathrm{d} x_{2} + {\\left(x_{1} \\frac{\\partial\\,f}{\\partial x_{0}} - x_{0} \\frac{\\partial\\,f}{\\partial x_{1}}\\right)} x_{3} \\mathrm{d} x_{3}\\)</html>"
      ],
      "text/latex": [
       "$\\displaystyle \\left( -x_{0} x_{3} \\frac{\\partial\\,f}{\\partial x_{2}} + x_{0} x_{2} \\frac{\\partial\\,f}{\\partial x_{3}} \\right) \\mathrm{d} x_{0} + \\left( -x_{1} x_{3} \\frac{\\partial\\,f}{\\partial x_{2}} + x_{1} x_{2} \\frac{\\partial\\,f}{\\partial x_{3}} \\right) \\mathrm{d} x_{1} + {\\left(x_{1} \\frac{\\partial\\,f}{\\partial x_{0}} - x_{0} \\frac{\\partial\\,f}{\\partial x_{1}}\\right)} x_{2} \\mathrm{d} x_{2} + {\\left(x_{1} \\frac{\\partial\\,f}{\\partial x_{0}} - x_{0} \\frac{\\partial\\,f}{\\partial x_{1}}\\right)} x_{3} \\mathrm{d} x_{3}$"
      ],
      "text/plain": [
       "(-x0*x3*d(f)/dx2 + x0*x2*d(f)/dx3) dx0 + (-x1*x3*d(f)/dx2 + x1*x2*d(f)/dx3) dx1 + (x1*d(f)/dx0 - x0*d(f)/dx1)*x2 dx2 + (x1*d(f)/dx0 - x0*d(f)/dx1)*x3 dx3"
      ]
     },
     "metadata": {},
     "output_type": "display_data"
    },
    {
     "data": {
      "text/html": [
       "<html>\\(\\displaystyle \\verb|JdF|\\verb| |\\verb|contractions:|\\)</html>"
      ],
      "text/latex": [
       "$\\displaystyle \\verb|JdF|\\verb| |\\verb|contractions:|$"
      ],
      "text/plain": [
       "'JdF contractions:'"
      ]
     },
     "metadata": {},
     "output_type": "display_data"
    },
    {
     "data": {
      "text/html": [
       "<html>\\(\\displaystyle \\left( x_{0} x_{2} \\frac{\\partial\\,f}{\\partial x_{2}} + x_{0} x_{3} \\frac{\\partial\\,f}{\\partial x_{3}} \\right) \\mathrm{d} x_{0} + \\left( x_{1} x_{2} \\frac{\\partial\\,f}{\\partial x_{2}} + x_{1} x_{3} \\frac{\\partial\\,f}{\\partial x_{3}} \\right) \\mathrm{d} x_{1} -{\\left(x_{0} \\frac{\\partial\\,f}{\\partial x_{0}} + x_{1} \\frac{\\partial\\,f}{\\partial x_{1}}\\right)} x_{2} \\mathrm{d} x_{2} -{\\left(x_{0} \\frac{\\partial\\,f}{\\partial x_{0}} + x_{1} \\frac{\\partial\\,f}{\\partial x_{1}}\\right)} x_{3} \\mathrm{d} x_{3}\\)</html>"
      ],
      "text/latex": [
       "$\\displaystyle \\left( x_{0} x_{2} \\frac{\\partial\\,f}{\\partial x_{2}} + x_{0} x_{3} \\frac{\\partial\\,f}{\\partial x_{3}} \\right) \\mathrm{d} x_{0} + \\left( x_{1} x_{2} \\frac{\\partial\\,f}{\\partial x_{2}} + x_{1} x_{3} \\frac{\\partial\\,f}{\\partial x_{3}} \\right) \\mathrm{d} x_{1} -{\\left(x_{0} \\frac{\\partial\\,f}{\\partial x_{0}} + x_{1} \\frac{\\partial\\,f}{\\partial x_{1}}\\right)} x_{2} \\mathrm{d} x_{2} -{\\left(x_{0} \\frac{\\partial\\,f}{\\partial x_{0}} + x_{1} \\frac{\\partial\\,f}{\\partial x_{1}}\\right)} x_{3} \\mathrm{d} x_{3}$"
      ],
      "text/plain": [
       "(x0*x2*d(f)/dx2 + x0*x3*d(f)/dx3) dx0 + (x1*x2*d(f)/dx2 + x1*x3*d(f)/dx3) dx1 - (x0*d(f)/dx0 + x1*d(f)/dx1)*x2 dx2 - (x0*d(f)/dx0 + x1*d(f)/dx1)*x3 dx3"
      ]
     },
     "metadata": {},
     "output_type": "display_data"
    }
   ],
   "source": [
    "# compute moment map\n",
    "X1 = x[1]*xd[0] - x[0]*xd[1]\n",
    "X2 = x[3]*xd[2] - x[2]*xd[3]\n",
    "\n",
    "display(\"Vector Fields:\")\n",
    "display(X1.display()), display(X2.display())\n",
    "\n",
    "display(\"F contractions:\")\n",
    "display(F.contract(X1).contract(X2).display())\n",
    "\n",
    "display(\"dF contractions:\")\n",
    "display(dF.contract(X1).contract(X2).display())\n",
    "\n",
    "display(\"JdF contractions:\")\n",
    "display(JdF.contract(X1).contract(X2).display())"
   ]
  },
  {
   "cell_type": "code",
   "execution_count": null,
   "id": "49391f87-9325-4125-95b5-cecae731d461",
   "metadata": {},
   "outputs": [],
   "source": []
  },
  {
   "cell_type": "code",
   "execution_count": 22,
   "id": "09a45b24-099f-4b0a-a376-f862fc00bfec",
   "metadata": {},
   "outputs": [
    {
     "data": {
      "text/html": [
       "<html>\\(\\displaystyle \\left( \\frac{2 \\, x_{0}}{x_{0}^{2} + x_{1}^{2} + x_{2}^{2} + x_{3}^{2}} \\right) \\mathrm{d} x_{0} + \\left( \\frac{2 \\, x_{1}}{x_{0}^{2} + x_{1}^{2} + x_{2}^{2} + x_{3}^{2}} \\right) \\mathrm{d} x_{1} + \\left( \\frac{2 \\, x_{2}}{x_{0}^{2} + x_{1}^{2} + x_{2}^{2} + x_{3}^{2}} \\right) \\mathrm{d} x_{2} + \\left( \\frac{2 \\, x_{3}}{x_{0}^{2} + x_{1}^{2} + x_{2}^{2} + x_{3}^{2}} \\right) \\mathrm{d} x_{3}\\)</html>"
      ],
      "text/latex": [
       "$\\displaystyle \\left( \\frac{2 \\, x_{0}}{x_{0}^{2} + x_{1}^{2} + x_{2}^{2} + x_{3}^{2}} \\right) \\mathrm{d} x_{0} + \\left( \\frac{2 \\, x_{1}}{x_{0}^{2} + x_{1}^{2} + x_{2}^{2} + x_{3}^{2}} \\right) \\mathrm{d} x_{1} + \\left( \\frac{2 \\, x_{2}}{x_{0}^{2} + x_{1}^{2} + x_{2}^{2} + x_{3}^{2}} \\right) \\mathrm{d} x_{2} + \\left( \\frac{2 \\, x_{3}}{x_{0}^{2} + x_{1}^{2} + x_{2}^{2} + x_{3}^{2}} \\right) \\mathrm{d} x_{3}$"
      ],
      "text/plain": [
       "2*x0/(x0^2 + x1^2 + x2^2 + x3^2) dx0 + 2*x1/(x0^2 + x1^2 + x2^2 + x3^2) dx1 + 2*x2/(x0^2 + x1^2 + x2^2 + x3^2) dx2 + 2*x3/(x0^2 + x1^2 + x2^2 + x3^2) dx3"
      ]
     },
     "execution_count": 22,
     "metadata": {},
     "output_type": "execute_result"
    }
   ],
   "source": [
    "# Lee form theta\n",
    "lee_form_temp = 0\n",
    "\n",
    "for i in range(DIM):\n",
    "    lee_form_temp += (1/2) * JdF.contract(2, J(ed[i])).contract(1, ed[i])\n",
    "# apply J\n",
    "lee_form = 0\n",
    "for i in range(DIM):\n",
    "    lee_form += lee_form_temp(J(ed[i])) * eu[i]\n",
    "\n",
    "lee_form.display()"
   ]
  },
  {
   "cell_type": "code",
   "execution_count": 23,
   "id": "f2c694c3-4b72-4484-b29f-17151d8f3b0b",
   "metadata": {},
   "outputs": [
    {
     "data": {
      "text/html": [
       "<html>\\(\\displaystyle \\mathrm{True}\\)</html>"
      ],
      "text/latex": [
       "$\\displaystyle \\mathrm{True}$"
      ],
      "text/plain": [
       "True"
      ]
     },
     "execution_count": 23,
     "metadata": {},
     "output_type": "execute_result"
    }
   ],
   "source": [
    "# also defined as J(d^*F)\n",
    "d_star(F).contract(0, J, 0) == lee_form"
   ]
  },
  {
   "cell_type": "code",
   "execution_count": null,
   "id": "ddf09870-4d7a-4616-be46-0f5e02b780cf",
   "metadata": {},
   "outputs": [],
   "source": []
  },
  {
   "cell_type": "code",
   "execution_count": 24,
   "id": "90e1bb28-9eba-48d6-b44b-7ab4ee77d7ca",
   "metadata": {},
   "outputs": [
    {
     "data": {
      "text/html": [
       "<html>\\(\\displaystyle \\left( -\\frac{1}{8} \\, x_{0}^{2} \\frac{\\partial\\,f}{\\partial x_{0}} - \\frac{1}{8} \\, x_{1}^{2} \\frac{\\partial\\,f}{\\partial x_{0}} - \\frac{1}{8} \\, x_{2}^{2} \\frac{\\partial\\,f}{\\partial x_{0}} - \\frac{1}{8} \\, x_{3}^{2} \\frac{\\partial\\,f}{\\partial x_{0}} + \\frac{1}{4} \\, x_{0} \\right) \\frac{\\partial}{\\partial x_{0} } + \\left( -\\frac{1}{8} \\, x_{0}^{2} \\frac{\\partial\\,f}{\\partial x_{1}} - \\frac{1}{8} \\, x_{1}^{2} \\frac{\\partial\\,f}{\\partial x_{1}} - \\frac{1}{8} \\, x_{2}^{2} \\frac{\\partial\\,f}{\\partial x_{1}} - \\frac{1}{8} \\, x_{3}^{2} \\frac{\\partial\\,f}{\\partial x_{1}} + \\frac{1}{4} \\, x_{1} \\right) \\frac{\\partial}{\\partial x_{1} } + \\left( -\\frac{1}{8} \\, x_{0}^{2} \\frac{\\partial\\,f}{\\partial x_{2}} - \\frac{1}{8} \\, x_{1}^{2} \\frac{\\partial\\,f}{\\partial x_{2}} - \\frac{1}{8} \\, x_{2}^{2} \\frac{\\partial\\,f}{\\partial x_{2}} - \\frac{1}{8} \\, x_{3}^{2} \\frac{\\partial\\,f}{\\partial x_{2}} + \\frac{1}{4} \\, x_{2} \\right) \\frac{\\partial}{\\partial x_{2} } + \\left( -\\frac{1}{8} \\, x_{0}^{2} \\frac{\\partial\\,f}{\\partial x_{3}} - \\frac{1}{8} \\, x_{1}^{2} \\frac{\\partial\\,f}{\\partial x_{3}} - \\frac{1}{8} \\, x_{2}^{2} \\frac{\\partial\\,f}{\\partial x_{3}} - \\frac{1}{8} \\, x_{3}^{2} \\frac{\\partial\\,f}{\\partial x_{3}} + \\frac{1}{4} \\, x_{3} \\right) \\frac{\\partial}{\\partial x_{3} }\\)</html>"
      ],
      "text/latex": [
       "$\\displaystyle \\left( -\\frac{1}{8} \\, x_{0}^{2} \\frac{\\partial\\,f}{\\partial x_{0}} - \\frac{1}{8} \\, x_{1}^{2} \\frac{\\partial\\,f}{\\partial x_{0}} - \\frac{1}{8} \\, x_{2}^{2} \\frac{\\partial\\,f}{\\partial x_{0}} - \\frac{1}{8} \\, x_{3}^{2} \\frac{\\partial\\,f}{\\partial x_{0}} + \\frac{1}{4} \\, x_{0} \\right) \\frac{\\partial}{\\partial x_{0} } + \\left( -\\frac{1}{8} \\, x_{0}^{2} \\frac{\\partial\\,f}{\\partial x_{1}} - \\frac{1}{8} \\, x_{1}^{2} \\frac{\\partial\\,f}{\\partial x_{1}} - \\frac{1}{8} \\, x_{2}^{2} \\frac{\\partial\\,f}{\\partial x_{1}} - \\frac{1}{8} \\, x_{3}^{2} \\frac{\\partial\\,f}{\\partial x_{1}} + \\frac{1}{4} \\, x_{1} \\right) \\frac{\\partial}{\\partial x_{1} } + \\left( -\\frac{1}{8} \\, x_{0}^{2} \\frac{\\partial\\,f}{\\partial x_{2}} - \\frac{1}{8} \\, x_{1}^{2} \\frac{\\partial\\,f}{\\partial x_{2}} - \\frac{1}{8} \\, x_{2}^{2} \\frac{\\partial\\,f}{\\partial x_{2}} - \\frac{1}{8} \\, x_{3}^{2} \\frac{\\partial\\,f}{\\partial x_{2}} + \\frac{1}{4} \\, x_{2} \\right) \\frac{\\partial}{\\partial x_{2} } + \\left( -\\frac{1}{8} \\, x_{0}^{2} \\frac{\\partial\\,f}{\\partial x_{3}} - \\frac{1}{8} \\, x_{1}^{2} \\frac{\\partial\\,f}{\\partial x_{3}} - \\frac{1}{8} \\, x_{2}^{2} \\frac{\\partial\\,f}{\\partial x_{3}} - \\frac{1}{8} \\, x_{3}^{2} \\frac{\\partial\\,f}{\\partial x_{3}} + \\frac{1}{4} \\, x_{3} \\right) \\frac{\\partial}{\\partial x_{3} }$"
      ],
      "text/plain": [
       "(-1/8*x0^2*d(f)/dx0 - 1/8*x1^2*d(f)/dx0 - 1/8*x2^2*d(f)/dx0 - 1/8*x3^2*d(f)/dx0 + 1/4*x0) ∂/∂x0 + (-1/8*x0^2*d(f)/dx1 - 1/8*x1^2*d(f)/dx1 - 1/8*x2^2*d(f)/dx1 - 1/8*x3^2*d(f)/dx1 + 1/4*x1) ∂/∂x1 + (-1/8*x0^2*d(f)/dx2 - 1/8*x1^2*d(f)/dx2 - 1/8*x2^2*d(f)/dx2 - 1/8*x3^2*d(f)/dx2 + 1/4*x2) ∂/∂x2 + (-1/8*x0^2*d(f)/dx3 - 1/8*x1^2*d(f)/dx3 - 1/8*x2^2*d(f)/dx3 - 1/8*x3^2*d(f)/dx3 + 1/4*x3) ∂/∂x3"
      ]
     },
     "execution_count": 24,
     "metadata": {},
     "output_type": "execute_result"
    }
   ],
   "source": [
    "lee_sharp = lee_form.up(g)\n",
    "\n",
    "f = M.scalar_field(function('f')(x[0],x[1],x[2],x[3]), name='f')\n",
    "\n",
    "g_std = M.metric(name='g_std')\n",
    "g_std[:] = identity_matrix(DIM)\n",
    "\n",
    "grad_f = f.gradient(g_std)\n",
    "\n",
    "V = (1/2) * (lee_sharp - grad_f)\n",
    "V.display()"
   ]
  },
  {
   "cell_type": "code",
   "execution_count": 25,
   "id": "e9980373-b858-4834-86e6-609bc7c4a7d2",
   "metadata": {},
   "outputs": [
    {
     "data": {
      "text/html": [
       "<html>\\(\\displaystyle \\mathrm{True}\\)</html>"
      ],
      "text/latex": [
       "$\\displaystyle \\mathrm{True}$"
      ],
      "text/plain": [
       "True"
      ]
     },
     "execution_count": 25,
     "metadata": {},
     "output_type": "execute_result"
    }
   ],
   "source": [
    "g.inverse().contract(lee_form) == lee_sharp"
   ]
  },
  {
   "cell_type": "code",
   "execution_count": 26,
   "id": "64c2648f-68fe-4219-bf1a-bf6cc7fae38e",
   "metadata": {},
   "outputs": [
    {
     "data": {
      "text/html": [
       "<html>\\(\\displaystyle \\frac{1}{2} \\, x_{0} \\frac{\\partial}{\\partial x_{0} } + \\frac{1}{2} \\, x_{1} \\frac{\\partial}{\\partial x_{1} } + \\frac{1}{2} \\, x_{2} \\frac{\\partial}{\\partial x_{2} } + \\frac{1}{2} \\, x_{3} \\frac{\\partial}{\\partial x_{3} }\\)</html>"
      ],
      "text/latex": [
       "$\\displaystyle \\frac{1}{2} \\, x_{0} \\frac{\\partial}{\\partial x_{0} } + \\frac{1}{2} \\, x_{1} \\frac{\\partial}{\\partial x_{1} } + \\frac{1}{2} \\, x_{2} \\frac{\\partial}{\\partial x_{2} } + \\frac{1}{2} \\, x_{3} \\frac{\\partial}{\\partial x_{3} }$"
      ],
      "text/plain": [
       "1/2*x0 ∂/∂x0 + 1/2*x1 ∂/∂x1 + 1/2*x2 ∂/∂x2 + 1/2*x3 ∂/∂x3"
      ]
     },
     "execution_count": 26,
     "metadata": {},
     "output_type": "execute_result"
    }
   ],
   "source": [
    "lee_sharp.display()"
   ]
  },
  {
   "cell_type": "code",
   "execution_count": 27,
   "id": "fc1525ce-0c35-488d-bb51-29c76555104a",
   "metadata": {},
   "outputs": [
    {
     "data": {
      "text/html": [
       "<html>\\(\\displaystyle \\mathrm{grad}_{g}\\left(f\\right) = \\left( \\frac{1}{4} \\, x_{0}^{2} \\frac{\\partial\\,f}{\\partial x_{0}} + \\frac{1}{4} \\, x_{1}^{2} \\frac{\\partial\\,f}{\\partial x_{0}} + \\frac{1}{4} \\, x_{2}^{2} \\frac{\\partial\\,f}{\\partial x_{0}} + \\frac{1}{4} \\, x_{3}^{2} \\frac{\\partial\\,f}{\\partial x_{0}} \\right) \\frac{\\partial}{\\partial x_{0} } + \\left( \\frac{1}{4} \\, x_{0}^{2} \\frac{\\partial\\,f}{\\partial x_{1}} + \\frac{1}{4} \\, x_{1}^{2} \\frac{\\partial\\,f}{\\partial x_{1}} + \\frac{1}{4} \\, x_{2}^{2} \\frac{\\partial\\,f}{\\partial x_{1}} + \\frac{1}{4} \\, x_{3}^{2} \\frac{\\partial\\,f}{\\partial x_{1}} \\right) \\frac{\\partial}{\\partial x_{1} } + \\left( \\frac{1}{4} \\, x_{0}^{2} \\frac{\\partial\\,f}{\\partial x_{2}} + \\frac{1}{4} \\, x_{1}^{2} \\frac{\\partial\\,f}{\\partial x_{2}} + \\frac{1}{4} \\, x_{2}^{2} \\frac{\\partial\\,f}{\\partial x_{2}} + \\frac{1}{4} \\, x_{3}^{2} \\frac{\\partial\\,f}{\\partial x_{2}} \\right) \\frac{\\partial}{\\partial x_{2} } + \\left( \\frac{1}{4} \\, x_{0}^{2} \\frac{\\partial\\,f}{\\partial x_{3}} + \\frac{1}{4} \\, x_{1}^{2} \\frac{\\partial\\,f}{\\partial x_{3}} + \\frac{1}{4} \\, x_{2}^{2} \\frac{\\partial\\,f}{\\partial x_{3}} + \\frac{1}{4} \\, x_{3}^{2} \\frac{\\partial\\,f}{\\partial x_{3}} \\right) \\frac{\\partial}{\\partial x_{3} }\\)</html>"
      ],
      "text/latex": [
       "$\\displaystyle \\mathrm{grad}_{g}\\left(f\\right) = \\left( \\frac{1}{4} \\, x_{0}^{2} \\frac{\\partial\\,f}{\\partial x_{0}} + \\frac{1}{4} \\, x_{1}^{2} \\frac{\\partial\\,f}{\\partial x_{0}} + \\frac{1}{4} \\, x_{2}^{2} \\frac{\\partial\\,f}{\\partial x_{0}} + \\frac{1}{4} \\, x_{3}^{2} \\frac{\\partial\\,f}{\\partial x_{0}} \\right) \\frac{\\partial}{\\partial x_{0} } + \\left( \\frac{1}{4} \\, x_{0}^{2} \\frac{\\partial\\,f}{\\partial x_{1}} + \\frac{1}{4} \\, x_{1}^{2} \\frac{\\partial\\,f}{\\partial x_{1}} + \\frac{1}{4} \\, x_{2}^{2} \\frac{\\partial\\,f}{\\partial x_{1}} + \\frac{1}{4} \\, x_{3}^{2} \\frac{\\partial\\,f}{\\partial x_{1}} \\right) \\frac{\\partial}{\\partial x_{1} } + \\left( \\frac{1}{4} \\, x_{0}^{2} \\frac{\\partial\\,f}{\\partial x_{2}} + \\frac{1}{4} \\, x_{1}^{2} \\frac{\\partial\\,f}{\\partial x_{2}} + \\frac{1}{4} \\, x_{2}^{2} \\frac{\\partial\\,f}{\\partial x_{2}} + \\frac{1}{4} \\, x_{3}^{2} \\frac{\\partial\\,f}{\\partial x_{2}} \\right) \\frac{\\partial}{\\partial x_{2} } + \\left( \\frac{1}{4} \\, x_{0}^{2} \\frac{\\partial\\,f}{\\partial x_{3}} + \\frac{1}{4} \\, x_{1}^{2} \\frac{\\partial\\,f}{\\partial x_{3}} + \\frac{1}{4} \\, x_{2}^{2} \\frac{\\partial\\,f}{\\partial x_{3}} + \\frac{1}{4} \\, x_{3}^{2} \\frac{\\partial\\,f}{\\partial x_{3}} \\right) \\frac{\\partial}{\\partial x_{3} }$"
      ],
      "text/plain": [
       "grad_g(f) = (1/4*x0^2*d(f)/dx0 + 1/4*x1^2*d(f)/dx0 + 1/4*x2^2*d(f)/dx0 + 1/4*x3^2*d(f)/dx0) ∂/∂x0 + (1/4*x0^2*d(f)/dx1 + 1/4*x1^2*d(f)/dx1 + 1/4*x2^2*d(f)/dx1 + 1/4*x3^2*d(f)/dx1) ∂/∂x1 + (1/4*x0^2*d(f)/dx2 + 1/4*x1^2*d(f)/dx2 + 1/4*x2^2*d(f)/dx2 + 1/4*x3^2*d(f)/dx2) ∂/∂x2 + (1/4*x0^2*d(f)/dx3 + 1/4*x1^2*d(f)/dx3 + 1/4*x2^2*d(f)/dx3 + 1/4*x3^2*d(f)/dx3) ∂/∂x3"
      ]
     },
     "execution_count": 27,
     "metadata": {},
     "output_type": "execute_result"
    }
   ],
   "source": [
    "grad_f.display()"
   ]
  },
  {
   "cell_type": "code",
   "execution_count": 29,
   "id": "8285d14e-d496-46bc-9e6c-cf96769f74aa",
   "metadata": {},
   "outputs": [
    {
     "data": {
      "text/html": [
       "<html>\\(\\displaystyle \\mathrm{grad}_{g}\\left(f\\right) = \\left( \\frac{x_{0}^{2} \\frac{\\partial\\,f}{\\partial x_{0}} + x_{1}^{2} \\frac{\\partial\\,f}{\\partial x_{0}} + x_{2}^{2} \\frac{\\partial\\,f}{\\partial x_{0}} + x_{3}^{2} \\frac{\\partial\\,f}{\\partial x_{0}}}{2 \\, \\sqrt{x_{0}^{2} + x_{1}^{2} + x_{2}^{2} + x_{3}^{2}}} \\right) e_{0} + \\left( \\frac{x_{0}^{2} \\frac{\\partial\\,f}{\\partial x_{1}} + x_{1}^{2} \\frac{\\partial\\,f}{\\partial x_{1}} + x_{2}^{2} \\frac{\\partial\\,f}{\\partial x_{1}} + x_{3}^{2} \\frac{\\partial\\,f}{\\partial x_{1}}}{2 \\, \\sqrt{x_{0}^{2} + x_{1}^{2} + x_{2}^{2} + x_{3}^{2}}} \\right) e_{1} + \\left( \\frac{x_{0}^{2} \\frac{\\partial\\,f}{\\partial x_{2}} + x_{1}^{2} \\frac{\\partial\\,f}{\\partial x_{2}} + x_{2}^{2} \\frac{\\partial\\,f}{\\partial x_{2}} + x_{3}^{2} \\frac{\\partial\\,f}{\\partial x_{2}}}{2 \\, \\sqrt{x_{0}^{2} + x_{1}^{2} + x_{2}^{2} + x_{3}^{2}}} \\right) e_{2} + \\left( \\frac{x_{0}^{2} \\frac{\\partial\\,f}{\\partial x_{3}} + x_{1}^{2} \\frac{\\partial\\,f}{\\partial x_{3}} + x_{2}^{2} \\frac{\\partial\\,f}{\\partial x_{3}} + x_{3}^{2} \\frac{\\partial\\,f}{\\partial x_{3}}}{2 \\, \\sqrt{x_{0}^{2} + x_{1}^{2} + x_{2}^{2} + x_{3}^{2}}} \\right) e_{3}\\)</html>"
      ],
      "text/latex": [
       "$\\displaystyle \\mathrm{grad}_{g}\\left(f\\right) = \\left( \\frac{x_{0}^{2} \\frac{\\partial\\,f}{\\partial x_{0}} + x_{1}^{2} \\frac{\\partial\\,f}{\\partial x_{0}} + x_{2}^{2} \\frac{\\partial\\,f}{\\partial x_{0}} + x_{3}^{2} \\frac{\\partial\\,f}{\\partial x_{0}}}{2 \\, \\sqrt{x_{0}^{2} + x_{1}^{2} + x_{2}^{2} + x_{3}^{2}}} \\right) e_{0} + \\left( \\frac{x_{0}^{2} \\frac{\\partial\\,f}{\\partial x_{1}} + x_{1}^{2} \\frac{\\partial\\,f}{\\partial x_{1}} + x_{2}^{2} \\frac{\\partial\\,f}{\\partial x_{1}} + x_{3}^{2} \\frac{\\partial\\,f}{\\partial x_{1}}}{2 \\, \\sqrt{x_{0}^{2} + x_{1}^{2} + x_{2}^{2} + x_{3}^{2}}} \\right) e_{1} + \\left( \\frac{x_{0}^{2} \\frac{\\partial\\,f}{\\partial x_{2}} + x_{1}^{2} \\frac{\\partial\\,f}{\\partial x_{2}} + x_{2}^{2} \\frac{\\partial\\,f}{\\partial x_{2}} + x_{3}^{2} \\frac{\\partial\\,f}{\\partial x_{2}}}{2 \\, \\sqrt{x_{0}^{2} + x_{1}^{2} + x_{2}^{2} + x_{3}^{2}}} \\right) e_{2} + \\left( \\frac{x_{0}^{2} \\frac{\\partial\\,f}{\\partial x_{3}} + x_{1}^{2} \\frac{\\partial\\,f}{\\partial x_{3}} + x_{2}^{2} \\frac{\\partial\\,f}{\\partial x_{3}} + x_{3}^{2} \\frac{\\partial\\,f}{\\partial x_{3}}}{2 \\, \\sqrt{x_{0}^{2} + x_{1}^{2} + x_{2}^{2} + x_{3}^{2}}} \\right) e_{3}$"
      ],
      "text/plain": [
       "grad_g(f) = 1/2*(x0^2*d(f)/dx0 + x1^2*d(f)/dx0 + x2^2*d(f)/dx0 + x3^2*d(f)/dx0)/sqrt(x0^2 + x1^2 + x2^2 + x3^2) e_0 + 1/2*(x0^2*d(f)/dx1 + x1^2*d(f)/dx1 + x2^2*d(f)/dx1 + x3^2*d(f)/dx1)/sqrt(x0^2 + x1^2 + x2^2 + x3^2) e_1 + 1/2*(x0^2*d(f)/dx2 + x1^2*d(f)/dx2 + x2^2*d(f)/dx2 + x3^2*d(f)/dx2)/sqrt(x0^2 + x1^2 + x2^2 + x3^2) e_2 + 1/2*(x0^2*d(f)/dx3 + x1^2*d(f)/dx3 + x2^2*d(f)/dx3 + x3^2*d(f)/dx3)/sqrt(x0^2 + x1^2 + x2^2 + x3^2) e_3"
      ]
     },
     "execution_count": 29,
     "metadata": {},
     "output_type": "execute_result"
    }
   ],
   "source": [
    "grad_f.display(ed)"
   ]
  },
  {
   "cell_type": "code",
   "execution_count": 28,
   "id": "b5763b3e-a95b-4ae5-8e81-53425bbd7883",
   "metadata": {},
   "outputs": [
    {
     "data": {
      "text/html": [
       "<html>\\(\\displaystyle \\left( -\\frac{x_{0}^{2} \\frac{\\partial\\,f}{\\partial x_{0}} + x_{1}^{2} \\frac{\\partial\\,f}{\\partial x_{0}} + x_{2}^{2} \\frac{\\partial\\,f}{\\partial x_{0}} + x_{3}^{2} \\frac{\\partial\\,f}{\\partial x_{0}} - 2 \\, x_{0}}{x_{0}^{2} + x_{1}^{2} + x_{2}^{2} + x_{3}^{2}} \\right) \\mathrm{d} x_{0} + \\left( -\\frac{x_{0}^{2} \\frac{\\partial\\,f}{\\partial x_{1}} + x_{1}^{2} \\frac{\\partial\\,f}{\\partial x_{1}} + x_{2}^{2} \\frac{\\partial\\,f}{\\partial x_{1}} + x_{3}^{2} \\frac{\\partial\\,f}{\\partial x_{1}} - 2 \\, x_{1}}{x_{0}^{2} + x_{1}^{2} + x_{2}^{2} + x_{3}^{2}} \\right) \\mathrm{d} x_{1} + \\left( -\\frac{x_{0}^{2} \\frac{\\partial\\,f}{\\partial x_{2}} + x_{1}^{2} \\frac{\\partial\\,f}{\\partial x_{2}} + x_{2}^{2} \\frac{\\partial\\,f}{\\partial x_{2}} + x_{3}^{2} \\frac{\\partial\\,f}{\\partial x_{2}} - 2 \\, x_{2}}{x_{0}^{2} + x_{1}^{2} + x_{2}^{2} + x_{3}^{2}} \\right) \\mathrm{d} x_{2} + \\left( -\\frac{x_{0}^{2} \\frac{\\partial\\,f}{\\partial x_{3}} + x_{1}^{2} \\frac{\\partial\\,f}{\\partial x_{3}} + x_{2}^{2} \\frac{\\partial\\,f}{\\partial x_{3}} + x_{3}^{2} \\frac{\\partial\\,f}{\\partial x_{3}} - 2 \\, x_{3}}{x_{0}^{2} + x_{1}^{2} + x_{2}^{2} + x_{3}^{2}} \\right) \\mathrm{d} x_{3}\\)</html>"
      ],
      "text/latex": [
       "$\\displaystyle \\left( -\\frac{x_{0}^{2} \\frac{\\partial\\,f}{\\partial x_{0}} + x_{1}^{2} \\frac{\\partial\\,f}{\\partial x_{0}} + x_{2}^{2} \\frac{\\partial\\,f}{\\partial x_{0}} + x_{3}^{2} \\frac{\\partial\\,f}{\\partial x_{0}} - 2 \\, x_{0}}{x_{0}^{2} + x_{1}^{2} + x_{2}^{2} + x_{3}^{2}} \\right) \\mathrm{d} x_{0} + \\left( -\\frac{x_{0}^{2} \\frac{\\partial\\,f}{\\partial x_{1}} + x_{1}^{2} \\frac{\\partial\\,f}{\\partial x_{1}} + x_{2}^{2} \\frac{\\partial\\,f}{\\partial x_{1}} + x_{3}^{2} \\frac{\\partial\\,f}{\\partial x_{1}} - 2 \\, x_{1}}{x_{0}^{2} + x_{1}^{2} + x_{2}^{2} + x_{3}^{2}} \\right) \\mathrm{d} x_{1} + \\left( -\\frac{x_{0}^{2} \\frac{\\partial\\,f}{\\partial x_{2}} + x_{1}^{2} \\frac{\\partial\\,f}{\\partial x_{2}} + x_{2}^{2} \\frac{\\partial\\,f}{\\partial x_{2}} + x_{3}^{2} \\frac{\\partial\\,f}{\\partial x_{2}} - 2 \\, x_{2}}{x_{0}^{2} + x_{1}^{2} + x_{2}^{2} + x_{3}^{2}} \\right) \\mathrm{d} x_{2} + \\left( -\\frac{x_{0}^{2} \\frac{\\partial\\,f}{\\partial x_{3}} + x_{1}^{2} \\frac{\\partial\\,f}{\\partial x_{3}} + x_{2}^{2} \\frac{\\partial\\,f}{\\partial x_{3}} + x_{3}^{2} \\frac{\\partial\\,f}{\\partial x_{3}} - 2 \\, x_{3}}{x_{0}^{2} + x_{1}^{2} + x_{2}^{2} + x_{3}^{2}} \\right) \\mathrm{d} x_{3}$"
      ],
      "text/plain": [
       "-(x0^2*d(f)/dx0 + x1^2*d(f)/dx0 + x2^2*d(f)/dx0 + x3^2*d(f)/dx0 - 2*x0)/(x0^2 + x1^2 + x2^2 + x3^2) dx0 - (x0^2*d(f)/dx1 + x1^2*d(f)/dx1 + x2^2*d(f)/dx1 + x3^2*d(f)/dx1 - 2*x1)/(x0^2 + x1^2 + x2^2 + x3^2) dx1 - (x0^2*d(f)/dx2 + x1^2*d(f)/dx2 + x2^2*d(f)/dx2 + x3^2*d(f)/dx2 - 2*x2)/(x0^2 + x1^2 + x2^2 + x3^2) dx2 - (x0^2*d(f)/dx3 + x1^2*d(f)/dx3 + x2^2*d(f)/dx3 + x3^2*d(f)/dx3 - 2*x3)/(x0^2 + x1^2 + x2^2 + x3^2) dx3"
      ]
     },
     "execution_count": 28,
     "metadata": {},
     "output_type": "execute_result"
    }
   ],
   "source": [
    "(lee_form - diff(f)).display() # when this is 0, V^\\perp"
   ]
  },
  {
   "cell_type": "code",
   "execution_count": null,
   "id": "39ca9132-2615-40eb-b05a-1994855165a5",
   "metadata": {},
   "outputs": [],
   "source": []
  },
  {
   "cell_type": "code",
   "execution_count": 267,
   "id": "7fb3054f-0a7e-48bb-84d8-9e6385eb9776",
   "metadata": {},
   "outputs": [
    {
     "data": {
      "text/html": [
       "<html>\\(\\displaystyle \\left( \\frac{x_{0}^{4} \\left(\\frac{\\partial\\,f}{\\partial x_{0}}\\right)^{2} + x_{0}^{4} \\left(\\frac{\\partial\\,f}{\\partial x_{1}}\\right)^{2} + {\\left(\\left(\\frac{\\partial\\,f}{\\partial x_{0}}\\right)^{2} + \\left(\\frac{\\partial\\,f}{\\partial x_{1}}\\right)^{2}\\right)} x_{1}^{4} + {\\left(\\left(\\frac{\\partial\\,f}{\\partial x_{0}}\\right)^{2} + \\left(\\frac{\\partial\\,f}{\\partial x_{1}}\\right)^{2}\\right)} x_{2}^{4} + {\\left(\\left(\\frac{\\partial\\,f}{\\partial x_{0}}\\right)^{2} + \\left(\\frac{\\partial\\,f}{\\partial x_{1}}\\right)^{2}\\right)} x_{3}^{4} - 4 \\, x_{0}^{3} \\frac{\\partial\\,f}{\\partial x_{0}} - 4 \\, x_{0}^{2} x_{1} \\frac{\\partial\\,f}{\\partial x_{1}} - 4 \\, x_{1}^{3} \\frac{\\partial\\,f}{\\partial x_{1}} + 2 \\, {\\left(x_{0}^{2} \\left(\\frac{\\partial\\,f}{\\partial x_{0}}\\right)^{2} + x_{0}^{2} \\left(\\frac{\\partial\\,f}{\\partial x_{1}}\\right)^{2} - 2 \\, x_{0} \\frac{\\partial\\,f}{\\partial x_{0}} + 2\\right)} x_{1}^{2} + 2 \\, {\\left(x_{0}^{2} \\left(\\frac{\\partial\\,f}{\\partial x_{0}}\\right)^{2} + x_{0}^{2} \\left(\\frac{\\partial\\,f}{\\partial x_{1}}\\right)^{2} + {\\left(\\left(\\frac{\\partial\\,f}{\\partial x_{0}}\\right)^{2} + \\left(\\frac{\\partial\\,f}{\\partial x_{1}}\\right)^{2}\\right)} x_{1}^{2} - 2 \\, x_{0} \\frac{\\partial\\,f}{\\partial x_{0}} - 2 \\, x_{1} \\frac{\\partial\\,f}{\\partial x_{1}}\\right)} x_{2}^{2} + 2 \\, {\\left(x_{0}^{2} \\left(\\frac{\\partial\\,f}{\\partial x_{0}}\\right)^{2} + x_{0}^{2} \\left(\\frac{\\partial\\,f}{\\partial x_{1}}\\right)^{2} + {\\left(\\left(\\frac{\\partial\\,f}{\\partial x_{0}}\\right)^{2} + \\left(\\frac{\\partial\\,f}{\\partial x_{1}}\\right)^{2}\\right)} x_{1}^{2} + {\\left(\\left(\\frac{\\partial\\,f}{\\partial x_{0}}\\right)^{2} + \\left(\\frac{\\partial\\,f}{\\partial x_{1}}\\right)^{2}\\right)} x_{2}^{2} - 2 \\, x_{0} \\frac{\\partial\\,f}{\\partial x_{0}} - 2 \\, x_{1} \\frac{\\partial\\,f}{\\partial x_{1}}\\right)} x_{3}^{2} + 4 \\, x_{0}^{2}}{8 \\, {\\left(x_{0}^{2} + x_{1}^{2} + x_{2}^{2} + x_{3}^{2}\\right)}} \\right) \\frac{\\partial}{\\partial x_{0} }\\otimes \\mathrm{d} x_{0} + \\left( \\frac{x_{0}^{4} \\frac{\\partial\\,f}{\\partial x_{1}} \\frac{\\partial\\,f}{\\partial x_{3}} + {\\left(\\frac{\\partial\\,f}{\\partial x_{0}} \\frac{\\partial\\,f}{\\partial x_{2}} + \\frac{\\partial\\,f}{\\partial x_{1}} \\frac{\\partial\\,f}{\\partial x_{3}}\\right)} x_{1}^{4} + {\\left(\\frac{\\partial\\,f}{\\partial x_{0}} \\frac{\\partial\\,f}{\\partial x_{2}} + \\frac{\\partial\\,f}{\\partial x_{1}} \\frac{\\partial\\,f}{\\partial x_{3}}\\right)} x_{2}^{4} + {\\left(\\frac{\\partial\\,f}{\\partial x_{0}} \\frac{\\partial\\,f}{\\partial x_{2}} + \\frac{\\partial\\,f}{\\partial x_{1}} \\frac{\\partial\\,f}{\\partial x_{3}}\\right)} x_{3}^{4} - 2 \\, x_{2}^{3} \\frac{\\partial\\,f}{\\partial x_{0}} - 2 \\, x_{3}^{3} \\frac{\\partial\\,f}{\\partial x_{1}} - 2 \\, x_{0}^{2} x_{1} \\frac{\\partial\\,f}{\\partial x_{3}} - 2 \\, x_{1}^{3} \\frac{\\partial\\,f}{\\partial x_{3}} + 2 \\, {\\left(x_{0}^{2} \\frac{\\partial\\,f}{\\partial x_{1}} \\frac{\\partial\\,f}{\\partial x_{3}} + {\\left(x_{0}^{2} \\frac{\\partial\\,f}{\\partial x_{0}} - x_{0}\\right)} \\frac{\\partial\\,f}{\\partial x_{2}}\\right)} x_{1}^{2} + 2 \\, {\\left(x_{0}^{2} \\frac{\\partial\\,f}{\\partial x_{1}} \\frac{\\partial\\,f}{\\partial x_{3}} + {\\left(\\frac{\\partial\\,f}{\\partial x_{0}} \\frac{\\partial\\,f}{\\partial x_{2}} + \\frac{\\partial\\,f}{\\partial x_{1}} \\frac{\\partial\\,f}{\\partial x_{3}}\\right)} x_{1}^{2} + {\\left(x_{0}^{2} \\frac{\\partial\\,f}{\\partial x_{0}} - x_{0}\\right)} \\frac{\\partial\\,f}{\\partial x_{2}} - x_{1} \\frac{\\partial\\,f}{\\partial x_{3}}\\right)} x_{2}^{2} + 2 \\, {\\left(x_{0}^{2} \\frac{\\partial\\,f}{\\partial x_{1}} \\frac{\\partial\\,f}{\\partial x_{3}} + {\\left(\\frac{\\partial\\,f}{\\partial x_{0}} \\frac{\\partial\\,f}{\\partial x_{2}} + \\frac{\\partial\\,f}{\\partial x_{1}} \\frac{\\partial\\,f}{\\partial x_{3}}\\right)} x_{1}^{2} + {\\left(\\frac{\\partial\\,f}{\\partial x_{0}} \\frac{\\partial\\,f}{\\partial x_{2}} + \\frac{\\partial\\,f}{\\partial x_{1}} \\frac{\\partial\\,f}{\\partial x_{3}}\\right)} x_{2}^{2} - x_{2} \\frac{\\partial\\,f}{\\partial x_{0}} + {\\left(x_{0}^{2} \\frac{\\partial\\,f}{\\partial x_{0}} - x_{0}\\right)} \\frac{\\partial\\,f}{\\partial x_{2}} - x_{1} \\frac{\\partial\\,f}{\\partial x_{3}}\\right)} x_{3}^{2} - 2 \\, {\\left(x_{0}^{2} \\frac{\\partial\\,f}{\\partial x_{0}} + x_{1}^{2} \\frac{\\partial\\,f}{\\partial x_{0}} - 2 \\, x_{0}\\right)} x_{2} - 2 \\, {\\left(x_{0}^{2} \\frac{\\partial\\,f}{\\partial x_{1}} + x_{1}^{2} \\frac{\\partial\\,f}{\\partial x_{1}} + x_{2}^{2} \\frac{\\partial\\,f}{\\partial x_{1}} - 2 \\, x_{1}\\right)} x_{3} + {\\left(x_{0}^{4} \\frac{\\partial\\,f}{\\partial x_{0}} - 2 \\, x_{0}^{3}\\right)} \\frac{\\partial\\,f}{\\partial x_{2}}}{8 \\, {\\left(x_{0}^{2} + x_{1}^{2} + x_{2}^{2} + x_{3}^{2}\\right)}} \\right) \\frac{\\partial}{\\partial x_{0} }\\otimes \\mathrm{d} x_{2} + \\left( -\\frac{x_{0}^{4} \\frac{\\partial\\,f}{\\partial x_{1}} \\frac{\\partial\\,f}{\\partial x_{2}} + {\\left(\\frac{\\partial\\,f}{\\partial x_{1}} \\frac{\\partial\\,f}{\\partial x_{2}} - \\frac{\\partial\\,f}{\\partial x_{0}} \\frac{\\partial\\,f}{\\partial x_{3}}\\right)} x_{1}^{4} + {\\left(\\frac{\\partial\\,f}{\\partial x_{1}} \\frac{\\partial\\,f}{\\partial x_{2}} - \\frac{\\partial\\,f}{\\partial x_{0}} \\frac{\\partial\\,f}{\\partial x_{3}}\\right)} x_{2}^{4} + {\\left(\\frac{\\partial\\,f}{\\partial x_{1}} \\frac{\\partial\\,f}{\\partial x_{2}} - \\frac{\\partial\\,f}{\\partial x_{0}} \\frac{\\partial\\,f}{\\partial x_{3}}\\right)} x_{3}^{4} + 2 \\, x_{3}^{3} \\frac{\\partial\\,f}{\\partial x_{0}} - 2 \\, x_{2}^{3} \\frac{\\partial\\,f}{\\partial x_{1}} - 2 \\, x_{0}^{2} x_{1} \\frac{\\partial\\,f}{\\partial x_{2}} - 2 \\, x_{1}^{3} \\frac{\\partial\\,f}{\\partial x_{2}} + 2 \\, {\\left(x_{0}^{2} \\frac{\\partial\\,f}{\\partial x_{1}} \\frac{\\partial\\,f}{\\partial x_{2}} - {\\left(x_{0}^{2} \\frac{\\partial\\,f}{\\partial x_{0}} - x_{0}\\right)} \\frac{\\partial\\,f}{\\partial x_{3}}\\right)} x_{1}^{2} + 2 \\, {\\left(x_{0}^{2} \\frac{\\partial\\,f}{\\partial x_{1}} \\frac{\\partial\\,f}{\\partial x_{2}} + {\\left(\\frac{\\partial\\,f}{\\partial x_{1}} \\frac{\\partial\\,f}{\\partial x_{2}} - \\frac{\\partial\\,f}{\\partial x_{0}} \\frac{\\partial\\,f}{\\partial x_{3}}\\right)} x_{1}^{2} - x_{1} \\frac{\\partial\\,f}{\\partial x_{2}} - {\\left(x_{0}^{2} \\frac{\\partial\\,f}{\\partial x_{0}} - x_{0}\\right)} \\frac{\\partial\\,f}{\\partial x_{3}}\\right)} x_{2}^{2} + 2 \\, {\\left(x_{0}^{2} \\frac{\\partial\\,f}{\\partial x_{1}} \\frac{\\partial\\,f}{\\partial x_{2}} + {\\left(\\frac{\\partial\\,f}{\\partial x_{1}} \\frac{\\partial\\,f}{\\partial x_{2}} - \\frac{\\partial\\,f}{\\partial x_{0}} \\frac{\\partial\\,f}{\\partial x_{3}}\\right)} x_{1}^{2} + {\\left(\\frac{\\partial\\,f}{\\partial x_{1}} \\frac{\\partial\\,f}{\\partial x_{2}} - \\frac{\\partial\\,f}{\\partial x_{0}} \\frac{\\partial\\,f}{\\partial x_{3}}\\right)} x_{2}^{2} - x_{2} \\frac{\\partial\\,f}{\\partial x_{1}} - x_{1} \\frac{\\partial\\,f}{\\partial x_{2}} - {\\left(x_{0}^{2} \\frac{\\partial\\,f}{\\partial x_{0}} - x_{0}\\right)} \\frac{\\partial\\,f}{\\partial x_{3}}\\right)} x_{3}^{2} - 2 \\, {\\left(x_{0}^{2} \\frac{\\partial\\,f}{\\partial x_{1}} + x_{1}^{2} \\frac{\\partial\\,f}{\\partial x_{1}} - 2 \\, x_{1}\\right)} x_{2} + 2 \\, {\\left(x_{0}^{2} \\frac{\\partial\\,f}{\\partial x_{0}} + x_{1}^{2} \\frac{\\partial\\,f}{\\partial x_{0}} + x_{2}^{2} \\frac{\\partial\\,f}{\\partial x_{0}} - 2 \\, x_{0}\\right)} x_{3} - {\\left(x_{0}^{4} \\frac{\\partial\\,f}{\\partial x_{0}} - 2 \\, x_{0}^{3}\\right)} \\frac{\\partial\\,f}{\\partial x_{3}}}{8 \\, {\\left(x_{0}^{2} + x_{1}^{2} + x_{2}^{2} + x_{3}^{2}\\right)}} \\right) \\frac{\\partial}{\\partial x_{0} }\\otimes \\mathrm{d} x_{3} + \\left( \\frac{x_{0}^{4} \\left(\\frac{\\partial\\,f}{\\partial x_{0}}\\right)^{2} + x_{0}^{4} \\left(\\frac{\\partial\\,f}{\\partial x_{1}}\\right)^{2} + {\\left(\\left(\\frac{\\partial\\,f}{\\partial x_{0}}\\right)^{2} + \\left(\\frac{\\partial\\,f}{\\partial x_{1}}\\right)^{2}\\right)} x_{1}^{4} + {\\left(\\left(\\frac{\\partial\\,f}{\\partial x_{0}}\\right)^{2} + \\left(\\frac{\\partial\\,f}{\\partial x_{1}}\\right)^{2}\\right)} x_{2}^{4} + {\\left(\\left(\\frac{\\partial\\,f}{\\partial x_{0}}\\right)^{2} + \\left(\\frac{\\partial\\,f}{\\partial x_{1}}\\right)^{2}\\right)} x_{3}^{4} - 4 \\, x_{0}^{3} \\frac{\\partial\\,f}{\\partial x_{0}} - 4 \\, x_{0}^{2} x_{1} \\frac{\\partial\\,f}{\\partial x_{1}} - 4 \\, x_{1}^{3} \\frac{\\partial\\,f}{\\partial x_{1}} + 2 \\, {\\left(x_{0}^{2} \\left(\\frac{\\partial\\,f}{\\partial x_{0}}\\right)^{2} + x_{0}^{2} \\left(\\frac{\\partial\\,f}{\\partial x_{1}}\\right)^{2} - 2 \\, x_{0} \\frac{\\partial\\,f}{\\partial x_{0}} + 2\\right)} x_{1}^{2} + 2 \\, {\\left(x_{0}^{2} \\left(\\frac{\\partial\\,f}{\\partial x_{0}}\\right)^{2} + x_{0}^{2} \\left(\\frac{\\partial\\,f}{\\partial x_{1}}\\right)^{2} + {\\left(\\left(\\frac{\\partial\\,f}{\\partial x_{0}}\\right)^{2} + \\left(\\frac{\\partial\\,f}{\\partial x_{1}}\\right)^{2}\\right)} x_{1}^{2} - 2 \\, x_{0} \\frac{\\partial\\,f}{\\partial x_{0}} - 2 \\, x_{1} \\frac{\\partial\\,f}{\\partial x_{1}}\\right)} x_{2}^{2} + 2 \\, {\\left(x_{0}^{2} \\left(\\frac{\\partial\\,f}{\\partial x_{0}}\\right)^{2} + x_{0}^{2} \\left(\\frac{\\partial\\,f}{\\partial x_{1}}\\right)^{2} + {\\left(\\left(\\frac{\\partial\\,f}{\\partial x_{0}}\\right)^{2} + \\left(\\frac{\\partial\\,f}{\\partial x_{1}}\\right)^{2}\\right)} x_{1}^{2} + {\\left(\\left(\\frac{\\partial\\,f}{\\partial x_{0}}\\right)^{2} + \\left(\\frac{\\partial\\,f}{\\partial x_{1}}\\right)^{2}\\right)} x_{2}^{2} - 2 \\, x_{0} \\frac{\\partial\\,f}{\\partial x_{0}} - 2 \\, x_{1} \\frac{\\partial\\,f}{\\partial x_{1}}\\right)} x_{3}^{2} + 4 \\, x_{0}^{2}}{8 \\, {\\left(x_{0}^{2} + x_{1}^{2} + x_{2}^{2} + x_{3}^{2}\\right)}} \\right) \\frac{\\partial}{\\partial x_{1} }\\otimes \\mathrm{d} x_{1} + \\left( \\frac{x_{0}^{4} \\frac{\\partial\\,f}{\\partial x_{1}} \\frac{\\partial\\,f}{\\partial x_{2}} + {\\left(\\frac{\\partial\\,f}{\\partial x_{1}} \\frac{\\partial\\,f}{\\partial x_{2}} - \\frac{\\partial\\,f}{\\partial x_{0}} \\frac{\\partial\\,f}{\\partial x_{3}}\\right)} x_{1}^{4} + {\\left(\\frac{\\partial\\,f}{\\partial x_{1}} \\frac{\\partial\\,f}{\\partial x_{2}} - \\frac{\\partial\\,f}{\\partial x_{0}} \\frac{\\partial\\,f}{\\partial x_{3}}\\right)} x_{2}^{4} + {\\left(\\frac{\\partial\\,f}{\\partial x_{1}} \\frac{\\partial\\,f}{\\partial x_{2}} - \\frac{\\partial\\,f}{\\partial x_{0}} \\frac{\\partial\\,f}{\\partial x_{3}}\\right)} x_{3}^{4} + 2 \\, x_{3}^{3} \\frac{\\partial\\,f}{\\partial x_{0}} - 2 \\, x_{2}^{3} \\frac{\\partial\\,f}{\\partial x_{1}} - 2 \\, x_{0}^{2} x_{1} \\frac{\\partial\\,f}{\\partial x_{2}} - 2 \\, x_{1}^{3} \\frac{\\partial\\,f}{\\partial x_{2}} + 2 \\, {\\left(x_{0}^{2} \\frac{\\partial\\,f}{\\partial x_{1}} \\frac{\\partial\\,f}{\\partial x_{2}} - {\\left(x_{0}^{2} \\frac{\\partial\\,f}{\\partial x_{0}} - x_{0}\\right)} \\frac{\\partial\\,f}{\\partial x_{3}}\\right)} x_{1}^{2} + 2 \\, {\\left(x_{0}^{2} \\frac{\\partial\\,f}{\\partial x_{1}} \\frac{\\partial\\,f}{\\partial x_{2}} + {\\left(\\frac{\\partial\\,f}{\\partial x_{1}} \\frac{\\partial\\,f}{\\partial x_{2}} - \\frac{\\partial\\,f}{\\partial x_{0}} \\frac{\\partial\\,f}{\\partial x_{3}}\\right)} x_{1}^{2} - x_{1} \\frac{\\partial\\,f}{\\partial x_{2}} - {\\left(x_{0}^{2} \\frac{\\partial\\,f}{\\partial x_{0}} - x_{0}\\right)} \\frac{\\partial\\,f}{\\partial x_{3}}\\right)} x_{2}^{2} + 2 \\, {\\left(x_{0}^{2} \\frac{\\partial\\,f}{\\partial x_{1}} \\frac{\\partial\\,f}{\\partial x_{2}} + {\\left(\\frac{\\partial\\,f}{\\partial x_{1}} \\frac{\\partial\\,f}{\\partial x_{2}} - \\frac{\\partial\\,f}{\\partial x_{0}} \\frac{\\partial\\,f}{\\partial x_{3}}\\right)} x_{1}^{2} + {\\left(\\frac{\\partial\\,f}{\\partial x_{1}} \\frac{\\partial\\,f}{\\partial x_{2}} - \\frac{\\partial\\,f}{\\partial x_{0}} \\frac{\\partial\\,f}{\\partial x_{3}}\\right)} x_{2}^{2} - x_{2} \\frac{\\partial\\,f}{\\partial x_{1}} - x_{1} \\frac{\\partial\\,f}{\\partial x_{2}} - {\\left(x_{0}^{2} \\frac{\\partial\\,f}{\\partial x_{0}} - x_{0}\\right)} \\frac{\\partial\\,f}{\\partial x_{3}}\\right)} x_{3}^{2} - 2 \\, {\\left(x_{0}^{2} \\frac{\\partial\\,f}{\\partial x_{1}} + x_{1}^{2} \\frac{\\partial\\,f}{\\partial x_{1}} - 2 \\, x_{1}\\right)} x_{2} + 2 \\, {\\left(x_{0}^{2} \\frac{\\partial\\,f}{\\partial x_{0}} + x_{1}^{2} \\frac{\\partial\\,f}{\\partial x_{0}} + x_{2}^{2} \\frac{\\partial\\,f}{\\partial x_{0}} - 2 \\, x_{0}\\right)} x_{3} - {\\left(x_{0}^{4} \\frac{\\partial\\,f}{\\partial x_{0}} - 2 \\, x_{0}^{3}\\right)} \\frac{\\partial\\,f}{\\partial x_{3}}}{8 \\, {\\left(x_{0}^{2} + x_{1}^{2} + x_{2}^{2} + x_{3}^{2}\\right)}} \\right) \\frac{\\partial}{\\partial x_{1} }\\otimes \\mathrm{d} x_{2} + \\left( \\frac{x_{0}^{4} \\frac{\\partial\\,f}{\\partial x_{1}} \\frac{\\partial\\,f}{\\partial x_{3}} + {\\left(\\frac{\\partial\\,f}{\\partial x_{0}} \\frac{\\partial\\,f}{\\partial x_{2}} + \\frac{\\partial\\,f}{\\partial x_{1}} \\frac{\\partial\\,f}{\\partial x_{3}}\\right)} x_{1}^{4} + {\\left(\\frac{\\partial\\,f}{\\partial x_{0}} \\frac{\\partial\\,f}{\\partial x_{2}} + \\frac{\\partial\\,f}{\\partial x_{1}} \\frac{\\partial\\,f}{\\partial x_{3}}\\right)} x_{2}^{4} + {\\left(\\frac{\\partial\\,f}{\\partial x_{0}} \\frac{\\partial\\,f}{\\partial x_{2}} + \\frac{\\partial\\,f}{\\partial x_{1}} \\frac{\\partial\\,f}{\\partial x_{3}}\\right)} x_{3}^{4} - 2 \\, x_{2}^{3} \\frac{\\partial\\,f}{\\partial x_{0}} - 2 \\, x_{3}^{3} \\frac{\\partial\\,f}{\\partial x_{1}} - 2 \\, x_{0}^{2} x_{1} \\frac{\\partial\\,f}{\\partial x_{3}} - 2 \\, x_{1}^{3} \\frac{\\partial\\,f}{\\partial x_{3}} + 2 \\, {\\left(x_{0}^{2} \\frac{\\partial\\,f}{\\partial x_{1}} \\frac{\\partial\\,f}{\\partial x_{3}} + {\\left(x_{0}^{2} \\frac{\\partial\\,f}{\\partial x_{0}} - x_{0}\\right)} \\frac{\\partial\\,f}{\\partial x_{2}}\\right)} x_{1}^{2} + 2 \\, {\\left(x_{0}^{2} \\frac{\\partial\\,f}{\\partial x_{1}} \\frac{\\partial\\,f}{\\partial x_{3}} + {\\left(\\frac{\\partial\\,f}{\\partial x_{0}} \\frac{\\partial\\,f}{\\partial x_{2}} + \\frac{\\partial\\,f}{\\partial x_{1}} \\frac{\\partial\\,f}{\\partial x_{3}}\\right)} x_{1}^{2} + {\\left(x_{0}^{2} \\frac{\\partial\\,f}{\\partial x_{0}} - x_{0}\\right)} \\frac{\\partial\\,f}{\\partial x_{2}} - x_{1} \\frac{\\partial\\,f}{\\partial x_{3}}\\right)} x_{2}^{2} + 2 \\, {\\left(x_{0}^{2} \\frac{\\partial\\,f}{\\partial x_{1}} \\frac{\\partial\\,f}{\\partial x_{3}} + {\\left(\\frac{\\partial\\,f}{\\partial x_{0}} \\frac{\\partial\\,f}{\\partial x_{2}} + \\frac{\\partial\\,f}{\\partial x_{1}} \\frac{\\partial\\,f}{\\partial x_{3}}\\right)} x_{1}^{2} + {\\left(\\frac{\\partial\\,f}{\\partial x_{0}} \\frac{\\partial\\,f}{\\partial x_{2}} + \\frac{\\partial\\,f}{\\partial x_{1}} \\frac{\\partial\\,f}{\\partial x_{3}}\\right)} x_{2}^{2} - x_{2} \\frac{\\partial\\,f}{\\partial x_{0}} + {\\left(x_{0}^{2} \\frac{\\partial\\,f}{\\partial x_{0}} - x_{0}\\right)} \\frac{\\partial\\,f}{\\partial x_{2}} - x_{1} \\frac{\\partial\\,f}{\\partial x_{3}}\\right)} x_{3}^{2} - 2 \\, {\\left(x_{0}^{2} \\frac{\\partial\\,f}{\\partial x_{0}} + x_{1}^{2} \\frac{\\partial\\,f}{\\partial x_{0}} - 2 \\, x_{0}\\right)} x_{2} - 2 \\, {\\left(x_{0}^{2} \\frac{\\partial\\,f}{\\partial x_{1}} + x_{1}^{2} \\frac{\\partial\\,f}{\\partial x_{1}} + x_{2}^{2} \\frac{\\partial\\,f}{\\partial x_{1}} - 2 \\, x_{1}\\right)} x_{3} + {\\left(x_{0}^{4} \\frac{\\partial\\,f}{\\partial x_{0}} - 2 \\, x_{0}^{3}\\right)} \\frac{\\partial\\,f}{\\partial x_{2}}}{8 \\, {\\left(x_{0}^{2} + x_{1}^{2} + x_{2}^{2} + x_{3}^{2}\\right)}} \\right) \\frac{\\partial}{\\partial x_{1} }\\otimes \\mathrm{d} x_{3} + \\left( \\frac{x_{0}^{4} \\frac{\\partial\\,f}{\\partial x_{1}} \\frac{\\partial\\,f}{\\partial x_{3}} + {\\left(\\frac{\\partial\\,f}{\\partial x_{0}} \\frac{\\partial\\,f}{\\partial x_{2}} + \\frac{\\partial\\,f}{\\partial x_{1}} \\frac{\\partial\\,f}{\\partial x_{3}}\\right)} x_{1}^{4} + {\\left(\\frac{\\partial\\,f}{\\partial x_{0}} \\frac{\\partial\\,f}{\\partial x_{2}} + \\frac{\\partial\\,f}{\\partial x_{1}} \\frac{\\partial\\,f}{\\partial x_{3}}\\right)} x_{2}^{4} + {\\left(\\frac{\\partial\\,f}{\\partial x_{0}} \\frac{\\partial\\,f}{\\partial x_{2}} + \\frac{\\partial\\,f}{\\partial x_{1}} \\frac{\\partial\\,f}{\\partial x_{3}}\\right)} x_{3}^{4} - 2 \\, x_{2}^{3} \\frac{\\partial\\,f}{\\partial x_{0}} - 2 \\, x_{3}^{3} \\frac{\\partial\\,f}{\\partial x_{1}} - 2 \\, x_{0}^{2} x_{1} \\frac{\\partial\\,f}{\\partial x_{3}} - 2 \\, x_{1}^{3} \\frac{\\partial\\,f}{\\partial x_{3}} + 2 \\, {\\left(x_{0}^{2} \\frac{\\partial\\,f}{\\partial x_{1}} \\frac{\\partial\\,f}{\\partial x_{3}} + {\\left(x_{0}^{2} \\frac{\\partial\\,f}{\\partial x_{0}} - x_{0}\\right)} \\frac{\\partial\\,f}{\\partial x_{2}}\\right)} x_{1}^{2} + 2 \\, {\\left(x_{0}^{2} \\frac{\\partial\\,f}{\\partial x_{1}} \\frac{\\partial\\,f}{\\partial x_{3}} + {\\left(\\frac{\\partial\\,f}{\\partial x_{0}} \\frac{\\partial\\,f}{\\partial x_{2}} + \\frac{\\partial\\,f}{\\partial x_{1}} \\frac{\\partial\\,f}{\\partial x_{3}}\\right)} x_{1}^{2} + {\\left(x_{0}^{2} \\frac{\\partial\\,f}{\\partial x_{0}} - x_{0}\\right)} \\frac{\\partial\\,f}{\\partial x_{2}} - x_{1} \\frac{\\partial\\,f}{\\partial x_{3}}\\right)} x_{2}^{2} + 2 \\, {\\left(x_{0}^{2} \\frac{\\partial\\,f}{\\partial x_{1}} \\frac{\\partial\\,f}{\\partial x_{3}} + {\\left(\\frac{\\partial\\,f}{\\partial x_{0}} \\frac{\\partial\\,f}{\\partial x_{2}} + \\frac{\\partial\\,f}{\\partial x_{1}} \\frac{\\partial\\,f}{\\partial x_{3}}\\right)} x_{1}^{2} + {\\left(\\frac{\\partial\\,f}{\\partial x_{0}} \\frac{\\partial\\,f}{\\partial x_{2}} + \\frac{\\partial\\,f}{\\partial x_{1}} \\frac{\\partial\\,f}{\\partial x_{3}}\\right)} x_{2}^{2} - x_{2} \\frac{\\partial\\,f}{\\partial x_{0}} + {\\left(x_{0}^{2} \\frac{\\partial\\,f}{\\partial x_{0}} - x_{0}\\right)} \\frac{\\partial\\,f}{\\partial x_{2}} - x_{1} \\frac{\\partial\\,f}{\\partial x_{3}}\\right)} x_{3}^{2} - 2 \\, {\\left(x_{0}^{2} \\frac{\\partial\\,f}{\\partial x_{0}} + x_{1}^{2} \\frac{\\partial\\,f}{\\partial x_{0}} - 2 \\, x_{0}\\right)} x_{2} - 2 \\, {\\left(x_{0}^{2} \\frac{\\partial\\,f}{\\partial x_{1}} + x_{1}^{2} \\frac{\\partial\\,f}{\\partial x_{1}} + x_{2}^{2} \\frac{\\partial\\,f}{\\partial x_{1}} - 2 \\, x_{1}\\right)} x_{3} + {\\left(x_{0}^{4} \\frac{\\partial\\,f}{\\partial x_{0}} - 2 \\, x_{0}^{3}\\right)} \\frac{\\partial\\,f}{\\partial x_{2}}}{8 \\, {\\left(x_{0}^{2} + x_{1}^{2} + x_{2}^{2} + x_{3}^{2}\\right)}} \\right) \\frac{\\partial}{\\partial x_{2} }\\otimes \\mathrm{d} x_{0} + \\left( \\frac{x_{0}^{4} \\frac{\\partial\\,f}{\\partial x_{1}} \\frac{\\partial\\,f}{\\partial x_{2}} + {\\left(\\frac{\\partial\\,f}{\\partial x_{1}} \\frac{\\partial\\,f}{\\partial x_{2}} - \\frac{\\partial\\,f}{\\partial x_{0}} \\frac{\\partial\\,f}{\\partial x_{3}}\\right)} x_{1}^{4} + {\\left(\\frac{\\partial\\,f}{\\partial x_{1}} \\frac{\\partial\\,f}{\\partial x_{2}} - \\frac{\\partial\\,f}{\\partial x_{0}} \\frac{\\partial\\,f}{\\partial x_{3}}\\right)} x_{2}^{4} + {\\left(\\frac{\\partial\\,f}{\\partial x_{1}} \\frac{\\partial\\,f}{\\partial x_{2}} - \\frac{\\partial\\,f}{\\partial x_{0}} \\frac{\\partial\\,f}{\\partial x_{3}}\\right)} x_{3}^{4} + 2 \\, x_{3}^{3} \\frac{\\partial\\,f}{\\partial x_{0}} - 2 \\, x_{2}^{3} \\frac{\\partial\\,f}{\\partial x_{1}} - 2 \\, x_{0}^{2} x_{1} \\frac{\\partial\\,f}{\\partial x_{2}} - 2 \\, x_{1}^{3} \\frac{\\partial\\,f}{\\partial x_{2}} + 2 \\, {\\left(x_{0}^{2} \\frac{\\partial\\,f}{\\partial x_{1}} \\frac{\\partial\\,f}{\\partial x_{2}} - {\\left(x_{0}^{2} \\frac{\\partial\\,f}{\\partial x_{0}} - x_{0}\\right)} \\frac{\\partial\\,f}{\\partial x_{3}}\\right)} x_{1}^{2} + 2 \\, {\\left(x_{0}^{2} \\frac{\\partial\\,f}{\\partial x_{1}} \\frac{\\partial\\,f}{\\partial x_{2}} + {\\left(\\frac{\\partial\\,f}{\\partial x_{1}} \\frac{\\partial\\,f}{\\partial x_{2}} - \\frac{\\partial\\,f}{\\partial x_{0}} \\frac{\\partial\\,f}{\\partial x_{3}}\\right)} x_{1}^{2} - x_{1} \\frac{\\partial\\,f}{\\partial x_{2}} - {\\left(x_{0}^{2} \\frac{\\partial\\,f}{\\partial x_{0}} - x_{0}\\right)} \\frac{\\partial\\,f}{\\partial x_{3}}\\right)} x_{2}^{2} + 2 \\, {\\left(x_{0}^{2} \\frac{\\partial\\,f}{\\partial x_{1}} \\frac{\\partial\\,f}{\\partial x_{2}} + {\\left(\\frac{\\partial\\,f}{\\partial x_{1}} \\frac{\\partial\\,f}{\\partial x_{2}} - \\frac{\\partial\\,f}{\\partial x_{0}} \\frac{\\partial\\,f}{\\partial x_{3}}\\right)} x_{1}^{2} + {\\left(\\frac{\\partial\\,f}{\\partial x_{1}} \\frac{\\partial\\,f}{\\partial x_{2}} - \\frac{\\partial\\,f}{\\partial x_{0}} \\frac{\\partial\\,f}{\\partial x_{3}}\\right)} x_{2}^{2} - x_{2} \\frac{\\partial\\,f}{\\partial x_{1}} - x_{1} \\frac{\\partial\\,f}{\\partial x_{2}} - {\\left(x_{0}^{2} \\frac{\\partial\\,f}{\\partial x_{0}} - x_{0}\\right)} \\frac{\\partial\\,f}{\\partial x_{3}}\\right)} x_{3}^{2} - 2 \\, {\\left(x_{0}^{2} \\frac{\\partial\\,f}{\\partial x_{1}} + x_{1}^{2} \\frac{\\partial\\,f}{\\partial x_{1}} - 2 \\, x_{1}\\right)} x_{2} + 2 \\, {\\left(x_{0}^{2} \\frac{\\partial\\,f}{\\partial x_{0}} + x_{1}^{2} \\frac{\\partial\\,f}{\\partial x_{0}} + x_{2}^{2} \\frac{\\partial\\,f}{\\partial x_{0}} - 2 \\, x_{0}\\right)} x_{3} - {\\left(x_{0}^{4} \\frac{\\partial\\,f}{\\partial x_{0}} - 2 \\, x_{0}^{3}\\right)} \\frac{\\partial\\,f}{\\partial x_{3}}}{8 \\, {\\left(x_{0}^{2} + x_{1}^{2} + x_{2}^{2} + x_{3}^{2}\\right)}} \\right) \\frac{\\partial}{\\partial x_{2} }\\otimes \\mathrm{d} x_{1} + \\left( \\frac{x_{0}^{4} \\left(\\frac{\\partial\\,f}{\\partial x_{2}}\\right)^{2} + x_{0}^{4} \\left(\\frac{\\partial\\,f}{\\partial x_{3}}\\right)^{2} + {\\left(\\left(\\frac{\\partial\\,f}{\\partial x_{2}}\\right)^{2} + \\left(\\frac{\\partial\\,f}{\\partial x_{3}}\\right)^{2}\\right)} x_{1}^{4} + {\\left(\\left(\\frac{\\partial\\,f}{\\partial x_{2}}\\right)^{2} + \\left(\\frac{\\partial\\,f}{\\partial x_{3}}\\right)^{2}\\right)} x_{2}^{4} + {\\left(\\left(\\frac{\\partial\\,f}{\\partial x_{2}}\\right)^{2} + \\left(\\frac{\\partial\\,f}{\\partial x_{3}}\\right)^{2}\\right)} x_{3}^{4} - 4 \\, x_{2}^{3} \\frac{\\partial\\,f}{\\partial x_{2}} - 4 \\, x_{3}^{3} \\frac{\\partial\\,f}{\\partial x_{3}} + 2 \\, {\\left(x_{0}^{2} \\left(\\frac{\\partial\\,f}{\\partial x_{2}}\\right)^{2} + x_{0}^{2} \\left(\\frac{\\partial\\,f}{\\partial x_{3}}\\right)^{2}\\right)} x_{1}^{2} + 2 \\, {\\left(x_{0}^{2} \\left(\\frac{\\partial\\,f}{\\partial x_{2}}\\right)^{2} + x_{0}^{2} \\left(\\frac{\\partial\\,f}{\\partial x_{3}}\\right)^{2} + {\\left(\\left(\\frac{\\partial\\,f}{\\partial x_{2}}\\right)^{2} + \\left(\\frac{\\partial\\,f}{\\partial x_{3}}\\right)^{2}\\right)} x_{1}^{2} + 2\\right)} x_{2}^{2} + 2 \\, {\\left(x_{0}^{2} \\left(\\frac{\\partial\\,f}{\\partial x_{2}}\\right)^{2} + x_{0}^{2} \\left(\\frac{\\partial\\,f}{\\partial x_{3}}\\right)^{2} + {\\left(\\left(\\frac{\\partial\\,f}{\\partial x_{2}}\\right)^{2} + \\left(\\frac{\\partial\\,f}{\\partial x_{3}}\\right)^{2}\\right)} x_{1}^{2} + {\\left(\\left(\\frac{\\partial\\,f}{\\partial x_{2}}\\right)^{2} + \\left(\\frac{\\partial\\,f}{\\partial x_{3}}\\right)^{2}\\right)} x_{2}^{2} - 2 \\, x_{2} \\frac{\\partial\\,f}{\\partial x_{2}} + 2\\right)} x_{3}^{2} - 4 \\, {\\left(x_{0}^{2} \\frac{\\partial\\,f}{\\partial x_{2}} + x_{1}^{2} \\frac{\\partial\\,f}{\\partial x_{2}}\\right)} x_{2} - 4 \\, {\\left(x_{0}^{2} \\frac{\\partial\\,f}{\\partial x_{3}} + x_{1}^{2} \\frac{\\partial\\,f}{\\partial x_{3}} + x_{2}^{2} \\frac{\\partial\\,f}{\\partial x_{3}}\\right)} x_{3}}{8 \\, {\\left(x_{0}^{2} + x_{1}^{2} + x_{2}^{2} + x_{3}^{2}\\right)}} \\right) \\frac{\\partial}{\\partial x_{2} }\\otimes \\mathrm{d} x_{2} + \\left( -\\frac{x_{0}^{4} \\frac{\\partial\\,f}{\\partial x_{1}} \\frac{\\partial\\,f}{\\partial x_{2}} + {\\left(\\frac{\\partial\\,f}{\\partial x_{1}} \\frac{\\partial\\,f}{\\partial x_{2}} - \\frac{\\partial\\,f}{\\partial x_{0}} \\frac{\\partial\\,f}{\\partial x_{3}}\\right)} x_{1}^{4} + {\\left(\\frac{\\partial\\,f}{\\partial x_{1}} \\frac{\\partial\\,f}{\\partial x_{2}} - \\frac{\\partial\\,f}{\\partial x_{0}} \\frac{\\partial\\,f}{\\partial x_{3}}\\right)} x_{2}^{4} + {\\left(\\frac{\\partial\\,f}{\\partial x_{1}} \\frac{\\partial\\,f}{\\partial x_{2}} - \\frac{\\partial\\,f}{\\partial x_{0}} \\frac{\\partial\\,f}{\\partial x_{3}}\\right)} x_{3}^{4} + 2 \\, x_{3}^{3} \\frac{\\partial\\,f}{\\partial x_{0}} - 2 \\, x_{2}^{3} \\frac{\\partial\\,f}{\\partial x_{1}} - 2 \\, x_{0}^{2} x_{1} \\frac{\\partial\\,f}{\\partial x_{2}} - 2 \\, x_{1}^{3} \\frac{\\partial\\,f}{\\partial x_{2}} + 2 \\, {\\left(x_{0}^{2} \\frac{\\partial\\,f}{\\partial x_{1}} \\frac{\\partial\\,f}{\\partial x_{2}} - {\\left(x_{0}^{2} \\frac{\\partial\\,f}{\\partial x_{0}} - x_{0}\\right)} \\frac{\\partial\\,f}{\\partial x_{3}}\\right)} x_{1}^{2} + 2 \\, {\\left(x_{0}^{2} \\frac{\\partial\\,f}{\\partial x_{1}} \\frac{\\partial\\,f}{\\partial x_{2}} + {\\left(\\frac{\\partial\\,f}{\\partial x_{1}} \\frac{\\partial\\,f}{\\partial x_{2}} - \\frac{\\partial\\,f}{\\partial x_{0}} \\frac{\\partial\\,f}{\\partial x_{3}}\\right)} x_{1}^{2} - x_{1} \\frac{\\partial\\,f}{\\partial x_{2}} - {\\left(x_{0}^{2} \\frac{\\partial\\,f}{\\partial x_{0}} - x_{0}\\right)} \\frac{\\partial\\,f}{\\partial x_{3}}\\right)} x_{2}^{2} + 2 \\, {\\left(x_{0}^{2} \\frac{\\partial\\,f}{\\partial x_{1}} \\frac{\\partial\\,f}{\\partial x_{2}} + {\\left(\\frac{\\partial\\,f}{\\partial x_{1}} \\frac{\\partial\\,f}{\\partial x_{2}} - \\frac{\\partial\\,f}{\\partial x_{0}} \\frac{\\partial\\,f}{\\partial x_{3}}\\right)} x_{1}^{2} + {\\left(\\frac{\\partial\\,f}{\\partial x_{1}} \\frac{\\partial\\,f}{\\partial x_{2}} - \\frac{\\partial\\,f}{\\partial x_{0}} \\frac{\\partial\\,f}{\\partial x_{3}}\\right)} x_{2}^{2} - x_{2} \\frac{\\partial\\,f}{\\partial x_{1}} - x_{1} \\frac{\\partial\\,f}{\\partial x_{2}} - {\\left(x_{0}^{2} \\frac{\\partial\\,f}{\\partial x_{0}} - x_{0}\\right)} \\frac{\\partial\\,f}{\\partial x_{3}}\\right)} x_{3}^{2} - 2 \\, {\\left(x_{0}^{2} \\frac{\\partial\\,f}{\\partial x_{1}} + x_{1}^{2} \\frac{\\partial\\,f}{\\partial x_{1}} - 2 \\, x_{1}\\right)} x_{2} + 2 \\, {\\left(x_{0}^{2} \\frac{\\partial\\,f}{\\partial x_{0}} + x_{1}^{2} \\frac{\\partial\\,f}{\\partial x_{0}} + x_{2}^{2} \\frac{\\partial\\,f}{\\partial x_{0}} - 2 \\, x_{0}\\right)} x_{3} - {\\left(x_{0}^{4} \\frac{\\partial\\,f}{\\partial x_{0}} - 2 \\, x_{0}^{3}\\right)} \\frac{\\partial\\,f}{\\partial x_{3}}}{8 \\, {\\left(x_{0}^{2} + x_{1}^{2} + x_{2}^{2} + x_{3}^{2}\\right)}} \\right) \\frac{\\partial}{\\partial x_{3} }\\otimes \\mathrm{d} x_{0} + \\left( \\frac{x_{0}^{4} \\frac{\\partial\\,f}{\\partial x_{1}} \\frac{\\partial\\,f}{\\partial x_{3}} + {\\left(\\frac{\\partial\\,f}{\\partial x_{0}} \\frac{\\partial\\,f}{\\partial x_{2}} + \\frac{\\partial\\,f}{\\partial x_{1}} \\frac{\\partial\\,f}{\\partial x_{3}}\\right)} x_{1}^{4} + {\\left(\\frac{\\partial\\,f}{\\partial x_{0}} \\frac{\\partial\\,f}{\\partial x_{2}} + \\frac{\\partial\\,f}{\\partial x_{1}} \\frac{\\partial\\,f}{\\partial x_{3}}\\right)} x_{2}^{4} + {\\left(\\frac{\\partial\\,f}{\\partial x_{0}} \\frac{\\partial\\,f}{\\partial x_{2}} + \\frac{\\partial\\,f}{\\partial x_{1}} \\frac{\\partial\\,f}{\\partial x_{3}}\\right)} x_{3}^{4} - 2 \\, x_{2}^{3} \\frac{\\partial\\,f}{\\partial x_{0}} - 2 \\, x_{3}^{3} \\frac{\\partial\\,f}{\\partial x_{1}} - 2 \\, x_{0}^{2} x_{1} \\frac{\\partial\\,f}{\\partial x_{3}} - 2 \\, x_{1}^{3} \\frac{\\partial\\,f}{\\partial x_{3}} + 2 \\, {\\left(x_{0}^{2} \\frac{\\partial\\,f}{\\partial x_{1}} \\frac{\\partial\\,f}{\\partial x_{3}} + {\\left(x_{0}^{2} \\frac{\\partial\\,f}{\\partial x_{0}} - x_{0}\\right)} \\frac{\\partial\\,f}{\\partial x_{2}}\\right)} x_{1}^{2} + 2 \\, {\\left(x_{0}^{2} \\frac{\\partial\\,f}{\\partial x_{1}} \\frac{\\partial\\,f}{\\partial x_{3}} + {\\left(\\frac{\\partial\\,f}{\\partial x_{0}} \\frac{\\partial\\,f}{\\partial x_{2}} + \\frac{\\partial\\,f}{\\partial x_{1}} \\frac{\\partial\\,f}{\\partial x_{3}}\\right)} x_{1}^{2} + {\\left(x_{0}^{2} \\frac{\\partial\\,f}{\\partial x_{0}} - x_{0}\\right)} \\frac{\\partial\\,f}{\\partial x_{2}} - x_{1} \\frac{\\partial\\,f}{\\partial x_{3}}\\right)} x_{2}^{2} + 2 \\, {\\left(x_{0}^{2} \\frac{\\partial\\,f}{\\partial x_{1}} \\frac{\\partial\\,f}{\\partial x_{3}} + {\\left(\\frac{\\partial\\,f}{\\partial x_{0}} \\frac{\\partial\\,f}{\\partial x_{2}} + \\frac{\\partial\\,f}{\\partial x_{1}} \\frac{\\partial\\,f}{\\partial x_{3}}\\right)} x_{1}^{2} + {\\left(\\frac{\\partial\\,f}{\\partial x_{0}} \\frac{\\partial\\,f}{\\partial x_{2}} + \\frac{\\partial\\,f}{\\partial x_{1}} \\frac{\\partial\\,f}{\\partial x_{3}}\\right)} x_{2}^{2} - x_{2} \\frac{\\partial\\,f}{\\partial x_{0}} + {\\left(x_{0}^{2} \\frac{\\partial\\,f}{\\partial x_{0}} - x_{0}\\right)} \\frac{\\partial\\,f}{\\partial x_{2}} - x_{1} \\frac{\\partial\\,f}{\\partial x_{3}}\\right)} x_{3}^{2} - 2 \\, {\\left(x_{0}^{2} \\frac{\\partial\\,f}{\\partial x_{0}} + x_{1}^{2} \\frac{\\partial\\,f}{\\partial x_{0}} - 2 \\, x_{0}\\right)} x_{2} - 2 \\, {\\left(x_{0}^{2} \\frac{\\partial\\,f}{\\partial x_{1}} + x_{1}^{2} \\frac{\\partial\\,f}{\\partial x_{1}} + x_{2}^{2} \\frac{\\partial\\,f}{\\partial x_{1}} - 2 \\, x_{1}\\right)} x_{3} + {\\left(x_{0}^{4} \\frac{\\partial\\,f}{\\partial x_{0}} - 2 \\, x_{0}^{3}\\right)} \\frac{\\partial\\,f}{\\partial x_{2}}}{8 \\, {\\left(x_{0}^{2} + x_{1}^{2} + x_{2}^{2} + x_{3}^{2}\\right)}} \\right) \\frac{\\partial}{\\partial x_{3} }\\otimes \\mathrm{d} x_{1} + \\left( \\frac{x_{0}^{4} \\left(\\frac{\\partial\\,f}{\\partial x_{2}}\\right)^{2} + x_{0}^{4} \\left(\\frac{\\partial\\,f}{\\partial x_{3}}\\right)^{2} + {\\left(\\left(\\frac{\\partial\\,f}{\\partial x_{2}}\\right)^{2} + \\left(\\frac{\\partial\\,f}{\\partial x_{3}}\\right)^{2}\\right)} x_{1}^{4} + {\\left(\\left(\\frac{\\partial\\,f}{\\partial x_{2}}\\right)^{2} + \\left(\\frac{\\partial\\,f}{\\partial x_{3}}\\right)^{2}\\right)} x_{2}^{4} + {\\left(\\left(\\frac{\\partial\\,f}{\\partial x_{2}}\\right)^{2} + \\left(\\frac{\\partial\\,f}{\\partial x_{3}}\\right)^{2}\\right)} x_{3}^{4} - 4 \\, x_{2}^{3} \\frac{\\partial\\,f}{\\partial x_{2}} - 4 \\, x_{3}^{3} \\frac{\\partial\\,f}{\\partial x_{3}} + 2 \\, {\\left(x_{0}^{2} \\left(\\frac{\\partial\\,f}{\\partial x_{2}}\\right)^{2} + x_{0}^{2} \\left(\\frac{\\partial\\,f}{\\partial x_{3}}\\right)^{2}\\right)} x_{1}^{2} + 2 \\, {\\left(x_{0}^{2} \\left(\\frac{\\partial\\,f}{\\partial x_{2}}\\right)^{2} + x_{0}^{2} \\left(\\frac{\\partial\\,f}{\\partial x_{3}}\\right)^{2} + {\\left(\\left(\\frac{\\partial\\,f}{\\partial x_{2}}\\right)^{2} + \\left(\\frac{\\partial\\,f}{\\partial x_{3}}\\right)^{2}\\right)} x_{1}^{2} + 2\\right)} x_{2}^{2} + 2 \\, {\\left(x_{0}^{2} \\left(\\frac{\\partial\\,f}{\\partial x_{2}}\\right)^{2} + x_{0}^{2} \\left(\\frac{\\partial\\,f}{\\partial x_{3}}\\right)^{2} + {\\left(\\left(\\frac{\\partial\\,f}{\\partial x_{2}}\\right)^{2} + \\left(\\frac{\\partial\\,f}{\\partial x_{3}}\\right)^{2}\\right)} x_{1}^{2} + {\\left(\\left(\\frac{\\partial\\,f}{\\partial x_{2}}\\right)^{2} + \\left(\\frac{\\partial\\,f}{\\partial x_{3}}\\right)^{2}\\right)} x_{2}^{2} - 2 \\, x_{2} \\frac{\\partial\\,f}{\\partial x_{2}} + 2\\right)} x_{3}^{2} - 4 \\, {\\left(x_{0}^{2} \\frac{\\partial\\,f}{\\partial x_{2}} + x_{1}^{2} \\frac{\\partial\\,f}{\\partial x_{2}}\\right)} x_{2} - 4 \\, {\\left(x_{0}^{2} \\frac{\\partial\\,f}{\\partial x_{3}} + x_{1}^{2} \\frac{\\partial\\,f}{\\partial x_{3}} + x_{2}^{2} \\frac{\\partial\\,f}{\\partial x_{3}}\\right)} x_{3}}{8 \\, {\\left(x_{0}^{2} + x_{1}^{2} + x_{2}^{2} + x_{3}^{2}\\right)}} \\right) \\frac{\\partial}{\\partial x_{3} }\\otimes \\mathrm{d} x_{3}\\)</html>"
      ],
      "text/latex": [
       "$\\displaystyle \\left( \\frac{x_{0}^{4} \\left(\\frac{\\partial\\,f}{\\partial x_{0}}\\right)^{2} + x_{0}^{4} \\left(\\frac{\\partial\\,f}{\\partial x_{1}}\\right)^{2} + {\\left(\\left(\\frac{\\partial\\,f}{\\partial x_{0}}\\right)^{2} + \\left(\\frac{\\partial\\,f}{\\partial x_{1}}\\right)^{2}\\right)} x_{1}^{4} + {\\left(\\left(\\frac{\\partial\\,f}{\\partial x_{0}}\\right)^{2} + \\left(\\frac{\\partial\\,f}{\\partial x_{1}}\\right)^{2}\\right)} x_{2}^{4} + {\\left(\\left(\\frac{\\partial\\,f}{\\partial x_{0}}\\right)^{2} + \\left(\\frac{\\partial\\,f}{\\partial x_{1}}\\right)^{2}\\right)} x_{3}^{4} - 4 \\, x_{0}^{3} \\frac{\\partial\\,f}{\\partial x_{0}} - 4 \\, x_{0}^{2} x_{1} \\frac{\\partial\\,f}{\\partial x_{1}} - 4 \\, x_{1}^{3} \\frac{\\partial\\,f}{\\partial x_{1}} + 2 \\, {\\left(x_{0}^{2} \\left(\\frac{\\partial\\,f}{\\partial x_{0}}\\right)^{2} + x_{0}^{2} \\left(\\frac{\\partial\\,f}{\\partial x_{1}}\\right)^{2} - 2 \\, x_{0} \\frac{\\partial\\,f}{\\partial x_{0}} + 2\\right)} x_{1}^{2} + 2 \\, {\\left(x_{0}^{2} \\left(\\frac{\\partial\\,f}{\\partial x_{0}}\\right)^{2} + x_{0}^{2} \\left(\\frac{\\partial\\,f}{\\partial x_{1}}\\right)^{2} + {\\left(\\left(\\frac{\\partial\\,f}{\\partial x_{0}}\\right)^{2} + \\left(\\frac{\\partial\\,f}{\\partial x_{1}}\\right)^{2}\\right)} x_{1}^{2} - 2 \\, x_{0} \\frac{\\partial\\,f}{\\partial x_{0}} - 2 \\, x_{1} \\frac{\\partial\\,f}{\\partial x_{1}}\\right)} x_{2}^{2} + 2 \\, {\\left(x_{0}^{2} \\left(\\frac{\\partial\\,f}{\\partial x_{0}}\\right)^{2} + x_{0}^{2} \\left(\\frac{\\partial\\,f}{\\partial x_{1}}\\right)^{2} + {\\left(\\left(\\frac{\\partial\\,f}{\\partial x_{0}}\\right)^{2} + \\left(\\frac{\\partial\\,f}{\\partial x_{1}}\\right)^{2}\\right)} x_{1}^{2} + {\\left(\\left(\\frac{\\partial\\,f}{\\partial x_{0}}\\right)^{2} + \\left(\\frac{\\partial\\,f}{\\partial x_{1}}\\right)^{2}\\right)} x_{2}^{2} - 2 \\, x_{0} \\frac{\\partial\\,f}{\\partial x_{0}} - 2 \\, x_{1} \\frac{\\partial\\,f}{\\partial x_{1}}\\right)} x_{3}^{2} + 4 \\, x_{0}^{2}}{8 \\, {\\left(x_{0}^{2} + x_{1}^{2} + x_{2}^{2} + x_{3}^{2}\\right)}} \\right) \\frac{\\partial}{\\partial x_{0} }\\otimes \\mathrm{d} x_{0} + \\left( \\frac{x_{0}^{4} \\frac{\\partial\\,f}{\\partial x_{1}} \\frac{\\partial\\,f}{\\partial x_{3}} + {\\left(\\frac{\\partial\\,f}{\\partial x_{0}} \\frac{\\partial\\,f}{\\partial x_{2}} + \\frac{\\partial\\,f}{\\partial x_{1}} \\frac{\\partial\\,f}{\\partial x_{3}}\\right)} x_{1}^{4} + {\\left(\\frac{\\partial\\,f}{\\partial x_{0}} \\frac{\\partial\\,f}{\\partial x_{2}} + \\frac{\\partial\\,f}{\\partial x_{1}} \\frac{\\partial\\,f}{\\partial x_{3}}\\right)} x_{2}^{4} + {\\left(\\frac{\\partial\\,f}{\\partial x_{0}} \\frac{\\partial\\,f}{\\partial x_{2}} + \\frac{\\partial\\,f}{\\partial x_{1}} \\frac{\\partial\\,f}{\\partial x_{3}}\\right)} x_{3}^{4} - 2 \\, x_{2}^{3} \\frac{\\partial\\,f}{\\partial x_{0}} - 2 \\, x_{3}^{3} \\frac{\\partial\\,f}{\\partial x_{1}} - 2 \\, x_{0}^{2} x_{1} \\frac{\\partial\\,f}{\\partial x_{3}} - 2 \\, x_{1}^{3} \\frac{\\partial\\,f}{\\partial x_{3}} + 2 \\, {\\left(x_{0}^{2} \\frac{\\partial\\,f}{\\partial x_{1}} \\frac{\\partial\\,f}{\\partial x_{3}} + {\\left(x_{0}^{2} \\frac{\\partial\\,f}{\\partial x_{0}} - x_{0}\\right)} \\frac{\\partial\\,f}{\\partial x_{2}}\\right)} x_{1}^{2} + 2 \\, {\\left(x_{0}^{2} \\frac{\\partial\\,f}{\\partial x_{1}} \\frac{\\partial\\,f}{\\partial x_{3}} + {\\left(\\frac{\\partial\\,f}{\\partial x_{0}} \\frac{\\partial\\,f}{\\partial x_{2}} + \\frac{\\partial\\,f}{\\partial x_{1}} \\frac{\\partial\\,f}{\\partial x_{3}}\\right)} x_{1}^{2} + {\\left(x_{0}^{2} \\frac{\\partial\\,f}{\\partial x_{0}} - x_{0}\\right)} \\frac{\\partial\\,f}{\\partial x_{2}} - x_{1} \\frac{\\partial\\,f}{\\partial x_{3}}\\right)} x_{2}^{2} + 2 \\, {\\left(x_{0}^{2} \\frac{\\partial\\,f}{\\partial x_{1}} \\frac{\\partial\\,f}{\\partial x_{3}} + {\\left(\\frac{\\partial\\,f}{\\partial x_{0}} \\frac{\\partial\\,f}{\\partial x_{2}} + \\frac{\\partial\\,f}{\\partial x_{1}} \\frac{\\partial\\,f}{\\partial x_{3}}\\right)} x_{1}^{2} + {\\left(\\frac{\\partial\\,f}{\\partial x_{0}} \\frac{\\partial\\,f}{\\partial x_{2}} + \\frac{\\partial\\,f}{\\partial x_{1}} \\frac{\\partial\\,f}{\\partial x_{3}}\\right)} x_{2}^{2} - x_{2} \\frac{\\partial\\,f}{\\partial x_{0}} + {\\left(x_{0}^{2} \\frac{\\partial\\,f}{\\partial x_{0}} - x_{0}\\right)} \\frac{\\partial\\,f}{\\partial x_{2}} - x_{1} \\frac{\\partial\\,f}{\\partial x_{3}}\\right)} x_{3}^{2} - 2 \\, {\\left(x_{0}^{2} \\frac{\\partial\\,f}{\\partial x_{0}} + x_{1}^{2} \\frac{\\partial\\,f}{\\partial x_{0}} - 2 \\, x_{0}\\right)} x_{2} - 2 \\, {\\left(x_{0}^{2} \\frac{\\partial\\,f}{\\partial x_{1}} + x_{1}^{2} \\frac{\\partial\\,f}{\\partial x_{1}} + x_{2}^{2} \\frac{\\partial\\,f}{\\partial x_{1}} - 2 \\, x_{1}\\right)} x_{3} + {\\left(x_{0}^{4} \\frac{\\partial\\,f}{\\partial x_{0}} - 2 \\, x_{0}^{3}\\right)} \\frac{\\partial\\,f}{\\partial x_{2}}}{8 \\, {\\left(x_{0}^{2} + x_{1}^{2} + x_{2}^{2} + x_{3}^{2}\\right)}} \\right) \\frac{\\partial}{\\partial x_{0} }\\otimes \\mathrm{d} x_{2} + \\left( -\\frac{x_{0}^{4} \\frac{\\partial\\,f}{\\partial x_{1}} \\frac{\\partial\\,f}{\\partial x_{2}} + {\\left(\\frac{\\partial\\,f}{\\partial x_{1}} \\frac{\\partial\\,f}{\\partial x_{2}} - \\frac{\\partial\\,f}{\\partial x_{0}} \\frac{\\partial\\,f}{\\partial x_{3}}\\right)} x_{1}^{4} + {\\left(\\frac{\\partial\\,f}{\\partial x_{1}} \\frac{\\partial\\,f}{\\partial x_{2}} - \\frac{\\partial\\,f}{\\partial x_{0}} \\frac{\\partial\\,f}{\\partial x_{3}}\\right)} x_{2}^{4} + {\\left(\\frac{\\partial\\,f}{\\partial x_{1}} \\frac{\\partial\\,f}{\\partial x_{2}} - \\frac{\\partial\\,f}{\\partial x_{0}} \\frac{\\partial\\,f}{\\partial x_{3}}\\right)} x_{3}^{4} + 2 \\, x_{3}^{3} \\frac{\\partial\\,f}{\\partial x_{0}} - 2 \\, x_{2}^{3} \\frac{\\partial\\,f}{\\partial x_{1}} - 2 \\, x_{0}^{2} x_{1} \\frac{\\partial\\,f}{\\partial x_{2}} - 2 \\, x_{1}^{3} \\frac{\\partial\\,f}{\\partial x_{2}} + 2 \\, {\\left(x_{0}^{2} \\frac{\\partial\\,f}{\\partial x_{1}} \\frac{\\partial\\,f}{\\partial x_{2}} - {\\left(x_{0}^{2} \\frac{\\partial\\,f}{\\partial x_{0}} - x_{0}\\right)} \\frac{\\partial\\,f}{\\partial x_{3}}\\right)} x_{1}^{2} + 2 \\, {\\left(x_{0}^{2} \\frac{\\partial\\,f}{\\partial x_{1}} \\frac{\\partial\\,f}{\\partial x_{2}} + {\\left(\\frac{\\partial\\,f}{\\partial x_{1}} \\frac{\\partial\\,f}{\\partial x_{2}} - \\frac{\\partial\\,f}{\\partial x_{0}} \\frac{\\partial\\,f}{\\partial x_{3}}\\right)} x_{1}^{2} - x_{1} \\frac{\\partial\\,f}{\\partial x_{2}} - {\\left(x_{0}^{2} \\frac{\\partial\\,f}{\\partial x_{0}} - x_{0}\\right)} \\frac{\\partial\\,f}{\\partial x_{3}}\\right)} x_{2}^{2} + 2 \\, {\\left(x_{0}^{2} \\frac{\\partial\\,f}{\\partial x_{1}} \\frac{\\partial\\,f}{\\partial x_{2}} + {\\left(\\frac{\\partial\\,f}{\\partial x_{1}} \\frac{\\partial\\,f}{\\partial x_{2}} - \\frac{\\partial\\,f}{\\partial x_{0}} \\frac{\\partial\\,f}{\\partial x_{3}}\\right)} x_{1}^{2} + {\\left(\\frac{\\partial\\,f}{\\partial x_{1}} \\frac{\\partial\\,f}{\\partial x_{2}} - \\frac{\\partial\\,f}{\\partial x_{0}} \\frac{\\partial\\,f}{\\partial x_{3}}\\right)} x_{2}^{2} - x_{2} \\frac{\\partial\\,f}{\\partial x_{1}} - x_{1} \\frac{\\partial\\,f}{\\partial x_{2}} - {\\left(x_{0}^{2} \\frac{\\partial\\,f}{\\partial x_{0}} - x_{0}\\right)} \\frac{\\partial\\,f}{\\partial x_{3}}\\right)} x_{3}^{2} - 2 \\, {\\left(x_{0}^{2} \\frac{\\partial\\,f}{\\partial x_{1}} + x_{1}^{2} \\frac{\\partial\\,f}{\\partial x_{1}} - 2 \\, x_{1}\\right)} x_{2} + 2 \\, {\\left(x_{0}^{2} \\frac{\\partial\\,f}{\\partial x_{0}} + x_{1}^{2} \\frac{\\partial\\,f}{\\partial x_{0}} + x_{2}^{2} \\frac{\\partial\\,f}{\\partial x_{0}} - 2 \\, x_{0}\\right)} x_{3} - {\\left(x_{0}^{4} \\frac{\\partial\\,f}{\\partial x_{0}} - 2 \\, x_{0}^{3}\\right)} \\frac{\\partial\\,f}{\\partial x_{3}}}{8 \\, {\\left(x_{0}^{2} + x_{1}^{2} + x_{2}^{2} + x_{3}^{2}\\right)}} \\right) \\frac{\\partial}{\\partial x_{0} }\\otimes \\mathrm{d} x_{3} + \\left( \\frac{x_{0}^{4} \\left(\\frac{\\partial\\,f}{\\partial x_{0}}\\right)^{2} + x_{0}^{4} \\left(\\frac{\\partial\\,f}{\\partial x_{1}}\\right)^{2} + {\\left(\\left(\\frac{\\partial\\,f}{\\partial x_{0}}\\right)^{2} + \\left(\\frac{\\partial\\,f}{\\partial x_{1}}\\right)^{2}\\right)} x_{1}^{4} + {\\left(\\left(\\frac{\\partial\\,f}{\\partial x_{0}}\\right)^{2} + \\left(\\frac{\\partial\\,f}{\\partial x_{1}}\\right)^{2}\\right)} x_{2}^{4} + {\\left(\\left(\\frac{\\partial\\,f}{\\partial x_{0}}\\right)^{2} + \\left(\\frac{\\partial\\,f}{\\partial x_{1}}\\right)^{2}\\right)} x_{3}^{4} - 4 \\, x_{0}^{3} \\frac{\\partial\\,f}{\\partial x_{0}} - 4 \\, x_{0}^{2} x_{1} \\frac{\\partial\\,f}{\\partial x_{1}} - 4 \\, x_{1}^{3} \\frac{\\partial\\,f}{\\partial x_{1}} + 2 \\, {\\left(x_{0}^{2} \\left(\\frac{\\partial\\,f}{\\partial x_{0}}\\right)^{2} + x_{0}^{2} \\left(\\frac{\\partial\\,f}{\\partial x_{1}}\\right)^{2} - 2 \\, x_{0} \\frac{\\partial\\,f}{\\partial x_{0}} + 2\\right)} x_{1}^{2} + 2 \\, {\\left(x_{0}^{2} \\left(\\frac{\\partial\\,f}{\\partial x_{0}}\\right)^{2} + x_{0}^{2} \\left(\\frac{\\partial\\,f}{\\partial x_{1}}\\right)^{2} + {\\left(\\left(\\frac{\\partial\\,f}{\\partial x_{0}}\\right)^{2} + \\left(\\frac{\\partial\\,f}{\\partial x_{1}}\\right)^{2}\\right)} x_{1}^{2} - 2 \\, x_{0} \\frac{\\partial\\,f}{\\partial x_{0}} - 2 \\, x_{1} \\frac{\\partial\\,f}{\\partial x_{1}}\\right)} x_{2}^{2} + 2 \\, {\\left(x_{0}^{2} \\left(\\frac{\\partial\\,f}{\\partial x_{0}}\\right)^{2} + x_{0}^{2} \\left(\\frac{\\partial\\,f}{\\partial x_{1}}\\right)^{2} + {\\left(\\left(\\frac{\\partial\\,f}{\\partial x_{0}}\\right)^{2} + \\left(\\frac{\\partial\\,f}{\\partial x_{1}}\\right)^{2}\\right)} x_{1}^{2} + {\\left(\\left(\\frac{\\partial\\,f}{\\partial x_{0}}\\right)^{2} + \\left(\\frac{\\partial\\,f}{\\partial x_{1}}\\right)^{2}\\right)} x_{2}^{2} - 2 \\, x_{0} \\frac{\\partial\\,f}{\\partial x_{0}} - 2 \\, x_{1} \\frac{\\partial\\,f}{\\partial x_{1}}\\right)} x_{3}^{2} + 4 \\, x_{0}^{2}}{8 \\, {\\left(x_{0}^{2} + x_{1}^{2} + x_{2}^{2} + x_{3}^{2}\\right)}} \\right) \\frac{\\partial}{\\partial x_{1} }\\otimes \\mathrm{d} x_{1} + \\left( \\frac{x_{0}^{4} \\frac{\\partial\\,f}{\\partial x_{1}} \\frac{\\partial\\,f}{\\partial x_{2}} + {\\left(\\frac{\\partial\\,f}{\\partial x_{1}} \\frac{\\partial\\,f}{\\partial x_{2}} - \\frac{\\partial\\,f}{\\partial x_{0}} \\frac{\\partial\\,f}{\\partial x_{3}}\\right)} x_{1}^{4} + {\\left(\\frac{\\partial\\,f}{\\partial x_{1}} \\frac{\\partial\\,f}{\\partial x_{2}} - \\frac{\\partial\\,f}{\\partial x_{0}} \\frac{\\partial\\,f}{\\partial x_{3}}\\right)} x_{2}^{4} + {\\left(\\frac{\\partial\\,f}{\\partial x_{1}} \\frac{\\partial\\,f}{\\partial x_{2}} - \\frac{\\partial\\,f}{\\partial x_{0}} \\frac{\\partial\\,f}{\\partial x_{3}}\\right)} x_{3}^{4} + 2 \\, x_{3}^{3} \\frac{\\partial\\,f}{\\partial x_{0}} - 2 \\, x_{2}^{3} \\frac{\\partial\\,f}{\\partial x_{1}} - 2 \\, x_{0}^{2} x_{1} \\frac{\\partial\\,f}{\\partial x_{2}} - 2 \\, x_{1}^{3} \\frac{\\partial\\,f}{\\partial x_{2}} + 2 \\, {\\left(x_{0}^{2} \\frac{\\partial\\,f}{\\partial x_{1}} \\frac{\\partial\\,f}{\\partial x_{2}} - {\\left(x_{0}^{2} \\frac{\\partial\\,f}{\\partial x_{0}} - x_{0}\\right)} \\frac{\\partial\\,f}{\\partial x_{3}}\\right)} x_{1}^{2} + 2 \\, {\\left(x_{0}^{2} \\frac{\\partial\\,f}{\\partial x_{1}} \\frac{\\partial\\,f}{\\partial x_{2}} + {\\left(\\frac{\\partial\\,f}{\\partial x_{1}} \\frac{\\partial\\,f}{\\partial x_{2}} - \\frac{\\partial\\,f}{\\partial x_{0}} \\frac{\\partial\\,f}{\\partial x_{3}}\\right)} x_{1}^{2} - x_{1} \\frac{\\partial\\,f}{\\partial x_{2}} - {\\left(x_{0}^{2} \\frac{\\partial\\,f}{\\partial x_{0}} - x_{0}\\right)} \\frac{\\partial\\,f}{\\partial x_{3}}\\right)} x_{2}^{2} + 2 \\, {\\left(x_{0}^{2} \\frac{\\partial\\,f}{\\partial x_{1}} \\frac{\\partial\\,f}{\\partial x_{2}} + {\\left(\\frac{\\partial\\,f}{\\partial x_{1}} \\frac{\\partial\\,f}{\\partial x_{2}} - \\frac{\\partial\\,f}{\\partial x_{0}} \\frac{\\partial\\,f}{\\partial x_{3}}\\right)} x_{1}^{2} + {\\left(\\frac{\\partial\\,f}{\\partial x_{1}} \\frac{\\partial\\,f}{\\partial x_{2}} - \\frac{\\partial\\,f}{\\partial x_{0}} \\frac{\\partial\\,f}{\\partial x_{3}}\\right)} x_{2}^{2} - x_{2} \\frac{\\partial\\,f}{\\partial x_{1}} - x_{1} \\frac{\\partial\\,f}{\\partial x_{2}} - {\\left(x_{0}^{2} \\frac{\\partial\\,f}{\\partial x_{0}} - x_{0}\\right)} \\frac{\\partial\\,f}{\\partial x_{3}}\\right)} x_{3}^{2} - 2 \\, {\\left(x_{0}^{2} \\frac{\\partial\\,f}{\\partial x_{1}} + x_{1}^{2} \\frac{\\partial\\,f}{\\partial x_{1}} - 2 \\, x_{1}\\right)} x_{2} + 2 \\, {\\left(x_{0}^{2} \\frac{\\partial\\,f}{\\partial x_{0}} + x_{1}^{2} \\frac{\\partial\\,f}{\\partial x_{0}} + x_{2}^{2} \\frac{\\partial\\,f}{\\partial x_{0}} - 2 \\, x_{0}\\right)} x_{3} - {\\left(x_{0}^{4} \\frac{\\partial\\,f}{\\partial x_{0}} - 2 \\, x_{0}^{3}\\right)} \\frac{\\partial\\,f}{\\partial x_{3}}}{8 \\, {\\left(x_{0}^{2} + x_{1}^{2} + x_{2}^{2} + x_{3}^{2}\\right)}} \\right) \\frac{\\partial}{\\partial x_{1} }\\otimes \\mathrm{d} x_{2} + \\left( \\frac{x_{0}^{4} \\frac{\\partial\\,f}{\\partial x_{1}} \\frac{\\partial\\,f}{\\partial x_{3}} + {\\left(\\frac{\\partial\\,f}{\\partial x_{0}} \\frac{\\partial\\,f}{\\partial x_{2}} + \\frac{\\partial\\,f}{\\partial x_{1}} \\frac{\\partial\\,f}{\\partial x_{3}}\\right)} x_{1}^{4} + {\\left(\\frac{\\partial\\,f}{\\partial x_{0}} \\frac{\\partial\\,f}{\\partial x_{2}} + \\frac{\\partial\\,f}{\\partial x_{1}} \\frac{\\partial\\,f}{\\partial x_{3}}\\right)} x_{2}^{4} + {\\left(\\frac{\\partial\\,f}{\\partial x_{0}} \\frac{\\partial\\,f}{\\partial x_{2}} + \\frac{\\partial\\,f}{\\partial x_{1}} \\frac{\\partial\\,f}{\\partial x_{3}}\\right)} x_{3}^{4} - 2 \\, x_{2}^{3} \\frac{\\partial\\,f}{\\partial x_{0}} - 2 \\, x_{3}^{3} \\frac{\\partial\\,f}{\\partial x_{1}} - 2 \\, x_{0}^{2} x_{1} \\frac{\\partial\\,f}{\\partial x_{3}} - 2 \\, x_{1}^{3} \\frac{\\partial\\,f}{\\partial x_{3}} + 2 \\, {\\left(x_{0}^{2} \\frac{\\partial\\,f}{\\partial x_{1}} \\frac{\\partial\\,f}{\\partial x_{3}} + {\\left(x_{0}^{2} \\frac{\\partial\\,f}{\\partial x_{0}} - x_{0}\\right)} \\frac{\\partial\\,f}{\\partial x_{2}}\\right)} x_{1}^{2} + 2 \\, {\\left(x_{0}^{2} \\frac{\\partial\\,f}{\\partial x_{1}} \\frac{\\partial\\,f}{\\partial x_{3}} + {\\left(\\frac{\\partial\\,f}{\\partial x_{0}} \\frac{\\partial\\,f}{\\partial x_{2}} + \\frac{\\partial\\,f}{\\partial x_{1}} \\frac{\\partial\\,f}{\\partial x_{3}}\\right)} x_{1}^{2} + {\\left(x_{0}^{2} \\frac{\\partial\\,f}{\\partial x_{0}} - x_{0}\\right)} \\frac{\\partial\\,f}{\\partial x_{2}} - x_{1} \\frac{\\partial\\,f}{\\partial x_{3}}\\right)} x_{2}^{2} + 2 \\, {\\left(x_{0}^{2} \\frac{\\partial\\,f}{\\partial x_{1}} \\frac{\\partial\\,f}{\\partial x_{3}} + {\\left(\\frac{\\partial\\,f}{\\partial x_{0}} \\frac{\\partial\\,f}{\\partial x_{2}} + \\frac{\\partial\\,f}{\\partial x_{1}} \\frac{\\partial\\,f}{\\partial x_{3}}\\right)} x_{1}^{2} + {\\left(\\frac{\\partial\\,f}{\\partial x_{0}} \\frac{\\partial\\,f}{\\partial x_{2}} + \\frac{\\partial\\,f}{\\partial x_{1}} \\frac{\\partial\\,f}{\\partial x_{3}}\\right)} x_{2}^{2} - x_{2} \\frac{\\partial\\,f}{\\partial x_{0}} + {\\left(x_{0}^{2} \\frac{\\partial\\,f}{\\partial x_{0}} - x_{0}\\right)} \\frac{\\partial\\,f}{\\partial x_{2}} - x_{1} \\frac{\\partial\\,f}{\\partial x_{3}}\\right)} x_{3}^{2} - 2 \\, {\\left(x_{0}^{2} \\frac{\\partial\\,f}{\\partial x_{0}} + x_{1}^{2} \\frac{\\partial\\,f}{\\partial x_{0}} - 2 \\, x_{0}\\right)} x_{2} - 2 \\, {\\left(x_{0}^{2} \\frac{\\partial\\,f}{\\partial x_{1}} + x_{1}^{2} \\frac{\\partial\\,f}{\\partial x_{1}} + x_{2}^{2} \\frac{\\partial\\,f}{\\partial x_{1}} - 2 \\, x_{1}\\right)} x_{3} + {\\left(x_{0}^{4} \\frac{\\partial\\,f}{\\partial x_{0}} - 2 \\, x_{0}^{3}\\right)} \\frac{\\partial\\,f}{\\partial x_{2}}}{8 \\, {\\left(x_{0}^{2} + x_{1}^{2} + x_{2}^{2} + x_{3}^{2}\\right)}} \\right) \\frac{\\partial}{\\partial x_{1} }\\otimes \\mathrm{d} x_{3} + \\left( \\frac{x_{0}^{4} \\frac{\\partial\\,f}{\\partial x_{1}} \\frac{\\partial\\,f}{\\partial x_{3}} + {\\left(\\frac{\\partial\\,f}{\\partial x_{0}} \\frac{\\partial\\,f}{\\partial x_{2}} + \\frac{\\partial\\,f}{\\partial x_{1}} \\frac{\\partial\\,f}{\\partial x_{3}}\\right)} x_{1}^{4} + {\\left(\\frac{\\partial\\,f}{\\partial x_{0}} \\frac{\\partial\\,f}{\\partial x_{2}} + \\frac{\\partial\\,f}{\\partial x_{1}} \\frac{\\partial\\,f}{\\partial x_{3}}\\right)} x_{2}^{4} + {\\left(\\frac{\\partial\\,f}{\\partial x_{0}} \\frac{\\partial\\,f}{\\partial x_{2}} + \\frac{\\partial\\,f}{\\partial x_{1}} \\frac{\\partial\\,f}{\\partial x_{3}}\\right)} x_{3}^{4} - 2 \\, x_{2}^{3} \\frac{\\partial\\,f}{\\partial x_{0}} - 2 \\, x_{3}^{3} \\frac{\\partial\\,f}{\\partial x_{1}} - 2 \\, x_{0}^{2} x_{1} \\frac{\\partial\\,f}{\\partial x_{3}} - 2 \\, x_{1}^{3} \\frac{\\partial\\,f}{\\partial x_{3}} + 2 \\, {\\left(x_{0}^{2} \\frac{\\partial\\,f}{\\partial x_{1}} \\frac{\\partial\\,f}{\\partial x_{3}} + {\\left(x_{0}^{2} \\frac{\\partial\\,f}{\\partial x_{0}} - x_{0}\\right)} \\frac{\\partial\\,f}{\\partial x_{2}}\\right)} x_{1}^{2} + 2 \\, {\\left(x_{0}^{2} \\frac{\\partial\\,f}{\\partial x_{1}} \\frac{\\partial\\,f}{\\partial x_{3}} + {\\left(\\frac{\\partial\\,f}{\\partial x_{0}} \\frac{\\partial\\,f}{\\partial x_{2}} + \\frac{\\partial\\,f}{\\partial x_{1}} \\frac{\\partial\\,f}{\\partial x_{3}}\\right)} x_{1}^{2} + {\\left(x_{0}^{2} \\frac{\\partial\\,f}{\\partial x_{0}} - x_{0}\\right)} \\frac{\\partial\\,f}{\\partial x_{2}} - x_{1} \\frac{\\partial\\,f}{\\partial x_{3}}\\right)} x_{2}^{2} + 2 \\, {\\left(x_{0}^{2} \\frac{\\partial\\,f}{\\partial x_{1}} \\frac{\\partial\\,f}{\\partial x_{3}} + {\\left(\\frac{\\partial\\,f}{\\partial x_{0}} \\frac{\\partial\\,f}{\\partial x_{2}} + \\frac{\\partial\\,f}{\\partial x_{1}} \\frac{\\partial\\,f}{\\partial x_{3}}\\right)} x_{1}^{2} + {\\left(\\frac{\\partial\\,f}{\\partial x_{0}} \\frac{\\partial\\,f}{\\partial x_{2}} + \\frac{\\partial\\,f}{\\partial x_{1}} \\frac{\\partial\\,f}{\\partial x_{3}}\\right)} x_{2}^{2} - x_{2} \\frac{\\partial\\,f}{\\partial x_{0}} + {\\left(x_{0}^{2} \\frac{\\partial\\,f}{\\partial x_{0}} - x_{0}\\right)} \\frac{\\partial\\,f}{\\partial x_{2}} - x_{1} \\frac{\\partial\\,f}{\\partial x_{3}}\\right)} x_{3}^{2} - 2 \\, {\\left(x_{0}^{2} \\frac{\\partial\\,f}{\\partial x_{0}} + x_{1}^{2} \\frac{\\partial\\,f}{\\partial x_{0}} - 2 \\, x_{0}\\right)} x_{2} - 2 \\, {\\left(x_{0}^{2} \\frac{\\partial\\,f}{\\partial x_{1}} + x_{1}^{2} \\frac{\\partial\\,f}{\\partial x_{1}} + x_{2}^{2} \\frac{\\partial\\,f}{\\partial x_{1}} - 2 \\, x_{1}\\right)} x_{3} + {\\left(x_{0}^{4} \\frac{\\partial\\,f}{\\partial x_{0}} - 2 \\, x_{0}^{3}\\right)} \\frac{\\partial\\,f}{\\partial x_{2}}}{8 \\, {\\left(x_{0}^{2} + x_{1}^{2} + x_{2}^{2} + x_{3}^{2}\\right)}} \\right) \\frac{\\partial}{\\partial x_{2} }\\otimes \\mathrm{d} x_{0} + \\left( \\frac{x_{0}^{4} \\frac{\\partial\\,f}{\\partial x_{1}} \\frac{\\partial\\,f}{\\partial x_{2}} + {\\left(\\frac{\\partial\\,f}{\\partial x_{1}} \\frac{\\partial\\,f}{\\partial x_{2}} - \\frac{\\partial\\,f}{\\partial x_{0}} \\frac{\\partial\\,f}{\\partial x_{3}}\\right)} x_{1}^{4} + {\\left(\\frac{\\partial\\,f}{\\partial x_{1}} \\frac{\\partial\\,f}{\\partial x_{2}} - \\frac{\\partial\\,f}{\\partial x_{0}} \\frac{\\partial\\,f}{\\partial x_{3}}\\right)} x_{2}^{4} + {\\left(\\frac{\\partial\\,f}{\\partial x_{1}} \\frac{\\partial\\,f}{\\partial x_{2}} - \\frac{\\partial\\,f}{\\partial x_{0}} \\frac{\\partial\\,f}{\\partial x_{3}}\\right)} x_{3}^{4} + 2 \\, x_{3}^{3} \\frac{\\partial\\,f}{\\partial x_{0}} - 2 \\, x_{2}^{3} \\frac{\\partial\\,f}{\\partial x_{1}} - 2 \\, x_{0}^{2} x_{1} \\frac{\\partial\\,f}{\\partial x_{2}} - 2 \\, x_{1}^{3} \\frac{\\partial\\,f}{\\partial x_{2}} + 2 \\, {\\left(x_{0}^{2} \\frac{\\partial\\,f}{\\partial x_{1}} \\frac{\\partial\\,f}{\\partial x_{2}} - {\\left(x_{0}^{2} \\frac{\\partial\\,f}{\\partial x_{0}} - x_{0}\\right)} \\frac{\\partial\\,f}{\\partial x_{3}}\\right)} x_{1}^{2} + 2 \\, {\\left(x_{0}^{2} \\frac{\\partial\\,f}{\\partial x_{1}} \\frac{\\partial\\,f}{\\partial x_{2}} + {\\left(\\frac{\\partial\\,f}{\\partial x_{1}} \\frac{\\partial\\,f}{\\partial x_{2}} - \\frac{\\partial\\,f}{\\partial x_{0}} \\frac{\\partial\\,f}{\\partial x_{3}}\\right)} x_{1}^{2} - x_{1} \\frac{\\partial\\,f}{\\partial x_{2}} - {\\left(x_{0}^{2} \\frac{\\partial\\,f}{\\partial x_{0}} - x_{0}\\right)} \\frac{\\partial\\,f}{\\partial x_{3}}\\right)} x_{2}^{2} + 2 \\, {\\left(x_{0}^{2} \\frac{\\partial\\,f}{\\partial x_{1}} \\frac{\\partial\\,f}{\\partial x_{2}} + {\\left(\\frac{\\partial\\,f}{\\partial x_{1}} \\frac{\\partial\\,f}{\\partial x_{2}} - \\frac{\\partial\\,f}{\\partial x_{0}} \\frac{\\partial\\,f}{\\partial x_{3}}\\right)} x_{1}^{2} + {\\left(\\frac{\\partial\\,f}{\\partial x_{1}} \\frac{\\partial\\,f}{\\partial x_{2}} - \\frac{\\partial\\,f}{\\partial x_{0}} \\frac{\\partial\\,f}{\\partial x_{3}}\\right)} x_{2}^{2} - x_{2} \\frac{\\partial\\,f}{\\partial x_{1}} - x_{1} \\frac{\\partial\\,f}{\\partial x_{2}} - {\\left(x_{0}^{2} \\frac{\\partial\\,f}{\\partial x_{0}} - x_{0}\\right)} \\frac{\\partial\\,f}{\\partial x_{3}}\\right)} x_{3}^{2} - 2 \\, {\\left(x_{0}^{2} \\frac{\\partial\\,f}{\\partial x_{1}} + x_{1}^{2} \\frac{\\partial\\,f}{\\partial x_{1}} - 2 \\, x_{1}\\right)} x_{2} + 2 \\, {\\left(x_{0}^{2} \\frac{\\partial\\,f}{\\partial x_{0}} + x_{1}^{2} \\frac{\\partial\\,f}{\\partial x_{0}} + x_{2}^{2} \\frac{\\partial\\,f}{\\partial x_{0}} - 2 \\, x_{0}\\right)} x_{3} - {\\left(x_{0}^{4} \\frac{\\partial\\,f}{\\partial x_{0}} - 2 \\, x_{0}^{3}\\right)} \\frac{\\partial\\,f}{\\partial x_{3}}}{8 \\, {\\left(x_{0}^{2} + x_{1}^{2} + x_{2}^{2} + x_{3}^{2}\\right)}} \\right) \\frac{\\partial}{\\partial x_{2} }\\otimes \\mathrm{d} x_{1} + \\left( \\frac{x_{0}^{4} \\left(\\frac{\\partial\\,f}{\\partial x_{2}}\\right)^{2} + x_{0}^{4} \\left(\\frac{\\partial\\,f}{\\partial x_{3}}\\right)^{2} + {\\left(\\left(\\frac{\\partial\\,f}{\\partial x_{2}}\\right)^{2} + \\left(\\frac{\\partial\\,f}{\\partial x_{3}}\\right)^{2}\\right)} x_{1}^{4} + {\\left(\\left(\\frac{\\partial\\,f}{\\partial x_{2}}\\right)^{2} + \\left(\\frac{\\partial\\,f}{\\partial x_{3}}\\right)^{2}\\right)} x_{2}^{4} + {\\left(\\left(\\frac{\\partial\\,f}{\\partial x_{2}}\\right)^{2} + \\left(\\frac{\\partial\\,f}{\\partial x_{3}}\\right)^{2}\\right)} x_{3}^{4} - 4 \\, x_{2}^{3} \\frac{\\partial\\,f}{\\partial x_{2}} - 4 \\, x_{3}^{3} \\frac{\\partial\\,f}{\\partial x_{3}} + 2 \\, {\\left(x_{0}^{2} \\left(\\frac{\\partial\\,f}{\\partial x_{2}}\\right)^{2} + x_{0}^{2} \\left(\\frac{\\partial\\,f}{\\partial x_{3}}\\right)^{2}\\right)} x_{1}^{2} + 2 \\, {\\left(x_{0}^{2} \\left(\\frac{\\partial\\,f}{\\partial x_{2}}\\right)^{2} + x_{0}^{2} \\left(\\frac{\\partial\\,f}{\\partial x_{3}}\\right)^{2} + {\\left(\\left(\\frac{\\partial\\,f}{\\partial x_{2}}\\right)^{2} + \\left(\\frac{\\partial\\,f}{\\partial x_{3}}\\right)^{2}\\right)} x_{1}^{2} + 2\\right)} x_{2}^{2} + 2 \\, {\\left(x_{0}^{2} \\left(\\frac{\\partial\\,f}{\\partial x_{2}}\\right)^{2} + x_{0}^{2} \\left(\\frac{\\partial\\,f}{\\partial x_{3}}\\right)^{2} + {\\left(\\left(\\frac{\\partial\\,f}{\\partial x_{2}}\\right)^{2} + \\left(\\frac{\\partial\\,f}{\\partial x_{3}}\\right)^{2}\\right)} x_{1}^{2} + {\\left(\\left(\\frac{\\partial\\,f}{\\partial x_{2}}\\right)^{2} + \\left(\\frac{\\partial\\,f}{\\partial x_{3}}\\right)^{2}\\right)} x_{2}^{2} - 2 \\, x_{2} \\frac{\\partial\\,f}{\\partial x_{2}} + 2\\right)} x_{3}^{2} - 4 \\, {\\left(x_{0}^{2} \\frac{\\partial\\,f}{\\partial x_{2}} + x_{1}^{2} \\frac{\\partial\\,f}{\\partial x_{2}}\\right)} x_{2} - 4 \\, {\\left(x_{0}^{2} \\frac{\\partial\\,f}{\\partial x_{3}} + x_{1}^{2} \\frac{\\partial\\,f}{\\partial x_{3}} + x_{2}^{2} \\frac{\\partial\\,f}{\\partial x_{3}}\\right)} x_{3}}{8 \\, {\\left(x_{0}^{2} + x_{1}^{2} + x_{2}^{2} + x_{3}^{2}\\right)}} \\right) \\frac{\\partial}{\\partial x_{2} }\\otimes \\mathrm{d} x_{2} + \\left( -\\frac{x_{0}^{4} \\frac{\\partial\\,f}{\\partial x_{1}} \\frac{\\partial\\,f}{\\partial x_{2}} + {\\left(\\frac{\\partial\\,f}{\\partial x_{1}} \\frac{\\partial\\,f}{\\partial x_{2}} - \\frac{\\partial\\,f}{\\partial x_{0}} \\frac{\\partial\\,f}{\\partial x_{3}}\\right)} x_{1}^{4} + {\\left(\\frac{\\partial\\,f}{\\partial x_{1}} \\frac{\\partial\\,f}{\\partial x_{2}} - \\frac{\\partial\\,f}{\\partial x_{0}} \\frac{\\partial\\,f}{\\partial x_{3}}\\right)} x_{2}^{4} + {\\left(\\frac{\\partial\\,f}{\\partial x_{1}} \\frac{\\partial\\,f}{\\partial x_{2}} - \\frac{\\partial\\,f}{\\partial x_{0}} \\frac{\\partial\\,f}{\\partial x_{3}}\\right)} x_{3}^{4} + 2 \\, x_{3}^{3} \\frac{\\partial\\,f}{\\partial x_{0}} - 2 \\, x_{2}^{3} \\frac{\\partial\\,f}{\\partial x_{1}} - 2 \\, x_{0}^{2} x_{1} \\frac{\\partial\\,f}{\\partial x_{2}} - 2 \\, x_{1}^{3} \\frac{\\partial\\,f}{\\partial x_{2}} + 2 \\, {\\left(x_{0}^{2} \\frac{\\partial\\,f}{\\partial x_{1}} \\frac{\\partial\\,f}{\\partial x_{2}} - {\\left(x_{0}^{2} \\frac{\\partial\\,f}{\\partial x_{0}} - x_{0}\\right)} \\frac{\\partial\\,f}{\\partial x_{3}}\\right)} x_{1}^{2} + 2 \\, {\\left(x_{0}^{2} \\frac{\\partial\\,f}{\\partial x_{1}} \\frac{\\partial\\,f}{\\partial x_{2}} + {\\left(\\frac{\\partial\\,f}{\\partial x_{1}} \\frac{\\partial\\,f}{\\partial x_{2}} - \\frac{\\partial\\,f}{\\partial x_{0}} \\frac{\\partial\\,f}{\\partial x_{3}}\\right)} x_{1}^{2} - x_{1} \\frac{\\partial\\,f}{\\partial x_{2}} - {\\left(x_{0}^{2} \\frac{\\partial\\,f}{\\partial x_{0}} - x_{0}\\right)} \\frac{\\partial\\,f}{\\partial x_{3}}\\right)} x_{2}^{2} + 2 \\, {\\left(x_{0}^{2} \\frac{\\partial\\,f}{\\partial x_{1}} \\frac{\\partial\\,f}{\\partial x_{2}} + {\\left(\\frac{\\partial\\,f}{\\partial x_{1}} \\frac{\\partial\\,f}{\\partial x_{2}} - \\frac{\\partial\\,f}{\\partial x_{0}} \\frac{\\partial\\,f}{\\partial x_{3}}\\right)} x_{1}^{2} + {\\left(\\frac{\\partial\\,f}{\\partial x_{1}} \\frac{\\partial\\,f}{\\partial x_{2}} - \\frac{\\partial\\,f}{\\partial x_{0}} \\frac{\\partial\\,f}{\\partial x_{3}}\\right)} x_{2}^{2} - x_{2} \\frac{\\partial\\,f}{\\partial x_{1}} - x_{1} \\frac{\\partial\\,f}{\\partial x_{2}} - {\\left(x_{0}^{2} \\frac{\\partial\\,f}{\\partial x_{0}} - x_{0}\\right)} \\frac{\\partial\\,f}{\\partial x_{3}}\\right)} x_{3}^{2} - 2 \\, {\\left(x_{0}^{2} \\frac{\\partial\\,f}{\\partial x_{1}} + x_{1}^{2} \\frac{\\partial\\,f}{\\partial x_{1}} - 2 \\, x_{1}\\right)} x_{2} + 2 \\, {\\left(x_{0}^{2} \\frac{\\partial\\,f}{\\partial x_{0}} + x_{1}^{2} \\frac{\\partial\\,f}{\\partial x_{0}} + x_{2}^{2} \\frac{\\partial\\,f}{\\partial x_{0}} - 2 \\, x_{0}\\right)} x_{3} - {\\left(x_{0}^{4} \\frac{\\partial\\,f}{\\partial x_{0}} - 2 \\, x_{0}^{3}\\right)} \\frac{\\partial\\,f}{\\partial x_{3}}}{8 \\, {\\left(x_{0}^{2} + x_{1}^{2} + x_{2}^{2} + x_{3}^{2}\\right)}} \\right) \\frac{\\partial}{\\partial x_{3} }\\otimes \\mathrm{d} x_{0} + \\left( \\frac{x_{0}^{4} \\frac{\\partial\\,f}{\\partial x_{1}} \\frac{\\partial\\,f}{\\partial x_{3}} + {\\left(\\frac{\\partial\\,f}{\\partial x_{0}} \\frac{\\partial\\,f}{\\partial x_{2}} + \\frac{\\partial\\,f}{\\partial x_{1}} \\frac{\\partial\\,f}{\\partial x_{3}}\\right)} x_{1}^{4} + {\\left(\\frac{\\partial\\,f}{\\partial x_{0}} \\frac{\\partial\\,f}{\\partial x_{2}} + \\frac{\\partial\\,f}{\\partial x_{1}} \\frac{\\partial\\,f}{\\partial x_{3}}\\right)} x_{2}^{4} + {\\left(\\frac{\\partial\\,f}{\\partial x_{0}} \\frac{\\partial\\,f}{\\partial x_{2}} + \\frac{\\partial\\,f}{\\partial x_{1}} \\frac{\\partial\\,f}{\\partial x_{3}}\\right)} x_{3}^{4} - 2 \\, x_{2}^{3} \\frac{\\partial\\,f}{\\partial x_{0}} - 2 \\, x_{3}^{3} \\frac{\\partial\\,f}{\\partial x_{1}} - 2 \\, x_{0}^{2} x_{1} \\frac{\\partial\\,f}{\\partial x_{3}} - 2 \\, x_{1}^{3} \\frac{\\partial\\,f}{\\partial x_{3}} + 2 \\, {\\left(x_{0}^{2} \\frac{\\partial\\,f}{\\partial x_{1}} \\frac{\\partial\\,f}{\\partial x_{3}} + {\\left(x_{0}^{2} \\frac{\\partial\\,f}{\\partial x_{0}} - x_{0}\\right)} \\frac{\\partial\\,f}{\\partial x_{2}}\\right)} x_{1}^{2} + 2 \\, {\\left(x_{0}^{2} \\frac{\\partial\\,f}{\\partial x_{1}} \\frac{\\partial\\,f}{\\partial x_{3}} + {\\left(\\frac{\\partial\\,f}{\\partial x_{0}} \\frac{\\partial\\,f}{\\partial x_{2}} + \\frac{\\partial\\,f}{\\partial x_{1}} \\frac{\\partial\\,f}{\\partial x_{3}}\\right)} x_{1}^{2} + {\\left(x_{0}^{2} \\frac{\\partial\\,f}{\\partial x_{0}} - x_{0}\\right)} \\frac{\\partial\\,f}{\\partial x_{2}} - x_{1} \\frac{\\partial\\,f}{\\partial x_{3}}\\right)} x_{2}^{2} + 2 \\, {\\left(x_{0}^{2} \\frac{\\partial\\,f}{\\partial x_{1}} \\frac{\\partial\\,f}{\\partial x_{3}} + {\\left(\\frac{\\partial\\,f}{\\partial x_{0}} \\frac{\\partial\\,f}{\\partial x_{2}} + \\frac{\\partial\\,f}{\\partial x_{1}} \\frac{\\partial\\,f}{\\partial x_{3}}\\right)} x_{1}^{2} + {\\left(\\frac{\\partial\\,f}{\\partial x_{0}} \\frac{\\partial\\,f}{\\partial x_{2}} + \\frac{\\partial\\,f}{\\partial x_{1}} \\frac{\\partial\\,f}{\\partial x_{3}}\\right)} x_{2}^{2} - x_{2} \\frac{\\partial\\,f}{\\partial x_{0}} + {\\left(x_{0}^{2} \\frac{\\partial\\,f}{\\partial x_{0}} - x_{0}\\right)} \\frac{\\partial\\,f}{\\partial x_{2}} - x_{1} \\frac{\\partial\\,f}{\\partial x_{3}}\\right)} x_{3}^{2} - 2 \\, {\\left(x_{0}^{2} \\frac{\\partial\\,f}{\\partial x_{0}} + x_{1}^{2} \\frac{\\partial\\,f}{\\partial x_{0}} - 2 \\, x_{0}\\right)} x_{2} - 2 \\, {\\left(x_{0}^{2} \\frac{\\partial\\,f}{\\partial x_{1}} + x_{1}^{2} \\frac{\\partial\\,f}{\\partial x_{1}} + x_{2}^{2} \\frac{\\partial\\,f}{\\partial x_{1}} - 2 \\, x_{1}\\right)} x_{3} + {\\left(x_{0}^{4} \\frac{\\partial\\,f}{\\partial x_{0}} - 2 \\, x_{0}^{3}\\right)} \\frac{\\partial\\,f}{\\partial x_{2}}}{8 \\, {\\left(x_{0}^{2} + x_{1}^{2} + x_{2}^{2} + x_{3}^{2}\\right)}} \\right) \\frac{\\partial}{\\partial x_{3} }\\otimes \\mathrm{d} x_{1} + \\left( \\frac{x_{0}^{4} \\left(\\frac{\\partial\\,f}{\\partial x_{2}}\\right)^{2} + x_{0}^{4} \\left(\\frac{\\partial\\,f}{\\partial x_{3}}\\right)^{2} + {\\left(\\left(\\frac{\\partial\\,f}{\\partial x_{2}}\\right)^{2} + \\left(\\frac{\\partial\\,f}{\\partial x_{3}}\\right)^{2}\\right)} x_{1}^{4} + {\\left(\\left(\\frac{\\partial\\,f}{\\partial x_{2}}\\right)^{2} + \\left(\\frac{\\partial\\,f}{\\partial x_{3}}\\right)^{2}\\right)} x_{2}^{4} + {\\left(\\left(\\frac{\\partial\\,f}{\\partial x_{2}}\\right)^{2} + \\left(\\frac{\\partial\\,f}{\\partial x_{3}}\\right)^{2}\\right)} x_{3}^{4} - 4 \\, x_{2}^{3} \\frac{\\partial\\,f}{\\partial x_{2}} - 4 \\, x_{3}^{3} \\frac{\\partial\\,f}{\\partial x_{3}} + 2 \\, {\\left(x_{0}^{2} \\left(\\frac{\\partial\\,f}{\\partial x_{2}}\\right)^{2} + x_{0}^{2} \\left(\\frac{\\partial\\,f}{\\partial x_{3}}\\right)^{2}\\right)} x_{1}^{2} + 2 \\, {\\left(x_{0}^{2} \\left(\\frac{\\partial\\,f}{\\partial x_{2}}\\right)^{2} + x_{0}^{2} \\left(\\frac{\\partial\\,f}{\\partial x_{3}}\\right)^{2} + {\\left(\\left(\\frac{\\partial\\,f}{\\partial x_{2}}\\right)^{2} + \\left(\\frac{\\partial\\,f}{\\partial x_{3}}\\right)^{2}\\right)} x_{1}^{2} + 2\\right)} x_{2}^{2} + 2 \\, {\\left(x_{0}^{2} \\left(\\frac{\\partial\\,f}{\\partial x_{2}}\\right)^{2} + x_{0}^{2} \\left(\\frac{\\partial\\,f}{\\partial x_{3}}\\right)^{2} + {\\left(\\left(\\frac{\\partial\\,f}{\\partial x_{2}}\\right)^{2} + \\left(\\frac{\\partial\\,f}{\\partial x_{3}}\\right)^{2}\\right)} x_{1}^{2} + {\\left(\\left(\\frac{\\partial\\,f}{\\partial x_{2}}\\right)^{2} + \\left(\\frac{\\partial\\,f}{\\partial x_{3}}\\right)^{2}\\right)} x_{2}^{2} - 2 \\, x_{2} \\frac{\\partial\\,f}{\\partial x_{2}} + 2\\right)} x_{3}^{2} - 4 \\, {\\left(x_{0}^{2} \\frac{\\partial\\,f}{\\partial x_{2}} + x_{1}^{2} \\frac{\\partial\\,f}{\\partial x_{2}}\\right)} x_{2} - 4 \\, {\\left(x_{0}^{2} \\frac{\\partial\\,f}{\\partial x_{3}} + x_{1}^{2} \\frac{\\partial\\,f}{\\partial x_{3}} + x_{2}^{2} \\frac{\\partial\\,f}{\\partial x_{3}}\\right)} x_{3}}{8 \\, {\\left(x_{0}^{2} + x_{1}^{2} + x_{2}^{2} + x_{3}^{2}\\right)}} \\right) \\frac{\\partial}{\\partial x_{3} }\\otimes \\mathrm{d} x_{3}$"
      ],
      "text/plain": [
       "1/8*(x0^4*(d(f)/dx0)^2 + x0^4*(d(f)/dx1)^2 + ((d(f)/dx0)^2 + (d(f)/dx1)^2)*x1^4 + ((d(f)/dx0)^2 + (d(f)/dx1)^2)*x2^4 + ((d(f)/dx0)^2 + (d(f)/dx1)^2)*x3^4 - 4*x0^3*d(f)/dx0 - 4*x0^2*x1*d(f)/dx1 - 4*x1^3*d(f)/dx1 + 2*(x0^2*(d(f)/dx0)^2 + x0^2*(d(f)/dx1)^2 - 2*x0*d(f)/dx0 + 2)*x1^2 + 2*(x0^2*(d(f)/dx0)^2 + x0^2*(d(f)/dx1)^2 + ((d(f)/dx0)^2 + (d(f)/dx1)^2)*x1^2 - 2*x0*d(f)/dx0 - 2*x1*d(f)/dx1)*x2^2 + 2*(x0^2*(d(f)/dx0)^2 + x0^2*(d(f)/dx1)^2 + ((d(f)/dx0)^2 + (d(f)/dx1)^2)*x1^2 + ((d(f)/dx0)^2 + (d(f)/dx1)^2)*x2^2 - 2*x0*d(f)/dx0 - 2*x1*d(f)/dx1)*x3^2 + 4*x0^2)/(x0^2 + x1^2 + x2^2 + x3^2) ∂/∂x0⊗dx0 + 1/8*(x0^4*d(f)/dx1*d(f)/dx3 + (d(f)/dx0*d(f)/dx2 + d(f)/dx1*d(f)/dx3)*x1^4 + (d(f)/dx0*d(f)/dx2 + d(f)/dx1*d(f)/dx3)*x2^4 + (d(f)/dx0*d(f)/dx2 + d(f)/dx1*d(f)/dx3)*x3^4 - 2*x2^3*d(f)/dx0 - 2*x3^3*d(f)/dx1 - 2*x0^2*x1*d(f)/dx3 - 2*x1^3*d(f)/dx3 + 2*(x0^2*d(f)/dx1*d(f)/dx3 + (x0^2*d(f)/dx0 - x0)*d(f)/dx2)*x1^2 + 2*(x0^2*d(f)/dx1*d(f)/dx3 + (d(f)/dx0*d(f)/dx2 + d(f)/dx1*d(f)/dx3)*x1^2 + (x0^2*d(f)/dx0 - x0)*d(f)/dx2 - x1*d(f)/dx3)*x2^2 + 2*(x0^2*d(f)/dx1*d(f)/dx3 + (d(f)/dx0*d(f)/dx2 + d(f)/dx1*d(f)/dx3)*x1^2 + (d(f)/dx0*d(f)/dx2 + d(f)/dx1*d(f)/dx3)*x2^2 - x2*d(f)/dx0 + (x0^2*d(f)/dx0 - x0)*d(f)/dx2 - x1*d(f)/dx3)*x3^2 - 2*(x0^2*d(f)/dx0 + x1^2*d(f)/dx0 - 2*x0)*x2 - 2*(x0^2*d(f)/dx1 + x1^2*d(f)/dx1 + x2^2*d(f)/dx1 - 2*x1)*x3 + (x0^4*d(f)/dx0 - 2*x0^3)*d(f)/dx2)/(x0^2 + x1^2 + x2^2 + x3^2) ∂/∂x0⊗dx2 - 1/8*(x0^4*d(f)/dx1*d(f)/dx2 + (d(f)/dx1*d(f)/dx2 - d(f)/dx0*d(f)/dx3)*x1^4 + (d(f)/dx1*d(f)/dx2 - d(f)/dx0*d(f)/dx3)*x2^4 + (d(f)/dx1*d(f)/dx2 - d(f)/dx0*d(f)/dx3)*x3^4 + 2*x3^3*d(f)/dx0 - 2*x2^3*d(f)/dx1 - 2*x0^2*x1*d(f)/dx2 - 2*x1^3*d(f)/dx2 + 2*(x0^2*d(f)/dx1*d(f)/dx2 - (x0^2*d(f)/dx0 - x0)*d(f)/dx3)*x1^2 + 2*(x0^2*d(f)/dx1*d(f)/dx2 + (d(f)/dx1*d(f)/dx2 - d(f)/dx0*d(f)/dx3)*x1^2 - x1*d(f)/dx2 - (x0^2*d(f)/dx0 - x0)*d(f)/dx3)*x2^2 + 2*(x0^2*d(f)/dx1*d(f)/dx2 + (d(f)/dx1*d(f)/dx2 - d(f)/dx0*d(f)/dx3)*x1^2 + (d(f)/dx1*d(f)/dx2 - d(f)/dx0*d(f)/dx3)*x2^2 - x2*d(f)/dx1 - x1*d(f)/dx2 - (x0^2*d(f)/dx0 - x0)*d(f)/dx3)*x3^2 - 2*(x0^2*d(f)/dx1 + x1^2*d(f)/dx1 - 2*x1)*x2 + 2*(x0^2*d(f)/dx0 + x1^2*d(f)/dx0 + x2^2*d(f)/dx0 - 2*x0)*x3 - (x0^4*d(f)/dx0 - 2*x0^3)*d(f)/dx3)/(x0^2 + x1^2 + x2^2 + x3^2) ∂/∂x0⊗dx3 + 1/8*(x0^4*(d(f)/dx0)^2 + x0^4*(d(f)/dx1)^2 + ((d(f)/dx0)^2 + (d(f)/dx1)^2)*x1^4 + ((d(f)/dx0)^2 + (d(f)/dx1)^2)*x2^4 + ((d(f)/dx0)^2 + (d(f)/dx1)^2)*x3^4 - 4*x0^3*d(f)/dx0 - 4*x0^2*x1*d(f)/dx1 - 4*x1^3*d(f)/dx1 + 2*(x0^2*(d(f)/dx0)^2 + x0^2*(d(f)/dx1)^2 - 2*x0*d(f)/dx0 + 2)*x1^2 + 2*(x0^2*(d(f)/dx0)^2 + x0^2*(d(f)/dx1)^2 + ((d(f)/dx0)^2 + (d(f)/dx1)^2)*x1^2 - 2*x0*d(f)/dx0 - 2*x1*d(f)/dx1)*x2^2 + 2*(x0^2*(d(f)/dx0)^2 + x0^2*(d(f)/dx1)^2 + ((d(f)/dx0)^2 + (d(f)/dx1)^2)*x1^2 + ((d(f)/dx0)^2 + (d(f)/dx1)^2)*x2^2 - 2*x0*d(f)/dx0 - 2*x1*d(f)/dx1)*x3^2 + 4*x0^2)/(x0^2 + x1^2 + x2^2 + x3^2) ∂/∂x1⊗dx1 + 1/8*(x0^4*d(f)/dx1*d(f)/dx2 + (d(f)/dx1*d(f)/dx2 - d(f)/dx0*d(f)/dx3)*x1^4 + (d(f)/dx1*d(f)/dx2 - d(f)/dx0*d(f)/dx3)*x2^4 + (d(f)/dx1*d(f)/dx2 - d(f)/dx0*d(f)/dx3)*x3^4 + 2*x3^3*d(f)/dx0 - 2*x2^3*d(f)/dx1 - 2*x0^2*x1*d(f)/dx2 - 2*x1^3*d(f)/dx2 + 2*(x0^2*d(f)/dx1*d(f)/dx2 - (x0^2*d(f)/dx0 - x0)*d(f)/dx3)*x1^2 + 2*(x0^2*d(f)/dx1*d(f)/dx2 + (d(f)/dx1*d(f)/dx2 - d(f)/dx0*d(f)/dx3)*x1^2 - x1*d(f)/dx2 - (x0^2*d(f)/dx0 - x0)*d(f)/dx3)*x2^2 + 2*(x0^2*d(f)/dx1*d(f)/dx2 + (d(f)/dx1*d(f)/dx2 - d(f)/dx0*d(f)/dx3)*x1^2 + (d(f)/dx1*d(f)/dx2 - d(f)/dx0*d(f)/dx3)*x2^2 - x2*d(f)/dx1 - x1*d(f)/dx2 - (x0^2*d(f)/dx0 - x0)*d(f)/dx3)*x3^2 - 2*(x0^2*d(f)/dx1 + x1^2*d(f)/dx1 - 2*x1)*x2 + 2*(x0^2*d(f)/dx0 + x1^2*d(f)/dx0 + x2^2*d(f)/dx0 - 2*x0)*x3 - (x0^4*d(f)/dx0 - 2*x0^3)*d(f)/dx3)/(x0^2 + x1^2 + x2^2 + x3^2) ∂/∂x1⊗dx2 + 1/8*(x0^4*d(f)/dx1*d(f)/dx3 + (d(f)/dx0*d(f)/dx2 + d(f)/dx1*d(f)/dx3)*x1^4 + (d(f)/dx0*d(f)/dx2 + d(f)/dx1*d(f)/dx3)*x2^4 + (d(f)/dx0*d(f)/dx2 + d(f)/dx1*d(f)/dx3)*x3^4 - 2*x2^3*d(f)/dx0 - 2*x3^3*d(f)/dx1 - 2*x0^2*x1*d(f)/dx3 - 2*x1^3*d(f)/dx3 + 2*(x0^2*d(f)/dx1*d(f)/dx3 + (x0^2*d(f)/dx0 - x0)*d(f)/dx2)*x1^2 + 2*(x0^2*d(f)/dx1*d(f)/dx3 + (d(f)/dx0*d(f)/dx2 + d(f)/dx1*d(f)/dx3)*x1^2 + (x0^2*d(f)/dx0 - x0)*d(f)/dx2 - x1*d(f)/dx3)*x2^2 + 2*(x0^2*d(f)/dx1*d(f)/dx3 + (d(f)/dx0*d(f)/dx2 + d(f)/dx1*d(f)/dx3)*x1^2 + (d(f)/dx0*d(f)/dx2 + d(f)/dx1*d(f)/dx3)*x2^2 - x2*d(f)/dx0 + (x0^2*d(f)/dx0 - x0)*d(f)/dx2 - x1*d(f)/dx3)*x3^2 - 2*(x0^2*d(f)/dx0 + x1^2*d(f)/dx0 - 2*x0)*x2 - 2*(x0^2*d(f)/dx1 + x1^2*d(f)/dx1 + x2^2*d(f)/dx1 - 2*x1)*x3 + (x0^4*d(f)/dx0 - 2*x0^3)*d(f)/dx2)/(x0^2 + x1^2 + x2^2 + x3^2) ∂/∂x1⊗dx3 + 1/8*(x0^4*d(f)/dx1*d(f)/dx3 + (d(f)/dx0*d(f)/dx2 + d(f)/dx1*d(f)/dx3)*x1^4 + (d(f)/dx0*d(f)/dx2 + d(f)/dx1*d(f)/dx3)*x2^4 + (d(f)/dx0*d(f)/dx2 + d(f)/dx1*d(f)/dx3)*x3^4 - 2*x2^3*d(f)/dx0 - 2*x3^3*d(f)/dx1 - 2*x0^2*x1*d(f)/dx3 - 2*x1^3*d(f)/dx3 + 2*(x0^2*d(f)/dx1*d(f)/dx3 + (x0^2*d(f)/dx0 - x0)*d(f)/dx2)*x1^2 + 2*(x0^2*d(f)/dx1*d(f)/dx3 + (d(f)/dx0*d(f)/dx2 + d(f)/dx1*d(f)/dx3)*x1^2 + (x0^2*d(f)/dx0 - x0)*d(f)/dx2 - x1*d(f)/dx3)*x2^2 + 2*(x0^2*d(f)/dx1*d(f)/dx3 + (d(f)/dx0*d(f)/dx2 + d(f)/dx1*d(f)/dx3)*x1^2 + (d(f)/dx0*d(f)/dx2 + d(f)/dx1*d(f)/dx3)*x2^2 - x2*d(f)/dx0 + (x0^2*d(f)/dx0 - x0)*d(f)/dx2 - x1*d(f)/dx3)*x3^2 - 2*(x0^2*d(f)/dx0 + x1^2*d(f)/dx0 - 2*x0)*x2 - 2*(x0^2*d(f)/dx1 + x1^2*d(f)/dx1 + x2^2*d(f)/dx1 - 2*x1)*x3 + (x0^4*d(f)/dx0 - 2*x0^3)*d(f)/dx2)/(x0^2 + x1^2 + x2^2 + x3^2) ∂/∂x2⊗dx0 + 1/8*(x0^4*d(f)/dx1*d(f)/dx2 + (d(f)/dx1*d(f)/dx2 - d(f)/dx0*d(f)/dx3)*x1^4 + (d(f)/dx1*d(f)/dx2 - d(f)/dx0*d(f)/dx3)*x2^4 + (d(f)/dx1*d(f)/dx2 - d(f)/dx0*d(f)/dx3)*x3^4 + 2*x3^3*d(f)/dx0 - 2*x2^3*d(f)/dx1 - 2*x0^2*x1*d(f)/dx2 - 2*x1^3*d(f)/dx2 + 2*(x0^2*d(f)/dx1*d(f)/dx2 - (x0^2*d(f)/dx0 - x0)*d(f)/dx3)*x1^2 + 2*(x0^2*d(f)/dx1*d(f)/dx2 + (d(f)/dx1*d(f)/dx2 - d(f)/dx0*d(f)/dx3)*x1^2 - x1*d(f)/dx2 - (x0^2*d(f)/dx0 - x0)*d(f)/dx3)*x2^2 + 2*(x0^2*d(f)/dx1*d(f)/dx2 + (d(f)/dx1*d(f)/dx2 - d(f)/dx0*d(f)/dx3)*x1^2 + (d(f)/dx1*d(f)/dx2 - d(f)/dx0*d(f)/dx3)*x2^2 - x2*d(f)/dx1 - x1*d(f)/dx2 - (x0^2*d(f)/dx0 - x0)*d(f)/dx3)*x3^2 - 2*(x0^2*d(f)/dx1 + x1^2*d(f)/dx1 - 2*x1)*x2 + 2*(x0^2*d(f)/dx0 + x1^2*d(f)/dx0 + x2^2*d(f)/dx0 - 2*x0)*x3 - (x0^4*d(f)/dx0 - 2*x0^3)*d(f)/dx3)/(x0^2 + x1^2 + x2^2 + x3^2) ∂/∂x2⊗dx1 + 1/8*(x0^4*(d(f)/dx2)^2 + x0^4*(d(f)/dx3)^2 + ((d(f)/dx2)^2 + (d(f)/dx3)^2)*x1^4 + ((d(f)/dx2)^2 + (d(f)/dx3)^2)*x2^4 + ((d(f)/dx2)^2 + (d(f)/dx3)^2)*x3^4 - 4*x2^3*d(f)/dx2 - 4*x3^3*d(f)/dx3 + 2*(x0^2*(d(f)/dx2)^2 + x0^2*(d(f)/dx3)^2)*x1^2 + 2*(x0^2*(d(f)/dx2)^2 + x0^2*(d(f)/dx3)^2 + ((d(f)/dx2)^2 + (d(f)/dx3)^2)*x1^2 + 2)*x2^2 + 2*(x0^2*(d(f)/dx2)^2 + x0^2*(d(f)/dx3)^2 + ((d(f)/dx2)^2 + (d(f)/dx3)^2)*x1^2 + ((d(f)/dx2)^2 + (d(f)/dx3)^2)*x2^2 - 2*x2*d(f)/dx2 + 2)*x3^2 - 4*(x0^2*d(f)/dx2 + x1^2*d(f)/dx2)*x2 - 4*(x0^2*d(f)/dx3 + x1^2*d(f)/dx3 + x2^2*d(f)/dx3)*x3)/(x0^2 + x1^2 + x2^2 + x3^2) ∂/∂x2⊗dx2 - 1/8*(x0^4*d(f)/dx1*d(f)/dx2 + (d(f)/dx1*d(f)/dx2 - d(f)/dx0*d(f)/dx3)*x1^4 + (d(f)/dx1*d(f)/dx2 - d(f)/dx0*d(f)/dx3)*x2^4 + (d(f)/dx1*d(f)/dx2 - d(f)/dx0*d(f)/dx3)*x3^4 + 2*x3^3*d(f)/dx0 - 2*x2^3*d(f)/dx1 - 2*x0^2*x1*d(f)/dx2 - 2*x1^3*d(f)/dx2 + 2*(x0^2*d(f)/dx1*d(f)/dx2 - (x0^2*d(f)/dx0 - x0)*d(f)/dx3)*x1^2 + 2*(x0^2*d(f)/dx1*d(f)/dx2 + (d(f)/dx1*d(f)/dx2 - d(f)/dx0*d(f)/dx3)*x1^2 - x1*d(f)/dx2 - (x0^2*d(f)/dx0 - x0)*d(f)/dx3)*x2^2 + 2*(x0^2*d(f)/dx1*d(f)/dx2 + (d(f)/dx1*d(f)/dx2 - d(f)/dx0*d(f)/dx3)*x1^2 + (d(f)/dx1*d(f)/dx2 - d(f)/dx0*d(f)/dx3)*x2^2 - x2*d(f)/dx1 - x1*d(f)/dx2 - (x0^2*d(f)/dx0 - x0)*d(f)/dx3)*x3^2 - 2*(x0^2*d(f)/dx1 + x1^2*d(f)/dx1 - 2*x1)*x2 + 2*(x0^2*d(f)/dx0 + x1^2*d(f)/dx0 + x2^2*d(f)/dx0 - 2*x0)*x3 - (x0^4*d(f)/dx0 - 2*x0^3)*d(f)/dx3)/(x0^2 + x1^2 + x2^2 + x3^2) ∂/∂x3⊗dx0 + 1/8*(x0^4*d(f)/dx1*d(f)/dx3 + (d(f)/dx0*d(f)/dx2 + d(f)/dx1*d(f)/dx3)*x1^4 + (d(f)/dx0*d(f)/dx2 + d(f)/dx1*d(f)/dx3)*x2^4 + (d(f)/dx0*d(f)/dx2 + d(f)/dx1*d(f)/dx3)*x3^4 - 2*x2^3*d(f)/dx0 - 2*x3^3*d(f)/dx1 - 2*x0^2*x1*d(f)/dx3 - 2*x1^3*d(f)/dx3 + 2*(x0^2*d(f)/dx1*d(f)/dx3 + (x0^2*d(f)/dx0 - x0)*d(f)/dx2)*x1^2 + 2*(x0^2*d(f)/dx1*d(f)/dx3 + (d(f)/dx0*d(f)/dx2 + d(f)/dx1*d(f)/dx3)*x1^2 + (x0^2*d(f)/dx0 - x0)*d(f)/dx2 - x1*d(f)/dx3)*x2^2 + 2*(x0^2*d(f)/dx1*d(f)/dx3 + (d(f)/dx0*d(f)/dx2 + d(f)/dx1*d(f)/dx3)*x1^2 + (d(f)/dx0*d(f)/dx2 + d(f)/dx1*d(f)/dx3)*x2^2 - x2*d(f)/dx0 + (x0^2*d(f)/dx0 - x0)*d(f)/dx2 - x1*d(f)/dx3)*x3^2 - 2*(x0^2*d(f)/dx0 + x1^2*d(f)/dx0 - 2*x0)*x2 - 2*(x0^2*d(f)/dx1 + x1^2*d(f)/dx1 + x2^2*d(f)/dx1 - 2*x1)*x3 + (x0^4*d(f)/dx0 - 2*x0^3)*d(f)/dx2)/(x0^2 + x1^2 + x2^2 + x3^2) ∂/∂x3⊗dx1 + 1/8*(x0^4*(d(f)/dx2)^2 + x0^4*(d(f)/dx3)^2 + ((d(f)/dx2)^2 + (d(f)/dx3)^2)*x1^4 + ((d(f)/dx2)^2 + (d(f)/dx3)^2)*x2^4 + ((d(f)/dx2)^2 + (d(f)/dx3)^2)*x3^4 - 4*x2^3*d(f)/dx2 - 4*x3^3*d(f)/dx3 + 2*(x0^2*(d(f)/dx2)^2 + x0^2*(d(f)/dx3)^2)*x1^2 + 2*(x0^2*(d(f)/dx2)^2 + x0^2*(d(f)/dx3)^2 + ((d(f)/dx2)^2 + (d(f)/dx3)^2)*x1^2 + 2)*x2^2 + 2*(x0^2*(d(f)/dx2)^2 + x0^2*(d(f)/dx3)^2 + ((d(f)/dx2)^2 + (d(f)/dx3)^2)*x1^2 + ((d(f)/dx2)^2 + (d(f)/dx3)^2)*x2^2 - 2*x2*d(f)/dx2 + 2)*x3^2 - 4*(x0^2*d(f)/dx2 + x1^2*d(f)/dx2)*x2 - 4*(x0^2*d(f)/dx3 + x1^2*d(f)/dx3 + x2^2*d(f)/dx3)*x3)/(x0^2 + x1^2 + x2^2 + x3^2) ∂/∂x3⊗dx3"
      ]
     },
     "execution_count": 267,
     "metadata": {},
     "output_type": "execute_result"
    }
   ],
   "source": [
    "# connection 1-form\n",
    "eta = lee_form - diff(f)\n",
    "Jeta = (-eta).contract(0, J, 0)\n",
    "\n",
    "principal_connection = V*eta + J(V)*Jeta #eta*V + Jeta*J(V)\n",
    "principal_connection.display()"
   ]
  },
  {
   "cell_type": "code",
   "execution_count": 269,
   "id": "b3792c36-adb2-47c3-a24a-cd609ea96a6b",
   "metadata": {},
   "outputs": [
    {
     "data": {
      "text/html": [
       "<html>\\(\\displaystyle \\begin{array}{llcl} & M & \\longrightarrow & \\mathbb{R} \\\\ & \\left(x_{0}, x_{1}, x_{2}, x_{3}\\right) & \\longmapsto & \\frac{1}{8} \\, x_{0}^{2} \\left(\\frac{\\partial\\,f}{\\partial x_{0}}\\right)^{2} + \\frac{1}{8} \\, x_{0}^{2} \\left(\\frac{\\partial\\,f}{\\partial x_{1}}\\right)^{2} + \\frac{1}{8} \\, x_{0}^{2} \\left(\\frac{\\partial\\,f}{\\partial x_{2}}\\right)^{2} + \\frac{1}{8} \\, x_{0}^{2} \\left(\\frac{\\partial\\,f}{\\partial x_{3}}\\right)^{2} + \\frac{1}{8} \\, {\\left(\\left(\\frac{\\partial\\,f}{\\partial x_{0}}\\right)^{2} + \\left(\\frac{\\partial\\,f}{\\partial x_{1}}\\right)^{2} + \\left(\\frac{\\partial\\,f}{\\partial x_{2}}\\right)^{2} + \\left(\\frac{\\partial\\,f}{\\partial x_{3}}\\right)^{2}\\right)} x_{1}^{2} + \\frac{1}{8} \\, {\\left(\\left(\\frac{\\partial\\,f}{\\partial x_{0}}\\right)^{2} + \\left(\\frac{\\partial\\,f}{\\partial x_{1}}\\right)^{2} + \\left(\\frac{\\partial\\,f}{\\partial x_{2}}\\right)^{2} + \\left(\\frac{\\partial\\,f}{\\partial x_{3}}\\right)^{2}\\right)} x_{2}^{2} + \\frac{1}{8} \\, {\\left(\\left(\\frac{\\partial\\,f}{\\partial x_{0}}\\right)^{2} + \\left(\\frac{\\partial\\,f}{\\partial x_{1}}\\right)^{2} + \\left(\\frac{\\partial\\,f}{\\partial x_{2}}\\right)^{2} + \\left(\\frac{\\partial\\,f}{\\partial x_{3}}\\right)^{2}\\right)} x_{3}^{2} - \\frac{1}{2} \\, x_{0} \\frac{\\partial\\,f}{\\partial x_{0}} - \\frac{1}{2} \\, x_{1} \\frac{\\partial\\,f}{\\partial x_{1}} - \\frac{1}{2} \\, x_{2} \\frac{\\partial\\,f}{\\partial x_{2}} - \\frac{1}{2} \\, x_{3} \\frac{\\partial\\,f}{\\partial x_{3}} + \\frac{1}{2} \\end{array}\\)</html>"
      ],
      "text/latex": [
       "$\\displaystyle \\begin{array}{llcl} & M & \\longrightarrow & \\mathbb{R} \\\\ & \\left(x_{0}, x_{1}, x_{2}, x_{3}\\right) & \\longmapsto & \\frac{1}{8} \\, x_{0}^{2} \\left(\\frac{\\partial\\,f}{\\partial x_{0}}\\right)^{2} + \\frac{1}{8} \\, x_{0}^{2} \\left(\\frac{\\partial\\,f}{\\partial x_{1}}\\right)^{2} + \\frac{1}{8} \\, x_{0}^{2} \\left(\\frac{\\partial\\,f}{\\partial x_{2}}\\right)^{2} + \\frac{1}{8} \\, x_{0}^{2} \\left(\\frac{\\partial\\,f}{\\partial x_{3}}\\right)^{2} + \\frac{1}{8} \\, {\\left(\\left(\\frac{\\partial\\,f}{\\partial x_{0}}\\right)^{2} + \\left(\\frac{\\partial\\,f}{\\partial x_{1}}\\right)^{2} + \\left(\\frac{\\partial\\,f}{\\partial x_{2}}\\right)^{2} + \\left(\\frac{\\partial\\,f}{\\partial x_{3}}\\right)^{2}\\right)} x_{1}^{2} + \\frac{1}{8} \\, {\\left(\\left(\\frac{\\partial\\,f}{\\partial x_{0}}\\right)^{2} + \\left(\\frac{\\partial\\,f}{\\partial x_{1}}\\right)^{2} + \\left(\\frac{\\partial\\,f}{\\partial x_{2}}\\right)^{2} + \\left(\\frac{\\partial\\,f}{\\partial x_{3}}\\right)^{2}\\right)} x_{2}^{2} + \\frac{1}{8} \\, {\\left(\\left(\\frac{\\partial\\,f}{\\partial x_{0}}\\right)^{2} + \\left(\\frac{\\partial\\,f}{\\partial x_{1}}\\right)^{2} + \\left(\\frac{\\partial\\,f}{\\partial x_{2}}\\right)^{2} + \\left(\\frac{\\partial\\,f}{\\partial x_{3}}\\right)^{2}\\right)} x_{3}^{2} - \\frac{1}{2} \\, x_{0} \\frac{\\partial\\,f}{\\partial x_{0}} - \\frac{1}{2} \\, x_{1} \\frac{\\partial\\,f}{\\partial x_{1}} - \\frac{1}{2} \\, x_{2} \\frac{\\partial\\,f}{\\partial x_{2}} - \\frac{1}{2} \\, x_{3} \\frac{\\partial\\,f}{\\partial x_{3}} + \\frac{1}{2} \\end{array}$"
      ],
      "text/plain": [
       "M → ℝ\n",
       "(x0, x1, x2, x3) ↦ 1/8*x0^2*(d(f)/dx0)^2 + 1/8*x0^2*(d(f)/dx1)^2 + 1/8*x0^2*(d(f)/dx2)^2 + 1/8*x0^2*(d(f)/dx3)^2 + 1/8*((d(f)/dx0)^2 + (d(f)/dx1)^2 + (d(f)/dx2)^2 + (d(f)/dx3)^2)*x1^2 + 1/8*((d(f)/dx0)^2 + (d(f)/dx1)^2 + (d(f)/dx2)^2 + (d(f)/dx3)^2)*x2^2 + 1/8*((d(f)/dx0)^2 + (d(f)/dx1)^2 + (d(f)/dx2)^2 + (d(f)/dx3)^2)*x3^2 - 1/2*x0*d(f)/dx0 - 1/2*x1*d(f)/dx1 - 1/2*x2*d(f)/dx2 - 1/2*x3*d(f)/dx3 + 1/2"
      ]
     },
     "execution_count": 269,
     "metadata": {},
     "output_type": "execute_result"
    }
   ],
   "source": [
    "eta(V).display()"
   ]
  },
  {
   "cell_type": "code",
   "execution_count": 342,
   "id": "e3255c01-b39b-461b-b556-0f78506f0f7e",
   "metadata": {},
   "outputs": [
    {
     "data": {
      "text/html": [
       "<html>\\(\\displaystyle \\begin{array}{llcl} & M & \\longrightarrow & \\mathbb{R} \\\\ & \\left(x_{0}, x_{1}, x_{2}, x_{3}\\right) & \\longmapsto & \\frac{x_{0}^{2} + x_{2}^{2}}{x_{0}^{2} + x_{1}^{2} + x_{2}^{2} + x_{3}^{2}} \\end{array}\\)</html>"
      ],
      "text/latex": [
       "$\\displaystyle \\begin{array}{llcl} & M & \\longrightarrow & \\mathbb{R} \\\\ & \\left(x_{0}, x_{1}, x_{2}, x_{3}\\right) & \\longmapsto & \\frac{x_{0}^{2} + x_{2}^{2}}{x_{0}^{2} + x_{1}^{2} + x_{2}^{2} + x_{3}^{2}} \\end{array}$"
      ],
      "text/plain": [
       "M → ℝ\n",
       "(x0, x1, x2, x3) ↦ (x0^2 + x2^2)/(x0^2 + x1^2 + x2^2 + x3^2)"
      ]
     },
     "execution_count": 342,
     "metadata": {},
     "output_type": "execute_result"
    }
   ],
   "source": [
    "#g(H(ed[i],ed[l]),H(ed[j],ed[k]))\n",
    "g(H.contract(ed[i]).contract(ed[l]).up(g),H.contract(ed[i]).contract(ed[l]).up(g)).display()"
   ]
  },
  {
   "cell_type": "code",
   "execution_count": null,
   "id": "4022385a-05d6-4fe6-8130-4c2f77d9e3d3",
   "metadata": {},
   "outputs": [],
   "source": [
    "Rm = nab.riemann().down(g)\n",
    "\n",
    "H = JdF\n",
    "H1 = 0\n",
    "for i in range(DIM):\n",
    "    H1 += H.contract(ed[i]) * H.contract(ed[i])"
   ]
  },
  {
   "cell_type": "code",
   "execution_count": null,
   "id": "f1af92f8-6bc6-4ded-ae9d-0295f4db23af",
   "metadata": {},
   "outputs": [],
   "source": [
    "Rm_plus"
   ]
  },
  {
   "cell_type": "code",
   "execution_count": null,
   "id": "3c272b18-ca2b-4011-a168-795ac016c1e6",
   "metadata": {},
   "outputs": [],
   "source": []
  },
  {
   "cell_type": "code",
   "execution_count": 408,
   "id": "228d815e-96ed-4e3f-b726-1ead81e30e1d",
   "metadata": {},
   "outputs": [
    {
     "data": {
      "text/html": [
       "<html>\\(\\displaystyle \\left( \\frac{8 \\, {\\left(x_{1}^{2} + x_{2}^{2} + x_{3}^{2}\\right)}}{x_{0}^{4} + 2 \\, x_{0}^{2} x_{1}^{2} + x_{1}^{4} + x_{2}^{4} + x_{3}^{4} + 2 \\, {\\left(x_{0}^{2} + x_{1}^{2}\\right)} x_{2}^{2} + 2 \\, {\\left(x_{0}^{2} + x_{1}^{2} + x_{2}^{2}\\right)} x_{3}^{2}} \\right) \\mathrm{d} x_{0}\\otimes \\mathrm{d} x_{0} + \\left( -\\frac{8 \\, x_{0} x_{1}}{x_{0}^{4} + 2 \\, x_{0}^{2} x_{1}^{2} + x_{1}^{4} + x_{2}^{4} + x_{3}^{4} + 2 \\, {\\left(x_{0}^{2} + x_{1}^{2}\\right)} x_{2}^{2} + 2 \\, {\\left(x_{0}^{2} + x_{1}^{2} + x_{2}^{2}\\right)} x_{3}^{2}} \\right) \\mathrm{d} x_{0}\\otimes \\mathrm{d} x_{1} + \\left( -\\frac{8 \\, x_{0} x_{2}}{x_{0}^{4} + 2 \\, x_{0}^{2} x_{1}^{2} + x_{1}^{4} + x_{2}^{4} + x_{3}^{4} + 2 \\, {\\left(x_{0}^{2} + x_{1}^{2}\\right)} x_{2}^{2} + 2 \\, {\\left(x_{0}^{2} + x_{1}^{2} + x_{2}^{2}\\right)} x_{3}^{2}} \\right) \\mathrm{d} x_{0}\\otimes \\mathrm{d} x_{2} + \\left( -\\frac{8 \\, x_{0} x_{3}}{x_{0}^{4} + 2 \\, x_{0}^{2} x_{1}^{2} + x_{1}^{4} + x_{2}^{4} + x_{3}^{4} + 2 \\, {\\left(x_{0}^{2} + x_{1}^{2}\\right)} x_{2}^{2} + 2 \\, {\\left(x_{0}^{2} + x_{1}^{2} + x_{2}^{2}\\right)} x_{3}^{2}} \\right) \\mathrm{d} x_{0}\\otimes \\mathrm{d} x_{3} + \\left( -\\frac{8 \\, x_{0} x_{1}}{x_{0}^{4} + 2 \\, x_{0}^{2} x_{1}^{2} + x_{1}^{4} + x_{2}^{4} + x_{3}^{4} + 2 \\, {\\left(x_{0}^{2} + x_{1}^{2}\\right)} x_{2}^{2} + 2 \\, {\\left(x_{0}^{2} + x_{1}^{2} + x_{2}^{2}\\right)} x_{3}^{2}} \\right) \\mathrm{d} x_{1}\\otimes \\mathrm{d} x_{0} + \\left( \\frac{8 \\, {\\left(x_{0}^{2} + x_{2}^{2} + x_{3}^{2}\\right)}}{x_{0}^{4} + 2 \\, x_{0}^{2} x_{1}^{2} + x_{1}^{4} + x_{2}^{4} + x_{3}^{4} + 2 \\, {\\left(x_{0}^{2} + x_{1}^{2}\\right)} x_{2}^{2} + 2 \\, {\\left(x_{0}^{2} + x_{1}^{2} + x_{2}^{2}\\right)} x_{3}^{2}} \\right) \\mathrm{d} x_{1}\\otimes \\mathrm{d} x_{1} + \\left( -\\frac{8 \\, x_{1} x_{2}}{x_{0}^{4} + 2 \\, x_{0}^{2} x_{1}^{2} + x_{1}^{4} + x_{2}^{4} + x_{3}^{4} + 2 \\, {\\left(x_{0}^{2} + x_{1}^{2}\\right)} x_{2}^{2} + 2 \\, {\\left(x_{0}^{2} + x_{1}^{2} + x_{2}^{2}\\right)} x_{3}^{2}} \\right) \\mathrm{d} x_{1}\\otimes \\mathrm{d} x_{2} + \\left( -\\frac{8 \\, x_{1} x_{3}}{x_{0}^{4} + 2 \\, x_{0}^{2} x_{1}^{2} + x_{1}^{4} + x_{2}^{4} + x_{3}^{4} + 2 \\, {\\left(x_{0}^{2} + x_{1}^{2}\\right)} x_{2}^{2} + 2 \\, {\\left(x_{0}^{2} + x_{1}^{2} + x_{2}^{2}\\right)} x_{3}^{2}} \\right) \\mathrm{d} x_{1}\\otimes \\mathrm{d} x_{3} + \\left( -\\frac{8 \\, x_{0} x_{2}}{x_{0}^{4} + 2 \\, x_{0}^{2} x_{1}^{2} + x_{1}^{4} + x_{2}^{4} + x_{3}^{4} + 2 \\, {\\left(x_{0}^{2} + x_{1}^{2}\\right)} x_{2}^{2} + 2 \\, {\\left(x_{0}^{2} + x_{1}^{2} + x_{2}^{2}\\right)} x_{3}^{2}} \\right) \\mathrm{d} x_{2}\\otimes \\mathrm{d} x_{0} + \\left( -\\frac{8 \\, x_{1} x_{2}}{x_{0}^{4} + 2 \\, x_{0}^{2} x_{1}^{2} + x_{1}^{4} + x_{2}^{4} + x_{3}^{4} + 2 \\, {\\left(x_{0}^{2} + x_{1}^{2}\\right)} x_{2}^{2} + 2 \\, {\\left(x_{0}^{2} + x_{1}^{2} + x_{2}^{2}\\right)} x_{3}^{2}} \\right) \\mathrm{d} x_{2}\\otimes \\mathrm{d} x_{1} + \\left( \\frac{8 \\, {\\left(x_{0}^{2} + x_{1}^{2} + x_{3}^{2}\\right)}}{x_{0}^{4} + 2 \\, x_{0}^{2} x_{1}^{2} + x_{1}^{4} + x_{2}^{4} + x_{3}^{4} + 2 \\, {\\left(x_{0}^{2} + x_{1}^{2}\\right)} x_{2}^{2} + 2 \\, {\\left(x_{0}^{2} + x_{1}^{2} + x_{2}^{2}\\right)} x_{3}^{2}} \\right) \\mathrm{d} x_{2}\\otimes \\mathrm{d} x_{2} + \\left( -\\frac{8 \\, x_{2} x_{3}}{x_{0}^{4} + 2 \\, x_{0}^{2} x_{1}^{2} + x_{1}^{4} + x_{2}^{4} + x_{3}^{4} + 2 \\, {\\left(x_{0}^{2} + x_{1}^{2}\\right)} x_{2}^{2} + 2 \\, {\\left(x_{0}^{2} + x_{1}^{2} + x_{2}^{2}\\right)} x_{3}^{2}} \\right) \\mathrm{d} x_{2}\\otimes \\mathrm{d} x_{3} + \\left( -\\frac{8 \\, x_{0} x_{3}}{x_{0}^{4} + 2 \\, x_{0}^{2} x_{1}^{2} + x_{1}^{4} + x_{2}^{4} + x_{3}^{4} + 2 \\, {\\left(x_{0}^{2} + x_{1}^{2}\\right)} x_{2}^{2} + 2 \\, {\\left(x_{0}^{2} + x_{1}^{2} + x_{2}^{2}\\right)} x_{3}^{2}} \\right) \\mathrm{d} x_{3}\\otimes \\mathrm{d} x_{0} + \\left( -\\frac{8 \\, x_{1} x_{3}}{x_{0}^{4} + 2 \\, x_{0}^{2} x_{1}^{2} + x_{1}^{4} + x_{2}^{4} + x_{3}^{4} + 2 \\, {\\left(x_{0}^{2} + x_{1}^{2}\\right)} x_{2}^{2} + 2 \\, {\\left(x_{0}^{2} + x_{1}^{2} + x_{2}^{2}\\right)} x_{3}^{2}} \\right) \\mathrm{d} x_{3}\\otimes \\mathrm{d} x_{1} + \\left( -\\frac{8 \\, x_{2} x_{3}}{x_{0}^{4} + 2 \\, x_{0}^{2} x_{1}^{2} + x_{1}^{4} + x_{2}^{4} + x_{3}^{4} + 2 \\, {\\left(x_{0}^{2} + x_{1}^{2}\\right)} x_{2}^{2} + 2 \\, {\\left(x_{0}^{2} + x_{1}^{2} + x_{2}^{2}\\right)} x_{3}^{2}} \\right) \\mathrm{d} x_{3}\\otimes \\mathrm{d} x_{2} + \\left( \\frac{8 \\, {\\left(x_{0}^{2} + x_{1}^{2} + x_{2}^{2}\\right)}}{x_{0}^{4} + 2 \\, x_{0}^{2} x_{1}^{2} + x_{1}^{4} + x_{2}^{4} + x_{3}^{4} + 2 \\, {\\left(x_{0}^{2} + x_{1}^{2}\\right)} x_{2}^{2} + 2 \\, {\\left(x_{0}^{2} + x_{1}^{2} + x_{2}^{2}\\right)} x_{3}^{2}} \\right) \\mathrm{d} x_{3}\\otimes \\mathrm{d} x_{3}\\)</html>"
      ],
      "text/latex": [
       "$\\displaystyle \\left( \\frac{8 \\, {\\left(x_{1}^{2} + x_{2}^{2} + x_{3}^{2}\\right)}}{x_{0}^{4} + 2 \\, x_{0}^{2} x_{1}^{2} + x_{1}^{4} + x_{2}^{4} + x_{3}^{4} + 2 \\, {\\left(x_{0}^{2} + x_{1}^{2}\\right)} x_{2}^{2} + 2 \\, {\\left(x_{0}^{2} + x_{1}^{2} + x_{2}^{2}\\right)} x_{3}^{2}} \\right) \\mathrm{d} x_{0}\\otimes \\mathrm{d} x_{0} + \\left( -\\frac{8 \\, x_{0} x_{1}}{x_{0}^{4} + 2 \\, x_{0}^{2} x_{1}^{2} + x_{1}^{4} + x_{2}^{4} + x_{3}^{4} + 2 \\, {\\left(x_{0}^{2} + x_{1}^{2}\\right)} x_{2}^{2} + 2 \\, {\\left(x_{0}^{2} + x_{1}^{2} + x_{2}^{2}\\right)} x_{3}^{2}} \\right) \\mathrm{d} x_{0}\\otimes \\mathrm{d} x_{1} + \\left( -\\frac{8 \\, x_{0} x_{2}}{x_{0}^{4} + 2 \\, x_{0}^{2} x_{1}^{2} + x_{1}^{4} + x_{2}^{4} + x_{3}^{4} + 2 \\, {\\left(x_{0}^{2} + x_{1}^{2}\\right)} x_{2}^{2} + 2 \\, {\\left(x_{0}^{2} + x_{1}^{2} + x_{2}^{2}\\right)} x_{3}^{2}} \\right) \\mathrm{d} x_{0}\\otimes \\mathrm{d} x_{2} + \\left( -\\frac{8 \\, x_{0} x_{3}}{x_{0}^{4} + 2 \\, x_{0}^{2} x_{1}^{2} + x_{1}^{4} + x_{2}^{4} + x_{3}^{4} + 2 \\, {\\left(x_{0}^{2} + x_{1}^{2}\\right)} x_{2}^{2} + 2 \\, {\\left(x_{0}^{2} + x_{1}^{2} + x_{2}^{2}\\right)} x_{3}^{2}} \\right) \\mathrm{d} x_{0}\\otimes \\mathrm{d} x_{3} + \\left( -\\frac{8 \\, x_{0} x_{1}}{x_{0}^{4} + 2 \\, x_{0}^{2} x_{1}^{2} + x_{1}^{4} + x_{2}^{4} + x_{3}^{4} + 2 \\, {\\left(x_{0}^{2} + x_{1}^{2}\\right)} x_{2}^{2} + 2 \\, {\\left(x_{0}^{2} + x_{1}^{2} + x_{2}^{2}\\right)} x_{3}^{2}} \\right) \\mathrm{d} x_{1}\\otimes \\mathrm{d} x_{0} + \\left( \\frac{8 \\, {\\left(x_{0}^{2} + x_{2}^{2} + x_{3}^{2}\\right)}}{x_{0}^{4} + 2 \\, x_{0}^{2} x_{1}^{2} + x_{1}^{4} + x_{2}^{4} + x_{3}^{4} + 2 \\, {\\left(x_{0}^{2} + x_{1}^{2}\\right)} x_{2}^{2} + 2 \\, {\\left(x_{0}^{2} + x_{1}^{2} + x_{2}^{2}\\right)} x_{3}^{2}} \\right) \\mathrm{d} x_{1}\\otimes \\mathrm{d} x_{1} + \\left( -\\frac{8 \\, x_{1} x_{2}}{x_{0}^{4} + 2 \\, x_{0}^{2} x_{1}^{2} + x_{1}^{4} + x_{2}^{4} + x_{3}^{4} + 2 \\, {\\left(x_{0}^{2} + x_{1}^{2}\\right)} x_{2}^{2} + 2 \\, {\\left(x_{0}^{2} + x_{1}^{2} + x_{2}^{2}\\right)} x_{3}^{2}} \\right) \\mathrm{d} x_{1}\\otimes \\mathrm{d} x_{2} + \\left( -\\frac{8 \\, x_{1} x_{3}}{x_{0}^{4} + 2 \\, x_{0}^{2} x_{1}^{2} + x_{1}^{4} + x_{2}^{4} + x_{3}^{4} + 2 \\, {\\left(x_{0}^{2} + x_{1}^{2}\\right)} x_{2}^{2} + 2 \\, {\\left(x_{0}^{2} + x_{1}^{2} + x_{2}^{2}\\right)} x_{3}^{2}} \\right) \\mathrm{d} x_{1}\\otimes \\mathrm{d} x_{3} + \\left( -\\frac{8 \\, x_{0} x_{2}}{x_{0}^{4} + 2 \\, x_{0}^{2} x_{1}^{2} + x_{1}^{4} + x_{2}^{4} + x_{3}^{4} + 2 \\, {\\left(x_{0}^{2} + x_{1}^{2}\\right)} x_{2}^{2} + 2 \\, {\\left(x_{0}^{2} + x_{1}^{2} + x_{2}^{2}\\right)} x_{3}^{2}} \\right) \\mathrm{d} x_{2}\\otimes \\mathrm{d} x_{0} + \\left( -\\frac{8 \\, x_{1} x_{2}}{x_{0}^{4} + 2 \\, x_{0}^{2} x_{1}^{2} + x_{1}^{4} + x_{2}^{4} + x_{3}^{4} + 2 \\, {\\left(x_{0}^{2} + x_{1}^{2}\\right)} x_{2}^{2} + 2 \\, {\\left(x_{0}^{2} + x_{1}^{2} + x_{2}^{2}\\right)} x_{3}^{2}} \\right) \\mathrm{d} x_{2}\\otimes \\mathrm{d} x_{1} + \\left( \\frac{8 \\, {\\left(x_{0}^{2} + x_{1}^{2} + x_{3}^{2}\\right)}}{x_{0}^{4} + 2 \\, x_{0}^{2} x_{1}^{2} + x_{1}^{4} + x_{2}^{4} + x_{3}^{4} + 2 \\, {\\left(x_{0}^{2} + x_{1}^{2}\\right)} x_{2}^{2} + 2 \\, {\\left(x_{0}^{2} + x_{1}^{2} + x_{2}^{2}\\right)} x_{3}^{2}} \\right) \\mathrm{d} x_{2}\\otimes \\mathrm{d} x_{2} + \\left( -\\frac{8 \\, x_{2} x_{3}}{x_{0}^{4} + 2 \\, x_{0}^{2} x_{1}^{2} + x_{1}^{4} + x_{2}^{4} + x_{3}^{4} + 2 \\, {\\left(x_{0}^{2} + x_{1}^{2}\\right)} x_{2}^{2} + 2 \\, {\\left(x_{0}^{2} + x_{1}^{2} + x_{2}^{2}\\right)} x_{3}^{2}} \\right) \\mathrm{d} x_{2}\\otimes \\mathrm{d} x_{3} + \\left( -\\frac{8 \\, x_{0} x_{3}}{x_{0}^{4} + 2 \\, x_{0}^{2} x_{1}^{2} + x_{1}^{4} + x_{2}^{4} + x_{3}^{4} + 2 \\, {\\left(x_{0}^{2} + x_{1}^{2}\\right)} x_{2}^{2} + 2 \\, {\\left(x_{0}^{2} + x_{1}^{2} + x_{2}^{2}\\right)} x_{3}^{2}} \\right) \\mathrm{d} x_{3}\\otimes \\mathrm{d} x_{0} + \\left( -\\frac{8 \\, x_{1} x_{3}}{x_{0}^{4} + 2 \\, x_{0}^{2} x_{1}^{2} + x_{1}^{4} + x_{2}^{4} + x_{3}^{4} + 2 \\, {\\left(x_{0}^{2} + x_{1}^{2}\\right)} x_{2}^{2} + 2 \\, {\\left(x_{0}^{2} + x_{1}^{2} + x_{2}^{2}\\right)} x_{3}^{2}} \\right) \\mathrm{d} x_{3}\\otimes \\mathrm{d} x_{1} + \\left( -\\frac{8 \\, x_{2} x_{3}}{x_{0}^{4} + 2 \\, x_{0}^{2} x_{1}^{2} + x_{1}^{4} + x_{2}^{4} + x_{3}^{4} + 2 \\, {\\left(x_{0}^{2} + x_{1}^{2}\\right)} x_{2}^{2} + 2 \\, {\\left(x_{0}^{2} + x_{1}^{2} + x_{2}^{2}\\right)} x_{3}^{2}} \\right) \\mathrm{d} x_{3}\\otimes \\mathrm{d} x_{2} + \\left( \\frac{8 \\, {\\left(x_{0}^{2} + x_{1}^{2} + x_{2}^{2}\\right)}}{x_{0}^{4} + 2 \\, x_{0}^{2} x_{1}^{2} + x_{1}^{4} + x_{2}^{4} + x_{3}^{4} + 2 \\, {\\left(x_{0}^{2} + x_{1}^{2}\\right)} x_{2}^{2} + 2 \\, {\\left(x_{0}^{2} + x_{1}^{2} + x_{2}^{2}\\right)} x_{3}^{2}} \\right) \\mathrm{d} x_{3}\\otimes \\mathrm{d} x_{3}$"
      ],
      "text/plain": [
       "8*(x1^2 + x2^2 + x3^2)/(x0^4 + 2*x0^2*x1^2 + x1^4 + x2^4 + x3^4 + 2*(x0^2 + x1^2)*x2^2 + 2*(x0^2 + x1^2 + x2^2)*x3^2) dx0⊗dx0 - 8*x0*x1/(x0^4 + 2*x0^2*x1^2 + x1^4 + x2^4 + x3^4 + 2*(x0^2 + x1^2)*x2^2 + 2*(x0^2 + x1^2 + x2^2)*x3^2) dx0⊗dx1 - 8*x0*x2/(x0^4 + 2*x0^2*x1^2 + x1^4 + x2^4 + x3^4 + 2*(x0^2 + x1^2)*x2^2 + 2*(x0^2 + x1^2 + x2^2)*x3^2) dx0⊗dx2 - 8*x0*x3/(x0^4 + 2*x0^2*x1^2 + x1^4 + x2^4 + x3^4 + 2*(x0^2 + x1^2)*x2^2 + 2*(x0^2 + x1^2 + x2^2)*x3^2) dx0⊗dx3 - 8*x0*x1/(x0^4 + 2*x0^2*x1^2 + x1^4 + x2^4 + x3^4 + 2*(x0^2 + x1^2)*x2^2 + 2*(x0^2 + x1^2 + x2^2)*x3^2) dx1⊗dx0 + 8*(x0^2 + x2^2 + x3^2)/(x0^4 + 2*x0^2*x1^2 + x1^4 + x2^4 + x3^4 + 2*(x0^2 + x1^2)*x2^2 + 2*(x0^2 + x1^2 + x2^2)*x3^2) dx1⊗dx1 - 8*x1*x2/(x0^4 + 2*x0^2*x1^2 + x1^4 + x2^4 + x3^4 + 2*(x0^2 + x1^2)*x2^2 + 2*(x0^2 + x1^2 + x2^2)*x3^2) dx1⊗dx2 - 8*x1*x3/(x0^4 + 2*x0^2*x1^2 + x1^4 + x2^4 + x3^4 + 2*(x0^2 + x1^2)*x2^2 + 2*(x0^2 + x1^2 + x2^2)*x3^2) dx1⊗dx3 - 8*x0*x2/(x0^4 + 2*x0^2*x1^2 + x1^4 + x2^4 + x3^4 + 2*(x0^2 + x1^2)*x2^2 + 2*(x0^2 + x1^2 + x2^2)*x3^2) dx2⊗dx0 - 8*x1*x2/(x0^4 + 2*x0^2*x1^2 + x1^4 + x2^4 + x3^4 + 2*(x0^2 + x1^2)*x2^2 + 2*(x0^2 + x1^2 + x2^2)*x3^2) dx2⊗dx1 + 8*(x0^2 + x1^2 + x3^2)/(x0^4 + 2*x0^2*x1^2 + x1^4 + x2^4 + x3^4 + 2*(x0^2 + x1^2)*x2^2 + 2*(x0^2 + x1^2 + x2^2)*x3^2) dx2⊗dx2 - 8*x2*x3/(x0^4 + 2*x0^2*x1^2 + x1^4 + x2^4 + x3^4 + 2*(x0^2 + x1^2)*x2^2 + 2*(x0^2 + x1^2 + x2^2)*x3^2) dx2⊗dx3 - 8*x0*x3/(x0^4 + 2*x0^2*x1^2 + x1^4 + x2^4 + x3^4 + 2*(x0^2 + x1^2)*x2^2 + 2*(x0^2 + x1^2 + x2^2)*x3^2) dx3⊗dx0 - 8*x1*x3/(x0^4 + 2*x0^2*x1^2 + x1^4 + x2^4 + x3^4 + 2*(x0^2 + x1^2)*x2^2 + 2*(x0^2 + x1^2 + x2^2)*x3^2) dx3⊗dx1 - 8*x2*x3/(x0^4 + 2*x0^2*x1^2 + x1^4 + x2^4 + x3^4 + 2*(x0^2 + x1^2)*x2^2 + 2*(x0^2 + x1^2 + x2^2)*x3^2) dx3⊗dx2 + 8*(x0^2 + x1^2 + x2^2)/(x0^4 + 2*x0^2*x1^2 + x1^4 + x2^4 + x3^4 + 2*(x0^2 + x1^2)*x2^2 + 2*(x0^2 + x1^2 + x2^2)*x3^2) dx3⊗dx3"
      ]
     },
     "execution_count": 408,
     "metadata": {},
     "output_type": "execute_result"
    }
   ],
   "source": [
    "H = JdF\n",
    "H2 = 0\n",
    "for i in range(DIM):\n",
    "    for j in range(i,DIM):\n",
    "        H2 += 2 * H.contract(ed[i]).contract(ed[j]) * H.contract(ed[i]).contract(ed[j])\n",
    "H2.display()"
   ]
  },
  {
   "cell_type": "code",
   "execution_count": 278,
   "id": "b33bb127-05b1-4723-acaa-a592b354e5dd",
   "metadata": {},
   "outputs": [],
   "source": [
    "# Bismut ricci curvature expressed with levi-civita ricci\n",
    "bhe1 = nab.ricci() - (1/4) * H2 + (1/2) * g.lie_der(lee_sharp)\n",
    "bhe2 = d_star(H) - diff(lee_form) + H.contract(lee_sharp)"
   ]
  },
  {
   "cell_type": "code",
   "execution_count": 279,
   "id": "e8ea31e0-8fdf-4f4c-9bc9-549ad789d90e",
   "metadata": {},
   "outputs": [
    {
     "data": {
      "text/html": [
       "<html>\\(\\displaystyle \\mathrm{True}\\)</html>"
      ],
      "text/latex": [
       "$\\displaystyle \\mathrm{True}$"
      ],
      "text/plain": [
       "True"
      ]
     },
     "execution_count": 279,
     "metadata": {},
     "output_type": "execute_result"
    }
   ],
   "source": [
    "bhe1 == bhe2 == 0"
   ]
  },
  {
   "cell_type": "code",
   "execution_count": null,
   "id": "b383d55b-41a3-4eb7-85d7-1d419e00e1aa",
   "metadata": {},
   "outputs": [],
   "source": []
  },
  {
   "cell_type": "code",
   "execution_count": null,
   "id": "3949cd6d",
   "metadata": {},
   "outputs": [],
   "source": [
    "# ∇f ⌟ H\n",
    "H.contract(grad_f).display()"
   ]
  },
  {
   "cell_type": "code",
   "execution_count": null,
   "id": "899d9222",
   "metadata": {},
   "outputs": [],
   "source": []
  },
  {
   "cell_type": "code",
   "execution_count": 299,
   "id": "89bc650c-c719-4065-8bd4-6be009b48a64",
   "metadata": {},
   "outputs": [
    {
     "data": {
      "text/html": [
       "<html>\\(\\displaystyle \\mbox{Tensor field of type (0,2) on the 4-dimensional differentiable manifold M}\\)</html>"
      ],
      "text/latex": [
       "$\\displaystyle \\mbox{Tensor field of type (0,2) on the 4-dimensional differentiable manifold M}$"
      ],
      "text/plain": [
       "Tensor field of type (0,2) on the 4-dimensional differentiable manifold M"
      ]
     },
     "execution_count": 299,
     "metadata": {},
     "output_type": "execute_result"
    }
   ],
   "source": [
    "# Definition 2.2. https://arxiv.org/pdf/2505.06058\n",
    "(nab.ricci() - (1/4) * H2 + (1/2)*f.laplacian(g)).display()"
   ]
  },
  {
   "cell_type": "code",
   "execution_count": null,
   "id": "219bd6dc-f430-426a-9566-9cc6f0f7d07f",
   "metadata": {},
   "outputs": [],
   "source": []
  },
  {
   "cell_type": "code",
   "execution_count": null,
   "id": "abf6a096-bcf1-49ed-91cb-c5c5c5435953",
   "metadata": {},
   "outputs": [],
   "source": [
    "nab_B.riemann() == 0"
   ]
  },
  {
   "cell_type": "code",
   "execution_count": null,
   "id": "8d56afbc-ca8f-4dc9-bb46-2e83b58ed7c5",
   "metadata": {},
   "outputs": [],
   "source": [
    "nab_B.ricci() == 0"
   ]
  },
  {
   "cell_type": "code",
   "execution_count": 198,
   "id": "7134d88d-70c6-4835-9dbe-bc768f5952c8",
   "metadata": {},
   "outputs": [
    {
     "data": {
      "text/html": [
       "<html>\\(\\displaystyle \\left( \\frac{3 \\, \\left(\\frac{\\partial\\,f}{\\partial x_{0}}\\right)^{2} - 3 \\, f\\left(x_{0}, x_{1}, x_{2}, x_{3}\\right) \\frac{\\partial^2\\,f}{\\partial x_{0} ^ 2} + f\\left(x_{0}, x_{1}, x_{2}, x_{3}\\right) \\frac{\\partial^2\\,f}{\\partial x_{0}\\partial x_{1}} - 2 \\, \\frac{\\partial\\,f}{\\partial x_{0}} \\frac{\\partial\\,f}{\\partial x_{1}} - \\frac{\\partial\\,f}{\\partial x_{1}}^{2} - f\\left(x_{0}, x_{1}, x_{2}, x_{3}\\right) \\frac{\\partial^2\\,f}{\\partial x_{1} ^ 2} - \\left(\\frac{\\partial\\,f}{\\partial x_{2}}\\right)^{2} - f\\left(x_{0}, x_{1}, x_{2}, x_{3}\\right) \\frac{\\partial^2\\,f}{\\partial x_{2} ^ 2} - \\left(\\frac{\\partial\\,f}{\\partial x_{3}}\\right)^{2} - f\\left(x_{0}, x_{1}, x_{2}, x_{3}\\right) \\frac{\\partial^2\\,f}{\\partial x_{3} ^ 2}}{2 \\, f\\left(x_{0}, x_{1}, x_{2}, x_{3}\\right)^{2}} \\right) \\mathrm{d} x_{0}\\otimes \\mathrm{d} x_{0} + \\left( \\frac{\\left(\\frac{\\partial\\,f}{\\partial x_{0}}\\right)^{2} + f\\left(x_{0}, x_{1}, x_{2}, x_{3}\\right) \\frac{\\partial^2\\,f}{\\partial x_{0} ^ 2} - 4 \\, f\\left(x_{0}, x_{1}, x_{2}, x_{3}\\right) \\frac{\\partial^2\\,f}{\\partial x_{0}\\partial x_{1}} + 8 \\, \\frac{\\partial\\,f}{\\partial x_{0}} \\frac{\\partial\\,f}{\\partial x_{1}} - 3 \\, \\frac{\\partial\\,f}{\\partial x_{1}}^{2} + 3 \\, f\\left(x_{0}, x_{1}, x_{2}, x_{3}\\right) \\frac{\\partial^2\\,f}{\\partial x_{1} ^ 2} + \\left(\\frac{\\partial\\,f}{\\partial x_{2}}\\right)^{2} + f\\left(x_{0}, x_{1}, x_{2}, x_{3}\\right) \\frac{\\partial^2\\,f}{\\partial x_{2} ^ 2} + \\left(\\frac{\\partial\\,f}{\\partial x_{3}}\\right)^{2} + f\\left(x_{0}, x_{1}, x_{2}, x_{3}\\right) \\frac{\\partial^2\\,f}{\\partial x_{3} ^ 2}}{4 \\, f\\left(x_{0}, x_{1}, x_{2}, x_{3}\\right)^{2}} \\right) \\mathrm{d} x_{0}\\otimes \\mathrm{d} x_{1} + \\left( -\\frac{2 \\, f\\left(x_{0}, x_{1}, x_{2}, x_{3}\\right) \\frac{\\partial^2\\,f}{\\partial x_{0}\\partial x_{2}} - f\\left(x_{0}, x_{1}, x_{2}, x_{3}\\right) \\frac{\\partial^2\\,f}{\\partial x_{1}\\partial x_{2}} - 2 \\, {\\left(2 \\, \\frac{\\partial\\,f}{\\partial x_{0}} - \\frac{\\partial\\,f}{\\partial x_{1}}\\right)} \\frac{\\partial\\,f}{\\partial x_{2}}}{2 \\, f\\left(x_{0}, x_{1}, x_{2}, x_{3}\\right)^{2}} \\right) \\mathrm{d} x_{0}\\otimes \\mathrm{d} x_{2} + \\left( -\\frac{2 \\, f\\left(x_{0}, x_{1}, x_{2}, x_{3}\\right) \\frac{\\partial^2\\,f}{\\partial x_{0}\\partial x_{3}} - f\\left(x_{0}, x_{1}, x_{2}, x_{3}\\right) \\frac{\\partial^2\\,f}{\\partial x_{1}\\partial x_{3}} - 2 \\, {\\left(2 \\, \\frac{\\partial\\,f}{\\partial x_{0}} - \\frac{\\partial\\,f}{\\partial x_{1}}\\right)} \\frac{\\partial\\,f}{\\partial x_{3}}}{2 \\, f\\left(x_{0}, x_{1}, x_{2}, x_{3}\\right)^{2}} \\right) \\mathrm{d} x_{0}\\otimes \\mathrm{d} x_{3} + \\left( \\frac{3 \\, \\left(\\frac{\\partial\\,f}{\\partial x_{0}}\\right)^{2} - 3 \\, f\\left(x_{0}, x_{1}, x_{2}, x_{3}\\right) \\frac{\\partial^2\\,f}{\\partial x_{0} ^ 2} - 4 \\, f\\left(x_{0}, x_{1}, x_{2}, x_{3}\\right) \\frac{\\partial^2\\,f}{\\partial x_{0}\\partial x_{1}} + 8 \\, \\frac{\\partial\\,f}{\\partial x_{0}} \\frac{\\partial\\,f}{\\partial x_{1}} - \\frac{\\partial\\,f}{\\partial x_{1}}^{2} - f\\left(x_{0}, x_{1}, x_{2}, x_{3}\\right) \\frac{\\partial^2\\,f}{\\partial x_{1} ^ 2} - \\left(\\frac{\\partial\\,f}{\\partial x_{2}}\\right)^{2} - f\\left(x_{0}, x_{1}, x_{2}, x_{3}\\right) \\frac{\\partial^2\\,f}{\\partial x_{2} ^ 2} - \\left(\\frac{\\partial\\,f}{\\partial x_{3}}\\right)^{2} - f\\left(x_{0}, x_{1}, x_{2}, x_{3}\\right) \\frac{\\partial^2\\,f}{\\partial x_{3} ^ 2}}{4 \\, f\\left(x_{0}, x_{1}, x_{2}, x_{3}\\right)^{2}} \\right) \\mathrm{d} x_{1}\\otimes \\mathrm{d} x_{0} + \\left( -\\frac{\\left(\\frac{\\partial\\,f}{\\partial x_{0}}\\right)^{2} + f\\left(x_{0}, x_{1}, x_{2}, x_{3}\\right) \\frac{\\partial^2\\,f}{\\partial x_{0} ^ 2} + f\\left(x_{0}, x_{1}, x_{2}, x_{3}\\right) \\frac{\\partial^2\\,f}{\\partial x_{0}\\partial x_{1}} - 2 \\, \\frac{\\partial\\,f}{\\partial x_{0}} \\frac{\\partial\\,f}{\\partial x_{1}} - 3 \\, \\frac{\\partial\\,f}{\\partial x_{1}}^{2} + 3 \\, f\\left(x_{0}, x_{1}, x_{2}, x_{3}\\right) \\frac{\\partial^2\\,f}{\\partial x_{1} ^ 2} + \\left(\\frac{\\partial\\,f}{\\partial x_{2}}\\right)^{2} + f\\left(x_{0}, x_{1}, x_{2}, x_{3}\\right) \\frac{\\partial^2\\,f}{\\partial x_{2} ^ 2} + \\left(\\frac{\\partial\\,f}{\\partial x_{3}}\\right)^{2} + f\\left(x_{0}, x_{1}, x_{2}, x_{3}\\right) \\frac{\\partial^2\\,f}{\\partial x_{3} ^ 2}}{2 \\, f\\left(x_{0}, x_{1}, x_{2}, x_{3}\\right)^{2}} \\right) \\mathrm{d} x_{1}\\otimes \\mathrm{d} x_{1} + \\left( -\\frac{f\\left(x_{0}, x_{1}, x_{2}, x_{3}\\right) \\frac{\\partial^2\\,f}{\\partial x_{0}\\partial x_{2}} + 2 \\, f\\left(x_{0}, x_{1}, x_{2}, x_{3}\\right) \\frac{\\partial^2\\,f}{\\partial x_{1}\\partial x_{2}} - 2 \\, {\\left(\\frac{\\partial\\,f}{\\partial x_{0}} + 2 \\, \\frac{\\partial\\,f}{\\partial x_{1}}\\right)} \\frac{\\partial\\,f}{\\partial x_{2}}}{2 \\, f\\left(x_{0}, x_{1}, x_{2}, x_{3}\\right)^{2}} \\right) \\mathrm{d} x_{1}\\otimes \\mathrm{d} x_{2} + \\left( -\\frac{f\\left(x_{0}, x_{1}, x_{2}, x_{3}\\right) \\frac{\\partial^2\\,f}{\\partial x_{0}\\partial x_{3}} + 2 \\, f\\left(x_{0}, x_{1}, x_{2}, x_{3}\\right) \\frac{\\partial^2\\,f}{\\partial x_{1}\\partial x_{3}} - 2 \\, {\\left(\\frac{\\partial\\,f}{\\partial x_{0}} + 2 \\, \\frac{\\partial\\,f}{\\partial x_{1}}\\right)} \\frac{\\partial\\,f}{\\partial x_{3}}}{2 \\, f\\left(x_{0}, x_{1}, x_{2}, x_{3}\\right)^{2}} \\right) \\mathrm{d} x_{1}\\otimes \\mathrm{d} x_{3} + \\left( -\\frac{2 \\, f\\left(x_{0}, x_{1}, x_{2}, x_{3}\\right) \\frac{\\partial^2\\,f}{\\partial x_{0}\\partial x_{2}} - f\\left(x_{0}, x_{1}, x_{2}, x_{3}\\right) \\frac{\\partial^2\\,f}{\\partial x_{0}\\partial x_{3}} - 4 \\, \\frac{\\partial\\,f}{\\partial x_{0}} \\frac{\\partial\\,f}{\\partial x_{2}} + 2 \\, \\frac{\\partial\\,f}{\\partial x_{0}} \\frac{\\partial\\,f}{\\partial x_{3}}}{2 \\, f\\left(x_{0}, x_{1}, x_{2}, x_{3}\\right)^{2}} \\right) \\mathrm{d} x_{2}\\otimes \\mathrm{d} x_{0} + \\left( -\\frac{2 \\, f\\left(x_{0}, x_{1}, x_{2}, x_{3}\\right) \\frac{\\partial^2\\,f}{\\partial x_{1}\\partial x_{2}} - f\\left(x_{0}, x_{1}, x_{2}, x_{3}\\right) \\frac{\\partial^2\\,f}{\\partial x_{1}\\partial x_{3}} - 4 \\, \\frac{\\partial\\,f}{\\partial x_{1}} \\frac{\\partial\\,f}{\\partial x_{2}} + 2 \\, \\frac{\\partial\\,f}{\\partial x_{1}} \\frac{\\partial\\,f}{\\partial x_{3}}}{2 \\, f\\left(x_{0}, x_{1}, x_{2}, x_{3}\\right)^{2}} \\right) \\mathrm{d} x_{2}\\otimes \\mathrm{d} x_{1} + \\left( -\\frac{\\left(\\frac{\\partial\\,f}{\\partial x_{0}}\\right)^{2} + f\\left(x_{0}, x_{1}, x_{2}, x_{3}\\right) \\frac{\\partial^2\\,f}{\\partial x_{0} ^ 2} + \\left(\\frac{\\partial\\,f}{\\partial x_{1}}\\right)^{2} + f\\left(x_{0}, x_{1}, x_{2}, x_{3}\\right) \\frac{\\partial^2\\,f}{\\partial x_{1} ^ 2} - 3 \\, \\left(\\frac{\\partial\\,f}{\\partial x_{2}}\\right)^{2} + 3 \\, f\\left(x_{0}, x_{1}, x_{2}, x_{3}\\right) \\frac{\\partial^2\\,f}{\\partial x_{2} ^ 2} - f\\left(x_{0}, x_{1}, x_{2}, x_{3}\\right) \\frac{\\partial^2\\,f}{\\partial x_{2}\\partial x_{3}} + 2 \\, \\frac{\\partial\\,f}{\\partial x_{2}} \\frac{\\partial\\,f}{\\partial x_{3}} + \\frac{\\partial\\,f}{\\partial x_{3}}^{2} + f\\left(x_{0}, x_{1}, x_{2}, x_{3}\\right) \\frac{\\partial^2\\,f}{\\partial x_{3} ^ 2}}{2 \\, f\\left(x_{0}, x_{1}, x_{2}, x_{3}\\right)^{2}} \\right) \\mathrm{d} x_{2}\\otimes \\mathrm{d} x_{2} + \\left( \\frac{\\left(\\frac{\\partial\\,f}{\\partial x_{0}}\\right)^{2} + f\\left(x_{0}, x_{1}, x_{2}, x_{3}\\right) \\frac{\\partial^2\\,f}{\\partial x_{0} ^ 2} + \\left(\\frac{\\partial\\,f}{\\partial x_{1}}\\right)^{2} + f\\left(x_{0}, x_{1}, x_{2}, x_{3}\\right) \\frac{\\partial^2\\,f}{\\partial x_{1} ^ 2} + \\left(\\frac{\\partial\\,f}{\\partial x_{2}}\\right)^{2} + f\\left(x_{0}, x_{1}, x_{2}, x_{3}\\right) \\frac{\\partial^2\\,f}{\\partial x_{2} ^ 2} - 4 \\, f\\left(x_{0}, x_{1}, x_{2}, x_{3}\\right) \\frac{\\partial^2\\,f}{\\partial x_{2}\\partial x_{3}} + 8 \\, \\frac{\\partial\\,f}{\\partial x_{2}} \\frac{\\partial\\,f}{\\partial x_{3}} - 3 \\, \\frac{\\partial\\,f}{\\partial x_{3}}^{2} + 3 \\, f\\left(x_{0}, x_{1}, x_{2}, x_{3}\\right) \\frac{\\partial^2\\,f}{\\partial x_{3} ^ 2}}{4 \\, f\\left(x_{0}, x_{1}, x_{2}, x_{3}\\right)^{2}} \\right) \\mathrm{d} x_{2}\\otimes \\mathrm{d} x_{3} + \\left( -\\frac{f\\left(x_{0}, x_{1}, x_{2}, x_{3}\\right) \\frac{\\partial^2\\,f}{\\partial x_{0}\\partial x_{2}} + 2 \\, f\\left(x_{0}, x_{1}, x_{2}, x_{3}\\right) \\frac{\\partial^2\\,f}{\\partial x_{0}\\partial x_{3}} - 2 \\, \\frac{\\partial\\,f}{\\partial x_{0}} \\frac{\\partial\\,f}{\\partial x_{2}} - 4 \\, \\frac{\\partial\\,f}{\\partial x_{0}} \\frac{\\partial\\,f}{\\partial x_{3}}}{2 \\, f\\left(x_{0}, x_{1}, x_{2}, x_{3}\\right)^{2}} \\right) \\mathrm{d} x_{3}\\otimes \\mathrm{d} x_{0} + \\left( -\\frac{f\\left(x_{0}, x_{1}, x_{2}, x_{3}\\right) \\frac{\\partial^2\\,f}{\\partial x_{1}\\partial x_{2}} + 2 \\, f\\left(x_{0}, x_{1}, x_{2}, x_{3}\\right) \\frac{\\partial^2\\,f}{\\partial x_{1}\\partial x_{3}} - 2 \\, \\frac{\\partial\\,f}{\\partial x_{1}} \\frac{\\partial\\,f}{\\partial x_{2}} - 4 \\, \\frac{\\partial\\,f}{\\partial x_{1}} \\frac{\\partial\\,f}{\\partial x_{3}}}{2 \\, f\\left(x_{0}, x_{1}, x_{2}, x_{3}\\right)^{2}} \\right) \\mathrm{d} x_{3}\\otimes \\mathrm{d} x_{1} + \\left( -\\frac{\\left(\\frac{\\partial\\,f}{\\partial x_{0}}\\right)^{2} + f\\left(x_{0}, x_{1}, x_{2}, x_{3}\\right) \\frac{\\partial^2\\,f}{\\partial x_{0} ^ 2} + \\left(\\frac{\\partial\\,f}{\\partial x_{1}}\\right)^{2} + f\\left(x_{0}, x_{1}, x_{2}, x_{3}\\right) \\frac{\\partial^2\\,f}{\\partial x_{1} ^ 2} - 3 \\, \\left(\\frac{\\partial\\,f}{\\partial x_{2}}\\right)^{2} + 3 \\, f\\left(x_{0}, x_{1}, x_{2}, x_{3}\\right) \\frac{\\partial^2\\,f}{\\partial x_{2} ^ 2} + 4 \\, f\\left(x_{0}, x_{1}, x_{2}, x_{3}\\right) \\frac{\\partial^2\\,f}{\\partial x_{2}\\partial x_{3}} - 8 \\, \\frac{\\partial\\,f}{\\partial x_{2}} \\frac{\\partial\\,f}{\\partial x_{3}} + \\frac{\\partial\\,f}{\\partial x_{3}}^{2} + f\\left(x_{0}, x_{1}, x_{2}, x_{3}\\right) \\frac{\\partial^2\\,f}{\\partial x_{3} ^ 2}}{4 \\, f\\left(x_{0}, x_{1}, x_{2}, x_{3}\\right)^{2}} \\right) \\mathrm{d} x_{3}\\otimes \\mathrm{d} x_{2} + \\left( -\\frac{\\left(\\frac{\\partial\\,f}{\\partial x_{0}}\\right)^{2} + f\\left(x_{0}, x_{1}, x_{2}, x_{3}\\right) \\frac{\\partial^2\\,f}{\\partial x_{0} ^ 2} + \\left(\\frac{\\partial\\,f}{\\partial x_{1}}\\right)^{2} + f\\left(x_{0}, x_{1}, x_{2}, x_{3}\\right) \\frac{\\partial^2\\,f}{\\partial x_{1} ^ 2} + \\left(\\frac{\\partial\\,f}{\\partial x_{2}}\\right)^{2} + f\\left(x_{0}, x_{1}, x_{2}, x_{3}\\right) \\frac{\\partial^2\\,f}{\\partial x_{2} ^ 2} + f\\left(x_{0}, x_{1}, x_{2}, x_{3}\\right) \\frac{\\partial^2\\,f}{\\partial x_{2}\\partial x_{3}} - 2 \\, \\frac{\\partial\\,f}{\\partial x_{2}} \\frac{\\partial\\,f}{\\partial x_{3}} - 3 \\, \\frac{\\partial\\,f}{\\partial x_{3}}^{2} + 3 \\, f\\left(x_{0}, x_{1}, x_{2}, x_{3}\\right) \\frac{\\partial^2\\,f}{\\partial x_{3} ^ 2}}{2 \\, f\\left(x_{0}, x_{1}, x_{2}, x_{3}\\right)^{2}} \\right) \\mathrm{d} x_{3}\\otimes \\mathrm{d} x_{3}\\)</html>"
      ],
      "text/latex": [
       "$\\displaystyle \\left( \\frac{3 \\, \\left(\\frac{\\partial\\,f}{\\partial x_{0}}\\right)^{2} - 3 \\, f\\left(x_{0}, x_{1}, x_{2}, x_{3}\\right) \\frac{\\partial^2\\,f}{\\partial x_{0} ^ 2} + f\\left(x_{0}, x_{1}, x_{2}, x_{3}\\right) \\frac{\\partial^2\\,f}{\\partial x_{0}\\partial x_{1}} - 2 \\, \\frac{\\partial\\,f}{\\partial x_{0}} \\frac{\\partial\\,f}{\\partial x_{1}} - \\frac{\\partial\\,f}{\\partial x_{1}}^{2} - f\\left(x_{0}, x_{1}, x_{2}, x_{3}\\right) \\frac{\\partial^2\\,f}{\\partial x_{1} ^ 2} - \\left(\\frac{\\partial\\,f}{\\partial x_{2}}\\right)^{2} - f\\left(x_{0}, x_{1}, x_{2}, x_{3}\\right) \\frac{\\partial^2\\,f}{\\partial x_{2} ^ 2} - \\left(\\frac{\\partial\\,f}{\\partial x_{3}}\\right)^{2} - f\\left(x_{0}, x_{1}, x_{2}, x_{3}\\right) \\frac{\\partial^2\\,f}{\\partial x_{3} ^ 2}}{2 \\, f\\left(x_{0}, x_{1}, x_{2}, x_{3}\\right)^{2}} \\right) \\mathrm{d} x_{0}\\otimes \\mathrm{d} x_{0} + \\left( \\frac{\\left(\\frac{\\partial\\,f}{\\partial x_{0}}\\right)^{2} + f\\left(x_{0}, x_{1}, x_{2}, x_{3}\\right) \\frac{\\partial^2\\,f}{\\partial x_{0} ^ 2} - 4 \\, f\\left(x_{0}, x_{1}, x_{2}, x_{3}\\right) \\frac{\\partial^2\\,f}{\\partial x_{0}\\partial x_{1}} + 8 \\, \\frac{\\partial\\,f}{\\partial x_{0}} \\frac{\\partial\\,f}{\\partial x_{1}} - 3 \\, \\frac{\\partial\\,f}{\\partial x_{1}}^{2} + 3 \\, f\\left(x_{0}, x_{1}, x_{2}, x_{3}\\right) \\frac{\\partial^2\\,f}{\\partial x_{1} ^ 2} + \\left(\\frac{\\partial\\,f}{\\partial x_{2}}\\right)^{2} + f\\left(x_{0}, x_{1}, x_{2}, x_{3}\\right) \\frac{\\partial^2\\,f}{\\partial x_{2} ^ 2} + \\left(\\frac{\\partial\\,f}{\\partial x_{3}}\\right)^{2} + f\\left(x_{0}, x_{1}, x_{2}, x_{3}\\right) \\frac{\\partial^2\\,f}{\\partial x_{3} ^ 2}}{4 \\, f\\left(x_{0}, x_{1}, x_{2}, x_{3}\\right)^{2}} \\right) \\mathrm{d} x_{0}\\otimes \\mathrm{d} x_{1} + \\left( -\\frac{2 \\, f\\left(x_{0}, x_{1}, x_{2}, x_{3}\\right) \\frac{\\partial^2\\,f}{\\partial x_{0}\\partial x_{2}} - f\\left(x_{0}, x_{1}, x_{2}, x_{3}\\right) \\frac{\\partial^2\\,f}{\\partial x_{1}\\partial x_{2}} - 2 \\, {\\left(2 \\, \\frac{\\partial\\,f}{\\partial x_{0}} - \\frac{\\partial\\,f}{\\partial x_{1}}\\right)} \\frac{\\partial\\,f}{\\partial x_{2}}}{2 \\, f\\left(x_{0}, x_{1}, x_{2}, x_{3}\\right)^{2}} \\right) \\mathrm{d} x_{0}\\otimes \\mathrm{d} x_{2} + \\left( -\\frac{2 \\, f\\left(x_{0}, x_{1}, x_{2}, x_{3}\\right) \\frac{\\partial^2\\,f}{\\partial x_{0}\\partial x_{3}} - f\\left(x_{0}, x_{1}, x_{2}, x_{3}\\right) \\frac{\\partial^2\\,f}{\\partial x_{1}\\partial x_{3}} - 2 \\, {\\left(2 \\, \\frac{\\partial\\,f}{\\partial x_{0}} - \\frac{\\partial\\,f}{\\partial x_{1}}\\right)} \\frac{\\partial\\,f}{\\partial x_{3}}}{2 \\, f\\left(x_{0}, x_{1}, x_{2}, x_{3}\\right)^{2}} \\right) \\mathrm{d} x_{0}\\otimes \\mathrm{d} x_{3} + \\left( \\frac{3 \\, \\left(\\frac{\\partial\\,f}{\\partial x_{0}}\\right)^{2} - 3 \\, f\\left(x_{0}, x_{1}, x_{2}, x_{3}\\right) \\frac{\\partial^2\\,f}{\\partial x_{0} ^ 2} - 4 \\, f\\left(x_{0}, x_{1}, x_{2}, x_{3}\\right) \\frac{\\partial^2\\,f}{\\partial x_{0}\\partial x_{1}} + 8 \\, \\frac{\\partial\\,f}{\\partial x_{0}} \\frac{\\partial\\,f}{\\partial x_{1}} - \\frac{\\partial\\,f}{\\partial x_{1}}^{2} - f\\left(x_{0}, x_{1}, x_{2}, x_{3}\\right) \\frac{\\partial^2\\,f}{\\partial x_{1} ^ 2} - \\left(\\frac{\\partial\\,f}{\\partial x_{2}}\\right)^{2} - f\\left(x_{0}, x_{1}, x_{2}, x_{3}\\right) \\frac{\\partial^2\\,f}{\\partial x_{2} ^ 2} - \\left(\\frac{\\partial\\,f}{\\partial x_{3}}\\right)^{2} - f\\left(x_{0}, x_{1}, x_{2}, x_{3}\\right) \\frac{\\partial^2\\,f}{\\partial x_{3} ^ 2}}{4 \\, f\\left(x_{0}, x_{1}, x_{2}, x_{3}\\right)^{2}} \\right) \\mathrm{d} x_{1}\\otimes \\mathrm{d} x_{0} + \\left( -\\frac{\\left(\\frac{\\partial\\,f}{\\partial x_{0}}\\right)^{2} + f\\left(x_{0}, x_{1}, x_{2}, x_{3}\\right) \\frac{\\partial^2\\,f}{\\partial x_{0} ^ 2} + f\\left(x_{0}, x_{1}, x_{2}, x_{3}\\right) \\frac{\\partial^2\\,f}{\\partial x_{0}\\partial x_{1}} - 2 \\, \\frac{\\partial\\,f}{\\partial x_{0}} \\frac{\\partial\\,f}{\\partial x_{1}} - 3 \\, \\frac{\\partial\\,f}{\\partial x_{1}}^{2} + 3 \\, f\\left(x_{0}, x_{1}, x_{2}, x_{3}\\right) \\frac{\\partial^2\\,f}{\\partial x_{1} ^ 2} + \\left(\\frac{\\partial\\,f}{\\partial x_{2}}\\right)^{2} + f\\left(x_{0}, x_{1}, x_{2}, x_{3}\\right) \\frac{\\partial^2\\,f}{\\partial x_{2} ^ 2} + \\left(\\frac{\\partial\\,f}{\\partial x_{3}}\\right)^{2} + f\\left(x_{0}, x_{1}, x_{2}, x_{3}\\right) \\frac{\\partial^2\\,f}{\\partial x_{3} ^ 2}}{2 \\, f\\left(x_{0}, x_{1}, x_{2}, x_{3}\\right)^{2}} \\right) \\mathrm{d} x_{1}\\otimes \\mathrm{d} x_{1} + \\left( -\\frac{f\\left(x_{0}, x_{1}, x_{2}, x_{3}\\right) \\frac{\\partial^2\\,f}{\\partial x_{0}\\partial x_{2}} + 2 \\, f\\left(x_{0}, x_{1}, x_{2}, x_{3}\\right) \\frac{\\partial^2\\,f}{\\partial x_{1}\\partial x_{2}} - 2 \\, {\\left(\\frac{\\partial\\,f}{\\partial x_{0}} + 2 \\, \\frac{\\partial\\,f}{\\partial x_{1}}\\right)} \\frac{\\partial\\,f}{\\partial x_{2}}}{2 \\, f\\left(x_{0}, x_{1}, x_{2}, x_{3}\\right)^{2}} \\right) \\mathrm{d} x_{1}\\otimes \\mathrm{d} x_{2} + \\left( -\\frac{f\\left(x_{0}, x_{1}, x_{2}, x_{3}\\right) \\frac{\\partial^2\\,f}{\\partial x_{0}\\partial x_{3}} + 2 \\, f\\left(x_{0}, x_{1}, x_{2}, x_{3}\\right) \\frac{\\partial^2\\,f}{\\partial x_{1}\\partial x_{3}} - 2 \\, {\\left(\\frac{\\partial\\,f}{\\partial x_{0}} + 2 \\, \\frac{\\partial\\,f}{\\partial x_{1}}\\right)} \\frac{\\partial\\,f}{\\partial x_{3}}}{2 \\, f\\left(x_{0}, x_{1}, x_{2}, x_{3}\\right)^{2}} \\right) \\mathrm{d} x_{1}\\otimes \\mathrm{d} x_{3} + \\left( -\\frac{2 \\, f\\left(x_{0}, x_{1}, x_{2}, x_{3}\\right) \\frac{\\partial^2\\,f}{\\partial x_{0}\\partial x_{2}} - f\\left(x_{0}, x_{1}, x_{2}, x_{3}\\right) \\frac{\\partial^2\\,f}{\\partial x_{0}\\partial x_{3}} - 4 \\, \\frac{\\partial\\,f}{\\partial x_{0}} \\frac{\\partial\\,f}{\\partial x_{2}} + 2 \\, \\frac{\\partial\\,f}{\\partial x_{0}} \\frac{\\partial\\,f}{\\partial x_{3}}}{2 \\, f\\left(x_{0}, x_{1}, x_{2}, x_{3}\\right)^{2}} \\right) \\mathrm{d} x_{2}\\otimes \\mathrm{d} x_{0} + \\left( -\\frac{2 \\, f\\left(x_{0}, x_{1}, x_{2}, x_{3}\\right) \\frac{\\partial^2\\,f}{\\partial x_{1}\\partial x_{2}} - f\\left(x_{0}, x_{1}, x_{2}, x_{3}\\right) \\frac{\\partial^2\\,f}{\\partial x_{1}\\partial x_{3}} - 4 \\, \\frac{\\partial\\,f}{\\partial x_{1}} \\frac{\\partial\\,f}{\\partial x_{2}} + 2 \\, \\frac{\\partial\\,f}{\\partial x_{1}} \\frac{\\partial\\,f}{\\partial x_{3}}}{2 \\, f\\left(x_{0}, x_{1}, x_{2}, x_{3}\\right)^{2}} \\right) \\mathrm{d} x_{2}\\otimes \\mathrm{d} x_{1} + \\left( -\\frac{\\left(\\frac{\\partial\\,f}{\\partial x_{0}}\\right)^{2} + f\\left(x_{0}, x_{1}, x_{2}, x_{3}\\right) \\frac{\\partial^2\\,f}{\\partial x_{0} ^ 2} + \\left(\\frac{\\partial\\,f}{\\partial x_{1}}\\right)^{2} + f\\left(x_{0}, x_{1}, x_{2}, x_{3}\\right) \\frac{\\partial^2\\,f}{\\partial x_{1} ^ 2} - 3 \\, \\left(\\frac{\\partial\\,f}{\\partial x_{2}}\\right)^{2} + 3 \\, f\\left(x_{0}, x_{1}, x_{2}, x_{3}\\right) \\frac{\\partial^2\\,f}{\\partial x_{2} ^ 2} - f\\left(x_{0}, x_{1}, x_{2}, x_{3}\\right) \\frac{\\partial^2\\,f}{\\partial x_{2}\\partial x_{3}} + 2 \\, \\frac{\\partial\\,f}{\\partial x_{2}} \\frac{\\partial\\,f}{\\partial x_{3}} + \\frac{\\partial\\,f}{\\partial x_{3}}^{2} + f\\left(x_{0}, x_{1}, x_{2}, x_{3}\\right) \\frac{\\partial^2\\,f}{\\partial x_{3} ^ 2}}{2 \\, f\\left(x_{0}, x_{1}, x_{2}, x_{3}\\right)^{2}} \\right) \\mathrm{d} x_{2}\\otimes \\mathrm{d} x_{2} + \\left( \\frac{\\left(\\frac{\\partial\\,f}{\\partial x_{0}}\\right)^{2} + f\\left(x_{0}, x_{1}, x_{2}, x_{3}\\right) \\frac{\\partial^2\\,f}{\\partial x_{0} ^ 2} + \\left(\\frac{\\partial\\,f}{\\partial x_{1}}\\right)^{2} + f\\left(x_{0}, x_{1}, x_{2}, x_{3}\\right) \\frac{\\partial^2\\,f}{\\partial x_{1} ^ 2} + \\left(\\frac{\\partial\\,f}{\\partial x_{2}}\\right)^{2} + f\\left(x_{0}, x_{1}, x_{2}, x_{3}\\right) \\frac{\\partial^2\\,f}{\\partial x_{2} ^ 2} - 4 \\, f\\left(x_{0}, x_{1}, x_{2}, x_{3}\\right) \\frac{\\partial^2\\,f}{\\partial x_{2}\\partial x_{3}} + 8 \\, \\frac{\\partial\\,f}{\\partial x_{2}} \\frac{\\partial\\,f}{\\partial x_{3}} - 3 \\, \\frac{\\partial\\,f}{\\partial x_{3}}^{2} + 3 \\, f\\left(x_{0}, x_{1}, x_{2}, x_{3}\\right) \\frac{\\partial^2\\,f}{\\partial x_{3} ^ 2}}{4 \\, f\\left(x_{0}, x_{1}, x_{2}, x_{3}\\right)^{2}} \\right) \\mathrm{d} x_{2}\\otimes \\mathrm{d} x_{3} + \\left( -\\frac{f\\left(x_{0}, x_{1}, x_{2}, x_{3}\\right) \\frac{\\partial^2\\,f}{\\partial x_{0}\\partial x_{2}} + 2 \\, f\\left(x_{0}, x_{1}, x_{2}, x_{3}\\right) \\frac{\\partial^2\\,f}{\\partial x_{0}\\partial x_{3}} - 2 \\, \\frac{\\partial\\,f}{\\partial x_{0}} \\frac{\\partial\\,f}{\\partial x_{2}} - 4 \\, \\frac{\\partial\\,f}{\\partial x_{0}} \\frac{\\partial\\,f}{\\partial x_{3}}}{2 \\, f\\left(x_{0}, x_{1}, x_{2}, x_{3}\\right)^{2}} \\right) \\mathrm{d} x_{3}\\otimes \\mathrm{d} x_{0} + \\left( -\\frac{f\\left(x_{0}, x_{1}, x_{2}, x_{3}\\right) \\frac{\\partial^2\\,f}{\\partial x_{1}\\partial x_{2}} + 2 \\, f\\left(x_{0}, x_{1}, x_{2}, x_{3}\\right) \\frac{\\partial^2\\,f}{\\partial x_{1}\\partial x_{3}} - 2 \\, \\frac{\\partial\\,f}{\\partial x_{1}} \\frac{\\partial\\,f}{\\partial x_{2}} - 4 \\, \\frac{\\partial\\,f}{\\partial x_{1}} \\frac{\\partial\\,f}{\\partial x_{3}}}{2 \\, f\\left(x_{0}, x_{1}, x_{2}, x_{3}\\right)^{2}} \\right) \\mathrm{d} x_{3}\\otimes \\mathrm{d} x_{1} + \\left( -\\frac{\\left(\\frac{\\partial\\,f}{\\partial x_{0}}\\right)^{2} + f\\left(x_{0}, x_{1}, x_{2}, x_{3}\\right) \\frac{\\partial^2\\,f}{\\partial x_{0} ^ 2} + \\left(\\frac{\\partial\\,f}{\\partial x_{1}}\\right)^{2} + f\\left(x_{0}, x_{1}, x_{2}, x_{3}\\right) \\frac{\\partial^2\\,f}{\\partial x_{1} ^ 2} - 3 \\, \\left(\\frac{\\partial\\,f}{\\partial x_{2}}\\right)^{2} + 3 \\, f\\left(x_{0}, x_{1}, x_{2}, x_{3}\\right) \\frac{\\partial^2\\,f}{\\partial x_{2} ^ 2} + 4 \\, f\\left(x_{0}, x_{1}, x_{2}, x_{3}\\right) \\frac{\\partial^2\\,f}{\\partial x_{2}\\partial x_{3}} - 8 \\, \\frac{\\partial\\,f}{\\partial x_{2}} \\frac{\\partial\\,f}{\\partial x_{3}} + \\frac{\\partial\\,f}{\\partial x_{3}}^{2} + f\\left(x_{0}, x_{1}, x_{2}, x_{3}\\right) \\frac{\\partial^2\\,f}{\\partial x_{3} ^ 2}}{4 \\, f\\left(x_{0}, x_{1}, x_{2}, x_{3}\\right)^{2}} \\right) \\mathrm{d} x_{3}\\otimes \\mathrm{d} x_{2} + \\left( -\\frac{\\left(\\frac{\\partial\\,f}{\\partial x_{0}}\\right)^{2} + f\\left(x_{0}, x_{1}, x_{2}, x_{3}\\right) \\frac{\\partial^2\\,f}{\\partial x_{0} ^ 2} + \\left(\\frac{\\partial\\,f}{\\partial x_{1}}\\right)^{2} + f\\left(x_{0}, x_{1}, x_{2}, x_{3}\\right) \\frac{\\partial^2\\,f}{\\partial x_{1} ^ 2} + \\left(\\frac{\\partial\\,f}{\\partial x_{2}}\\right)^{2} + f\\left(x_{0}, x_{1}, x_{2}, x_{3}\\right) \\frac{\\partial^2\\,f}{\\partial x_{2} ^ 2} + f\\left(x_{0}, x_{1}, x_{2}, x_{3}\\right) \\frac{\\partial^2\\,f}{\\partial x_{2}\\partial x_{3}} - 2 \\, \\frac{\\partial\\,f}{\\partial x_{2}} \\frac{\\partial\\,f}{\\partial x_{3}} - 3 \\, \\frac{\\partial\\,f}{\\partial x_{3}}^{2} + 3 \\, f\\left(x_{0}, x_{1}, x_{2}, x_{3}\\right) \\frac{\\partial^2\\,f}{\\partial x_{3} ^ 2}}{2 \\, f\\left(x_{0}, x_{1}, x_{2}, x_{3}\\right)^{2}} \\right) \\mathrm{d} x_{3}\\otimes \\mathrm{d} x_{3}$"
      ],
      "text/plain": [
       "1/2*(3*(d(f)/dx0)^2 - 3*f(x0, x1, x2, x3)*d^2(f)/dx0^2 + f(x0, x1, x2, x3)*d^2(f)/dx0dx1 - 2*d(f)/dx0*d(f)/dx1 - d(f)/dx1^2 - f(x0, x1, x2, x3)*d^2(f)/dx1^2 - (d(f)/dx2)^2 - f(x0, x1, x2, x3)*d^2(f)/dx2^2 - (d(f)/dx3)^2 - f(x0, x1, x2, x3)*d^2(f)/dx3^2)/f(x0, x1, x2, x3)^2 dx0⊗dx0 + 1/4*((d(f)/dx0)^2 + f(x0, x1, x2, x3)*d^2(f)/dx0^2 - 4*f(x0, x1, x2, x3)*d^2(f)/dx0dx1 + 8*d(f)/dx0*d(f)/dx1 - 3*d(f)/dx1^2 + 3*f(x0, x1, x2, x3)*d^2(f)/dx1^2 + (d(f)/dx2)^2 + f(x0, x1, x2, x3)*d^2(f)/dx2^2 + (d(f)/dx3)^2 + f(x0, x1, x2, x3)*d^2(f)/dx3^2)/f(x0, x1, x2, x3)^2 dx0⊗dx1 - 1/2*(2*f(x0, x1, x2, x3)*d^2(f)/dx0dx2 - f(x0, x1, x2, x3)*d^2(f)/dx1dx2 - 2*(2*d(f)/dx0 - d(f)/dx1)*d(f)/dx2)/f(x0, x1, x2, x3)^2 dx0⊗dx2 - 1/2*(2*f(x0, x1, x2, x3)*d^2(f)/dx0dx3 - f(x0, x1, x2, x3)*d^2(f)/dx1dx3 - 2*(2*d(f)/dx0 - d(f)/dx1)*d(f)/dx3)/f(x0, x1, x2, x3)^2 dx0⊗dx3 + 1/4*(3*(d(f)/dx0)^2 - 3*f(x0, x1, x2, x3)*d^2(f)/dx0^2 - 4*f(x0, x1, x2, x3)*d^2(f)/dx0dx1 + 8*d(f)/dx0*d(f)/dx1 - d(f)/dx1^2 - f(x0, x1, x2, x3)*d^2(f)/dx1^2 - (d(f)/dx2)^2 - f(x0, x1, x2, x3)*d^2(f)/dx2^2 - (d(f)/dx3)^2 - f(x0, x1, x2, x3)*d^2(f)/dx3^2)/f(x0, x1, x2, x3)^2 dx1⊗dx0 - 1/2*((d(f)/dx0)^2 + f(x0, x1, x2, x3)*d^2(f)/dx0^2 + f(x0, x1, x2, x3)*d^2(f)/dx0dx1 - 2*d(f)/dx0*d(f)/dx1 - 3*d(f)/dx1^2 + 3*f(x0, x1, x2, x3)*d^2(f)/dx1^2 + (d(f)/dx2)^2 + f(x0, x1, x2, x3)*d^2(f)/dx2^2 + (d(f)/dx3)^2 + f(x0, x1, x2, x3)*d^2(f)/dx3^2)/f(x0, x1, x2, x3)^2 dx1⊗dx1 - 1/2*(f(x0, x1, x2, x3)*d^2(f)/dx0dx2 + 2*f(x0, x1, x2, x3)*d^2(f)/dx1dx2 - 2*(d(f)/dx0 + 2*d(f)/dx1)*d(f)/dx2)/f(x0, x1, x2, x3)^2 dx1⊗dx2 - 1/2*(f(x0, x1, x2, x3)*d^2(f)/dx0dx3 + 2*f(x0, x1, x2, x3)*d^2(f)/dx1dx3 - 2*(d(f)/dx0 + 2*d(f)/dx1)*d(f)/dx3)/f(x0, x1, x2, x3)^2 dx1⊗dx3 - 1/2*(2*f(x0, x1, x2, x3)*d^2(f)/dx0dx2 - f(x0, x1, x2, x3)*d^2(f)/dx0dx3 - 4*d(f)/dx0*d(f)/dx2 + 2*d(f)/dx0*d(f)/dx3)/f(x0, x1, x2, x3)^2 dx2⊗dx0 - 1/2*(2*f(x0, x1, x2, x3)*d^2(f)/dx1dx2 - f(x0, x1, x2, x3)*d^2(f)/dx1dx3 - 4*d(f)/dx1*d(f)/dx2 + 2*d(f)/dx1*d(f)/dx3)/f(x0, x1, x2, x3)^2 dx2⊗dx1 - 1/2*((d(f)/dx0)^2 + f(x0, x1, x2, x3)*d^2(f)/dx0^2 + (d(f)/dx1)^2 + f(x0, x1, x2, x3)*d^2(f)/dx1^2 - 3*(d(f)/dx2)^2 + 3*f(x0, x1, x2, x3)*d^2(f)/dx2^2 - f(x0, x1, x2, x3)*d^2(f)/dx2dx3 + 2*d(f)/dx2*d(f)/dx3 + d(f)/dx3^2 + f(x0, x1, x2, x3)*d^2(f)/dx3^2)/f(x0, x1, x2, x3)^2 dx2⊗dx2 + 1/4*((d(f)/dx0)^2 + f(x0, x1, x2, x3)*d^2(f)/dx0^2 + (d(f)/dx1)^2 + f(x0, x1, x2, x3)*d^2(f)/dx1^2 + (d(f)/dx2)^2 + f(x0, x1, x2, x3)*d^2(f)/dx2^2 - 4*f(x0, x1, x2, x3)*d^2(f)/dx2dx3 + 8*d(f)/dx2*d(f)/dx3 - 3*d(f)/dx3^2 + 3*f(x0, x1, x2, x3)*d^2(f)/dx3^2)/f(x0, x1, x2, x3)^2 dx2⊗dx3 - 1/2*(f(x0, x1, x2, x3)*d^2(f)/dx0dx2 + 2*f(x0, x1, x2, x3)*d^2(f)/dx0dx3 - 2*d(f)/dx0*d(f)/dx2 - 4*d(f)/dx0*d(f)/dx3)/f(x0, x1, x2, x3)^2 dx3⊗dx0 - 1/2*(f(x0, x1, x2, x3)*d^2(f)/dx1dx2 + 2*f(x0, x1, x2, x3)*d^2(f)/dx1dx3 - 2*d(f)/dx1*d(f)/dx2 - 4*d(f)/dx1*d(f)/dx3)/f(x0, x1, x2, x3)^2 dx3⊗dx1 - 1/4*((d(f)/dx0)^2 + f(x0, x1, x2, x3)*d^2(f)/dx0^2 + (d(f)/dx1)^2 + f(x0, x1, x2, x3)*d^2(f)/dx1^2 - 3*(d(f)/dx2)^2 + 3*f(x0, x1, x2, x3)*d^2(f)/dx2^2 + 4*f(x0, x1, x2, x3)*d^2(f)/dx2dx3 - 8*d(f)/dx2*d(f)/dx3 + d(f)/dx3^2 + f(x0, x1, x2, x3)*d^2(f)/dx3^2)/f(x0, x1, x2, x3)^2 dx3⊗dx2 - 1/2*((d(f)/dx0)^2 + f(x0, x1, x2, x3)*d^2(f)/dx0^2 + (d(f)/dx1)^2 + f(x0, x1, x2, x3)*d^2(f)/dx1^2 + (d(f)/dx2)^2 + f(x0, x1, x2, x3)*d^2(f)/dx2^2 + f(x0, x1, x2, x3)*d^2(f)/dx2dx3 - 2*d(f)/dx2*d(f)/dx3 - 3*d(f)/dx3^2 + 3*f(x0, x1, x2, x3)*d^2(f)/dx3^2)/f(x0, x1, x2, x3)^2 dx3⊗dx3"
      ]
     },
     "execution_count": 198,
     "metadata": {},
     "output_type": "execute_result"
    }
   ],
   "source": [
    "(first_Ric + nab_t.ricci()).display()"
   ]
  },
  {
   "cell_type": "code",
   "execution_count": null,
   "id": "99c5026b-b79c-4641-99f3-8fd300101fa7",
   "metadata": {},
   "outputs": [],
   "source": []
  },
  {
   "cell_type": "code",
   "execution_count": 35,
   "id": "428e2392-fadf-456e-8380-f466150ca9bd",
   "metadata": {},
   "outputs": [
    {
     "name": "stdout",
     "output_type": "stream",
     "text": [
      "Lie algebra: True\n",
      "[{omega00: 0, omega01: 0, omega02: 1/2, omega03: 0, omega04: 0, omega05: 0, omega10: 0, omega11: -1/2, omega12: 0, omega13: 0, omega14: 0, omega15: 0, omega20: 0, omega21: 0, omega22: 0, omega23: 0, omega24: 0, omega25: 0, omega30: 0, omega31: 0, omega32: 0, omega33: 0, omega34: 0, omega35: 0, omega40: 0, omega41: 0, omega42: 0, omega43: 0, omega44: 0, omega45: 0, omega50: 1/2, omega51: 0, omega52: 0, omega53: 0, omega54: 0, omega55: 0, omega60: 0, omega61: 0, omega62: 0, omega63: 0, omega64: 0, omega65: 0, omega70: 0, omega71: 0, omega72: 0, omega73: 0, omega74: 0, omega75: 0, omega80: 0, omega81: 0, omega82: 0, omega83: 0, omega84: 0, omega85: 0, omega90: 0, omega91: 0, omega92: 0, omega93: 0, omega94: 0, omega95: 0, omega100: 0, omega101: 0, omega102: 0, omega103: 0, omega104: 0, omega105: 0, omega110: 0, omega111: 0, omega112: 0, omega113: 0, omega114: 0, omega115: 0, omega120: 0, omega121: 0, omega122: 0, omega123: 0, omega124: 0, omega125: 0, omega130: 0, omega131: 0, omega132: 0, omega133: 0, omega134: 0, omega135: 0, omega140: 0, omega141: 0, omega142: 0, omega143: 1, omega144: 0, omega145: 0}]\n"
     ]
    }
   ],
   "source": [
    "from sage.all import *\n",
    "\n",
    "#E = ExteriorAlgebra(SR, \"e\", 2)\n",
    "#str_eq = {(0,1): E.gens()[1]}\n",
    "E = ExteriorAlgebra(SR, \"e\", 6)\n",
    "\n",
    "DIM = len(E.gens()) # dimension\n",
    "e = E.gens() # basis\n",
    "\n",
    "#str_eq = {(1,2): e[0], (2,0): e[1], (0,1): e[2]}\n",
    "# 23, 31, 12, 0, 64, 45\n",
    "str_eq = {(1,2): e[0], (2,0): e[1], (0,1): e[2], (5,3): e[4], (3,4): e[5]}\n",
    "d = E.coboundary(str_eq)\n",
    "\n",
    "# create variable for coefficients of omega\n",
    "omega_coef = []\n",
    "# because skew-symmetric matrix, need everything above diagonal\n",
    "n_coef = int((DIM*DIM - DIM) / 2)\n",
    "for i in range(n_coef):\n",
    "    omega_coef.append(var([f\"omega{i}{j}\" for j in range(DIM)]))\n",
    "\n",
    "# create omega matrix\n",
    "#omega = Matrix(SR, DIM, DIM)\n",
    "omega = [[SR(0) for _ in range(DIM)] for _ in range(DIM)]\n",
    "coef_idx = 0\n",
    "for i in range(DIM):\n",
    "    for j in range(i+1, DIM):\n",
    "        if i != j:\n",
    "            omega[i][j] = sum([omega_coef[coef_idx][k]*e[k] for k in range(DIM)])\n",
    "            omega[j][i] = -omega[i][j]\n",
    "            coef_idx += 1\n",
    "\n",
    "# print how d(e_i) behaves\n",
    "#print([d(b) for b in E.gens()])\n",
    "# check Jacobi identity\n",
    "print(\"Lie algebra:\", all([d(d(b)) == 0 for b in E.gens()]))\n",
    "\n",
    "de = [d(e[i]) for i in range(DIM)]\n",
    "\n",
    "torsion_eqs = []\n",
    "for i in range(DIM): # loop over rows in omega\n",
    "    eq = de[i]\n",
    "    for j in range(DIM):\n",
    "        eq += omega[i][j] * e[j]\n",
    "    torsion_eqs.append(eq)\n",
    "\n",
    "solution = solve([eq.interior_product(c).constant_coefficient()==0 for c in E.basis(2) for eq in torsion_eqs],\n",
    "            [coef for sublist in omega_coef for coef in sublist],\n",
    "            solution_dict=True)\n",
    "print(solution)"
   ]
  },
  {
   "cell_type": "code",
   "execution_count": 36,
   "id": "2d4f1881-c96a-47b2-93fa-9c6b71dce814",
   "metadata": {},
   "outputs": [],
   "source": [
    "M = Manifold(Integer(DIM), 'M', field=\"real\")\n",
    "x = tuple(f\"x{i}\" for i in range(DIM))\n",
    "U = M.chart(names=x)\n",
    "x = U._first_ngens(DIM) # makes M parallelizable\n",
    "ed = M.frames()[0] # coordinate frame"
   ]
  },
  {
   "cell_type": "code",
   "execution_count": 37,
   "id": "d6817260-6f67-4902-a0f6-bc366ed96a36",
   "metadata": {},
   "outputs": [],
   "source": [
    "nab = M.affine_connection(\"nab\")\n",
    "\n",
    "row = 0\n",
    "col = 0\n",
    "col_start = 2\n",
    "for idx, key in enumerate(solution[0]):\n",
    "    coef = idx % DIM\n",
    "    if coef == 0:\n",
    "        col += 1\n",
    "        col = col % DIM\n",
    "        if col == 0:\n",
    "            col = col_start\n",
    "            col_start += 1\n",
    "            row += 1\n",
    "    nab[coef, col, row] = solution[0][key]\n",
    "    nab[coef, row, col] = -solution[0][key]"
   ]
  },
  {
   "cell_type": "code",
   "execution_count": 38,
   "id": "f26d27ee-eac6-46a7-9297-c73b8c0225f0",
   "metadata": {},
   "outputs": [
    {
     "data": {
      "text/plain": [
       "dF = dx1∧dx2∧dx3"
      ]
     },
     "execution_count": 38,
     "metadata": {},
     "output_type": "execute_result"
    }
   ],
   "source": [
    "dF = M.diff_form(Integer(3), name=\"dF\")\n",
    "dF[1,2,3] = 1\n",
    "dF.display()"
   ]
  },
  {
   "cell_type": "code",
   "execution_count": 39,
   "id": "e90fc854-aa87-483a-bd46-2830bb23cbb6",
   "metadata": {},
   "outputs": [
    {
     "data": {
      "text/plain": [
       "J = -∂/∂x0⊗dx3 - ∂/∂x1⊗dx2 + ∂/∂x2⊗dx1 + ∂/∂x3⊗dx0 - ∂/∂x4⊗dx5 + ∂/∂x5⊗dx4"
      ]
     },
     "execution_count": 39,
     "metadata": {},
     "output_type": "execute_result"
    }
   ],
   "source": [
    "J = M.tensor_field(1, 1, name='J')\n",
    "J[0,3], J[3,0], J[1,2], J[2,1], J[4,5], J[5,4] = -1,1,-1,1,-1,1\n",
    "J.display()"
   ]
  },
  {
   "cell_type": "code",
   "execution_count": 40,
   "id": "fa7150ef-257a-4eb4-9b8f-a36d5b204a55",
   "metadata": {},
   "outputs": [],
   "source": [
    "nab_B = M.affine_connection(\"nab_B\")\n",
    "\n",
    "for i in range(DIM):\n",
    "    for j in range(DIM):\n",
    "        for k in range(DIM):\n",
    "            #nab_B[i,j,k] = sum([g(nab[ed,i,j,l]*xd[l], ed[k]) for l in range(DIM)]) - (1/2) * dF(J(ed[i]),J(ed[j]),J(ed[k]))\n",
    "            nab_B[i,j,k] = nab[i,j,k] + (1/2) * dF(J(ed[i]),J(ed[j]),J(ed[k]))"
   ]
  },
  {
   "cell_type": "code",
   "execution_count": 41,
   "id": "e9b83b80-6c94-4255-86b8-cdb41974a277",
   "metadata": {},
   "outputs": [
    {
     "data": {
      "text/plain": [
       "Gam^x3_x4,x5 = -1 \n",
       "Gam^x3_x5,x4 = 1 "
      ]
     },
     "execution_count": 41,
     "metadata": {},
     "output_type": "execute_result"
    }
   ],
   "source": [
    "nab_B.display()"
   ]
  },
  {
   "cell_type": "code",
   "execution_count": 42,
   "id": "0b73eee1-b455-477a-9971-88c03d1b2fa9",
   "metadata": {},
   "outputs": [],
   "source": [
    "curv = nab_B.riemann()"
   ]
  },
  {
   "cell_type": "code",
   "execution_count": 43,
   "id": "a0784eb0-f46a-4840-a960-f042b18614ff",
   "metadata": {},
   "outputs": [
    {
     "data": {
      "text/plain": [
       "0"
      ]
     },
     "execution_count": 43,
     "metadata": {},
     "output_type": "execute_result"
    }
   ],
   "source": [
    "curv.display()"
   ]
  },
  {
   "cell_type": "code",
   "execution_count": 45,
   "id": "9a4c8269-33b9-4402-895e-626a829c97c2",
   "metadata": {},
   "outputs": [
    {
     "data": {
      "text/plain": [
       "True"
      ]
     },
     "execution_count": 45,
     "metadata": {},
     "output_type": "execute_result"
    }
   ],
   "source": [
    "curv == 0"
   ]
  },
  {
   "cell_type": "code",
   "execution_count": null,
   "id": "ab756ef9-01f3-4cfa-a3e8-fce98d07d92e",
   "metadata": {},
   "outputs": [],
   "source": []
  }
 ],
 "metadata": {
  "kernelspec": {
   "display_name": "SageMath 10.6",
   "language": "sage",
   "name": "sagemath"
  },
  "language_info": {
   "codemirror_mode": {
    "name": "ipython",
    "version": 3
   },
   "file_extension": ".py",
   "mimetype": "text/x-python",
   "name": "python",
   "nbconvert_exporter": "python",
   "pygments_lexer": "ipython3",
   "version": "3.13.3"
  }
 },
 "nbformat": 4,
 "nbformat_minor": 5
}
